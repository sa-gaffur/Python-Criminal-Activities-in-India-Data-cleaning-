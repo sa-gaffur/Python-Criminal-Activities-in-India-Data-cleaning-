{
 "cells": [
  {
   "cell_type": "code",
   "execution_count": 1,
   "id": "b1effc46",
   "metadata": {},
   "outputs": [],
   "source": [
    "import pandas as pd\n",
    "import numpy as np"
   ]
  },
  {
   "cell_type": "code",
   "execution_count": 2,
   "id": "86c2a2f6",
   "metadata": {},
   "outputs": [],
   "source": [
    "df1 = pd.read_csv(r\"E:\\INTERNSHIP\\Projects\\Criminal Activities in India\\crime_women_children\\crime_against_children_(State-UT-wise)_2019-2021.csv\")"
   ]
  },
  {
   "cell_type": "code",
   "execution_count": 3,
   "id": "2c22062d",
   "metadata": {},
   "outputs": [
    {
     "data": {
      "text/html": [
       "<div>\n",
       "<style scoped>\n",
       "    .dataframe tbody tr th:only-of-type {\n",
       "        vertical-align: middle;\n",
       "    }\n",
       "\n",
       "    .dataframe tbody tr th {\n",
       "        vertical-align: top;\n",
       "    }\n",
       "\n",
       "    .dataframe thead th {\n",
       "        text-align: right;\n",
       "    }\n",
       "</style>\n",
       "<table border=\"1\" class=\"dataframe\">\n",
       "  <thead>\n",
       "    <tr style=\"text-align: right;\">\n",
       "      <th></th>\n",
       "      <th>S.No</th>\n",
       "      <th>State/UT</th>\n",
       "      <th>Name</th>\n",
       "      <th>2019</th>\n",
       "      <th>2020</th>\n",
       "      <th>2021</th>\n",
       "      <th>midPopulation</th>\n",
       "      <th>RateofCrimeAgainstChildren</th>\n",
       "      <th>ChargesSheetingRate</th>\n",
       "    </tr>\n",
       "  </thead>\n",
       "  <tbody>\n",
       "    <tr>\n",
       "      <th>0</th>\n",
       "      <td>1</td>\n",
       "      <td>State</td>\n",
       "      <td>Andhra Pradesh</td>\n",
       "      <td>2524</td>\n",
       "      <td>2648</td>\n",
       "      <td>2669</td>\n",
       "      <td>151.1</td>\n",
       "      <td>17.7</td>\n",
       "      <td>93.2</td>\n",
       "    </tr>\n",
       "    <tr>\n",
       "      <th>1</th>\n",
       "      <td>2</td>\n",
       "      <td>State</td>\n",
       "      <td>Arunachal Pradesh</td>\n",
       "      <td>153</td>\n",
       "      <td>113</td>\n",
       "      <td>162</td>\n",
       "      <td>5.9</td>\n",
       "      <td>27.5</td>\n",
       "      <td>69.6</td>\n",
       "    </tr>\n",
       "    <tr>\n",
       "      <th>2</th>\n",
       "      <td>3</td>\n",
       "      <td>State</td>\n",
       "      <td>Assam</td>\n",
       "      <td>6608</td>\n",
       "      <td>4622</td>\n",
       "      <td>5282</td>\n",
       "      <td>120.8</td>\n",
       "      <td>43.7</td>\n",
       "      <td>56.0</td>\n",
       "    </tr>\n",
       "    <tr>\n",
       "      <th>3</th>\n",
       "      <td>4</td>\n",
       "      <td>State</td>\n",
       "      <td>Bihar</td>\n",
       "      <td>9320</td>\n",
       "      <td>6591</td>\n",
       "      <td>6894</td>\n",
       "      <td>475.0</td>\n",
       "      <td>14.5</td>\n",
       "      <td>68.9</td>\n",
       "    </tr>\n",
       "    <tr>\n",
       "      <th>4</th>\n",
       "      <td>5</td>\n",
       "      <td>State</td>\n",
       "      <td>Chhattisgarh</td>\n",
       "      <td>5665</td>\n",
       "      <td>5056</td>\n",
       "      <td>6001</td>\n",
       "      <td>97.5</td>\n",
       "      <td>61.6</td>\n",
       "      <td>70.4</td>\n",
       "    </tr>\n",
       "    <tr>\n",
       "      <th>5</th>\n",
       "      <td>6</td>\n",
       "      <td>State</td>\n",
       "      <td>Goa</td>\n",
       "      <td>167</td>\n",
       "      <td>125</td>\n",
       "      <td>151</td>\n",
       "      <td>3.8</td>\n",
       "      <td>39.5</td>\n",
       "      <td>70.9</td>\n",
       "    </tr>\n",
       "    <tr>\n",
       "      <th>6</th>\n",
       "      <td>7</td>\n",
       "      <td>State</td>\n",
       "      <td>Gujarat</td>\n",
       "      <td>4685</td>\n",
       "      <td>4075</td>\n",
       "      <td>4515</td>\n",
       "      <td>209.2</td>\n",
       "      <td>21.6</td>\n",
       "      <td>79.2</td>\n",
       "    </tr>\n",
       "    <tr>\n",
       "      <th>7</th>\n",
       "      <td>8</td>\n",
       "      <td>State</td>\n",
       "      <td>Haryana</td>\n",
       "      <td>5119</td>\n",
       "      <td>4338</td>\n",
       "      <td>5700</td>\n",
       "      <td>91.2</td>\n",
       "      <td>62.5</td>\n",
       "      <td>44.0</td>\n",
       "    </tr>\n",
       "    <tr>\n",
       "      <th>8</th>\n",
       "      <td>9</td>\n",
       "      <td>State</td>\n",
       "      <td>Himachal Pradesh</td>\n",
       "      <td>748</td>\n",
       "      <td>636</td>\n",
       "      <td>740</td>\n",
       "      <td>21.5</td>\n",
       "      <td>34.4</td>\n",
       "      <td>53.0</td>\n",
       "    </tr>\n",
       "    <tr>\n",
       "      <th>9</th>\n",
       "      <td>10</td>\n",
       "      <td>State</td>\n",
       "      <td>Jharkhand</td>\n",
       "      <td>1674</td>\n",
       "      <td>1795</td>\n",
       "      <td>1867</td>\n",
       "      <td>138.4</td>\n",
       "      <td>13.5</td>\n",
       "      <td>83.7</td>\n",
       "    </tr>\n",
       "    <tr>\n",
       "      <th>10</th>\n",
       "      <td>11</td>\n",
       "      <td>State</td>\n",
       "      <td>Karnataka</td>\n",
       "      <td>6305</td>\n",
       "      <td>5471</td>\n",
       "      <td>7261</td>\n",
       "      <td>193.5</td>\n",
       "      <td>37.5</td>\n",
       "      <td>61.2</td>\n",
       "    </tr>\n",
       "    <tr>\n",
       "      <th>11</th>\n",
       "      <td>12</td>\n",
       "      <td>State</td>\n",
       "      <td>Kerala</td>\n",
       "      <td>4754</td>\n",
       "      <td>3941</td>\n",
       "      <td>4536</td>\n",
       "      <td>94.1</td>\n",
       "      <td>48.2</td>\n",
       "      <td>94.1</td>\n",
       "    </tr>\n",
       "    <tr>\n",
       "      <th>12</th>\n",
       "      <td>13</td>\n",
       "      <td>State</td>\n",
       "      <td>Madhya Pradesh</td>\n",
       "      <td>19028</td>\n",
       "      <td>17008</td>\n",
       "      <td>19173</td>\n",
       "      <td>287.6</td>\n",
       "      <td>66.7</td>\n",
       "      <td>61.0</td>\n",
       "    </tr>\n",
       "    <tr>\n",
       "      <th>13</th>\n",
       "      <td>14</td>\n",
       "      <td>State</td>\n",
       "      <td>Maharashtra</td>\n",
       "      <td>19592</td>\n",
       "      <td>14371</td>\n",
       "      <td>17261</td>\n",
       "      <td>361.1</td>\n",
       "      <td>47.8</td>\n",
       "      <td>55.8</td>\n",
       "    </tr>\n",
       "    <tr>\n",
       "      <th>14</th>\n",
       "      <td>15</td>\n",
       "      <td>State</td>\n",
       "      <td>Manipur</td>\n",
       "      <td>148</td>\n",
       "      <td>125</td>\n",
       "      <td>143</td>\n",
       "      <td>10.3</td>\n",
       "      <td>13.8</td>\n",
       "      <td>77.9</td>\n",
       "    </tr>\n",
       "    <tr>\n",
       "      <th>15</th>\n",
       "      <td>16</td>\n",
       "      <td>State</td>\n",
       "      <td>Meghalaya</td>\n",
       "      <td>379</td>\n",
       "      <td>415</td>\n",
       "      <td>481</td>\n",
       "      <td>13.8</td>\n",
       "      <td>34.9</td>\n",
       "      <td>79.8</td>\n",
       "    </tr>\n",
       "    <tr>\n",
       "      <th>16</th>\n",
       "      <td>17</td>\n",
       "      <td>State</td>\n",
       "      <td>Mizoram</td>\n",
       "      <td>125</td>\n",
       "      <td>142</td>\n",
       "      <td>122</td>\n",
       "      <td>4.2</td>\n",
       "      <td>28.9</td>\n",
       "      <td>91.7</td>\n",
       "    </tr>\n",
       "    <tr>\n",
       "      <th>17</th>\n",
       "      <td>18</td>\n",
       "      <td>State</td>\n",
       "      <td>Nagaland</td>\n",
       "      <td>59</td>\n",
       "      <td>31</td>\n",
       "      <td>51</td>\n",
       "      <td>8.2</td>\n",
       "      <td>6.2</td>\n",
       "      <td>80.4</td>\n",
       "    </tr>\n",
       "    <tr>\n",
       "      <th>18</th>\n",
       "      <td>19</td>\n",
       "      <td>State</td>\n",
       "      <td>Odisha</td>\n",
       "      <td>7012</td>\n",
       "      <td>6330</td>\n",
       "      <td>7899</td>\n",
       "      <td>144.1</td>\n",
       "      <td>54.8</td>\n",
       "      <td>52.3</td>\n",
       "    </tr>\n",
       "    <tr>\n",
       "      <th>19</th>\n",
       "      <td>20</td>\n",
       "      <td>State</td>\n",
       "      <td>Punjab</td>\n",
       "      <td>2625</td>\n",
       "      <td>2121</td>\n",
       "      <td>2556</td>\n",
       "      <td>87.4</td>\n",
       "      <td>29.2</td>\n",
       "      <td>69.0</td>\n",
       "    </tr>\n",
       "    <tr>\n",
       "      <th>20</th>\n",
       "      <td>21</td>\n",
       "      <td>State</td>\n",
       "      <td>Rajasthan</td>\n",
       "      <td>7385</td>\n",
       "      <td>6580</td>\n",
       "      <td>7653</td>\n",
       "      <td>281.4</td>\n",
       "      <td>27.2</td>\n",
       "      <td>56.3</td>\n",
       "    </tr>\n",
       "    <tr>\n",
       "      <th>21</th>\n",
       "      <td>22</td>\n",
       "      <td>State</td>\n",
       "      <td>Sikkim</td>\n",
       "      <td>163</td>\n",
       "      <td>147</td>\n",
       "      <td>149</td>\n",
       "      <td>2.1</td>\n",
       "      <td>72.4</td>\n",
       "      <td>78.5</td>\n",
       "    </tr>\n",
       "    <tr>\n",
       "      <th>22</th>\n",
       "      <td>23</td>\n",
       "      <td>State</td>\n",
       "      <td>Tamil Nadu</td>\n",
       "      <td>4139</td>\n",
       "      <td>4338</td>\n",
       "      <td>6064</td>\n",
       "      <td>206.6</td>\n",
       "      <td>29.3</td>\n",
       "      <td>91.2</td>\n",
       "    </tr>\n",
       "    <tr>\n",
       "      <th>23</th>\n",
       "      <td>24</td>\n",
       "      <td>State</td>\n",
       "      <td>Telangana</td>\n",
       "      <td>4212</td>\n",
       "      <td>4200</td>\n",
       "      <td>5667</td>\n",
       "      <td>113.8</td>\n",
       "      <td>49.8</td>\n",
       "      <td>75.9</td>\n",
       "    </tr>\n",
       "    <tr>\n",
       "      <th>24</th>\n",
       "      <td>25</td>\n",
       "      <td>State</td>\n",
       "      <td>Tripura</td>\n",
       "      <td>311</td>\n",
       "      <td>260</td>\n",
       "      <td>236</td>\n",
       "      <td>12.3</td>\n",
       "      <td>19.2</td>\n",
       "      <td>84.1</td>\n",
       "    </tr>\n",
       "    <tr>\n",
       "      <th>25</th>\n",
       "      <td>26</td>\n",
       "      <td>State</td>\n",
       "      <td>Uttar Pradesh</td>\n",
       "      <td>18943</td>\n",
       "      <td>15271</td>\n",
       "      <td>16838</td>\n",
       "      <td>853.3</td>\n",
       "      <td>19.7</td>\n",
       "      <td>72.5</td>\n",
       "    </tr>\n",
       "    <tr>\n",
       "      <th>26</th>\n",
       "      <td>27</td>\n",
       "      <td>State</td>\n",
       "      <td>Uttarakhand</td>\n",
       "      <td>1214</td>\n",
       "      <td>1066</td>\n",
       "      <td>1245</td>\n",
       "      <td>38.0</td>\n",
       "      <td>32.8</td>\n",
       "      <td>81.3</td>\n",
       "    </tr>\n",
       "    <tr>\n",
       "      <th>27</th>\n",
       "      <td>28</td>\n",
       "      <td>State</td>\n",
       "      <td>West Bengal</td>\n",
       "      <td>6191</td>\n",
       "      <td>10248</td>\n",
       "      <td>9523</td>\n",
       "      <td>300.0</td>\n",
       "      <td>31.7</td>\n",
       "      <td>82.1</td>\n",
       "    </tr>\n",
       "    <tr>\n",
       "      <th>28</th>\n",
       "      <td>29</td>\n",
       "      <td>UT</td>\n",
       "      <td>A&amp;N Islands</td>\n",
       "      <td>153</td>\n",
       "      <td>141</td>\n",
       "      <td>124</td>\n",
       "      <td>1.1</td>\n",
       "      <td>110.4</td>\n",
       "      <td>95.2</td>\n",
       "    </tr>\n",
       "    <tr>\n",
       "      <th>29</th>\n",
       "      <td>30</td>\n",
       "      <td>UT</td>\n",
       "      <td>Chandigarh</td>\n",
       "      <td>264</td>\n",
       "      <td>209</td>\n",
       "      <td>234</td>\n",
       "      <td>3.2</td>\n",
       "      <td>72.2</td>\n",
       "      <td>32.1</td>\n",
       "    </tr>\n",
       "    <tr>\n",
       "      <th>30</th>\n",
       "      <td>31</td>\n",
       "      <td>UT</td>\n",
       "      <td>D&amp;N Haveli and Daman &amp; Diu+</td>\n",
       "      <td>96</td>\n",
       "      <td>67</td>\n",
       "      <td>104</td>\n",
       "      <td>1.9</td>\n",
       "      <td>54.1</td>\n",
       "      <td>51.9</td>\n",
       "    </tr>\n",
       "    <tr>\n",
       "      <th>31</th>\n",
       "      <td>32</td>\n",
       "      <td>UT</td>\n",
       "      <td>Delhi</td>\n",
       "      <td>7783</td>\n",
       "      <td>5362</td>\n",
       "      <td>7118</td>\n",
       "      <td>55.4</td>\n",
       "      <td>128.5</td>\n",
       "      <td>32.5</td>\n",
       "    </tr>\n",
       "    <tr>\n",
       "      <th>32</th>\n",
       "      <td>33</td>\n",
       "      <td>UT</td>\n",
       "      <td>Jammu &amp; Kashmir*</td>\n",
       "      <td>470</td>\n",
       "      <td>606</td>\n",
       "      <td>845</td>\n",
       "      <td>49.1</td>\n",
       "      <td>17.2</td>\n",
       "      <td>56.8</td>\n",
       "    </tr>\n",
       "    <tr>\n",
       "      <th>33</th>\n",
       "      <td>34</td>\n",
       "      <td>UT</td>\n",
       "      <td>Ladakh @</td>\n",
       "      <td>-</td>\n",
       "      <td>2</td>\n",
       "      <td>1</td>\n",
       "      <td>0.8</td>\n",
       "      <td>1.2</td>\n",
       "      <td>66.7</td>\n",
       "    </tr>\n",
       "    <tr>\n",
       "      <th>34</th>\n",
       "      <td>35</td>\n",
       "      <td>UT</td>\n",
       "      <td>Lakshadweep</td>\n",
       "      <td>26</td>\n",
       "      <td>9</td>\n",
       "      <td>17</td>\n",
       "      <td>0.2</td>\n",
       "      <td>85.4</td>\n",
       "      <td>90.5</td>\n",
       "    </tr>\n",
       "    <tr>\n",
       "      <th>35</th>\n",
       "      <td>36</td>\n",
       "      <td>UT</td>\n",
       "      <td>Puducherry</td>\n",
       "      <td>50</td>\n",
       "      <td>71</td>\n",
       "      <td>122</td>\n",
       "      <td>3.6</td>\n",
       "      <td>34.0</td>\n",
       "      <td>84.3</td>\n",
       "    </tr>\n",
       "  </tbody>\n",
       "</table>\n",
       "</div>"
      ],
      "text/plain": [
       "    S.No State/UT                         Name   2019   2020   2021  \\\n",
       "0      1    State               Andhra Pradesh   2524   2648   2669   \n",
       "1      2    State            Arunachal Pradesh    153    113    162   \n",
       "2      3    State                        Assam   6608   4622   5282   \n",
       "3      4    State                        Bihar   9320   6591   6894   \n",
       "4      5    State                 Chhattisgarh   5665   5056   6001   \n",
       "5      6    State                          Goa    167    125    151   \n",
       "6      7    State                      Gujarat   4685   4075   4515   \n",
       "7      8    State                      Haryana   5119   4338   5700   \n",
       "8      9    State             Himachal Pradesh    748    636    740   \n",
       "9     10    State                    Jharkhand   1674   1795   1867   \n",
       "10    11    State                    Karnataka   6305   5471   7261   \n",
       "11    12    State                       Kerala   4754   3941   4536   \n",
       "12    13    State               Madhya Pradesh  19028  17008  19173   \n",
       "13    14    State                  Maharashtra  19592  14371  17261   \n",
       "14    15    State                      Manipur    148    125    143   \n",
       "15    16    State                    Meghalaya    379    415    481   \n",
       "16    17    State                      Mizoram    125    142    122   \n",
       "17    18    State                     Nagaland     59     31     51   \n",
       "18    19    State                       Odisha   7012   6330   7899   \n",
       "19    20    State                       Punjab   2625   2121   2556   \n",
       "20    21    State                    Rajasthan   7385   6580   7653   \n",
       "21    22    State                       Sikkim    163    147    149   \n",
       "22    23    State                   Tamil Nadu   4139   4338   6064   \n",
       "23    24    State                    Telangana   4212   4200   5667   \n",
       "24    25    State                      Tripura    311    260    236   \n",
       "25    26    State                Uttar Pradesh  18943  15271  16838   \n",
       "26    27    State                  Uttarakhand   1214   1066   1245   \n",
       "27    28    State                  West Bengal   6191  10248   9523   \n",
       "28    29       UT                  A&N Islands    153    141    124   \n",
       "29    30       UT                   Chandigarh    264    209    234   \n",
       "30    31       UT  D&N Haveli and Daman & Diu+     96     67    104   \n",
       "31    32       UT                        Delhi   7783   5362   7118   \n",
       "32    33       UT             Jammu & Kashmir*    470    606    845   \n",
       "33    34       UT                     Ladakh @      -      2      1   \n",
       "34    35       UT                  Lakshadweep     26      9     17   \n",
       "35    36       UT                   Puducherry     50     71    122   \n",
       "\n",
       "    midPopulation  RateofCrimeAgainstChildren  ChargesSheetingRate  \n",
       "0           151.1                        17.7                 93.2  \n",
       "1             5.9                        27.5                 69.6  \n",
       "2           120.8                        43.7                 56.0  \n",
       "3           475.0                        14.5                 68.9  \n",
       "4            97.5                        61.6                 70.4  \n",
       "5             3.8                        39.5                 70.9  \n",
       "6           209.2                        21.6                 79.2  \n",
       "7            91.2                        62.5                 44.0  \n",
       "8            21.5                        34.4                 53.0  \n",
       "9           138.4                        13.5                 83.7  \n",
       "10          193.5                        37.5                 61.2  \n",
       "11           94.1                        48.2                 94.1  \n",
       "12          287.6                        66.7                 61.0  \n",
       "13          361.1                        47.8                 55.8  \n",
       "14           10.3                        13.8                 77.9  \n",
       "15           13.8                        34.9                 79.8  \n",
       "16            4.2                        28.9                 91.7  \n",
       "17            8.2                         6.2                 80.4  \n",
       "18          144.1                        54.8                 52.3  \n",
       "19           87.4                        29.2                 69.0  \n",
       "20          281.4                        27.2                 56.3  \n",
       "21            2.1                        72.4                 78.5  \n",
       "22          206.6                        29.3                 91.2  \n",
       "23          113.8                        49.8                 75.9  \n",
       "24           12.3                        19.2                 84.1  \n",
       "25          853.3                        19.7                 72.5  \n",
       "26           38.0                        32.8                 81.3  \n",
       "27          300.0                        31.7                 82.1  \n",
       "28            1.1                       110.4                 95.2  \n",
       "29            3.2                        72.2                 32.1  \n",
       "30            1.9                        54.1                 51.9  \n",
       "31           55.4                       128.5                 32.5  \n",
       "32           49.1                        17.2                 56.8  \n",
       "33            0.8                         1.2                 66.7  \n",
       "34            0.2                        85.4                 90.5  \n",
       "35            3.6                        34.0                 84.3  "
      ]
     },
     "execution_count": 3,
     "metadata": {},
     "output_type": "execute_result"
    }
   ],
   "source": [
    "df1"
   ]
  },
  {
   "cell_type": "code",
   "execution_count": 4,
   "id": "56182014",
   "metadata": {},
   "outputs": [
    {
     "data": {
      "text/html": [
       "<div>\n",
       "<style scoped>\n",
       "    .dataframe tbody tr th:only-of-type {\n",
       "        vertical-align: middle;\n",
       "    }\n",
       "\n",
       "    .dataframe tbody tr th {\n",
       "        vertical-align: top;\n",
       "    }\n",
       "\n",
       "    .dataframe thead th {\n",
       "        text-align: right;\n",
       "    }\n",
       "</style>\n",
       "<table border=\"1\" class=\"dataframe\">\n",
       "  <thead>\n",
       "    <tr style=\"text-align: right;\">\n",
       "      <th></th>\n",
       "      <th>S.No</th>\n",
       "      <th>State/UT</th>\n",
       "      <th>Name</th>\n",
       "      <th>2019</th>\n",
       "      <th>2020</th>\n",
       "      <th>2021</th>\n",
       "      <th>midPopulation</th>\n",
       "      <th>RateofCrimeAgainstChildren</th>\n",
       "      <th>ChargesSheetingRate</th>\n",
       "    </tr>\n",
       "  </thead>\n",
       "  <tbody>\n",
       "    <tr>\n",
       "      <th>0</th>\n",
       "      <td>1</td>\n",
       "      <td>State</td>\n",
       "      <td>Andhra Pradesh</td>\n",
       "      <td>2524</td>\n",
       "      <td>2648</td>\n",
       "      <td>2669</td>\n",
       "      <td>151.1</td>\n",
       "      <td>17.7</td>\n",
       "      <td>93.2</td>\n",
       "    </tr>\n",
       "    <tr>\n",
       "      <th>1</th>\n",
       "      <td>2</td>\n",
       "      <td>State</td>\n",
       "      <td>Arunachal Pradesh</td>\n",
       "      <td>153</td>\n",
       "      <td>113</td>\n",
       "      <td>162</td>\n",
       "      <td>5.9</td>\n",
       "      <td>27.5</td>\n",
       "      <td>69.6</td>\n",
       "    </tr>\n",
       "    <tr>\n",
       "      <th>2</th>\n",
       "      <td>3</td>\n",
       "      <td>State</td>\n",
       "      <td>Assam</td>\n",
       "      <td>6608</td>\n",
       "      <td>4622</td>\n",
       "      <td>5282</td>\n",
       "      <td>120.8</td>\n",
       "      <td>43.7</td>\n",
       "      <td>56.0</td>\n",
       "    </tr>\n",
       "    <tr>\n",
       "      <th>3</th>\n",
       "      <td>4</td>\n",
       "      <td>State</td>\n",
       "      <td>Bihar</td>\n",
       "      <td>9320</td>\n",
       "      <td>6591</td>\n",
       "      <td>6894</td>\n",
       "      <td>475.0</td>\n",
       "      <td>14.5</td>\n",
       "      <td>68.9</td>\n",
       "    </tr>\n",
       "    <tr>\n",
       "      <th>4</th>\n",
       "      <td>5</td>\n",
       "      <td>State</td>\n",
       "      <td>Chhattisgarh</td>\n",
       "      <td>5665</td>\n",
       "      <td>5056</td>\n",
       "      <td>6001</td>\n",
       "      <td>97.5</td>\n",
       "      <td>61.6</td>\n",
       "      <td>70.4</td>\n",
       "    </tr>\n",
       "  </tbody>\n",
       "</table>\n",
       "</div>"
      ],
      "text/plain": [
       "   S.No State/UT               Name  2019  2020  2021  midPopulation  \\\n",
       "0     1    State     Andhra Pradesh  2524  2648  2669          151.1   \n",
       "1     2    State  Arunachal Pradesh   153   113   162            5.9   \n",
       "2     3    State              Assam  6608  4622  5282          120.8   \n",
       "3     4    State              Bihar  9320  6591  6894          475.0   \n",
       "4     5    State       Chhattisgarh  5665  5056  6001           97.5   \n",
       "\n",
       "   RateofCrimeAgainstChildren  ChargesSheetingRate  \n",
       "0                        17.7                 93.2  \n",
       "1                        27.5                 69.6  \n",
       "2                        43.7                 56.0  \n",
       "3                        14.5                 68.9  \n",
       "4                        61.6                 70.4  "
      ]
     },
     "execution_count": 4,
     "metadata": {},
     "output_type": "execute_result"
    }
   ],
   "source": [
    "# Checking top 5 Rows\n",
    "df1.head()"
   ]
  },
  {
   "cell_type": "code",
   "execution_count": 5,
   "id": "bc985172",
   "metadata": {},
   "outputs": [
    {
     "data": {
      "text/html": [
       "<div>\n",
       "<style scoped>\n",
       "    .dataframe tbody tr th:only-of-type {\n",
       "        vertical-align: middle;\n",
       "    }\n",
       "\n",
       "    .dataframe tbody tr th {\n",
       "        vertical-align: top;\n",
       "    }\n",
       "\n",
       "    .dataframe thead th {\n",
       "        text-align: right;\n",
       "    }\n",
       "</style>\n",
       "<table border=\"1\" class=\"dataframe\">\n",
       "  <thead>\n",
       "    <tr style=\"text-align: right;\">\n",
       "      <th></th>\n",
       "      <th>S.No</th>\n",
       "      <th>State/UT</th>\n",
       "      <th>Name</th>\n",
       "      <th>2019</th>\n",
       "      <th>2020</th>\n",
       "      <th>2021</th>\n",
       "      <th>midPopulation</th>\n",
       "      <th>RateofCrimeAgainstChildren</th>\n",
       "      <th>ChargesSheetingRate</th>\n",
       "    </tr>\n",
       "  </thead>\n",
       "  <tbody>\n",
       "    <tr>\n",
       "      <th>31</th>\n",
       "      <td>32</td>\n",
       "      <td>UT</td>\n",
       "      <td>Delhi</td>\n",
       "      <td>7783</td>\n",
       "      <td>5362</td>\n",
       "      <td>7118</td>\n",
       "      <td>55.4</td>\n",
       "      <td>128.5</td>\n",
       "      <td>32.5</td>\n",
       "    </tr>\n",
       "    <tr>\n",
       "      <th>32</th>\n",
       "      <td>33</td>\n",
       "      <td>UT</td>\n",
       "      <td>Jammu &amp; Kashmir*</td>\n",
       "      <td>470</td>\n",
       "      <td>606</td>\n",
       "      <td>845</td>\n",
       "      <td>49.1</td>\n",
       "      <td>17.2</td>\n",
       "      <td>56.8</td>\n",
       "    </tr>\n",
       "    <tr>\n",
       "      <th>33</th>\n",
       "      <td>34</td>\n",
       "      <td>UT</td>\n",
       "      <td>Ladakh @</td>\n",
       "      <td>-</td>\n",
       "      <td>2</td>\n",
       "      <td>1</td>\n",
       "      <td>0.8</td>\n",
       "      <td>1.2</td>\n",
       "      <td>66.7</td>\n",
       "    </tr>\n",
       "    <tr>\n",
       "      <th>34</th>\n",
       "      <td>35</td>\n",
       "      <td>UT</td>\n",
       "      <td>Lakshadweep</td>\n",
       "      <td>26</td>\n",
       "      <td>9</td>\n",
       "      <td>17</td>\n",
       "      <td>0.2</td>\n",
       "      <td>85.4</td>\n",
       "      <td>90.5</td>\n",
       "    </tr>\n",
       "    <tr>\n",
       "      <th>35</th>\n",
       "      <td>36</td>\n",
       "      <td>UT</td>\n",
       "      <td>Puducherry</td>\n",
       "      <td>50</td>\n",
       "      <td>71</td>\n",
       "      <td>122</td>\n",
       "      <td>3.6</td>\n",
       "      <td>34.0</td>\n",
       "      <td>84.3</td>\n",
       "    </tr>\n",
       "  </tbody>\n",
       "</table>\n",
       "</div>"
      ],
      "text/plain": [
       "    S.No State/UT              Name  2019  2020  2021  midPopulation  \\\n",
       "31    32       UT             Delhi  7783  5362  7118           55.4   \n",
       "32    33       UT  Jammu & Kashmir*   470   606   845           49.1   \n",
       "33    34       UT          Ladakh @     -     2     1            0.8   \n",
       "34    35       UT       Lakshadweep    26     9    17            0.2   \n",
       "35    36       UT        Puducherry    50    71   122            3.6   \n",
       "\n",
       "    RateofCrimeAgainstChildren  ChargesSheetingRate  \n",
       "31                       128.5                 32.5  \n",
       "32                        17.2                 56.8  \n",
       "33                         1.2                 66.7  \n",
       "34                        85.4                 90.5  \n",
       "35                        34.0                 84.3  "
      ]
     },
     "execution_count": 5,
     "metadata": {},
     "output_type": "execute_result"
    }
   ],
   "source": [
    "# Checking bottom 5 Rows\n",
    "df1.tail()"
   ]
  },
  {
   "cell_type": "code",
   "execution_count": 6,
   "id": "d156c1d1",
   "metadata": {},
   "outputs": [
    {
     "data": {
      "text/plain": [
       "(36, 9)"
      ]
     },
     "execution_count": 6,
     "metadata": {},
     "output_type": "execute_result"
    }
   ],
   "source": [
    "# Checking the no.of Rows and Columns in data set\n",
    "df1.shape"
   ]
  },
  {
   "cell_type": "code",
   "execution_count": 7,
   "id": "59ab0b97",
   "metadata": {},
   "outputs": [
    {
     "data": {
      "text/plain": [
       "S.No                          0\n",
       "State/UT                      0\n",
       "Name                          0\n",
       "2019                          0\n",
       "2020                          0\n",
       "2021                          0\n",
       "midPopulation                 0\n",
       "RateofCrimeAgainstChildren    0\n",
       "ChargesSheetingRate           0\n",
       "dtype: int64"
      ]
     },
     "execution_count": 7,
     "metadata": {},
     "output_type": "execute_result"
    }
   ],
   "source": [
    "# Checking the null values in the data set\n",
    "df1.isnull().sum()"
   ]
  },
  {
   "cell_type": "markdown",
   "id": "f494a1cc",
   "metadata": {},
   "source": [
    "####  From above we can conclude that no null values in data set"
   ]
  },
  {
   "cell_type": "code",
   "execution_count": 8,
   "id": "680c8766",
   "metadata": {},
   "outputs": [
    {
     "name": "stdout",
     "output_type": "stream",
     "text": [
      "<class 'pandas.core.frame.DataFrame'>\n",
      "RangeIndex: 36 entries, 0 to 35\n",
      "Data columns (total 9 columns):\n",
      " #   Column                      Non-Null Count  Dtype  \n",
      "---  ------                      --------------  -----  \n",
      " 0   S.No                        36 non-null     int64  \n",
      " 1   State/UT                    36 non-null     object \n",
      " 2   Name                        36 non-null     object \n",
      " 3   2019                        36 non-null     object \n",
      " 4   2020                        36 non-null     int64  \n",
      " 5   2021                        36 non-null     int64  \n",
      " 6   midPopulation               36 non-null     float64\n",
      " 7   RateofCrimeAgainstChildren  36 non-null     float64\n",
      " 8   ChargesSheetingRate         36 non-null     float64\n",
      "dtypes: float64(3), int64(3), object(3)\n",
      "memory usage: 2.7+ KB\n"
     ]
    }
   ],
   "source": [
    "# df1.info() displays the data type of each column in the DataFrame. It helps you understand whether a column contains integers, floats, strings, dates, or other data types.\n",
    "df1.info()"
   ]
  },
  {
   "cell_type": "markdown",
   "id": "d9db6ea2",
   "metadata": {},
   "source": [
    "#### From above it is clearly evident that 2019 column is object data type, but 2019 column contains numerical data  need to convert 2019 column to interger data type "
   ]
  },
  {
   "cell_type": "code",
   "execution_count": 9,
   "id": "afd31372",
   "metadata": {},
   "outputs": [
    {
     "data": {
      "text/plain": [
       "dtype('O')"
      ]
     },
     "execution_count": 9,
     "metadata": {},
     "output_type": "execute_result"
    }
   ],
   "source": [
    "# To check the data type of particular column\n",
    "df1[\"2019\"].dtype"
   ]
  },
  {
   "cell_type": "code",
   "execution_count": 10,
   "id": "cf97251c",
   "metadata": {},
   "outputs": [
    {
     "ename": "ValueError",
     "evalue": "invalid literal for int() with base 10: '-'",
     "output_type": "error",
     "traceback": [
      "\u001b[1;31m---------------------------------------------------------------------------\u001b[0m",
      "\u001b[1;31mValueError\u001b[0m                                Traceback (most recent call last)",
      "Input \u001b[1;32mIn [10]\u001b[0m, in \u001b[0;36m<cell line: 2>\u001b[1;34m()\u001b[0m\n\u001b[0;32m      1\u001b[0m \u001b[38;5;66;03m# To manipulated or change data type of particular column (astype) is used\u001b[39;00m\n\u001b[1;32m----> 2\u001b[0m df1[\u001b[38;5;124m\"\u001b[39m\u001b[38;5;124m2019\u001b[39m\u001b[38;5;124m\"\u001b[39m] \u001b[38;5;241m=\u001b[39m \u001b[43mdf1\u001b[49m\u001b[43m[\u001b[49m\u001b[38;5;124;43m\"\u001b[39;49m\u001b[38;5;124;43m2019\u001b[39;49m\u001b[38;5;124;43m\"\u001b[39;49m\u001b[43m]\u001b[49m\u001b[38;5;241;43m.\u001b[39;49m\u001b[43mastype\u001b[49m\u001b[43m(\u001b[49m\u001b[38;5;124;43m\"\u001b[39;49m\u001b[38;5;124;43mint\u001b[39;49m\u001b[38;5;124;43m\"\u001b[39;49m\u001b[43m)\u001b[49m\n",
      "File \u001b[1;32mC:\\ProgramData\\Anaconda3\\lib\\site-packages\\pandas\\core\\generic.py:5912\u001b[0m, in \u001b[0;36mNDFrame.astype\u001b[1;34m(self, dtype, copy, errors)\u001b[0m\n\u001b[0;32m   5905\u001b[0m     results \u001b[38;5;241m=\u001b[39m [\n\u001b[0;32m   5906\u001b[0m         \u001b[38;5;28mself\u001b[39m\u001b[38;5;241m.\u001b[39miloc[:, i]\u001b[38;5;241m.\u001b[39mastype(dtype, copy\u001b[38;5;241m=\u001b[39mcopy)\n\u001b[0;32m   5907\u001b[0m         \u001b[38;5;28;01mfor\u001b[39;00m i \u001b[38;5;129;01min\u001b[39;00m \u001b[38;5;28mrange\u001b[39m(\u001b[38;5;28mlen\u001b[39m(\u001b[38;5;28mself\u001b[39m\u001b[38;5;241m.\u001b[39mcolumns))\n\u001b[0;32m   5908\u001b[0m     ]\n\u001b[0;32m   5910\u001b[0m \u001b[38;5;28;01melse\u001b[39;00m:\n\u001b[0;32m   5911\u001b[0m     \u001b[38;5;66;03m# else, only a single dtype is given\u001b[39;00m\n\u001b[1;32m-> 5912\u001b[0m     new_data \u001b[38;5;241m=\u001b[39m \u001b[38;5;28;43mself\u001b[39;49m\u001b[38;5;241;43m.\u001b[39;49m\u001b[43m_mgr\u001b[49m\u001b[38;5;241;43m.\u001b[39;49m\u001b[43mastype\u001b[49m\u001b[43m(\u001b[49m\u001b[43mdtype\u001b[49m\u001b[38;5;241;43m=\u001b[39;49m\u001b[43mdtype\u001b[49m\u001b[43m,\u001b[49m\u001b[43m \u001b[49m\u001b[43mcopy\u001b[49m\u001b[38;5;241;43m=\u001b[39;49m\u001b[43mcopy\u001b[49m\u001b[43m,\u001b[49m\u001b[43m \u001b[49m\u001b[43merrors\u001b[49m\u001b[38;5;241;43m=\u001b[39;49m\u001b[43merrors\u001b[49m\u001b[43m)\u001b[49m\n\u001b[0;32m   5913\u001b[0m     \u001b[38;5;28;01mreturn\u001b[39;00m \u001b[38;5;28mself\u001b[39m\u001b[38;5;241m.\u001b[39m_constructor(new_data)\u001b[38;5;241m.\u001b[39m__finalize__(\u001b[38;5;28mself\u001b[39m, method\u001b[38;5;241m=\u001b[39m\u001b[38;5;124m\"\u001b[39m\u001b[38;5;124mastype\u001b[39m\u001b[38;5;124m\"\u001b[39m)\n\u001b[0;32m   5915\u001b[0m \u001b[38;5;66;03m# GH 33113: handle empty frame or series\u001b[39;00m\n",
      "File \u001b[1;32mC:\\ProgramData\\Anaconda3\\lib\\site-packages\\pandas\\core\\internals\\managers.py:419\u001b[0m, in \u001b[0;36mBaseBlockManager.astype\u001b[1;34m(self, dtype, copy, errors)\u001b[0m\n\u001b[0;32m    418\u001b[0m \u001b[38;5;28;01mdef\u001b[39;00m \u001b[38;5;21mastype\u001b[39m(\u001b[38;5;28mself\u001b[39m: T, dtype, copy: \u001b[38;5;28mbool\u001b[39m \u001b[38;5;241m=\u001b[39m \u001b[38;5;28;01mFalse\u001b[39;00m, errors: \u001b[38;5;28mstr\u001b[39m \u001b[38;5;241m=\u001b[39m \u001b[38;5;124m\"\u001b[39m\u001b[38;5;124mraise\u001b[39m\u001b[38;5;124m\"\u001b[39m) \u001b[38;5;241m-\u001b[39m\u001b[38;5;241m>\u001b[39m T:\n\u001b[1;32m--> 419\u001b[0m     \u001b[38;5;28;01mreturn\u001b[39;00m \u001b[38;5;28;43mself\u001b[39;49m\u001b[38;5;241;43m.\u001b[39;49m\u001b[43mapply\u001b[49m\u001b[43m(\u001b[49m\u001b[38;5;124;43m\"\u001b[39;49m\u001b[38;5;124;43mastype\u001b[39;49m\u001b[38;5;124;43m\"\u001b[39;49m\u001b[43m,\u001b[49m\u001b[43m \u001b[49m\u001b[43mdtype\u001b[49m\u001b[38;5;241;43m=\u001b[39;49m\u001b[43mdtype\u001b[49m\u001b[43m,\u001b[49m\u001b[43m \u001b[49m\u001b[43mcopy\u001b[49m\u001b[38;5;241;43m=\u001b[39;49m\u001b[43mcopy\u001b[49m\u001b[43m,\u001b[49m\u001b[43m \u001b[49m\u001b[43merrors\u001b[49m\u001b[38;5;241;43m=\u001b[39;49m\u001b[43merrors\u001b[49m\u001b[43m)\u001b[49m\n",
      "File \u001b[1;32mC:\\ProgramData\\Anaconda3\\lib\\site-packages\\pandas\\core\\internals\\managers.py:304\u001b[0m, in \u001b[0;36mBaseBlockManager.apply\u001b[1;34m(self, f, align_keys, ignore_failures, **kwargs)\u001b[0m\n\u001b[0;32m    302\u001b[0m         applied \u001b[38;5;241m=\u001b[39m b\u001b[38;5;241m.\u001b[39mapply(f, \u001b[38;5;241m*\u001b[39m\u001b[38;5;241m*\u001b[39mkwargs)\n\u001b[0;32m    303\u001b[0m     \u001b[38;5;28;01melse\u001b[39;00m:\n\u001b[1;32m--> 304\u001b[0m         applied \u001b[38;5;241m=\u001b[39m \u001b[38;5;28mgetattr\u001b[39m(b, f)(\u001b[38;5;241m*\u001b[39m\u001b[38;5;241m*\u001b[39mkwargs)\n\u001b[0;32m    305\u001b[0m \u001b[38;5;28;01mexcept\u001b[39;00m (\u001b[38;5;167;01mTypeError\u001b[39;00m, \u001b[38;5;167;01mNotImplementedError\u001b[39;00m):\n\u001b[0;32m    306\u001b[0m     \u001b[38;5;28;01mif\u001b[39;00m \u001b[38;5;129;01mnot\u001b[39;00m ignore_failures:\n",
      "File \u001b[1;32mC:\\ProgramData\\Anaconda3\\lib\\site-packages\\pandas\\core\\internals\\blocks.py:580\u001b[0m, in \u001b[0;36mBlock.astype\u001b[1;34m(self, dtype, copy, errors)\u001b[0m\n\u001b[0;32m    562\u001b[0m \u001b[38;5;124;03m\"\"\"\u001b[39;00m\n\u001b[0;32m    563\u001b[0m \u001b[38;5;124;03mCoerce to the new dtype.\u001b[39;00m\n\u001b[0;32m    564\u001b[0m \n\u001b[1;32m   (...)\u001b[0m\n\u001b[0;32m    576\u001b[0m \u001b[38;5;124;03mBlock\u001b[39;00m\n\u001b[0;32m    577\u001b[0m \u001b[38;5;124;03m\"\"\"\u001b[39;00m\n\u001b[0;32m    578\u001b[0m values \u001b[38;5;241m=\u001b[39m \u001b[38;5;28mself\u001b[39m\u001b[38;5;241m.\u001b[39mvalues\n\u001b[1;32m--> 580\u001b[0m new_values \u001b[38;5;241m=\u001b[39m \u001b[43mastype_array_safe\u001b[49m\u001b[43m(\u001b[49m\u001b[43mvalues\u001b[49m\u001b[43m,\u001b[49m\u001b[43m \u001b[49m\u001b[43mdtype\u001b[49m\u001b[43m,\u001b[49m\u001b[43m \u001b[49m\u001b[43mcopy\u001b[49m\u001b[38;5;241;43m=\u001b[39;49m\u001b[43mcopy\u001b[49m\u001b[43m,\u001b[49m\u001b[43m \u001b[49m\u001b[43merrors\u001b[49m\u001b[38;5;241;43m=\u001b[39;49m\u001b[43merrors\u001b[49m\u001b[43m)\u001b[49m\n\u001b[0;32m    582\u001b[0m new_values \u001b[38;5;241m=\u001b[39m maybe_coerce_values(new_values)\n\u001b[0;32m    583\u001b[0m newb \u001b[38;5;241m=\u001b[39m \u001b[38;5;28mself\u001b[39m\u001b[38;5;241m.\u001b[39mmake_block(new_values)\n",
      "File \u001b[1;32mC:\\ProgramData\\Anaconda3\\lib\\site-packages\\pandas\\core\\dtypes\\cast.py:1292\u001b[0m, in \u001b[0;36mastype_array_safe\u001b[1;34m(values, dtype, copy, errors)\u001b[0m\n\u001b[0;32m   1289\u001b[0m     dtype \u001b[38;5;241m=\u001b[39m dtype\u001b[38;5;241m.\u001b[39mnumpy_dtype\n\u001b[0;32m   1291\u001b[0m \u001b[38;5;28;01mtry\u001b[39;00m:\n\u001b[1;32m-> 1292\u001b[0m     new_values \u001b[38;5;241m=\u001b[39m \u001b[43mastype_array\u001b[49m\u001b[43m(\u001b[49m\u001b[43mvalues\u001b[49m\u001b[43m,\u001b[49m\u001b[43m \u001b[49m\u001b[43mdtype\u001b[49m\u001b[43m,\u001b[49m\u001b[43m \u001b[49m\u001b[43mcopy\u001b[49m\u001b[38;5;241;43m=\u001b[39;49m\u001b[43mcopy\u001b[49m\u001b[43m)\u001b[49m\n\u001b[0;32m   1293\u001b[0m \u001b[38;5;28;01mexcept\u001b[39;00m (\u001b[38;5;167;01mValueError\u001b[39;00m, \u001b[38;5;167;01mTypeError\u001b[39;00m):\n\u001b[0;32m   1294\u001b[0m     \u001b[38;5;66;03m# e.g. astype_nansafe can fail on object-dtype of strings\u001b[39;00m\n\u001b[0;32m   1295\u001b[0m     \u001b[38;5;66;03m#  trying to convert to float\u001b[39;00m\n\u001b[0;32m   1296\u001b[0m     \u001b[38;5;28;01mif\u001b[39;00m errors \u001b[38;5;241m==\u001b[39m \u001b[38;5;124m\"\u001b[39m\u001b[38;5;124mignore\u001b[39m\u001b[38;5;124m\"\u001b[39m:\n",
      "File \u001b[1;32mC:\\ProgramData\\Anaconda3\\lib\\site-packages\\pandas\\core\\dtypes\\cast.py:1237\u001b[0m, in \u001b[0;36mastype_array\u001b[1;34m(values, dtype, copy)\u001b[0m\n\u001b[0;32m   1234\u001b[0m     values \u001b[38;5;241m=\u001b[39m values\u001b[38;5;241m.\u001b[39mastype(dtype, copy\u001b[38;5;241m=\u001b[39mcopy)\n\u001b[0;32m   1236\u001b[0m \u001b[38;5;28;01melse\u001b[39;00m:\n\u001b[1;32m-> 1237\u001b[0m     values \u001b[38;5;241m=\u001b[39m \u001b[43mastype_nansafe\u001b[49m\u001b[43m(\u001b[49m\u001b[43mvalues\u001b[49m\u001b[43m,\u001b[49m\u001b[43m \u001b[49m\u001b[43mdtype\u001b[49m\u001b[43m,\u001b[49m\u001b[43m \u001b[49m\u001b[43mcopy\u001b[49m\u001b[38;5;241;43m=\u001b[39;49m\u001b[43mcopy\u001b[49m\u001b[43m)\u001b[49m\n\u001b[0;32m   1239\u001b[0m \u001b[38;5;66;03m# in pandas we don't store numpy str dtypes, so convert to object\u001b[39;00m\n\u001b[0;32m   1240\u001b[0m \u001b[38;5;28;01mif\u001b[39;00m \u001b[38;5;28misinstance\u001b[39m(dtype, np\u001b[38;5;241m.\u001b[39mdtype) \u001b[38;5;129;01mand\u001b[39;00m \u001b[38;5;28missubclass\u001b[39m(values\u001b[38;5;241m.\u001b[39mdtype\u001b[38;5;241m.\u001b[39mtype, \u001b[38;5;28mstr\u001b[39m):\n",
      "File \u001b[1;32mC:\\ProgramData\\Anaconda3\\lib\\site-packages\\pandas\\core\\dtypes\\cast.py:1154\u001b[0m, in \u001b[0;36mastype_nansafe\u001b[1;34m(arr, dtype, copy, skipna)\u001b[0m\n\u001b[0;32m   1150\u001b[0m \u001b[38;5;28;01melif\u001b[39;00m is_object_dtype(arr\u001b[38;5;241m.\u001b[39mdtype):\n\u001b[0;32m   1151\u001b[0m \n\u001b[0;32m   1152\u001b[0m     \u001b[38;5;66;03m# work around NumPy brokenness, #1987\u001b[39;00m\n\u001b[0;32m   1153\u001b[0m     \u001b[38;5;28;01mif\u001b[39;00m np\u001b[38;5;241m.\u001b[39missubdtype(dtype\u001b[38;5;241m.\u001b[39mtype, np\u001b[38;5;241m.\u001b[39minteger):\n\u001b[1;32m-> 1154\u001b[0m         \u001b[38;5;28;01mreturn\u001b[39;00m \u001b[43mlib\u001b[49m\u001b[38;5;241;43m.\u001b[39;49m\u001b[43mastype_intsafe\u001b[49m\u001b[43m(\u001b[49m\u001b[43marr\u001b[49m\u001b[43m,\u001b[49m\u001b[43m \u001b[49m\u001b[43mdtype\u001b[49m\u001b[43m)\u001b[49m\n\u001b[0;32m   1156\u001b[0m     \u001b[38;5;66;03m# if we have a datetime/timedelta array of objects\u001b[39;00m\n\u001b[0;32m   1157\u001b[0m     \u001b[38;5;66;03m# then coerce to a proper dtype and recall astype_nansafe\u001b[39;00m\n\u001b[0;32m   1159\u001b[0m     \u001b[38;5;28;01melif\u001b[39;00m is_datetime64_dtype(dtype):\n",
      "File \u001b[1;32mC:\\ProgramData\\Anaconda3\\lib\\site-packages\\pandas\\_libs\\lib.pyx:668\u001b[0m, in \u001b[0;36mpandas._libs.lib.astype_intsafe\u001b[1;34m()\u001b[0m\n",
      "\u001b[1;31mValueError\u001b[0m: invalid literal for int() with base 10: '-'"
     ]
    }
   ],
   "source": [
    "# To manipulated or change data type of particular column (astype) is used\n",
    "df1[\"2019\"] = df1[\"2019\"].astype(\"int\")"
   ]
  },
  {
   "cell_type": "markdown",
   "id": "9d62217a",
   "metadata": {},
   "source": [
    "#### ValueError: invalid literal for int() with base 10: '-', indicates that there is a non-integer value in your '2019' column that cannot be converted to an integer. The hyphen '-' in the data is causing the error because it's not a valid integer representation."
   ]
  },
  {
   "cell_type": "code",
   "execution_count": 13,
   "id": "2ca1e94a",
   "metadata": {},
   "outputs": [
    {
     "data": {
      "text/plain": [
       "Index(['S.No', 'State/UT', 'Name', '2019', '2020', '2021', 'midPopulation',\n",
       "       'RateofCrimeAgainstChildren', 'ChargesSheetingRate'],\n",
       "      dtype='object')"
      ]
     },
     "execution_count": 13,
     "metadata": {},
     "output_type": "execute_result"
    }
   ],
   "source": [
    "# Checking column names\n",
    "df1.columns"
   ]
  },
  {
   "cell_type": "code",
   "execution_count": 14,
   "id": "fa9a2d99",
   "metadata": {},
   "outputs": [],
   "source": [
    "# Changing column name\n",
    "df1.rename(columns={\"Name\":\"State_Name\"},inplace = True)"
   ]
  },
  {
   "cell_type": "code",
   "execution_count": 15,
   "id": "ca19ef2b",
   "metadata": {},
   "outputs": [
    {
     "data": {
      "text/plain": [
       "Index(['S.No', 'State/UT', 'State_Name', '2019', '2020', '2021',\n",
       "       'midPopulation', 'RateofCrimeAgainstChildren', 'ChargesSheetingRate'],\n",
       "      dtype='object')"
      ]
     },
     "execution_count": 15,
     "metadata": {},
     "output_type": "execute_result"
    }
   ],
   "source": [
    "df1.columns"
   ]
  },
  {
   "cell_type": "markdown",
   "id": "4fb28d88",
   "metadata": {},
   "source": [
    "#### From above step we have changed the column name [Name --> State_Name]"
   ]
  },
  {
   "cell_type": "code",
   "execution_count": 11,
   "id": "a229c54b",
   "metadata": {},
   "outputs": [
    {
     "data": {
      "text/plain": [
       "array(['State', 'UT'], dtype=object)"
      ]
     },
     "execution_count": 11,
     "metadata": {},
     "output_type": "execute_result"
    }
   ],
   "source": [
    "df1[\"State/UT\"].unique()"
   ]
  },
  {
   "cell_type": "code",
   "execution_count": 17,
   "id": "dcb89cf8",
   "metadata": {},
   "outputs": [
    {
     "data": {
      "text/plain": [
       "array(['Andhra Pradesh', 'Arunachal Pradesh', 'Assam', 'Bihar',\n",
       "       'Chhattisgarh', 'Goa', 'Gujarat', 'Haryana', 'Himachal Pradesh',\n",
       "       'Jharkhand', 'Karnataka', 'Kerala', 'Madhya Pradesh',\n",
       "       'Maharashtra', 'Manipur', 'Meghalaya', 'Mizoram', 'Nagaland',\n",
       "       'Odisha', 'Punjab', 'Rajasthan', 'Sikkim', 'Tamil Nadu',\n",
       "       'Telangana', 'Tripura', 'Uttar Pradesh', 'Uttarakhand',\n",
       "       'West Bengal', 'A&N Islands', 'Chandigarh',\n",
       "       'D&N Haveli and Daman & Diu+', 'Delhi', 'Jammu & Kashmir*',\n",
       "       'Ladakh @', 'Lakshadweep', 'Puducherry'], dtype=object)"
      ]
     },
     "execution_count": 17,
     "metadata": {},
     "output_type": "execute_result"
    }
   ],
   "source": [
    "df1[\"State_Name\"].unique()"
   ]
  },
  {
   "cell_type": "markdown",
   "id": "d655ebff",
   "metadata": {},
   "source": [
    "#### From above stetp it is clearly evident that some states like Ladakh @ ,D&N Haveli and Daman & Diu+ ,Jammu & Kashmir* have special characters at end we need to reomve."
   ]
  },
  {
   "cell_type": "code",
   "execution_count": 18,
   "id": "b1836c32",
   "metadata": {},
   "outputs": [],
   "source": [
    "df1.loc[30,\"State_Name\"] = \"D&N Haveli and Daman & Diu\""
   ]
  },
  {
   "cell_type": "code",
   "execution_count": 19,
   "id": "eddf664d",
   "metadata": {},
   "outputs": [],
   "source": [
    "df1.loc[32,\"State_Name\"] = \"Jammu & Kashmir\""
   ]
  },
  {
   "cell_type": "code",
   "execution_count": 20,
   "id": "f190f904",
   "metadata": {},
   "outputs": [],
   "source": [
    "df1.loc[33,\"State_Name\"] = \"Ladakh\""
   ]
  },
  {
   "cell_type": "code",
   "execution_count": 21,
   "id": "3ab957a1",
   "metadata": {},
   "outputs": [
    {
     "data": {
      "text/plain": [
       "array(['Andhra Pradesh', 'Arunachal Pradesh', 'Assam', 'Bihar',\n",
       "       'Chhattisgarh', 'Goa', 'Gujarat', 'Haryana', 'Himachal Pradesh',\n",
       "       'Jharkhand', 'Karnataka', 'Kerala', 'Madhya Pradesh',\n",
       "       'Maharashtra', 'Manipur', 'Meghalaya', 'Mizoram', 'Nagaland',\n",
       "       'Odisha', 'Punjab', 'Rajasthan', 'Sikkim', 'Tamil Nadu',\n",
       "       'Telangana', 'Tripura', 'Uttar Pradesh', 'Uttarakhand',\n",
       "       'West Bengal', 'A&N Islands', 'Chandigarh',\n",
       "       'D&N Haveli and Daman & Diu', 'Delhi', 'Jammu & Kashmir', 'Ladakh',\n",
       "       'Lakshadweep', 'Puducherry'], dtype=object)"
      ]
     },
     "execution_count": 21,
     "metadata": {},
     "output_type": "execute_result"
    }
   ],
   "source": [
    "df1[\"State_Name\"].unique()"
   ]
  },
  {
   "cell_type": "code",
   "execution_count": 22,
   "id": "4cae9cd9",
   "metadata": {},
   "outputs": [
    {
     "data": {
      "text/plain": [
       "array(['2524', '153', '6608', '9320', '5665', '167', '4685', '5119',\n",
       "       '748', '1674', '6305', '4754', '19028', '19592', '148', '379',\n",
       "       '125', '59', '7012', '2625', '7385', '163', '4139', '4212', '311',\n",
       "       '18943', '1214', '6191', '264', '96', '7783', '470', '-', '26',\n",
       "       '50'], dtype=object)"
      ]
     },
     "execution_count": 22,
     "metadata": {},
     "output_type": "execute_result"
    }
   ],
   "source": [
    "df1[\"2019\"].unique()"
   ]
  },
  {
   "cell_type": "markdown",
   "id": "e06f25dc",
   "metadata": {},
   "source": [
    "#### From above step it is clearly evident that there is (-) in data set "
   ]
  },
  {
   "cell_type": "code",
   "execution_count": 23,
   "id": "d66768d9",
   "metadata": {},
   "outputs": [],
   "source": [
    "# Replacing ( _ ) with nan in 2019 column\n",
    "df1[\"2019\"] = df1[\"2019\"].replace('-', np.nan)"
   ]
  },
  {
   "cell_type": "code",
   "execution_count": 24,
   "id": "6588c3c5",
   "metadata": {},
   "outputs": [
    {
     "data": {
      "text/plain": [
       "array(['2524', '153', '6608', '9320', '5665', '167', '4685', '5119',\n",
       "       '748', '1674', '6305', '4754', '19028', '19592', '148', '379',\n",
       "       '125', '59', '7012', '2625', '7385', '163', '4139', '4212', '311',\n",
       "       '18943', '1214', '6191', '264', '96', '7783', '470', nan, '26',\n",
       "       '50'], dtype=object)"
      ]
     },
     "execution_count": 24,
     "metadata": {},
     "output_type": "execute_result"
    }
   ],
   "source": [
    "df1[\"2019\"].unique()"
   ]
  },
  {
   "cell_type": "code",
   "execution_count": 25,
   "id": "84c3222e",
   "metadata": {},
   "outputs": [
    {
     "data": {
      "text/plain": [
       "S.No                          0\n",
       "State/UT                      0\n",
       "State_Name                    0\n",
       "2019                          1\n",
       "2020                          0\n",
       "2021                          0\n",
       "midPopulation                 0\n",
       "RateofCrimeAgainstChildren    0\n",
       "ChargesSheetingRate           0\n",
       "dtype: int64"
      ]
     },
     "execution_count": 25,
     "metadata": {},
     "output_type": "execute_result"
    }
   ],
   "source": [
    "# Now checking null values in 2019 column\n",
    "df1.isnull().sum()"
   ]
  },
  {
   "cell_type": "markdown",
   "id": "c7e7effd",
   "metadata": {},
   "source": [
    "#### From above it is evident that 2019 column have 1 null value"
   ]
  },
  {
   "cell_type": "code",
   "execution_count": 26,
   "id": "32a37b5e",
   "metadata": {},
   "outputs": [
    {
     "name": "stdout",
     "output_type": "stream",
     "text": [
      "<class 'pandas.core.frame.DataFrame'>\n",
      "RangeIndex: 36 entries, 0 to 35\n",
      "Data columns (total 9 columns):\n",
      " #   Column                      Non-Null Count  Dtype  \n",
      "---  ------                      --------------  -----  \n",
      " 0   S.No                        36 non-null     int64  \n",
      " 1   State/UT                    36 non-null     object \n",
      " 2   State_Name                  36 non-null     object \n",
      " 3   2019                        35 non-null     object \n",
      " 4   2020                        36 non-null     int64  \n",
      " 5   2021                        36 non-null     int64  \n",
      " 6   midPopulation               36 non-null     float64\n",
      " 7   RateofCrimeAgainstChildren  36 non-null     float64\n",
      " 8   ChargesSheetingRate         36 non-null     float64\n",
      "dtypes: float64(3), int64(3), object(3)\n",
      "memory usage: 2.7+ KB\n"
     ]
    }
   ],
   "source": [
    "df1.info()"
   ]
  },
  {
   "cell_type": "code",
   "execution_count": 27,
   "id": "d93df3df",
   "metadata": {},
   "outputs": [
    {
     "data": {
      "text/plain": [
       "dtype('O')"
      ]
     },
     "execution_count": 27,
     "metadata": {},
     "output_type": "execute_result"
    }
   ],
   "source": [
    "# To check the data type of particular column\n",
    "df1[\"2019\"].dtype"
   ]
  },
  {
   "cell_type": "code",
   "execution_count": 28,
   "id": "05bafff9",
   "metadata": {},
   "outputs": [
    {
     "ename": "ValueError",
     "evalue": "cannot convert float NaN to integer",
     "output_type": "error",
     "traceback": [
      "\u001b[1;31m---------------------------------------------------------------------------\u001b[0m",
      "\u001b[1;31mValueError\u001b[0m                                Traceback (most recent call last)",
      "Input \u001b[1;32mIn [28]\u001b[0m, in \u001b[0;36m<cell line: 2>\u001b[1;34m()\u001b[0m\n\u001b[0;32m      1\u001b[0m \u001b[38;5;66;03m# To manipulated or change data type of particular column (astype) is used\u001b[39;00m\n\u001b[1;32m----> 2\u001b[0m df1[\u001b[38;5;124m\"\u001b[39m\u001b[38;5;124m2019\u001b[39m\u001b[38;5;124m\"\u001b[39m] \u001b[38;5;241m=\u001b[39m \u001b[43mdf1\u001b[49m\u001b[43m[\u001b[49m\u001b[38;5;124;43m\"\u001b[39;49m\u001b[38;5;124;43m2019\u001b[39;49m\u001b[38;5;124;43m\"\u001b[39;49m\u001b[43m]\u001b[49m\u001b[38;5;241;43m.\u001b[39;49m\u001b[43mastype\u001b[49m\u001b[43m(\u001b[49m\u001b[38;5;124;43m\"\u001b[39;49m\u001b[38;5;124;43mint\u001b[39;49m\u001b[38;5;124;43m\"\u001b[39;49m\u001b[43m)\u001b[49m\n",
      "File \u001b[1;32mC:\\ProgramData\\Anaconda3\\lib\\site-packages\\pandas\\core\\generic.py:5912\u001b[0m, in \u001b[0;36mNDFrame.astype\u001b[1;34m(self, dtype, copy, errors)\u001b[0m\n\u001b[0;32m   5905\u001b[0m     results \u001b[38;5;241m=\u001b[39m [\n\u001b[0;32m   5906\u001b[0m         \u001b[38;5;28mself\u001b[39m\u001b[38;5;241m.\u001b[39miloc[:, i]\u001b[38;5;241m.\u001b[39mastype(dtype, copy\u001b[38;5;241m=\u001b[39mcopy)\n\u001b[0;32m   5907\u001b[0m         \u001b[38;5;28;01mfor\u001b[39;00m i \u001b[38;5;129;01min\u001b[39;00m \u001b[38;5;28mrange\u001b[39m(\u001b[38;5;28mlen\u001b[39m(\u001b[38;5;28mself\u001b[39m\u001b[38;5;241m.\u001b[39mcolumns))\n\u001b[0;32m   5908\u001b[0m     ]\n\u001b[0;32m   5910\u001b[0m \u001b[38;5;28;01melse\u001b[39;00m:\n\u001b[0;32m   5911\u001b[0m     \u001b[38;5;66;03m# else, only a single dtype is given\u001b[39;00m\n\u001b[1;32m-> 5912\u001b[0m     new_data \u001b[38;5;241m=\u001b[39m \u001b[38;5;28;43mself\u001b[39;49m\u001b[38;5;241;43m.\u001b[39;49m\u001b[43m_mgr\u001b[49m\u001b[38;5;241;43m.\u001b[39;49m\u001b[43mastype\u001b[49m\u001b[43m(\u001b[49m\u001b[43mdtype\u001b[49m\u001b[38;5;241;43m=\u001b[39;49m\u001b[43mdtype\u001b[49m\u001b[43m,\u001b[49m\u001b[43m \u001b[49m\u001b[43mcopy\u001b[49m\u001b[38;5;241;43m=\u001b[39;49m\u001b[43mcopy\u001b[49m\u001b[43m,\u001b[49m\u001b[43m \u001b[49m\u001b[43merrors\u001b[49m\u001b[38;5;241;43m=\u001b[39;49m\u001b[43merrors\u001b[49m\u001b[43m)\u001b[49m\n\u001b[0;32m   5913\u001b[0m     \u001b[38;5;28;01mreturn\u001b[39;00m \u001b[38;5;28mself\u001b[39m\u001b[38;5;241m.\u001b[39m_constructor(new_data)\u001b[38;5;241m.\u001b[39m__finalize__(\u001b[38;5;28mself\u001b[39m, method\u001b[38;5;241m=\u001b[39m\u001b[38;5;124m\"\u001b[39m\u001b[38;5;124mastype\u001b[39m\u001b[38;5;124m\"\u001b[39m)\n\u001b[0;32m   5915\u001b[0m \u001b[38;5;66;03m# GH 33113: handle empty frame or series\u001b[39;00m\n",
      "File \u001b[1;32mC:\\ProgramData\\Anaconda3\\lib\\site-packages\\pandas\\core\\internals\\managers.py:419\u001b[0m, in \u001b[0;36mBaseBlockManager.astype\u001b[1;34m(self, dtype, copy, errors)\u001b[0m\n\u001b[0;32m    418\u001b[0m \u001b[38;5;28;01mdef\u001b[39;00m \u001b[38;5;21mastype\u001b[39m(\u001b[38;5;28mself\u001b[39m: T, dtype, copy: \u001b[38;5;28mbool\u001b[39m \u001b[38;5;241m=\u001b[39m \u001b[38;5;28;01mFalse\u001b[39;00m, errors: \u001b[38;5;28mstr\u001b[39m \u001b[38;5;241m=\u001b[39m \u001b[38;5;124m\"\u001b[39m\u001b[38;5;124mraise\u001b[39m\u001b[38;5;124m\"\u001b[39m) \u001b[38;5;241m-\u001b[39m\u001b[38;5;241m>\u001b[39m T:\n\u001b[1;32m--> 419\u001b[0m     \u001b[38;5;28;01mreturn\u001b[39;00m \u001b[38;5;28;43mself\u001b[39;49m\u001b[38;5;241;43m.\u001b[39;49m\u001b[43mapply\u001b[49m\u001b[43m(\u001b[49m\u001b[38;5;124;43m\"\u001b[39;49m\u001b[38;5;124;43mastype\u001b[39;49m\u001b[38;5;124;43m\"\u001b[39;49m\u001b[43m,\u001b[49m\u001b[43m \u001b[49m\u001b[43mdtype\u001b[49m\u001b[38;5;241;43m=\u001b[39;49m\u001b[43mdtype\u001b[49m\u001b[43m,\u001b[49m\u001b[43m \u001b[49m\u001b[43mcopy\u001b[49m\u001b[38;5;241;43m=\u001b[39;49m\u001b[43mcopy\u001b[49m\u001b[43m,\u001b[49m\u001b[43m \u001b[49m\u001b[43merrors\u001b[49m\u001b[38;5;241;43m=\u001b[39;49m\u001b[43merrors\u001b[49m\u001b[43m)\u001b[49m\n",
      "File \u001b[1;32mC:\\ProgramData\\Anaconda3\\lib\\site-packages\\pandas\\core\\internals\\managers.py:304\u001b[0m, in \u001b[0;36mBaseBlockManager.apply\u001b[1;34m(self, f, align_keys, ignore_failures, **kwargs)\u001b[0m\n\u001b[0;32m    302\u001b[0m         applied \u001b[38;5;241m=\u001b[39m b\u001b[38;5;241m.\u001b[39mapply(f, \u001b[38;5;241m*\u001b[39m\u001b[38;5;241m*\u001b[39mkwargs)\n\u001b[0;32m    303\u001b[0m     \u001b[38;5;28;01melse\u001b[39;00m:\n\u001b[1;32m--> 304\u001b[0m         applied \u001b[38;5;241m=\u001b[39m \u001b[38;5;28mgetattr\u001b[39m(b, f)(\u001b[38;5;241m*\u001b[39m\u001b[38;5;241m*\u001b[39mkwargs)\n\u001b[0;32m    305\u001b[0m \u001b[38;5;28;01mexcept\u001b[39;00m (\u001b[38;5;167;01mTypeError\u001b[39;00m, \u001b[38;5;167;01mNotImplementedError\u001b[39;00m):\n\u001b[0;32m    306\u001b[0m     \u001b[38;5;28;01mif\u001b[39;00m \u001b[38;5;129;01mnot\u001b[39;00m ignore_failures:\n",
      "File \u001b[1;32mC:\\ProgramData\\Anaconda3\\lib\\site-packages\\pandas\\core\\internals\\blocks.py:580\u001b[0m, in \u001b[0;36mBlock.astype\u001b[1;34m(self, dtype, copy, errors)\u001b[0m\n\u001b[0;32m    562\u001b[0m \u001b[38;5;124;03m\"\"\"\u001b[39;00m\n\u001b[0;32m    563\u001b[0m \u001b[38;5;124;03mCoerce to the new dtype.\u001b[39;00m\n\u001b[0;32m    564\u001b[0m \n\u001b[1;32m   (...)\u001b[0m\n\u001b[0;32m    576\u001b[0m \u001b[38;5;124;03mBlock\u001b[39;00m\n\u001b[0;32m    577\u001b[0m \u001b[38;5;124;03m\"\"\"\u001b[39;00m\n\u001b[0;32m    578\u001b[0m values \u001b[38;5;241m=\u001b[39m \u001b[38;5;28mself\u001b[39m\u001b[38;5;241m.\u001b[39mvalues\n\u001b[1;32m--> 580\u001b[0m new_values \u001b[38;5;241m=\u001b[39m \u001b[43mastype_array_safe\u001b[49m\u001b[43m(\u001b[49m\u001b[43mvalues\u001b[49m\u001b[43m,\u001b[49m\u001b[43m \u001b[49m\u001b[43mdtype\u001b[49m\u001b[43m,\u001b[49m\u001b[43m \u001b[49m\u001b[43mcopy\u001b[49m\u001b[38;5;241;43m=\u001b[39;49m\u001b[43mcopy\u001b[49m\u001b[43m,\u001b[49m\u001b[43m \u001b[49m\u001b[43merrors\u001b[49m\u001b[38;5;241;43m=\u001b[39;49m\u001b[43merrors\u001b[49m\u001b[43m)\u001b[49m\n\u001b[0;32m    582\u001b[0m new_values \u001b[38;5;241m=\u001b[39m maybe_coerce_values(new_values)\n\u001b[0;32m    583\u001b[0m newb \u001b[38;5;241m=\u001b[39m \u001b[38;5;28mself\u001b[39m\u001b[38;5;241m.\u001b[39mmake_block(new_values)\n",
      "File \u001b[1;32mC:\\ProgramData\\Anaconda3\\lib\\site-packages\\pandas\\core\\dtypes\\cast.py:1292\u001b[0m, in \u001b[0;36mastype_array_safe\u001b[1;34m(values, dtype, copy, errors)\u001b[0m\n\u001b[0;32m   1289\u001b[0m     dtype \u001b[38;5;241m=\u001b[39m dtype\u001b[38;5;241m.\u001b[39mnumpy_dtype\n\u001b[0;32m   1291\u001b[0m \u001b[38;5;28;01mtry\u001b[39;00m:\n\u001b[1;32m-> 1292\u001b[0m     new_values \u001b[38;5;241m=\u001b[39m \u001b[43mastype_array\u001b[49m\u001b[43m(\u001b[49m\u001b[43mvalues\u001b[49m\u001b[43m,\u001b[49m\u001b[43m \u001b[49m\u001b[43mdtype\u001b[49m\u001b[43m,\u001b[49m\u001b[43m \u001b[49m\u001b[43mcopy\u001b[49m\u001b[38;5;241;43m=\u001b[39;49m\u001b[43mcopy\u001b[49m\u001b[43m)\u001b[49m\n\u001b[0;32m   1293\u001b[0m \u001b[38;5;28;01mexcept\u001b[39;00m (\u001b[38;5;167;01mValueError\u001b[39;00m, \u001b[38;5;167;01mTypeError\u001b[39;00m):\n\u001b[0;32m   1294\u001b[0m     \u001b[38;5;66;03m# e.g. astype_nansafe can fail on object-dtype of strings\u001b[39;00m\n\u001b[0;32m   1295\u001b[0m     \u001b[38;5;66;03m#  trying to convert to float\u001b[39;00m\n\u001b[0;32m   1296\u001b[0m     \u001b[38;5;28;01mif\u001b[39;00m errors \u001b[38;5;241m==\u001b[39m \u001b[38;5;124m\"\u001b[39m\u001b[38;5;124mignore\u001b[39m\u001b[38;5;124m\"\u001b[39m:\n",
      "File \u001b[1;32mC:\\ProgramData\\Anaconda3\\lib\\site-packages\\pandas\\core\\dtypes\\cast.py:1237\u001b[0m, in \u001b[0;36mastype_array\u001b[1;34m(values, dtype, copy)\u001b[0m\n\u001b[0;32m   1234\u001b[0m     values \u001b[38;5;241m=\u001b[39m values\u001b[38;5;241m.\u001b[39mastype(dtype, copy\u001b[38;5;241m=\u001b[39mcopy)\n\u001b[0;32m   1236\u001b[0m \u001b[38;5;28;01melse\u001b[39;00m:\n\u001b[1;32m-> 1237\u001b[0m     values \u001b[38;5;241m=\u001b[39m \u001b[43mastype_nansafe\u001b[49m\u001b[43m(\u001b[49m\u001b[43mvalues\u001b[49m\u001b[43m,\u001b[49m\u001b[43m \u001b[49m\u001b[43mdtype\u001b[49m\u001b[43m,\u001b[49m\u001b[43m \u001b[49m\u001b[43mcopy\u001b[49m\u001b[38;5;241;43m=\u001b[39;49m\u001b[43mcopy\u001b[49m\u001b[43m)\u001b[49m\n\u001b[0;32m   1239\u001b[0m \u001b[38;5;66;03m# in pandas we don't store numpy str dtypes, so convert to object\u001b[39;00m\n\u001b[0;32m   1240\u001b[0m \u001b[38;5;28;01mif\u001b[39;00m \u001b[38;5;28misinstance\u001b[39m(dtype, np\u001b[38;5;241m.\u001b[39mdtype) \u001b[38;5;129;01mand\u001b[39;00m \u001b[38;5;28missubclass\u001b[39m(values\u001b[38;5;241m.\u001b[39mdtype\u001b[38;5;241m.\u001b[39mtype, \u001b[38;5;28mstr\u001b[39m):\n",
      "File \u001b[1;32mC:\\ProgramData\\Anaconda3\\lib\\site-packages\\pandas\\core\\dtypes\\cast.py:1154\u001b[0m, in \u001b[0;36mastype_nansafe\u001b[1;34m(arr, dtype, copy, skipna)\u001b[0m\n\u001b[0;32m   1150\u001b[0m \u001b[38;5;28;01melif\u001b[39;00m is_object_dtype(arr\u001b[38;5;241m.\u001b[39mdtype):\n\u001b[0;32m   1151\u001b[0m \n\u001b[0;32m   1152\u001b[0m     \u001b[38;5;66;03m# work around NumPy brokenness, #1987\u001b[39;00m\n\u001b[0;32m   1153\u001b[0m     \u001b[38;5;28;01mif\u001b[39;00m np\u001b[38;5;241m.\u001b[39missubdtype(dtype\u001b[38;5;241m.\u001b[39mtype, np\u001b[38;5;241m.\u001b[39minteger):\n\u001b[1;32m-> 1154\u001b[0m         \u001b[38;5;28;01mreturn\u001b[39;00m \u001b[43mlib\u001b[49m\u001b[38;5;241;43m.\u001b[39;49m\u001b[43mastype_intsafe\u001b[49m\u001b[43m(\u001b[49m\u001b[43marr\u001b[49m\u001b[43m,\u001b[49m\u001b[43m \u001b[49m\u001b[43mdtype\u001b[49m\u001b[43m)\u001b[49m\n\u001b[0;32m   1156\u001b[0m     \u001b[38;5;66;03m# if we have a datetime/timedelta array of objects\u001b[39;00m\n\u001b[0;32m   1157\u001b[0m     \u001b[38;5;66;03m# then coerce to a proper dtype and recall astype_nansafe\u001b[39;00m\n\u001b[0;32m   1159\u001b[0m     \u001b[38;5;28;01melif\u001b[39;00m is_datetime64_dtype(dtype):\n",
      "File \u001b[1;32mC:\\ProgramData\\Anaconda3\\lib\\site-packages\\pandas\\_libs\\lib.pyx:668\u001b[0m, in \u001b[0;36mpandas._libs.lib.astype_intsafe\u001b[1;34m()\u001b[0m\n",
      "\u001b[1;31mValueError\u001b[0m: cannot convert float NaN to integer"
     ]
    }
   ],
   "source": [
    "# To manipulated or change data type of particular column (astype) is used\n",
    "df1[\"2019\"] = df1[\"2019\"].astype(\"int\")"
   ]
  },
  {
   "cell_type": "markdown",
   "id": "1afc1268",
   "metadata": {},
   "source": [
    "#### The error you're encountering, ValueError: cannot convert float NaN to integer, occurs because you're attempting to convert a column containing NaN (Not a Number) values to an integer data type. Since NaN is not a valid integer value, you cannot directly cast a column with NaN values to an integer."
   ]
  },
  {
   "cell_type": "code",
   "execution_count": 29,
   "id": "ff8fd1ea",
   "metadata": {},
   "outputs": [],
   "source": [
    "# Replacing nan value with 0 in 2019 column\n",
    "df1[\"2019\"] = df1[\"2019\"].fillna(0)"
   ]
  },
  {
   "cell_type": "code",
   "execution_count": 30,
   "id": "af9a7e93",
   "metadata": {},
   "outputs": [
    {
     "data": {
      "text/plain": [
       "S.No                          0\n",
       "State/UT                      0\n",
       "State_Name                    0\n",
       "2019                          0\n",
       "2020                          0\n",
       "2021                          0\n",
       "midPopulation                 0\n",
       "RateofCrimeAgainstChildren    0\n",
       "ChargesSheetingRate           0\n",
       "dtype: int64"
      ]
     },
     "execution_count": 30,
     "metadata": {},
     "output_type": "execute_result"
    }
   ],
   "source": [
    "df1.isnull().sum()"
   ]
  },
  {
   "cell_type": "markdown",
   "id": "42fb6544",
   "metadata": {},
   "source": [
    "#### Successfully removed null values from 2019 column"
   ]
  },
  {
   "cell_type": "code",
   "execution_count": 31,
   "id": "9d541853",
   "metadata": {},
   "outputs": [
    {
     "data": {
      "text/plain": [
       "dtype('O')"
      ]
     },
     "execution_count": 31,
     "metadata": {},
     "output_type": "execute_result"
    }
   ],
   "source": [
    "df1[\"2019\"].dtype"
   ]
  },
  {
   "cell_type": "code",
   "execution_count": 32,
   "id": "b58aedf3",
   "metadata": {},
   "outputs": [],
   "source": [
    "df1[\"2019\"] = df1[\"2019\"].astype(\"int\")"
   ]
  },
  {
   "cell_type": "code",
   "execution_count": 33,
   "id": "2793b55e",
   "metadata": {},
   "outputs": [
    {
     "name": "stdout",
     "output_type": "stream",
     "text": [
      "<class 'pandas.core.frame.DataFrame'>\n",
      "RangeIndex: 36 entries, 0 to 35\n",
      "Data columns (total 9 columns):\n",
      " #   Column                      Non-Null Count  Dtype  \n",
      "---  ------                      --------------  -----  \n",
      " 0   S.No                        36 non-null     int64  \n",
      " 1   State/UT                    36 non-null     object \n",
      " 2   State_Name                  36 non-null     object \n",
      " 3   2019                        36 non-null     int32  \n",
      " 4   2020                        36 non-null     int64  \n",
      " 5   2021                        36 non-null     int64  \n",
      " 6   midPopulation               36 non-null     float64\n",
      " 7   RateofCrimeAgainstChildren  36 non-null     float64\n",
      " 8   ChargesSheetingRate         36 non-null     float64\n",
      "dtypes: float64(3), int32(1), int64(3), object(2)\n",
      "memory usage: 2.5+ KB\n"
     ]
    }
   ],
   "source": [
    "df1.info()"
   ]
  },
  {
   "cell_type": "markdown",
   "id": "51e7688a",
   "metadata": {},
   "source": [
    "#### Successfully changed 2019 column data type from object to integer."
   ]
  },
  {
   "cell_type": "code",
   "execution_count": 34,
   "id": "1fb689f4",
   "metadata": {},
   "outputs": [
    {
     "data": {
      "text/plain": [
       "array([ 2648,   113,  4622,  6591,  5056,   125,  4075,  4338,   636,\n",
       "        1795,  5471,  3941, 17008, 14371,   415,   142,    31,  6330,\n",
       "        2121,  6580,   147,  4200,   260, 15271,  1066, 10248,   141,\n",
       "         209,    67,  5362,   606,     2,     9,    71], dtype=int64)"
      ]
     },
     "execution_count": 34,
     "metadata": {},
     "output_type": "execute_result"
    }
   ],
   "source": [
    "df1[\"2020\"].unique()"
   ]
  },
  {
   "cell_type": "code",
   "execution_count": 35,
   "id": "755299b8",
   "metadata": {},
   "outputs": [
    {
     "data": {
      "text/plain": [
       "array([ 2669,   162,  5282,  6894,  6001,   151,  4515,  5700,   740,\n",
       "        1867,  7261,  4536, 19173, 17261,   143,   481,   122,    51,\n",
       "        7899,  2556,  7653,   149,  6064,  5667,   236, 16838,  1245,\n",
       "        9523,   124,   234,   104,  7118,   845,     1,    17],\n",
       "      dtype=int64)"
      ]
     },
     "execution_count": 35,
     "metadata": {},
     "output_type": "execute_result"
    }
   ],
   "source": [
    "df1[\"2021\"].unique()"
   ]
  },
  {
   "cell_type": "code",
   "execution_count": 36,
   "id": "fe9066a5",
   "metadata": {},
   "outputs": [
    {
     "data": {
      "text/plain": [
       "array([1.511e+02, 5.900e+00, 1.208e+02, 4.750e+02, 9.750e+01, 3.800e+00,\n",
       "       2.092e+02, 9.120e+01, 2.150e+01, 1.384e+02, 1.935e+02, 9.410e+01,\n",
       "       2.876e+02, 3.611e+02, 1.030e+01, 1.380e+01, 4.200e+00, 8.200e+00,\n",
       "       1.441e+02, 8.740e+01, 2.814e+02, 2.100e+00, 2.066e+02, 1.138e+02,\n",
       "       1.230e+01, 8.533e+02, 3.800e+01, 3.000e+02, 1.100e+00, 3.200e+00,\n",
       "       1.900e+00, 5.540e+01, 4.910e+01, 8.000e-01, 2.000e-01, 3.600e+00])"
      ]
     },
     "execution_count": 36,
     "metadata": {},
     "output_type": "execute_result"
    }
   ],
   "source": [
    "df1[\"midPopulation\"].unique()"
   ]
  },
  {
   "cell_type": "code",
   "execution_count": 37,
   "id": "9b57b201",
   "metadata": {},
   "outputs": [
    {
     "data": {
      "text/plain": [
       "array([ 17.7,  27.5,  43.7,  14.5,  61.6,  39.5,  21.6,  62.5,  34.4,\n",
       "        13.5,  37.5,  48.2,  66.7,  47.8,  13.8,  34.9,  28.9,   6.2,\n",
       "        54.8,  29.2,  27.2,  72.4,  29.3,  49.8,  19.2,  19.7,  32.8,\n",
       "        31.7, 110.4,  72.2,  54.1, 128.5,  17.2,   1.2,  85.4,  34. ])"
      ]
     },
     "execution_count": 37,
     "metadata": {},
     "output_type": "execute_result"
    }
   ],
   "source": [
    "df1[\"RateofCrimeAgainstChildren\"].unique()"
   ]
  },
  {
   "cell_type": "code",
   "execution_count": 38,
   "id": "11b027c2",
   "metadata": {},
   "outputs": [
    {
     "data": {
      "text/plain": [
       "array([93.2, 69.6, 56. , 68.9, 70.4, 70.9, 79.2, 44. , 53. , 83.7, 61.2,\n",
       "       94.1, 61. , 55.8, 77.9, 79.8, 91.7, 80.4, 52.3, 69. , 56.3, 78.5,\n",
       "       91.2, 75.9, 84.1, 72.5, 81.3, 82.1, 95.2, 32.1, 51.9, 32.5, 56.8,\n",
       "       66.7, 90.5, 84.3])"
      ]
     },
     "execution_count": 38,
     "metadata": {},
     "output_type": "execute_result"
    }
   ],
   "source": [
    "df1[\"ChargesSheetingRate\"].unique()"
   ]
  },
  {
   "cell_type": "code",
   "execution_count": 40,
   "id": "f7f7a131",
   "metadata": {},
   "outputs": [
    {
     "data": {
      "text/html": [
       "<div>\n",
       "<style scoped>\n",
       "    .dataframe tbody tr th:only-of-type {\n",
       "        vertical-align: middle;\n",
       "    }\n",
       "\n",
       "    .dataframe tbody tr th {\n",
       "        vertical-align: top;\n",
       "    }\n",
       "\n",
       "    .dataframe thead th {\n",
       "        text-align: right;\n",
       "    }\n",
       "</style>\n",
       "<table border=\"1\" class=\"dataframe\">\n",
       "  <thead>\n",
       "    <tr style=\"text-align: right;\">\n",
       "      <th></th>\n",
       "      <th>S.No</th>\n",
       "      <th>State/UT</th>\n",
       "      <th>State_Name</th>\n",
       "      <th>2019</th>\n",
       "      <th>2020</th>\n",
       "      <th>2021</th>\n",
       "      <th>midPopulation</th>\n",
       "      <th>RateofCrimeAgainstChildren</th>\n",
       "      <th>ChargesSheetingRate</th>\n",
       "    </tr>\n",
       "  </thead>\n",
       "  <tbody>\n",
       "    <tr>\n",
       "      <th>0</th>\n",
       "      <td>1</td>\n",
       "      <td>State</td>\n",
       "      <td>Andhra Pradesh</td>\n",
       "      <td>2524</td>\n",
       "      <td>2648</td>\n",
       "      <td>2669</td>\n",
       "      <td>151.1</td>\n",
       "      <td>17.7</td>\n",
       "      <td>93.2</td>\n",
       "    </tr>\n",
       "    <tr>\n",
       "      <th>1</th>\n",
       "      <td>2</td>\n",
       "      <td>State</td>\n",
       "      <td>Arunachal Pradesh</td>\n",
       "      <td>153</td>\n",
       "      <td>113</td>\n",
       "      <td>162</td>\n",
       "      <td>5.9</td>\n",
       "      <td>27.5</td>\n",
       "      <td>69.6</td>\n",
       "    </tr>\n",
       "    <tr>\n",
       "      <th>2</th>\n",
       "      <td>3</td>\n",
       "      <td>State</td>\n",
       "      <td>Assam</td>\n",
       "      <td>6608</td>\n",
       "      <td>4622</td>\n",
       "      <td>5282</td>\n",
       "      <td>120.8</td>\n",
       "      <td>43.7</td>\n",
       "      <td>56.0</td>\n",
       "    </tr>\n",
       "    <tr>\n",
       "      <th>3</th>\n",
       "      <td>4</td>\n",
       "      <td>State</td>\n",
       "      <td>Bihar</td>\n",
       "      <td>9320</td>\n",
       "      <td>6591</td>\n",
       "      <td>6894</td>\n",
       "      <td>475.0</td>\n",
       "      <td>14.5</td>\n",
       "      <td>68.9</td>\n",
       "    </tr>\n",
       "    <tr>\n",
       "      <th>4</th>\n",
       "      <td>5</td>\n",
       "      <td>State</td>\n",
       "      <td>Chhattisgarh</td>\n",
       "      <td>5665</td>\n",
       "      <td>5056</td>\n",
       "      <td>6001</td>\n",
       "      <td>97.5</td>\n",
       "      <td>61.6</td>\n",
       "      <td>70.4</td>\n",
       "    </tr>\n",
       "  </tbody>\n",
       "</table>\n",
       "</div>"
      ],
      "text/plain": [
       "   S.No State/UT         State_Name  2019  2020  2021  midPopulation  \\\n",
       "0     1    State     Andhra Pradesh  2524  2648  2669          151.1   \n",
       "1     2    State  Arunachal Pradesh   153   113   162            5.9   \n",
       "2     3    State              Assam  6608  4622  5282          120.8   \n",
       "3     4    State              Bihar  9320  6591  6894          475.0   \n",
       "4     5    State       Chhattisgarh  5665  5056  6001           97.5   \n",
       "\n",
       "   RateofCrimeAgainstChildren  ChargesSheetingRate  \n",
       "0                        17.7                 93.2  \n",
       "1                        27.5                 69.6  \n",
       "2                        43.7                 56.0  \n",
       "3                        14.5                 68.9  \n",
       "4                        61.6                 70.4  "
      ]
     },
     "execution_count": 40,
     "metadata": {},
     "output_type": "execute_result"
    }
   ],
   "source": [
    "df1.head()"
   ]
  },
  {
   "cell_type": "code",
   "execution_count": 41,
   "id": "61668d71",
   "metadata": {},
   "outputs": [],
   "source": [
    "df1[\"Total Cases (2019 - 2021)\"] = df1[\"2019\"] + df1[\"2020\"] + df1[\"2021\"]"
   ]
  },
  {
   "cell_type": "markdown",
   "id": "ef2a481b",
   "metadata": {},
   "source": [
    "#### From above we have created a new column (Total Cases (2019 - 2021)) by adding 2019 2020 2021 columns."
   ]
  },
  {
   "cell_type": "code",
   "execution_count": 43,
   "id": "24bbc15b",
   "metadata": {},
   "outputs": [
    {
     "data": {
      "text/html": [
       "<div>\n",
       "<style scoped>\n",
       "    .dataframe tbody tr th:only-of-type {\n",
       "        vertical-align: middle;\n",
       "    }\n",
       "\n",
       "    .dataframe tbody tr th {\n",
       "        vertical-align: top;\n",
       "    }\n",
       "\n",
       "    .dataframe thead th {\n",
       "        text-align: right;\n",
       "    }\n",
       "</style>\n",
       "<table border=\"1\" class=\"dataframe\">\n",
       "  <thead>\n",
       "    <tr style=\"text-align: right;\">\n",
       "      <th></th>\n",
       "      <th>S.No</th>\n",
       "      <th>State/UT</th>\n",
       "      <th>State_Name</th>\n",
       "      <th>2019</th>\n",
       "      <th>2020</th>\n",
       "      <th>2021</th>\n",
       "      <th>midPopulation</th>\n",
       "      <th>RateofCrimeAgainstChildren</th>\n",
       "      <th>ChargesSheetingRate</th>\n",
       "      <th>Total Cases (2019 - 2021)</th>\n",
       "    </tr>\n",
       "  </thead>\n",
       "  <tbody>\n",
       "    <tr>\n",
       "      <th>0</th>\n",
       "      <td>1</td>\n",
       "      <td>State</td>\n",
       "      <td>Andhra Pradesh</td>\n",
       "      <td>2524</td>\n",
       "      <td>2648</td>\n",
       "      <td>2669</td>\n",
       "      <td>151.1</td>\n",
       "      <td>17.7</td>\n",
       "      <td>93.2</td>\n",
       "      <td>7841</td>\n",
       "    </tr>\n",
       "    <tr>\n",
       "      <th>1</th>\n",
       "      <td>2</td>\n",
       "      <td>State</td>\n",
       "      <td>Arunachal Pradesh</td>\n",
       "      <td>153</td>\n",
       "      <td>113</td>\n",
       "      <td>162</td>\n",
       "      <td>5.9</td>\n",
       "      <td>27.5</td>\n",
       "      <td>69.6</td>\n",
       "      <td>428</td>\n",
       "    </tr>\n",
       "    <tr>\n",
       "      <th>2</th>\n",
       "      <td>3</td>\n",
       "      <td>State</td>\n",
       "      <td>Assam</td>\n",
       "      <td>6608</td>\n",
       "      <td>4622</td>\n",
       "      <td>5282</td>\n",
       "      <td>120.8</td>\n",
       "      <td>43.7</td>\n",
       "      <td>56.0</td>\n",
       "      <td>16512</td>\n",
       "    </tr>\n",
       "    <tr>\n",
       "      <th>3</th>\n",
       "      <td>4</td>\n",
       "      <td>State</td>\n",
       "      <td>Bihar</td>\n",
       "      <td>9320</td>\n",
       "      <td>6591</td>\n",
       "      <td>6894</td>\n",
       "      <td>475.0</td>\n",
       "      <td>14.5</td>\n",
       "      <td>68.9</td>\n",
       "      <td>22805</td>\n",
       "    </tr>\n",
       "    <tr>\n",
       "      <th>4</th>\n",
       "      <td>5</td>\n",
       "      <td>State</td>\n",
       "      <td>Chhattisgarh</td>\n",
       "      <td>5665</td>\n",
       "      <td>5056</td>\n",
       "      <td>6001</td>\n",
       "      <td>97.5</td>\n",
       "      <td>61.6</td>\n",
       "      <td>70.4</td>\n",
       "      <td>16722</td>\n",
       "    </tr>\n",
       "  </tbody>\n",
       "</table>\n",
       "</div>"
      ],
      "text/plain": [
       "   S.No State/UT         State_Name  2019  2020  2021  midPopulation  \\\n",
       "0     1    State     Andhra Pradesh  2524  2648  2669          151.1   \n",
       "1     2    State  Arunachal Pradesh   153   113   162            5.9   \n",
       "2     3    State              Assam  6608  4622  5282          120.8   \n",
       "3     4    State              Bihar  9320  6591  6894          475.0   \n",
       "4     5    State       Chhattisgarh  5665  5056  6001           97.5   \n",
       "\n",
       "   RateofCrimeAgainstChildren  ChargesSheetingRate  Total Cases (2019 - 2021)  \n",
       "0                        17.7                 93.2                       7841  \n",
       "1                        27.5                 69.6                        428  \n",
       "2                        43.7                 56.0                      16512  \n",
       "3                        14.5                 68.9                      22805  \n",
       "4                        61.6                 70.4                      16722  "
      ]
     },
     "execution_count": 43,
     "metadata": {},
     "output_type": "execute_result"
    }
   ],
   "source": [
    "df1.head()"
   ]
  },
  {
   "cell_type": "code",
   "execution_count": 48,
   "id": "6711d906",
   "metadata": {},
   "outputs": [],
   "source": [
    "column_order = [\"S.No\",\"State/UT\",\"State_Name\",\"2019\",\"2020\",\"2021\",\"Total Cases (2019 - 2021)\",\"midPopulation\",\"RateofCrimeAgainstChildren\",\"ChargesSheetingRate\"]"
   ]
  },
  {
   "cell_type": "code",
   "execution_count": 49,
   "id": "4a7090a6",
   "metadata": {},
   "outputs": [],
   "source": [
    "df1 = df1[column_order]"
   ]
  },
  {
   "cell_type": "code",
   "execution_count": 51,
   "id": "0ee3b115",
   "metadata": {},
   "outputs": [
    {
     "data": {
      "text/html": [
       "<div>\n",
       "<style scoped>\n",
       "    .dataframe tbody tr th:only-of-type {\n",
       "        vertical-align: middle;\n",
       "    }\n",
       "\n",
       "    .dataframe tbody tr th {\n",
       "        vertical-align: top;\n",
       "    }\n",
       "\n",
       "    .dataframe thead th {\n",
       "        text-align: right;\n",
       "    }\n",
       "</style>\n",
       "<table border=\"1\" class=\"dataframe\">\n",
       "  <thead>\n",
       "    <tr style=\"text-align: right;\">\n",
       "      <th></th>\n",
       "      <th>S.No</th>\n",
       "      <th>State/UT</th>\n",
       "      <th>State_Name</th>\n",
       "      <th>2019</th>\n",
       "      <th>2020</th>\n",
       "      <th>2021</th>\n",
       "      <th>Total Cases (2019 - 2021)</th>\n",
       "      <th>midPopulation</th>\n",
       "      <th>RateofCrimeAgainstChildren</th>\n",
       "      <th>ChargesSheetingRate</th>\n",
       "    </tr>\n",
       "  </thead>\n",
       "  <tbody>\n",
       "    <tr>\n",
       "      <th>0</th>\n",
       "      <td>1</td>\n",
       "      <td>State</td>\n",
       "      <td>Andhra Pradesh</td>\n",
       "      <td>2524</td>\n",
       "      <td>2648</td>\n",
       "      <td>2669</td>\n",
       "      <td>7841</td>\n",
       "      <td>151.1</td>\n",
       "      <td>17.7</td>\n",
       "      <td>93.2</td>\n",
       "    </tr>\n",
       "    <tr>\n",
       "      <th>1</th>\n",
       "      <td>2</td>\n",
       "      <td>State</td>\n",
       "      <td>Arunachal Pradesh</td>\n",
       "      <td>153</td>\n",
       "      <td>113</td>\n",
       "      <td>162</td>\n",
       "      <td>428</td>\n",
       "      <td>5.9</td>\n",
       "      <td>27.5</td>\n",
       "      <td>69.6</td>\n",
       "    </tr>\n",
       "    <tr>\n",
       "      <th>2</th>\n",
       "      <td>3</td>\n",
       "      <td>State</td>\n",
       "      <td>Assam</td>\n",
       "      <td>6608</td>\n",
       "      <td>4622</td>\n",
       "      <td>5282</td>\n",
       "      <td>16512</td>\n",
       "      <td>120.8</td>\n",
       "      <td>43.7</td>\n",
       "      <td>56.0</td>\n",
       "    </tr>\n",
       "    <tr>\n",
       "      <th>3</th>\n",
       "      <td>4</td>\n",
       "      <td>State</td>\n",
       "      <td>Bihar</td>\n",
       "      <td>9320</td>\n",
       "      <td>6591</td>\n",
       "      <td>6894</td>\n",
       "      <td>22805</td>\n",
       "      <td>475.0</td>\n",
       "      <td>14.5</td>\n",
       "      <td>68.9</td>\n",
       "    </tr>\n",
       "    <tr>\n",
       "      <th>4</th>\n",
       "      <td>5</td>\n",
       "      <td>State</td>\n",
       "      <td>Chhattisgarh</td>\n",
       "      <td>5665</td>\n",
       "      <td>5056</td>\n",
       "      <td>6001</td>\n",
       "      <td>16722</td>\n",
       "      <td>97.5</td>\n",
       "      <td>61.6</td>\n",
       "      <td>70.4</td>\n",
       "    </tr>\n",
       "  </tbody>\n",
       "</table>\n",
       "</div>"
      ],
      "text/plain": [
       "   S.No State/UT         State_Name  2019  2020  2021  \\\n",
       "0     1    State     Andhra Pradesh  2524  2648  2669   \n",
       "1     2    State  Arunachal Pradesh   153   113   162   \n",
       "2     3    State              Assam  6608  4622  5282   \n",
       "3     4    State              Bihar  9320  6591  6894   \n",
       "4     5    State       Chhattisgarh  5665  5056  6001   \n",
       "\n",
       "   Total Cases (2019 - 2021)  midPopulation  RateofCrimeAgainstChildren  \\\n",
       "0                       7841          151.1                        17.7   \n",
       "1                        428            5.9                        27.5   \n",
       "2                      16512          120.8                        43.7   \n",
       "3                      22805          475.0                        14.5   \n",
       "4                      16722           97.5                        61.6   \n",
       "\n",
       "   ChargesSheetingRate  \n",
       "0                 93.2  \n",
       "1                 69.6  \n",
       "2                 56.0  \n",
       "3                 68.9  \n",
       "4                 70.4  "
      ]
     },
     "execution_count": 51,
     "metadata": {},
     "output_type": "execute_result"
    }
   ],
   "source": [
    "df1.head()"
   ]
  },
  {
   "cell_type": "markdown",
   "id": "3b62ae24",
   "metadata": {},
   "source": [
    "#### From above step we rearranged columns."
   ]
  },
  {
   "cell_type": "code",
   "execution_count": 52,
   "id": "3db5228f",
   "metadata": {},
   "outputs": [
    {
     "data": {
      "text/plain": [
       "(36, 10)"
      ]
     },
     "execution_count": 52,
     "metadata": {},
     "output_type": "execute_result"
    }
   ],
   "source": [
    "df1.shape"
   ]
  },
  {
   "cell_type": "code",
   "execution_count": 53,
   "id": "5a5bebaf",
   "metadata": {},
   "outputs": [],
   "source": [
    "# To drop duplicates from data set\n",
    "df1.drop_duplicates(inplace = True)"
   ]
  },
  {
   "cell_type": "code",
   "execution_count": 54,
   "id": "90993376",
   "metadata": {},
   "outputs": [
    {
     "data": {
      "text/plain": [
       "(36, 10)"
      ]
     },
     "execution_count": 54,
     "metadata": {},
     "output_type": "execute_result"
    }
   ],
   "source": [
    "df1.shape"
   ]
  },
  {
   "cell_type": "markdown",
   "id": "3acb9e2b",
   "metadata": {},
   "source": [
    "#### From above steps it is clearly evident that no duplicate values in data set."
   ]
  },
  {
   "cell_type": "code",
   "execution_count": 55,
   "id": "25cfb8ad",
   "metadata": {},
   "outputs": [
    {
     "data": {
      "text/html": [
       "<div>\n",
       "<style scoped>\n",
       "    .dataframe tbody tr th:only-of-type {\n",
       "        vertical-align: middle;\n",
       "    }\n",
       "\n",
       "    .dataframe tbody tr th {\n",
       "        vertical-align: top;\n",
       "    }\n",
       "\n",
       "    .dataframe thead th {\n",
       "        text-align: right;\n",
       "    }\n",
       "</style>\n",
       "<table border=\"1\" class=\"dataframe\">\n",
       "  <thead>\n",
       "    <tr style=\"text-align: right;\">\n",
       "      <th></th>\n",
       "      <th>S.No</th>\n",
       "      <th>2019</th>\n",
       "      <th>2020</th>\n",
       "      <th>2021</th>\n",
       "      <th>Total Cases (2019 - 2021)</th>\n",
       "      <th>midPopulation</th>\n",
       "      <th>RateofCrimeAgainstChildren</th>\n",
       "      <th>ChargesSheetingRate</th>\n",
       "    </tr>\n",
       "  </thead>\n",
       "  <tbody>\n",
       "    <tr>\n",
       "      <th>count</th>\n",
       "      <td>36.000000</td>\n",
       "      <td>36.000000</td>\n",
       "      <td>36.000000</td>\n",
       "      <td>36.000000</td>\n",
       "      <td>36.000000</td>\n",
       "      <td>36.000000</td>\n",
       "      <td>36.000000</td>\n",
       "      <td>36.000000</td>\n",
       "    </tr>\n",
       "    <tr>\n",
       "      <th>mean</th>\n",
       "      <td>18.500000</td>\n",
       "      <td>4113.611111</td>\n",
       "      <td>3570.305556</td>\n",
       "      <td>4150.111111</td>\n",
       "      <td>11834.027778</td>\n",
       "      <td>123.375000</td>\n",
       "      <td>41.377778</td>\n",
       "      <td>70.666667</td>\n",
       "    </tr>\n",
       "    <tr>\n",
       "      <th>std</th>\n",
       "      <td>10.535654</td>\n",
       "      <td>5411.510643</td>\n",
       "      <td>4510.296790</td>\n",
       "      <td>5122.170130</td>\n",
       "      <td>14960.065285</td>\n",
       "      <td>172.756758</td>\n",
       "      <td>27.770211</td>\n",
       "      <td>16.723909</td>\n",
       "    </tr>\n",
       "    <tr>\n",
       "      <th>min</th>\n",
       "      <td>1.000000</td>\n",
       "      <td>0.000000</td>\n",
       "      <td>2.000000</td>\n",
       "      <td>1.000000</td>\n",
       "      <td>3.000000</td>\n",
       "      <td>0.200000</td>\n",
       "      <td>1.200000</td>\n",
       "      <td>32.100000</td>\n",
       "    </tr>\n",
       "    <tr>\n",
       "      <th>25%</th>\n",
       "      <td>9.750000</td>\n",
       "      <td>160.500000</td>\n",
       "      <td>141.750000</td>\n",
       "      <td>150.500000</td>\n",
       "      <td>439.250000</td>\n",
       "      <td>5.475000</td>\n",
       "      <td>21.125000</td>\n",
       "      <td>56.675000</td>\n",
       "    </tr>\n",
       "    <tr>\n",
       "      <th>50%</th>\n",
       "      <td>18.500000</td>\n",
       "      <td>2099.000000</td>\n",
       "      <td>1958.000000</td>\n",
       "      <td>2211.500000</td>\n",
       "      <td>6319.000000</td>\n",
       "      <td>71.400000</td>\n",
       "      <td>34.200000</td>\n",
       "      <td>71.700000</td>\n",
       "    </tr>\n",
       "    <tr>\n",
       "      <th>75%</th>\n",
       "      <td>27.250000</td>\n",
       "      <td>6219.500000</td>\n",
       "      <td>5132.500000</td>\n",
       "      <td>6271.500000</td>\n",
       "      <td>17300.750000</td>\n",
       "      <td>161.700000</td>\n",
       "      <td>54.275000</td>\n",
       "      <td>82.500000</td>\n",
       "    </tr>\n",
       "    <tr>\n",
       "      <th>max</th>\n",
       "      <td>36.000000</td>\n",
       "      <td>19592.000000</td>\n",
       "      <td>17008.000000</td>\n",
       "      <td>19173.000000</td>\n",
       "      <td>55209.000000</td>\n",
       "      <td>853.300000</td>\n",
       "      <td>128.500000</td>\n",
       "      <td>95.200000</td>\n",
       "    </tr>\n",
       "  </tbody>\n",
       "</table>\n",
       "</div>"
      ],
      "text/plain": [
       "            S.No          2019          2020          2021  \\\n",
       "count  36.000000     36.000000     36.000000     36.000000   \n",
       "mean   18.500000   4113.611111   3570.305556   4150.111111   \n",
       "std    10.535654   5411.510643   4510.296790   5122.170130   \n",
       "min     1.000000      0.000000      2.000000      1.000000   \n",
       "25%     9.750000    160.500000    141.750000    150.500000   \n",
       "50%    18.500000   2099.000000   1958.000000   2211.500000   \n",
       "75%    27.250000   6219.500000   5132.500000   6271.500000   \n",
       "max    36.000000  19592.000000  17008.000000  19173.000000   \n",
       "\n",
       "       Total Cases (2019 - 2021)  midPopulation  RateofCrimeAgainstChildren  \\\n",
       "count                  36.000000      36.000000                   36.000000   \n",
       "mean                11834.027778     123.375000                   41.377778   \n",
       "std                 14960.065285     172.756758                   27.770211   \n",
       "min                     3.000000       0.200000                    1.200000   \n",
       "25%                   439.250000       5.475000                   21.125000   \n",
       "50%                  6319.000000      71.400000                   34.200000   \n",
       "75%                 17300.750000     161.700000                   54.275000   \n",
       "max                 55209.000000     853.300000                  128.500000   \n",
       "\n",
       "       ChargesSheetingRate  \n",
       "count            36.000000  \n",
       "mean             70.666667  \n",
       "std              16.723909  \n",
       "min              32.100000  \n",
       "25%              56.675000  \n",
       "50%              71.700000  \n",
       "75%              82.500000  \n",
       "max              95.200000  "
      ]
     },
     "execution_count": 55,
     "metadata": {},
     "output_type": "execute_result"
    }
   ],
   "source": [
    "# Finding outliers\n",
    "df1.describe()"
   ]
  },
  {
   "cell_type": "code",
   "execution_count": 56,
   "id": "6f3cb39a",
   "metadata": {},
   "outputs": [],
   "source": [
    "Q1 = df1.quantile(0.25)\n",
    "Q3 = df1.quantile(0.75)"
   ]
  },
  {
   "cell_type": "code",
   "execution_count": 57,
   "id": "f5b4d6cb",
   "metadata": {},
   "outputs": [],
   "source": [
    "IQR = Q3 - Q1"
   ]
  },
  {
   "cell_type": "code",
   "execution_count": 58,
   "id": "a6178dd4",
   "metadata": {},
   "outputs": [
    {
     "name": "stderr",
     "output_type": "stream",
     "text": [
      "C:\\Users\\91953\\AppData\\Local\\Temp\\ipykernel_6440\\3113731443.py:1: FutureWarning: Automatic reindexing on DataFrame vs Series comparisons is deprecated and will raise ValueError in a future version. Do `left, right = left.align(right, axis=1, copy=False)` before e.g. `left == right`\n",
      "  ((df1 <(Q1 - 1.5*IQR)) | (df1 >(Q3 + 1.5*IQR))).sum()\n"
     ]
    },
    {
     "data": {
      "text/plain": [
       "2019                          3\n",
       "2020                          3\n",
       "2021                          3\n",
       "ChargesSheetingRate           0\n",
       "RateofCrimeAgainstChildren    2\n",
       "S.No                          0\n",
       "State/UT                      0\n",
       "State_Name                    0\n",
       "Total Cases (2019 - 2021)     3\n",
       "midPopulation                 2\n",
       "dtype: int64"
      ]
     },
     "execution_count": 58,
     "metadata": {},
     "output_type": "execute_result"
    }
   ],
   "source": [
    "((df1 <(Q1 - 1.5*IQR)) | (df1 >(Q3 + 1.5*IQR))).sum()"
   ]
  },
  {
   "cell_type": "markdown",
   "id": "82451ce8",
   "metadata": {},
   "source": [
    "#### From above it is evident that outliers are present in data set."
   ]
  },
  {
   "cell_type": "code",
   "execution_count": 59,
   "id": "e2c82db7",
   "metadata": {},
   "outputs": [],
   "source": [
    "# Replacing outliers with mean value of 2019 column.\n",
    "Q1 = df1[\"2019\"].quantile(0.25)\n",
    "Q3 = df1[\"2019\"].quantile(0.75)"
   ]
  },
  {
   "cell_type": "code",
   "execution_count": 60,
   "id": "5349e838",
   "metadata": {},
   "outputs": [],
   "source": [
    "IQR = Q3 - Q1"
   ]
  },
  {
   "cell_type": "code",
   "execution_count": 61,
   "id": "d6449689",
   "metadata": {},
   "outputs": [
    {
     "data": {
      "text/plain": [
       "6059.0"
      ]
     },
     "execution_count": 61,
     "metadata": {},
     "output_type": "execute_result"
    }
   ],
   "source": [
    "IQR"
   ]
  },
  {
   "cell_type": "code",
   "execution_count": 62,
   "id": "bd4634bf",
   "metadata": {},
   "outputs": [
    {
     "name": "stdout",
     "output_type": "stream",
     "text": [
      "-8928.0\n",
      "15308.0\n"
     ]
    }
   ],
   "source": [
    "Lower = Q1 - 1.5*IQR\n",
    "print(Lower)\n",
    "Upper = Q3 + 1.5*IQR\n",
    "print(Upper)"
   ]
  },
  {
   "cell_type": "code",
   "execution_count": 63,
   "id": "52f6e6c3",
   "metadata": {},
   "outputs": [
    {
     "data": {
      "text/plain": [
       "2019    3\n",
       "dtype: int64"
      ]
     },
     "execution_count": 63,
     "metadata": {},
     "output_type": "execute_result"
    }
   ],
   "source": [
    "((df1[[\"2019\"]]<Lower) | (df1[[\"2019\"]]>Upper)).sum()"
   ]
  },
  {
   "cell_type": "code",
   "execution_count": 64,
   "id": "6b7c8f18",
   "metadata": {},
   "outputs": [],
   "source": [
    "Row_count = ((df1[[\"2019\"]]<Lower) | (df1[[\"2019\"]]>Upper))"
   ]
  },
  {
   "cell_type": "code",
   "execution_count": 65,
   "id": "4078731e",
   "metadata": {},
   "outputs": [],
   "source": [
    "Row_count_index = Row_count[Row_count[\"2019\"]].index"
   ]
  },
  {
   "cell_type": "code",
   "execution_count": 66,
   "id": "90742856",
   "metadata": {},
   "outputs": [
    {
     "data": {
      "text/plain": [
       "Int64Index([12, 13, 25], dtype='int64')"
      ]
     },
     "execution_count": 66,
     "metadata": {},
     "output_type": "execute_result"
    }
   ],
   "source": [
    "Row_count_index"
   ]
  },
  {
   "cell_type": "code",
   "execution_count": 67,
   "id": "3f6c96dd",
   "metadata": {},
   "outputs": [],
   "source": [
    "df1.loc[Row_count_index,\"2019\"] = df1[\"2019\"].mean()"
   ]
  },
  {
   "cell_type": "code",
   "execution_count": 68,
   "id": "ef421061",
   "metadata": {},
   "outputs": [
    {
     "data": {
      "text/plain": [
       "2019    0\n",
       "dtype: int64"
      ]
     },
     "execution_count": 68,
     "metadata": {},
     "output_type": "execute_result"
    }
   ],
   "source": [
    "((df1[[\"2019\"]]<Lower) | (df1[[\"2019\"]]>Upper)).sum()"
   ]
  },
  {
   "cell_type": "code",
   "execution_count": 69,
   "id": "aa44feec",
   "metadata": {},
   "outputs": [],
   "source": [
    "Q1 = df1.quantile(0.25)\n",
    "Q3 = df1.quantile(0.75)"
   ]
  },
  {
   "cell_type": "code",
   "execution_count": 70,
   "id": "27368953",
   "metadata": {},
   "outputs": [],
   "source": [
    "IQR = Q3 - Q1"
   ]
  },
  {
   "cell_type": "code",
   "execution_count": 71,
   "id": "6190cbb3",
   "metadata": {},
   "outputs": [
    {
     "name": "stderr",
     "output_type": "stream",
     "text": [
      "C:\\Users\\91953\\AppData\\Local\\Temp\\ipykernel_6440\\3113731443.py:1: FutureWarning: Automatic reindexing on DataFrame vs Series comparisons is deprecated and will raise ValueError in a future version. Do `left, right = left.align(right, axis=1, copy=False)` before e.g. `left == right`\n",
      "  ((df1 <(Q1 - 1.5*IQR)) | (df1 >(Q3 + 1.5*IQR))).sum()\n"
     ]
    },
    {
     "data": {
      "text/plain": [
       "2019                          0\n",
       "2020                          3\n",
       "2021                          3\n",
       "ChargesSheetingRate           0\n",
       "RateofCrimeAgainstChildren    2\n",
       "S.No                          0\n",
       "State/UT                      0\n",
       "State_Name                    0\n",
       "Total Cases (2019 - 2021)     3\n",
       "midPopulation                 2\n",
       "dtype: int64"
      ]
     },
     "execution_count": 71,
     "metadata": {},
     "output_type": "execute_result"
    }
   ],
   "source": [
    "((df1 <(Q1 - 1.5*IQR)) | (df1 >(Q3 + 1.5*IQR))).sum()"
   ]
  },
  {
   "cell_type": "code",
   "execution_count": 72,
   "id": "6355d206",
   "metadata": {},
   "outputs": [],
   "source": [
    "# Replacing outliers with mean value of 2020 column.\n",
    "Q1 = df1[\"2020\"].quantile(0.25)\n",
    "Q3 = df1[\"2020\"].quantile(0.75)"
   ]
  },
  {
   "cell_type": "code",
   "execution_count": 73,
   "id": "1cd1eea1",
   "metadata": {},
   "outputs": [],
   "source": [
    "IQR = Q3 - Q1"
   ]
  },
  {
   "cell_type": "code",
   "execution_count": 74,
   "id": "60c4db0a",
   "metadata": {},
   "outputs": [
    {
     "data": {
      "text/plain": [
       "4990.75"
      ]
     },
     "execution_count": 74,
     "metadata": {},
     "output_type": "execute_result"
    }
   ],
   "source": [
    "IQR"
   ]
  },
  {
   "cell_type": "code",
   "execution_count": 75,
   "id": "e72faab7",
   "metadata": {},
   "outputs": [
    {
     "name": "stdout",
     "output_type": "stream",
     "text": [
      "-7344.375\n",
      "12618.625\n"
     ]
    }
   ],
   "source": [
    "Lower = Q1 - 1.5*IQR\n",
    "print(Lower)\n",
    "Upper = Q3 + 1.5*IQR\n",
    "print(Upper)"
   ]
  },
  {
   "cell_type": "code",
   "execution_count": 76,
   "id": "a4c8695f",
   "metadata": {},
   "outputs": [
    {
     "data": {
      "text/plain": [
       "2020    3\n",
       "dtype: int64"
      ]
     },
     "execution_count": 76,
     "metadata": {},
     "output_type": "execute_result"
    }
   ],
   "source": [
    "((df1[[\"2020\"]]<Lower) | (df1[[\"2020\"]]>Upper)).sum()"
   ]
  },
  {
   "cell_type": "code",
   "execution_count": 77,
   "id": "528475ac",
   "metadata": {},
   "outputs": [],
   "source": [
    "Row_count = ((df1[[\"2020\"]]<Lower) | (df1[[\"2020\"]]>Upper))"
   ]
  },
  {
   "cell_type": "code",
   "execution_count": 78,
   "id": "eadee6fb",
   "metadata": {},
   "outputs": [],
   "source": [
    "Row_count_index = Row_count[Row_count[\"2020\"]].index"
   ]
  },
  {
   "cell_type": "code",
   "execution_count": 79,
   "id": "09015eff",
   "metadata": {},
   "outputs": [
    {
     "data": {
      "text/plain": [
       "Int64Index([12, 13, 25], dtype='int64')"
      ]
     },
     "execution_count": 79,
     "metadata": {},
     "output_type": "execute_result"
    }
   ],
   "source": [
    "Row_count_index"
   ]
  },
  {
   "cell_type": "code",
   "execution_count": 80,
   "id": "b98e8446",
   "metadata": {},
   "outputs": [],
   "source": [
    "df1.loc[Row_count_index,\"2020\"] = df1[\"2020\"].mean()"
   ]
  },
  {
   "cell_type": "code",
   "execution_count": 81,
   "id": "d7315201",
   "metadata": {},
   "outputs": [
    {
     "data": {
      "text/plain": [
       "2020    0\n",
       "dtype: int64"
      ]
     },
     "execution_count": 81,
     "metadata": {},
     "output_type": "execute_result"
    }
   ],
   "source": [
    "((df1[[\"2020\"]]<Lower) | (df1[[\"2020\"]]>Upper)).sum()"
   ]
  },
  {
   "cell_type": "code",
   "execution_count": 82,
   "id": "09efd934",
   "metadata": {},
   "outputs": [],
   "source": [
    "Q1 = df1.quantile(0.25)\n",
    "Q3 = df1.quantile(0.75)"
   ]
  },
  {
   "cell_type": "code",
   "execution_count": 83,
   "id": "a62c4123",
   "metadata": {},
   "outputs": [],
   "source": [
    "IQR = Q3 - Q1"
   ]
  },
  {
   "cell_type": "code",
   "execution_count": 84,
   "id": "1bcb2bbb",
   "metadata": {},
   "outputs": [
    {
     "name": "stderr",
     "output_type": "stream",
     "text": [
      "C:\\Users\\91953\\AppData\\Local\\Temp\\ipykernel_6440\\3113731443.py:1: FutureWarning: Automatic reindexing on DataFrame vs Series comparisons is deprecated and will raise ValueError in a future version. Do `left, right = left.align(right, axis=1, copy=False)` before e.g. `left == right`\n",
      "  ((df1 <(Q1 - 1.5*IQR)) | (df1 >(Q3 + 1.5*IQR))).sum()\n"
     ]
    },
    {
     "data": {
      "text/plain": [
       "2019                          0\n",
       "2020                          0\n",
       "2021                          3\n",
       "ChargesSheetingRate           0\n",
       "RateofCrimeAgainstChildren    2\n",
       "S.No                          0\n",
       "State/UT                      0\n",
       "State_Name                    0\n",
       "Total Cases (2019 - 2021)     3\n",
       "midPopulation                 2\n",
       "dtype: int64"
      ]
     },
     "execution_count": 84,
     "metadata": {},
     "output_type": "execute_result"
    }
   ],
   "source": [
    "((df1 <(Q1 - 1.5*IQR)) | (df1 >(Q3 + 1.5*IQR))).sum()"
   ]
  },
  {
   "cell_type": "code",
   "execution_count": 87,
   "id": "5d9263d5",
   "metadata": {},
   "outputs": [],
   "source": [
    "# Replacing outliers with mean value of 2021 column.\n",
    "Q1 = df1[\"2021\"].quantile(0.25)\n",
    "Q3 = df1[\"2021\"].quantile(0.75)"
   ]
  },
  {
   "cell_type": "code",
   "execution_count": 88,
   "id": "639f188c",
   "metadata": {},
   "outputs": [],
   "source": [
    "IQR = Q3 - Q1"
   ]
  },
  {
   "cell_type": "code",
   "execution_count": 89,
   "id": "7b23573d",
   "metadata": {},
   "outputs": [
    {
     "data": {
      "text/plain": [
       "6121.0"
      ]
     },
     "execution_count": 89,
     "metadata": {},
     "output_type": "execute_result"
    }
   ],
   "source": [
    "IQR"
   ]
  },
  {
   "cell_type": "code",
   "execution_count": 90,
   "id": "79724588",
   "metadata": {},
   "outputs": [
    {
     "name": "stdout",
     "output_type": "stream",
     "text": [
      "-9031.0\n",
      "15453.0\n"
     ]
    }
   ],
   "source": [
    "Lower = Q1 - 1.5*IQR\n",
    "print(Lower)\n",
    "Upper = Q3 + 1.5*IQR\n",
    "print(Upper)"
   ]
  },
  {
   "cell_type": "code",
   "execution_count": 91,
   "id": "ee9b0537",
   "metadata": {},
   "outputs": [
    {
     "data": {
      "text/plain": [
       "2021    3\n",
       "dtype: int64"
      ]
     },
     "execution_count": 91,
     "metadata": {},
     "output_type": "execute_result"
    }
   ],
   "source": [
    "((df1[[\"2021\"]]<Lower) | (df1[[\"2021\"]]>Upper)).sum()"
   ]
  },
  {
   "cell_type": "code",
   "execution_count": 92,
   "id": "0ce49af5",
   "metadata": {},
   "outputs": [],
   "source": [
    "Row_count = ((df1[[\"2021\"]]<Lower) | (df1[[\"2021\"]]>Upper))"
   ]
  },
  {
   "cell_type": "code",
   "execution_count": 93,
   "id": "ee86fae5",
   "metadata": {},
   "outputs": [],
   "source": [
    "Row_count_index = Row_count[Row_count[\"2021\"]].index"
   ]
  },
  {
   "cell_type": "code",
   "execution_count": 94,
   "id": "c7c4e511",
   "metadata": {},
   "outputs": [
    {
     "data": {
      "text/plain": [
       "Int64Index([12, 13, 25], dtype='int64')"
      ]
     },
     "execution_count": 94,
     "metadata": {},
     "output_type": "execute_result"
    }
   ],
   "source": [
    "Row_count_index"
   ]
  },
  {
   "cell_type": "code",
   "execution_count": 95,
   "id": "60680725",
   "metadata": {},
   "outputs": [],
   "source": [
    "df1.loc[Row_count_index,\"2021\"] = df1[\"2021\"].mean()"
   ]
  },
  {
   "cell_type": "code",
   "execution_count": 96,
   "id": "f9aecb81",
   "metadata": {},
   "outputs": [
    {
     "data": {
      "text/plain": [
       "2021    0\n",
       "dtype: int64"
      ]
     },
     "execution_count": 96,
     "metadata": {},
     "output_type": "execute_result"
    }
   ],
   "source": [
    "((df1[[\"2021\"]]<Lower) | (df1[[\"2021\"]]>Upper)).sum()"
   ]
  },
  {
   "cell_type": "code",
   "execution_count": 97,
   "id": "a4e769e7",
   "metadata": {},
   "outputs": [],
   "source": [
    "Q1 = df1.quantile(0.25)\n",
    "Q3 = df1.quantile(0.75)"
   ]
  },
  {
   "cell_type": "code",
   "execution_count": 98,
   "id": "69cad0a5",
   "metadata": {},
   "outputs": [],
   "source": [
    "IQR = Q3 - Q1"
   ]
  },
  {
   "cell_type": "code",
   "execution_count": 99,
   "id": "d0b3240e",
   "metadata": {},
   "outputs": [
    {
     "name": "stderr",
     "output_type": "stream",
     "text": [
      "C:\\Users\\91953\\AppData\\Local\\Temp\\ipykernel_6440\\3113731443.py:1: FutureWarning: Automatic reindexing on DataFrame vs Series comparisons is deprecated and will raise ValueError in a future version. Do `left, right = left.align(right, axis=1, copy=False)` before e.g. `left == right`\n",
      "  ((df1 <(Q1 - 1.5*IQR)) | (df1 >(Q3 + 1.5*IQR))).sum()\n"
     ]
    },
    {
     "data": {
      "text/plain": [
       "2019                          0\n",
       "2020                          0\n",
       "2021                          0\n",
       "ChargesSheetingRate           0\n",
       "RateofCrimeAgainstChildren    2\n",
       "S.No                          0\n",
       "State/UT                      0\n",
       "State_Name                    0\n",
       "Total Cases (2019 - 2021)     3\n",
       "midPopulation                 2\n",
       "dtype: int64"
      ]
     },
     "execution_count": 99,
     "metadata": {},
     "output_type": "execute_result"
    }
   ],
   "source": [
    "((df1 <(Q1 - 1.5*IQR)) | (df1 >(Q3 + 1.5*IQR))).sum()"
   ]
  },
  {
   "cell_type": "code",
   "execution_count": 100,
   "id": "7910153d",
   "metadata": {},
   "outputs": [],
   "source": [
    "# Replacing outliers with mean value of RateofCrimeAgainstChildren column.\n",
    "Q1 = df1[\"RateofCrimeAgainstChildren\"].quantile(0.25)\n",
    "Q3 = df1[\"RateofCrimeAgainstChildren\"].quantile(0.75)"
   ]
  },
  {
   "cell_type": "code",
   "execution_count": 101,
   "id": "96cec27a",
   "metadata": {},
   "outputs": [],
   "source": [
    "IQR = Q3 - Q1"
   ]
  },
  {
   "cell_type": "code",
   "execution_count": 102,
   "id": "3ffc5870",
   "metadata": {},
   "outputs": [
    {
     "data": {
      "text/plain": [
       "33.15"
      ]
     },
     "execution_count": 102,
     "metadata": {},
     "output_type": "execute_result"
    }
   ],
   "source": [
    "IQR"
   ]
  },
  {
   "cell_type": "code",
   "execution_count": 103,
   "id": "a6bb8b9b",
   "metadata": {},
   "outputs": [
    {
     "name": "stdout",
     "output_type": "stream",
     "text": [
      "-28.599999999999994\n",
      "104.0\n"
     ]
    }
   ],
   "source": [
    "Lower = Q1 - 1.5*IQR\n",
    "print(Lower)\n",
    "Upper = Q3 + 1.5*IQR\n",
    "print(Upper)"
   ]
  },
  {
   "cell_type": "code",
   "execution_count": 104,
   "id": "34a35717",
   "metadata": {},
   "outputs": [
    {
     "data": {
      "text/plain": [
       "RateofCrimeAgainstChildren    2\n",
       "dtype: int64"
      ]
     },
     "execution_count": 104,
     "metadata": {},
     "output_type": "execute_result"
    }
   ],
   "source": [
    "((df1[[\"RateofCrimeAgainstChildren\"]]<Lower) | (df1[[\"RateofCrimeAgainstChildren\"]]>Upper)).sum()"
   ]
  },
  {
   "cell_type": "code",
   "execution_count": 105,
   "id": "529418d7",
   "metadata": {},
   "outputs": [],
   "source": [
    "Row_count = ((df1[[\"RateofCrimeAgainstChildren\"]]<Lower) | (df1[[\"RateofCrimeAgainstChildren\"]]>Upper))"
   ]
  },
  {
   "cell_type": "code",
   "execution_count": 106,
   "id": "6839006f",
   "metadata": {},
   "outputs": [],
   "source": [
    "Row_count_index = Row_count[Row_count[\"RateofCrimeAgainstChildren\"]].index"
   ]
  },
  {
   "cell_type": "code",
   "execution_count": 107,
   "id": "d1d9422c",
   "metadata": {},
   "outputs": [
    {
     "data": {
      "text/plain": [
       "Int64Index([28, 31], dtype='int64')"
      ]
     },
     "execution_count": 107,
     "metadata": {},
     "output_type": "execute_result"
    }
   ],
   "source": [
    "Row_count_index"
   ]
  },
  {
   "cell_type": "code",
   "execution_count": 108,
   "id": "1aedcce3",
   "metadata": {},
   "outputs": [],
   "source": [
    "df1.loc[Row_count_index,\"RateofCrimeAgainstChildren\"] = df1[\"RateofCrimeAgainstChildren\"].mean()"
   ]
  },
  {
   "cell_type": "code",
   "execution_count": 109,
   "id": "c13d1db1",
   "metadata": {},
   "outputs": [
    {
     "data": {
      "text/plain": [
       "RateofCrimeAgainstChildren    0\n",
       "dtype: int64"
      ]
     },
     "execution_count": 109,
     "metadata": {},
     "output_type": "execute_result"
    }
   ],
   "source": [
    "((df1[[\"RateofCrimeAgainstChildren\"]]<Lower) | (df1[[\"RateofCrimeAgainstChildren\"]]>Upper)).sum()"
   ]
  },
  {
   "cell_type": "code",
   "execution_count": 110,
   "id": "a7f39fbe",
   "metadata": {},
   "outputs": [],
   "source": [
    "Q1 = df1.quantile(0.25)\n",
    "Q3 = df1.quantile(0.75)"
   ]
  },
  {
   "cell_type": "code",
   "execution_count": 111,
   "id": "14760709",
   "metadata": {},
   "outputs": [],
   "source": [
    "IQR = Q3 - Q1"
   ]
  },
  {
   "cell_type": "code",
   "execution_count": 112,
   "id": "331861e0",
   "metadata": {},
   "outputs": [
    {
     "name": "stderr",
     "output_type": "stream",
     "text": [
      "C:\\Users\\91953\\AppData\\Local\\Temp\\ipykernel_6440\\3113731443.py:1: FutureWarning: Automatic reindexing on DataFrame vs Series comparisons is deprecated and will raise ValueError in a future version. Do `left, right = left.align(right, axis=1, copy=False)` before e.g. `left == right`\n",
      "  ((df1 <(Q1 - 1.5*IQR)) | (df1 >(Q3 + 1.5*IQR))).sum()\n"
     ]
    },
    {
     "data": {
      "text/plain": [
       "2019                          0\n",
       "2020                          0\n",
       "2021                          0\n",
       "ChargesSheetingRate           0\n",
       "RateofCrimeAgainstChildren    0\n",
       "S.No                          0\n",
       "State/UT                      0\n",
       "State_Name                    0\n",
       "Total Cases (2019 - 2021)     3\n",
       "midPopulation                 2\n",
       "dtype: int64"
      ]
     },
     "execution_count": 112,
     "metadata": {},
     "output_type": "execute_result"
    }
   ],
   "source": [
    "((df1 <(Q1 - 1.5*IQR)) | (df1 >(Q3 + 1.5*IQR))).sum()"
   ]
  },
  {
   "cell_type": "code",
   "execution_count": 113,
   "id": "7fee9d54",
   "metadata": {},
   "outputs": [],
   "source": [
    "# Replacing outliers with mean value of Total Cases (2019 - 2021) column.\n",
    "Q1 = df1[\"Total Cases (2019 - 2021)\"].quantile(0.25)\n",
    "Q3 = df1[\"Total Cases (2019 - 2021)\"].quantile(0.75)"
   ]
  },
  {
   "cell_type": "code",
   "execution_count": 114,
   "id": "5e9661c9",
   "metadata": {},
   "outputs": [],
   "source": [
    "IQR = Q3 - Q1"
   ]
  },
  {
   "cell_type": "code",
   "execution_count": 115,
   "id": "7c100fa2",
   "metadata": {},
   "outputs": [
    {
     "data": {
      "text/plain": [
       "16861.5"
      ]
     },
     "execution_count": 115,
     "metadata": {},
     "output_type": "execute_result"
    }
   ],
   "source": [
    "IQR"
   ]
  },
  {
   "cell_type": "code",
   "execution_count": 116,
   "id": "1c807de0",
   "metadata": {},
   "outputs": [
    {
     "name": "stdout",
     "output_type": "stream",
     "text": [
      "-24853.0\n",
      "42593.0\n"
     ]
    }
   ],
   "source": [
    "Lower = Q1 - 1.5*IQR\n",
    "print(Lower)\n",
    "Upper = Q3 + 1.5*IQR\n",
    "print(Upper)"
   ]
  },
  {
   "cell_type": "code",
   "execution_count": 117,
   "id": "73fe186e",
   "metadata": {},
   "outputs": [
    {
     "data": {
      "text/plain": [
       "Total Cases (2019 - 2021)    3\n",
       "dtype: int64"
      ]
     },
     "execution_count": 117,
     "metadata": {},
     "output_type": "execute_result"
    }
   ],
   "source": [
    "((df1[[\"Total Cases (2019 - 2021)\"]]<Lower) | (df1[[\"Total Cases (2019 - 2021)\"]]>Upper)).sum()"
   ]
  },
  {
   "cell_type": "code",
   "execution_count": 118,
   "id": "fa480c9f",
   "metadata": {},
   "outputs": [],
   "source": [
    "Row_count = ((df1[[\"Total Cases (2019 - 2021)\"]]<Lower) | (df1[[\"Total Cases (2019 - 2021)\"]]>Upper))"
   ]
  },
  {
   "cell_type": "code",
   "execution_count": 119,
   "id": "1f8d19bf",
   "metadata": {},
   "outputs": [],
   "source": [
    "Row_count_index = Row_count[Row_count[\"Total Cases (2019 - 2021)\"]].index"
   ]
  },
  {
   "cell_type": "code",
   "execution_count": 120,
   "id": "e7871737",
   "metadata": {},
   "outputs": [
    {
     "data": {
      "text/plain": [
       "Int64Index([12, 13, 25], dtype='int64')"
      ]
     },
     "execution_count": 120,
     "metadata": {},
     "output_type": "execute_result"
    }
   ],
   "source": [
    "Row_count_index"
   ]
  },
  {
   "cell_type": "code",
   "execution_count": 121,
   "id": "25a8a93c",
   "metadata": {},
   "outputs": [],
   "source": [
    "df1.loc[Row_count_index,\"Total Cases (2019 - 2021)\"] = df1[\"Total Cases (2019 - 2021)\"].mean()"
   ]
  },
  {
   "cell_type": "code",
   "execution_count": 122,
   "id": "f7d4ef9e",
   "metadata": {},
   "outputs": [
    {
     "data": {
      "text/plain": [
       "Total Cases (2019 - 2021)    0\n",
       "dtype: int64"
      ]
     },
     "execution_count": 122,
     "metadata": {},
     "output_type": "execute_result"
    }
   ],
   "source": [
    "((df1[[\"Total Cases (2019 - 2021)\"]]<Lower) | (df1[[\"Total Cases (2019 - 2021)\"]]>Upper)).sum()"
   ]
  },
  {
   "cell_type": "code",
   "execution_count": 123,
   "id": "d7a67a8b",
   "metadata": {},
   "outputs": [],
   "source": [
    "Q1 = df1.quantile(0.25)\n",
    "Q3 = df1.quantile(0.75)"
   ]
  },
  {
   "cell_type": "code",
   "execution_count": 124,
   "id": "1fda4a73",
   "metadata": {},
   "outputs": [],
   "source": [
    "IQR = Q3 - Q1"
   ]
  },
  {
   "cell_type": "code",
   "execution_count": 125,
   "id": "878e4936",
   "metadata": {},
   "outputs": [
    {
     "name": "stderr",
     "output_type": "stream",
     "text": [
      "C:\\Users\\91953\\AppData\\Local\\Temp\\ipykernel_6440\\3113731443.py:1: FutureWarning: Automatic reindexing on DataFrame vs Series comparisons is deprecated and will raise ValueError in a future version. Do `left, right = left.align(right, axis=1, copy=False)` before e.g. `left == right`\n",
      "  ((df1 <(Q1 - 1.5*IQR)) | (df1 >(Q3 + 1.5*IQR))).sum()\n"
     ]
    },
    {
     "data": {
      "text/plain": [
       "2019                          0\n",
       "2020                          0\n",
       "2021                          0\n",
       "ChargesSheetingRate           0\n",
       "RateofCrimeAgainstChildren    0\n",
       "S.No                          0\n",
       "State/UT                      0\n",
       "State_Name                    0\n",
       "Total Cases (2019 - 2021)     0\n",
       "midPopulation                 2\n",
       "dtype: int64"
      ]
     },
     "execution_count": 125,
     "metadata": {},
     "output_type": "execute_result"
    }
   ],
   "source": [
    "((df1 <(Q1 - 1.5*IQR)) | (df1 >(Q3 + 1.5*IQR))).sum()"
   ]
  },
  {
   "cell_type": "code",
   "execution_count": 126,
   "id": "7f3cb59f",
   "metadata": {},
   "outputs": [],
   "source": [
    "# Replacing outliers with mean value of midPopulation column.\n",
    "Q1 = df1[\"midPopulation\"].quantile(0.25)\n",
    "Q3 = df1[\"midPopulation\"].quantile(0.75)"
   ]
  },
  {
   "cell_type": "code",
   "execution_count": 127,
   "id": "24d5f457",
   "metadata": {},
   "outputs": [],
   "source": [
    "IQR = Q3 - Q1"
   ]
  },
  {
   "cell_type": "code",
   "execution_count": 128,
   "id": "c8a70c1d",
   "metadata": {},
   "outputs": [
    {
     "data": {
      "text/plain": [
       "156.225"
      ]
     },
     "execution_count": 128,
     "metadata": {},
     "output_type": "execute_result"
    }
   ],
   "source": [
    "IQR"
   ]
  },
  {
   "cell_type": "code",
   "execution_count": 129,
   "id": "2b90b976",
   "metadata": {},
   "outputs": [
    {
     "name": "stdout",
     "output_type": "stream",
     "text": [
      "-228.86249999999998\n",
      "396.03749999999997\n"
     ]
    }
   ],
   "source": [
    "Lower = Q1 - 1.5*IQR\n",
    "print(Lower)\n",
    "Upper = Q3 + 1.5*IQR\n",
    "print(Upper)"
   ]
  },
  {
   "cell_type": "code",
   "execution_count": 130,
   "id": "1105012e",
   "metadata": {},
   "outputs": [
    {
     "data": {
      "text/plain": [
       "midPopulation    2\n",
       "dtype: int64"
      ]
     },
     "execution_count": 130,
     "metadata": {},
     "output_type": "execute_result"
    }
   ],
   "source": [
    "((df1[[\"midPopulation\"]]<Lower) | (df1[[\"midPopulation\"]]>Upper)).sum()"
   ]
  },
  {
   "cell_type": "code",
   "execution_count": 131,
   "id": "751904f5",
   "metadata": {},
   "outputs": [],
   "source": [
    "Row_count = ((df1[[\"midPopulation\"]]<Lower) | (df1[[\"midPopulation\"]]>Upper))"
   ]
  },
  {
   "cell_type": "code",
   "execution_count": 132,
   "id": "63d1016a",
   "metadata": {},
   "outputs": [],
   "source": [
    "Row_count_index = Row_count[Row_count[\"midPopulation\"]].index"
   ]
  },
  {
   "cell_type": "code",
   "execution_count": 133,
   "id": "0fea8354",
   "metadata": {},
   "outputs": [
    {
     "data": {
      "text/plain": [
       "Int64Index([3, 25], dtype='int64')"
      ]
     },
     "execution_count": 133,
     "metadata": {},
     "output_type": "execute_result"
    }
   ],
   "source": [
    "Row_count_index"
   ]
  },
  {
   "cell_type": "code",
   "execution_count": 134,
   "id": "952ab4c1",
   "metadata": {},
   "outputs": [],
   "source": [
    "df1.loc[Row_count_index,\"midPopulation\"] = df1[\"midPopulation\"].mean()"
   ]
  },
  {
   "cell_type": "code",
   "execution_count": 135,
   "id": "239597c3",
   "metadata": {},
   "outputs": [
    {
     "data": {
      "text/plain": [
       "midPopulation    0\n",
       "dtype: int64"
      ]
     },
     "execution_count": 135,
     "metadata": {},
     "output_type": "execute_result"
    }
   ],
   "source": [
    "((df1[[\"midPopulation\"]]<Lower) | (df1[[\"midPopulation\"]]>Upper)).sum()"
   ]
  },
  {
   "cell_type": "code",
   "execution_count": 136,
   "id": "199d0ac2",
   "metadata": {},
   "outputs": [],
   "source": [
    "Q1 = df1.quantile(0.25)\n",
    "Q3 = df1.quantile(0.75)"
   ]
  },
  {
   "cell_type": "code",
   "execution_count": 137,
   "id": "07bebcf5",
   "metadata": {},
   "outputs": [],
   "source": [
    "IQR = Q3 - Q1"
   ]
  },
  {
   "cell_type": "code",
   "execution_count": 138,
   "id": "0bc930c4",
   "metadata": {},
   "outputs": [
    {
     "name": "stderr",
     "output_type": "stream",
     "text": [
      "C:\\Users\\91953\\AppData\\Local\\Temp\\ipykernel_6440\\3113731443.py:1: FutureWarning: Automatic reindexing on DataFrame vs Series comparisons is deprecated and will raise ValueError in a future version. Do `left, right = left.align(right, axis=1, copy=False)` before e.g. `left == right`\n",
      "  ((df1 <(Q1 - 1.5*IQR)) | (df1 >(Q3 + 1.5*IQR))).sum()\n"
     ]
    },
    {
     "data": {
      "text/plain": [
       "2019                          0\n",
       "2020                          0\n",
       "2021                          0\n",
       "ChargesSheetingRate           0\n",
       "RateofCrimeAgainstChildren    0\n",
       "S.No                          0\n",
       "State/UT                      0\n",
       "State_Name                    0\n",
       "Total Cases (2019 - 2021)     0\n",
       "midPopulation                 1\n",
       "dtype: int64"
      ]
     },
     "execution_count": 138,
     "metadata": {},
     "output_type": "execute_result"
    }
   ],
   "source": [
    "((df1 <(Q1 - 1.5*IQR)) | (df1 >(Q3 + 1.5*IQR))).sum()"
   ]
  },
  {
   "cell_type": "code",
   "execution_count": 139,
   "id": "35e6fe98",
   "metadata": {},
   "outputs": [],
   "source": [
    "# Replacing outliers with mean value of midPopulation column.\n",
    "Q1 = df1[\"midPopulation\"].quantile(0.25)\n",
    "Q3 = df1[\"midPopulation\"].quantile(0.75)"
   ]
  },
  {
   "cell_type": "code",
   "execution_count": 140,
   "id": "1a05b3c5",
   "metadata": {},
   "outputs": [],
   "source": [
    "IQR = Q3 - Q1"
   ]
  },
  {
   "cell_type": "code",
   "execution_count": 141,
   "id": "c749c333",
   "metadata": {},
   "outputs": [
    {
     "data": {
      "text/plain": [
       "134.35"
      ]
     },
     "execution_count": 141,
     "metadata": {},
     "output_type": "execute_result"
    }
   ],
   "source": [
    "IQR"
   ]
  },
  {
   "cell_type": "code",
   "execution_count": 142,
   "id": "73f73522",
   "metadata": {},
   "outputs": [
    {
     "name": "stdout",
     "output_type": "stream",
     "text": [
      "-196.04999999999998\n",
      "341.34999999999997\n"
     ]
    }
   ],
   "source": [
    "Lower = Q1 - 1.5*IQR\n",
    "print(Lower)\n",
    "Upper = Q3 + 1.5*IQR\n",
    "print(Upper)"
   ]
  },
  {
   "cell_type": "code",
   "execution_count": 143,
   "id": "1d29a914",
   "metadata": {},
   "outputs": [
    {
     "data": {
      "text/plain": [
       "midPopulation    1\n",
       "dtype: int64"
      ]
     },
     "execution_count": 143,
     "metadata": {},
     "output_type": "execute_result"
    }
   ],
   "source": [
    "((df1[[\"midPopulation\"]]<Lower) | (df1[[\"midPopulation\"]]>Upper)).sum()"
   ]
  },
  {
   "cell_type": "code",
   "execution_count": 144,
   "id": "53513b5b",
   "metadata": {},
   "outputs": [],
   "source": [
    "Row_count = ((df1[[\"midPopulation\"]]<Lower) | (df1[[\"midPopulation\"]]>Upper))"
   ]
  },
  {
   "cell_type": "code",
   "execution_count": 145,
   "id": "b3656c09",
   "metadata": {},
   "outputs": [],
   "source": [
    "Row_count_index = Row_count[Row_count[\"midPopulation\"]].index"
   ]
  },
  {
   "cell_type": "code",
   "execution_count": 146,
   "id": "1d66c9e2",
   "metadata": {},
   "outputs": [
    {
     "data": {
      "text/plain": [
       "Int64Index([13], dtype='int64')"
      ]
     },
     "execution_count": 146,
     "metadata": {},
     "output_type": "execute_result"
    }
   ],
   "source": [
    "Row_count_index"
   ]
  },
  {
   "cell_type": "code",
   "execution_count": 147,
   "id": "1131b802",
   "metadata": {},
   "outputs": [],
   "source": [
    "df1.loc[Row_count_index,\"midPopulation\"] = df1[\"midPopulation\"].mean()"
   ]
  },
  {
   "cell_type": "code",
   "execution_count": 148,
   "id": "c82a11b5",
   "metadata": {},
   "outputs": [
    {
     "data": {
      "text/plain": [
       "midPopulation    0\n",
       "dtype: int64"
      ]
     },
     "execution_count": 148,
     "metadata": {},
     "output_type": "execute_result"
    }
   ],
   "source": [
    "((df1[[\"midPopulation\"]]<Lower) | (df1[[\"midPopulation\"]]>Upper)).sum()"
   ]
  },
  {
   "cell_type": "code",
   "execution_count": 149,
   "id": "d5c16c88",
   "metadata": {},
   "outputs": [],
   "source": [
    "Q1 = df1.quantile(0.25)\n",
    "Q3 = df1.quantile(0.75)"
   ]
  },
  {
   "cell_type": "code",
   "execution_count": 150,
   "id": "8bdbd2b6",
   "metadata": {},
   "outputs": [],
   "source": [
    "IQR = Q3 - Q1"
   ]
  },
  {
   "cell_type": "code",
   "execution_count": 151,
   "id": "8b473883",
   "metadata": {},
   "outputs": [
    {
     "name": "stderr",
     "output_type": "stream",
     "text": [
      "C:\\Users\\91953\\AppData\\Local\\Temp\\ipykernel_6440\\3113731443.py:1: FutureWarning: Automatic reindexing on DataFrame vs Series comparisons is deprecated and will raise ValueError in a future version. Do `left, right = left.align(right, axis=1, copy=False)` before e.g. `left == right`\n",
      "  ((df1 <(Q1 - 1.5*IQR)) | (df1 >(Q3 + 1.5*IQR))).sum()\n"
     ]
    },
    {
     "data": {
      "text/plain": [
       "2019                          0\n",
       "2020                          0\n",
       "2021                          0\n",
       "ChargesSheetingRate           0\n",
       "RateofCrimeAgainstChildren    0\n",
       "S.No                          0\n",
       "State/UT                      0\n",
       "State_Name                    0\n",
       "Total Cases (2019 - 2021)     0\n",
       "midPopulation                 0\n",
       "dtype: int64"
      ]
     },
     "execution_count": 151,
     "metadata": {},
     "output_type": "execute_result"
    }
   ],
   "source": [
    "((df1 <(Q1 - 1.5*IQR)) | (df1 >(Q3 + 1.5*IQR))).sum()"
   ]
  },
  {
   "cell_type": "code",
   "execution_count": 152,
   "id": "e3bf75de",
   "metadata": {},
   "outputs": [
    {
     "name": "stdout",
     "output_type": "stream",
     "text": [
      "<class 'pandas.core.frame.DataFrame'>\n",
      "Int64Index: 36 entries, 0 to 35\n",
      "Data columns (total 10 columns):\n",
      " #   Column                      Non-Null Count  Dtype  \n",
      "---  ------                      --------------  -----  \n",
      " 0   S.No                        36 non-null     int64  \n",
      " 1   State/UT                    36 non-null     object \n",
      " 2   State_Name                  36 non-null     object \n",
      " 3   2019                        36 non-null     float64\n",
      " 4   2020                        36 non-null     float64\n",
      " 5   2021                        36 non-null     float64\n",
      " 6   Total Cases (2019 - 2021)   36 non-null     float64\n",
      " 7   midPopulation               36 non-null     float64\n",
      " 8   RateofCrimeAgainstChildren  36 non-null     float64\n",
      " 9   ChargesSheetingRate         36 non-null     float64\n",
      "dtypes: float64(7), int64(1), object(2)\n",
      "memory usage: 4.1+ KB\n"
     ]
    }
   ],
   "source": [
    "df1.info()"
   ]
  },
  {
   "cell_type": "code",
   "execution_count": 153,
   "id": "ed831a60",
   "metadata": {},
   "outputs": [
    {
     "data": {
      "text/plain": [
       "dtype('float64')"
      ]
     },
     "execution_count": 153,
     "metadata": {},
     "output_type": "execute_result"
    }
   ],
   "source": [
    "df1[\"2019\"].dtype"
   ]
  },
  {
   "cell_type": "code",
   "execution_count": 154,
   "id": "c629f126",
   "metadata": {},
   "outputs": [],
   "source": [
    "df1[\"2019\"] = df1[\"2019\"].astype(\"int\")"
   ]
  },
  {
   "cell_type": "code",
   "execution_count": 155,
   "id": "f7dce57c",
   "metadata": {},
   "outputs": [
    {
     "data": {
      "text/plain": [
       "dtype('float64')"
      ]
     },
     "execution_count": 155,
     "metadata": {},
     "output_type": "execute_result"
    }
   ],
   "source": [
    "df1[\"2020\"].dtype"
   ]
  },
  {
   "cell_type": "code",
   "execution_count": 156,
   "id": "6514eaa4",
   "metadata": {},
   "outputs": [],
   "source": [
    "df1[\"2020\"] = df1[\"2020\"].astype(\"int\")"
   ]
  },
  {
   "cell_type": "code",
   "execution_count": 157,
   "id": "47181919",
   "metadata": {},
   "outputs": [
    {
     "data": {
      "text/plain": [
       "dtype('float64')"
      ]
     },
     "execution_count": 157,
     "metadata": {},
     "output_type": "execute_result"
    }
   ],
   "source": [
    "df1[\"2021\"].dtype"
   ]
  },
  {
   "cell_type": "code",
   "execution_count": 158,
   "id": "de7effa2",
   "metadata": {},
   "outputs": [],
   "source": [
    "df1[\"2021\"] = df1[\"2021\"].astype(\"int\")"
   ]
  },
  {
   "cell_type": "code",
   "execution_count": 161,
   "id": "c5344f7d",
   "metadata": {},
   "outputs": [
    {
     "data": {
      "text/plain": [
       "dtype('float64')"
      ]
     },
     "execution_count": 161,
     "metadata": {},
     "output_type": "execute_result"
    }
   ],
   "source": [
    "df1[\"Total Cases (2019 - 2021)\"].dtype"
   ]
  },
  {
   "cell_type": "code",
   "execution_count": 162,
   "id": "5be3adb3",
   "metadata": {},
   "outputs": [],
   "source": [
    "df1[\"Total Cases (2019 - 2021)\"] = df1[\"Total Cases (2019 - 2021)\"].astype(\"int\")"
   ]
  },
  {
   "cell_type": "code",
   "execution_count": 163,
   "id": "40a8dd2c",
   "metadata": {},
   "outputs": [
    {
     "name": "stdout",
     "output_type": "stream",
     "text": [
      "<class 'pandas.core.frame.DataFrame'>\n",
      "Int64Index: 36 entries, 0 to 35\n",
      "Data columns (total 10 columns):\n",
      " #   Column                      Non-Null Count  Dtype  \n",
      "---  ------                      --------------  -----  \n",
      " 0   S.No                        36 non-null     int64  \n",
      " 1   State/UT                    36 non-null     object \n",
      " 2   State_Name                  36 non-null     object \n",
      " 3   2019                        36 non-null     int32  \n",
      " 4   2020                        36 non-null     int32  \n",
      " 5   2021                        36 non-null     int32  \n",
      " 6   Total Cases (2019 - 2021)   36 non-null     int32  \n",
      " 7   midPopulation               36 non-null     float64\n",
      " 8   RateofCrimeAgainstChildren  36 non-null     float64\n",
      " 9   ChargesSheetingRate         36 non-null     float64\n",
      "dtypes: float64(3), int32(4), int64(1), object(2)\n",
      "memory usage: 3.6+ KB\n"
     ]
    }
   ],
   "source": [
    "df1.info()"
   ]
  },
  {
   "cell_type": "code",
   "execution_count": 164,
   "id": "ee2fbba7",
   "metadata": {},
   "outputs": [
    {
     "data": {
      "text/html": [
       "<div>\n",
       "<style scoped>\n",
       "    .dataframe tbody tr th:only-of-type {\n",
       "        vertical-align: middle;\n",
       "    }\n",
       "\n",
       "    .dataframe tbody tr th {\n",
       "        vertical-align: top;\n",
       "    }\n",
       "\n",
       "    .dataframe thead th {\n",
       "        text-align: right;\n",
       "    }\n",
       "</style>\n",
       "<table border=\"1\" class=\"dataframe\">\n",
       "  <thead>\n",
       "    <tr style=\"text-align: right;\">\n",
       "      <th></th>\n",
       "      <th>S.No</th>\n",
       "      <th>State/UT</th>\n",
       "      <th>State_Name</th>\n",
       "      <th>2019</th>\n",
       "      <th>2020</th>\n",
       "      <th>2021</th>\n",
       "      <th>Total Cases (2019 - 2021)</th>\n",
       "      <th>midPopulation</th>\n",
       "      <th>RateofCrimeAgainstChildren</th>\n",
       "      <th>ChargesSheetingRate</th>\n",
       "    </tr>\n",
       "  </thead>\n",
       "  <tbody>\n",
       "    <tr>\n",
       "      <th>0</th>\n",
       "      <td>1</td>\n",
       "      <td>State</td>\n",
       "      <td>Andhra Pradesh</td>\n",
       "      <td>2524</td>\n",
       "      <td>2648</td>\n",
       "      <td>2669</td>\n",
       "      <td>7841</td>\n",
       "      <td>151.100000</td>\n",
       "      <td>17.700000</td>\n",
       "      <td>93.2</td>\n",
       "    </tr>\n",
       "    <tr>\n",
       "      <th>1</th>\n",
       "      <td>2</td>\n",
       "      <td>State</td>\n",
       "      <td>Arunachal Pradesh</td>\n",
       "      <td>153</td>\n",
       "      <td>113</td>\n",
       "      <td>162</td>\n",
       "      <td>428</td>\n",
       "      <td>5.900000</td>\n",
       "      <td>27.500000</td>\n",
       "      <td>69.6</td>\n",
       "    </tr>\n",
       "    <tr>\n",
       "      <th>2</th>\n",
       "      <td>3</td>\n",
       "      <td>State</td>\n",
       "      <td>Assam</td>\n",
       "      <td>6608</td>\n",
       "      <td>4622</td>\n",
       "      <td>5282</td>\n",
       "      <td>16512</td>\n",
       "      <td>120.800000</td>\n",
       "      <td>43.700000</td>\n",
       "      <td>56.0</td>\n",
       "    </tr>\n",
       "    <tr>\n",
       "      <th>3</th>\n",
       "      <td>4</td>\n",
       "      <td>State</td>\n",
       "      <td>Bihar</td>\n",
       "      <td>9320</td>\n",
       "      <td>6591</td>\n",
       "      <td>6894</td>\n",
       "      <td>22805</td>\n",
       "      <td>123.375000</td>\n",
       "      <td>14.500000</td>\n",
       "      <td>68.9</td>\n",
       "    </tr>\n",
       "    <tr>\n",
       "      <th>4</th>\n",
       "      <td>5</td>\n",
       "      <td>State</td>\n",
       "      <td>Chhattisgarh</td>\n",
       "      <td>5665</td>\n",
       "      <td>5056</td>\n",
       "      <td>6001</td>\n",
       "      <td>16722</td>\n",
       "      <td>97.500000</td>\n",
       "      <td>61.600000</td>\n",
       "      <td>70.4</td>\n",
       "    </tr>\n",
       "    <tr>\n",
       "      <th>5</th>\n",
       "      <td>6</td>\n",
       "      <td>State</td>\n",
       "      <td>Goa</td>\n",
       "      <td>167</td>\n",
       "      <td>125</td>\n",
       "      <td>151</td>\n",
       "      <td>443</td>\n",
       "      <td>3.800000</td>\n",
       "      <td>39.500000</td>\n",
       "      <td>70.9</td>\n",
       "    </tr>\n",
       "    <tr>\n",
       "      <th>6</th>\n",
       "      <td>7</td>\n",
       "      <td>State</td>\n",
       "      <td>Gujarat</td>\n",
       "      <td>4685</td>\n",
       "      <td>4075</td>\n",
       "      <td>4515</td>\n",
       "      <td>13275</td>\n",
       "      <td>209.200000</td>\n",
       "      <td>21.600000</td>\n",
       "      <td>79.2</td>\n",
       "    </tr>\n",
       "    <tr>\n",
       "      <th>7</th>\n",
       "      <td>8</td>\n",
       "      <td>State</td>\n",
       "      <td>Haryana</td>\n",
       "      <td>5119</td>\n",
       "      <td>4338</td>\n",
       "      <td>5700</td>\n",
       "      <td>15157</td>\n",
       "      <td>91.200000</td>\n",
       "      <td>62.500000</td>\n",
       "      <td>44.0</td>\n",
       "    </tr>\n",
       "    <tr>\n",
       "      <th>8</th>\n",
       "      <td>9</td>\n",
       "      <td>State</td>\n",
       "      <td>Himachal Pradesh</td>\n",
       "      <td>748</td>\n",
       "      <td>636</td>\n",
       "      <td>740</td>\n",
       "      <td>2124</td>\n",
       "      <td>21.500000</td>\n",
       "      <td>34.400000</td>\n",
       "      <td>53.0</td>\n",
       "    </tr>\n",
       "    <tr>\n",
       "      <th>9</th>\n",
       "      <td>10</td>\n",
       "      <td>State</td>\n",
       "      <td>Jharkhand</td>\n",
       "      <td>1674</td>\n",
       "      <td>1795</td>\n",
       "      <td>1867</td>\n",
       "      <td>5336</td>\n",
       "      <td>138.400000</td>\n",
       "      <td>13.500000</td>\n",
       "      <td>83.7</td>\n",
       "    </tr>\n",
       "    <tr>\n",
       "      <th>10</th>\n",
       "      <td>11</td>\n",
       "      <td>State</td>\n",
       "      <td>Karnataka</td>\n",
       "      <td>6305</td>\n",
       "      <td>5471</td>\n",
       "      <td>7261</td>\n",
       "      <td>19037</td>\n",
       "      <td>193.500000</td>\n",
       "      <td>37.500000</td>\n",
       "      <td>61.2</td>\n",
       "    </tr>\n",
       "    <tr>\n",
       "      <th>11</th>\n",
       "      <td>12</td>\n",
       "      <td>State</td>\n",
       "      <td>Kerala</td>\n",
       "      <td>4754</td>\n",
       "      <td>3941</td>\n",
       "      <td>4536</td>\n",
       "      <td>13231</td>\n",
       "      <td>94.100000</td>\n",
       "      <td>48.200000</td>\n",
       "      <td>94.1</td>\n",
       "    </tr>\n",
       "    <tr>\n",
       "      <th>12</th>\n",
       "      <td>13</td>\n",
       "      <td>State</td>\n",
       "      <td>Madhya Pradesh</td>\n",
       "      <td>4113</td>\n",
       "      <td>3570</td>\n",
       "      <td>4150</td>\n",
       "      <td>11834</td>\n",
       "      <td>287.600000</td>\n",
       "      <td>66.700000</td>\n",
       "      <td>61.0</td>\n",
       "    </tr>\n",
       "    <tr>\n",
       "      <th>13</th>\n",
       "      <td>14</td>\n",
       "      <td>State</td>\n",
       "      <td>Maharashtra</td>\n",
       "      <td>4113</td>\n",
       "      <td>3570</td>\n",
       "      <td>4150</td>\n",
       "      <td>11834</td>\n",
       "      <td>93.331944</td>\n",
       "      <td>47.800000</td>\n",
       "      <td>55.8</td>\n",
       "    </tr>\n",
       "    <tr>\n",
       "      <th>14</th>\n",
       "      <td>15</td>\n",
       "      <td>State</td>\n",
       "      <td>Manipur</td>\n",
       "      <td>148</td>\n",
       "      <td>125</td>\n",
       "      <td>143</td>\n",
       "      <td>416</td>\n",
       "      <td>10.300000</td>\n",
       "      <td>13.800000</td>\n",
       "      <td>77.9</td>\n",
       "    </tr>\n",
       "    <tr>\n",
       "      <th>15</th>\n",
       "      <td>16</td>\n",
       "      <td>State</td>\n",
       "      <td>Meghalaya</td>\n",
       "      <td>379</td>\n",
       "      <td>415</td>\n",
       "      <td>481</td>\n",
       "      <td>1275</td>\n",
       "      <td>13.800000</td>\n",
       "      <td>34.900000</td>\n",
       "      <td>79.8</td>\n",
       "    </tr>\n",
       "    <tr>\n",
       "      <th>16</th>\n",
       "      <td>17</td>\n",
       "      <td>State</td>\n",
       "      <td>Mizoram</td>\n",
       "      <td>125</td>\n",
       "      <td>142</td>\n",
       "      <td>122</td>\n",
       "      <td>389</td>\n",
       "      <td>4.200000</td>\n",
       "      <td>28.900000</td>\n",
       "      <td>91.7</td>\n",
       "    </tr>\n",
       "    <tr>\n",
       "      <th>17</th>\n",
       "      <td>18</td>\n",
       "      <td>State</td>\n",
       "      <td>Nagaland</td>\n",
       "      <td>59</td>\n",
       "      <td>31</td>\n",
       "      <td>51</td>\n",
       "      <td>141</td>\n",
       "      <td>8.200000</td>\n",
       "      <td>6.200000</td>\n",
       "      <td>80.4</td>\n",
       "    </tr>\n",
       "    <tr>\n",
       "      <th>18</th>\n",
       "      <td>19</td>\n",
       "      <td>State</td>\n",
       "      <td>Odisha</td>\n",
       "      <td>7012</td>\n",
       "      <td>6330</td>\n",
       "      <td>7899</td>\n",
       "      <td>21241</td>\n",
       "      <td>144.100000</td>\n",
       "      <td>54.800000</td>\n",
       "      <td>52.3</td>\n",
       "    </tr>\n",
       "    <tr>\n",
       "      <th>19</th>\n",
       "      <td>20</td>\n",
       "      <td>State</td>\n",
       "      <td>Punjab</td>\n",
       "      <td>2625</td>\n",
       "      <td>2121</td>\n",
       "      <td>2556</td>\n",
       "      <td>7302</td>\n",
       "      <td>87.400000</td>\n",
       "      <td>29.200000</td>\n",
       "      <td>69.0</td>\n",
       "    </tr>\n",
       "    <tr>\n",
       "      <th>20</th>\n",
       "      <td>21</td>\n",
       "      <td>State</td>\n",
       "      <td>Rajasthan</td>\n",
       "      <td>7385</td>\n",
       "      <td>6580</td>\n",
       "      <td>7653</td>\n",
       "      <td>21618</td>\n",
       "      <td>281.400000</td>\n",
       "      <td>27.200000</td>\n",
       "      <td>56.3</td>\n",
       "    </tr>\n",
       "    <tr>\n",
       "      <th>21</th>\n",
       "      <td>22</td>\n",
       "      <td>State</td>\n",
       "      <td>Sikkim</td>\n",
       "      <td>163</td>\n",
       "      <td>147</td>\n",
       "      <td>149</td>\n",
       "      <td>459</td>\n",
       "      <td>2.100000</td>\n",
       "      <td>72.400000</td>\n",
       "      <td>78.5</td>\n",
       "    </tr>\n",
       "    <tr>\n",
       "      <th>22</th>\n",
       "      <td>23</td>\n",
       "      <td>State</td>\n",
       "      <td>Tamil Nadu</td>\n",
       "      <td>4139</td>\n",
       "      <td>4338</td>\n",
       "      <td>6064</td>\n",
       "      <td>14541</td>\n",
       "      <td>206.600000</td>\n",
       "      <td>29.300000</td>\n",
       "      <td>91.2</td>\n",
       "    </tr>\n",
       "    <tr>\n",
       "      <th>23</th>\n",
       "      <td>24</td>\n",
       "      <td>State</td>\n",
       "      <td>Telangana</td>\n",
       "      <td>4212</td>\n",
       "      <td>4200</td>\n",
       "      <td>5667</td>\n",
       "      <td>14079</td>\n",
       "      <td>113.800000</td>\n",
       "      <td>49.800000</td>\n",
       "      <td>75.9</td>\n",
       "    </tr>\n",
       "    <tr>\n",
       "      <th>24</th>\n",
       "      <td>25</td>\n",
       "      <td>State</td>\n",
       "      <td>Tripura</td>\n",
       "      <td>311</td>\n",
       "      <td>260</td>\n",
       "      <td>236</td>\n",
       "      <td>807</td>\n",
       "      <td>12.300000</td>\n",
       "      <td>19.200000</td>\n",
       "      <td>84.1</td>\n",
       "    </tr>\n",
       "    <tr>\n",
       "      <th>25</th>\n",
       "      <td>26</td>\n",
       "      <td>State</td>\n",
       "      <td>Uttar Pradesh</td>\n",
       "      <td>4113</td>\n",
       "      <td>3570</td>\n",
       "      <td>4150</td>\n",
       "      <td>11834</td>\n",
       "      <td>123.375000</td>\n",
       "      <td>19.700000</td>\n",
       "      <td>72.5</td>\n",
       "    </tr>\n",
       "    <tr>\n",
       "      <th>26</th>\n",
       "      <td>27</td>\n",
       "      <td>State</td>\n",
       "      <td>Uttarakhand</td>\n",
       "      <td>1214</td>\n",
       "      <td>1066</td>\n",
       "      <td>1245</td>\n",
       "      <td>3525</td>\n",
       "      <td>38.000000</td>\n",
       "      <td>32.800000</td>\n",
       "      <td>81.3</td>\n",
       "    </tr>\n",
       "    <tr>\n",
       "      <th>27</th>\n",
       "      <td>28</td>\n",
       "      <td>State</td>\n",
       "      <td>West Bengal</td>\n",
       "      <td>6191</td>\n",
       "      <td>10248</td>\n",
       "      <td>9523</td>\n",
       "      <td>25962</td>\n",
       "      <td>300.000000</td>\n",
       "      <td>31.700000</td>\n",
       "      <td>82.1</td>\n",
       "    </tr>\n",
       "    <tr>\n",
       "      <th>28</th>\n",
       "      <td>29</td>\n",
       "      <td>UT</td>\n",
       "      <td>A&amp;N Islands</td>\n",
       "      <td>153</td>\n",
       "      <td>141</td>\n",
       "      <td>124</td>\n",
       "      <td>418</td>\n",
       "      <td>1.100000</td>\n",
       "      <td>41.377778</td>\n",
       "      <td>95.2</td>\n",
       "    </tr>\n",
       "    <tr>\n",
       "      <th>29</th>\n",
       "      <td>30</td>\n",
       "      <td>UT</td>\n",
       "      <td>Chandigarh</td>\n",
       "      <td>264</td>\n",
       "      <td>209</td>\n",
       "      <td>234</td>\n",
       "      <td>707</td>\n",
       "      <td>3.200000</td>\n",
       "      <td>72.200000</td>\n",
       "      <td>32.1</td>\n",
       "    </tr>\n",
       "    <tr>\n",
       "      <th>30</th>\n",
       "      <td>31</td>\n",
       "      <td>UT</td>\n",
       "      <td>D&amp;N Haveli and Daman &amp; Diu</td>\n",
       "      <td>96</td>\n",
       "      <td>67</td>\n",
       "      <td>104</td>\n",
       "      <td>267</td>\n",
       "      <td>1.900000</td>\n",
       "      <td>54.100000</td>\n",
       "      <td>51.9</td>\n",
       "    </tr>\n",
       "    <tr>\n",
       "      <th>31</th>\n",
       "      <td>32</td>\n",
       "      <td>UT</td>\n",
       "      <td>Delhi</td>\n",
       "      <td>7783</td>\n",
       "      <td>5362</td>\n",
       "      <td>7118</td>\n",
       "      <td>20263</td>\n",
       "      <td>55.400000</td>\n",
       "      <td>41.377778</td>\n",
       "      <td>32.5</td>\n",
       "    </tr>\n",
       "    <tr>\n",
       "      <th>32</th>\n",
       "      <td>33</td>\n",
       "      <td>UT</td>\n",
       "      <td>Jammu &amp; Kashmir</td>\n",
       "      <td>470</td>\n",
       "      <td>606</td>\n",
       "      <td>845</td>\n",
       "      <td>1921</td>\n",
       "      <td>49.100000</td>\n",
       "      <td>17.200000</td>\n",
       "      <td>56.8</td>\n",
       "    </tr>\n",
       "    <tr>\n",
       "      <th>33</th>\n",
       "      <td>34</td>\n",
       "      <td>UT</td>\n",
       "      <td>Ladakh</td>\n",
       "      <td>0</td>\n",
       "      <td>2</td>\n",
       "      <td>1</td>\n",
       "      <td>3</td>\n",
       "      <td>0.800000</td>\n",
       "      <td>1.200000</td>\n",
       "      <td>66.7</td>\n",
       "    </tr>\n",
       "    <tr>\n",
       "      <th>34</th>\n",
       "      <td>35</td>\n",
       "      <td>UT</td>\n",
       "      <td>Lakshadweep</td>\n",
       "      <td>26</td>\n",
       "      <td>9</td>\n",
       "      <td>17</td>\n",
       "      <td>52</td>\n",
       "      <td>0.200000</td>\n",
       "      <td>85.400000</td>\n",
       "      <td>90.5</td>\n",
       "    </tr>\n",
       "    <tr>\n",
       "      <th>35</th>\n",
       "      <td>36</td>\n",
       "      <td>UT</td>\n",
       "      <td>Puducherry</td>\n",
       "      <td>50</td>\n",
       "      <td>71</td>\n",
       "      <td>122</td>\n",
       "      <td>243</td>\n",
       "      <td>3.600000</td>\n",
       "      <td>34.000000</td>\n",
       "      <td>84.3</td>\n",
       "    </tr>\n",
       "  </tbody>\n",
       "</table>\n",
       "</div>"
      ],
      "text/plain": [
       "    S.No State/UT                  State_Name  2019   2020  2021  \\\n",
       "0      1    State              Andhra Pradesh  2524   2648  2669   \n",
       "1      2    State           Arunachal Pradesh   153    113   162   \n",
       "2      3    State                       Assam  6608   4622  5282   \n",
       "3      4    State                       Bihar  9320   6591  6894   \n",
       "4      5    State                Chhattisgarh  5665   5056  6001   \n",
       "5      6    State                         Goa   167    125   151   \n",
       "6      7    State                     Gujarat  4685   4075  4515   \n",
       "7      8    State                     Haryana  5119   4338  5700   \n",
       "8      9    State            Himachal Pradesh   748    636   740   \n",
       "9     10    State                   Jharkhand  1674   1795  1867   \n",
       "10    11    State                   Karnataka  6305   5471  7261   \n",
       "11    12    State                      Kerala  4754   3941  4536   \n",
       "12    13    State              Madhya Pradesh  4113   3570  4150   \n",
       "13    14    State                 Maharashtra  4113   3570  4150   \n",
       "14    15    State                     Manipur   148    125   143   \n",
       "15    16    State                   Meghalaya   379    415   481   \n",
       "16    17    State                     Mizoram   125    142   122   \n",
       "17    18    State                    Nagaland    59     31    51   \n",
       "18    19    State                      Odisha  7012   6330  7899   \n",
       "19    20    State                      Punjab  2625   2121  2556   \n",
       "20    21    State                   Rajasthan  7385   6580  7653   \n",
       "21    22    State                      Sikkim   163    147   149   \n",
       "22    23    State                  Tamil Nadu  4139   4338  6064   \n",
       "23    24    State                   Telangana  4212   4200  5667   \n",
       "24    25    State                     Tripura   311    260   236   \n",
       "25    26    State               Uttar Pradesh  4113   3570  4150   \n",
       "26    27    State                 Uttarakhand  1214   1066  1245   \n",
       "27    28    State                 West Bengal  6191  10248  9523   \n",
       "28    29       UT                 A&N Islands   153    141   124   \n",
       "29    30       UT                  Chandigarh   264    209   234   \n",
       "30    31       UT  D&N Haveli and Daman & Diu    96     67   104   \n",
       "31    32       UT                       Delhi  7783   5362  7118   \n",
       "32    33       UT             Jammu & Kashmir   470    606   845   \n",
       "33    34       UT                      Ladakh     0      2     1   \n",
       "34    35       UT                 Lakshadweep    26      9    17   \n",
       "35    36       UT                  Puducherry    50     71   122   \n",
       "\n",
       "    Total Cases (2019 - 2021)  midPopulation  RateofCrimeAgainstChildren  \\\n",
       "0                        7841     151.100000                   17.700000   \n",
       "1                         428       5.900000                   27.500000   \n",
       "2                       16512     120.800000                   43.700000   \n",
       "3                       22805     123.375000                   14.500000   \n",
       "4                       16722      97.500000                   61.600000   \n",
       "5                         443       3.800000                   39.500000   \n",
       "6                       13275     209.200000                   21.600000   \n",
       "7                       15157      91.200000                   62.500000   \n",
       "8                        2124      21.500000                   34.400000   \n",
       "9                        5336     138.400000                   13.500000   \n",
       "10                      19037     193.500000                   37.500000   \n",
       "11                      13231      94.100000                   48.200000   \n",
       "12                      11834     287.600000                   66.700000   \n",
       "13                      11834      93.331944                   47.800000   \n",
       "14                        416      10.300000                   13.800000   \n",
       "15                       1275      13.800000                   34.900000   \n",
       "16                        389       4.200000                   28.900000   \n",
       "17                        141       8.200000                    6.200000   \n",
       "18                      21241     144.100000                   54.800000   \n",
       "19                       7302      87.400000                   29.200000   \n",
       "20                      21618     281.400000                   27.200000   \n",
       "21                        459       2.100000                   72.400000   \n",
       "22                      14541     206.600000                   29.300000   \n",
       "23                      14079     113.800000                   49.800000   \n",
       "24                        807      12.300000                   19.200000   \n",
       "25                      11834     123.375000                   19.700000   \n",
       "26                       3525      38.000000                   32.800000   \n",
       "27                      25962     300.000000                   31.700000   \n",
       "28                        418       1.100000                   41.377778   \n",
       "29                        707       3.200000                   72.200000   \n",
       "30                        267       1.900000                   54.100000   \n",
       "31                      20263      55.400000                   41.377778   \n",
       "32                       1921      49.100000                   17.200000   \n",
       "33                          3       0.800000                    1.200000   \n",
       "34                         52       0.200000                   85.400000   \n",
       "35                        243       3.600000                   34.000000   \n",
       "\n",
       "    ChargesSheetingRate  \n",
       "0                  93.2  \n",
       "1                  69.6  \n",
       "2                  56.0  \n",
       "3                  68.9  \n",
       "4                  70.4  \n",
       "5                  70.9  \n",
       "6                  79.2  \n",
       "7                  44.0  \n",
       "8                  53.0  \n",
       "9                  83.7  \n",
       "10                 61.2  \n",
       "11                 94.1  \n",
       "12                 61.0  \n",
       "13                 55.8  \n",
       "14                 77.9  \n",
       "15                 79.8  \n",
       "16                 91.7  \n",
       "17                 80.4  \n",
       "18                 52.3  \n",
       "19                 69.0  \n",
       "20                 56.3  \n",
       "21                 78.5  \n",
       "22                 91.2  \n",
       "23                 75.9  \n",
       "24                 84.1  \n",
       "25                 72.5  \n",
       "26                 81.3  \n",
       "27                 82.1  \n",
       "28                 95.2  \n",
       "29                 32.1  \n",
       "30                 51.9  \n",
       "31                 32.5  \n",
       "32                 56.8  \n",
       "33                 66.7  \n",
       "34                 90.5  \n",
       "35                 84.3  "
      ]
     },
     "execution_count": 164,
     "metadata": {},
     "output_type": "execute_result"
    }
   ],
   "source": [
    "df1"
   ]
  },
  {
   "cell_type": "code",
   "execution_count": 166,
   "id": "3ae6bcec",
   "metadata": {},
   "outputs": [],
   "source": [
    "df1.to_csv(r\"E:\\INTERNSHIP\\Projects\\Criminal Activities in India cleaned data\\crime_against_children_(State-UT-wise)_2019-2021.csv\",index = False)"
   ]
  },
  {
   "cell_type": "code",
   "execution_count": null,
   "id": "af5fe98f",
   "metadata": {},
   "outputs": [],
   "source": []
  },
  {
   "cell_type": "code",
   "execution_count": null,
   "id": "ed774034",
   "metadata": {},
   "outputs": [],
   "source": []
  },
  {
   "cell_type": "code",
   "execution_count": null,
   "id": "8e63f103",
   "metadata": {},
   "outputs": [],
   "source": []
  },
  {
   "cell_type": "code",
   "execution_count": null,
   "id": "b5cc937c",
   "metadata": {},
   "outputs": [],
   "source": []
  },
  {
   "cell_type": "code",
   "execution_count": null,
   "id": "27516f0a",
   "metadata": {},
   "outputs": [],
   "source": []
  },
  {
   "cell_type": "code",
   "execution_count": null,
   "id": "5c73327f",
   "metadata": {},
   "outputs": [],
   "source": []
  },
  {
   "cell_type": "code",
   "execution_count": null,
   "id": "5bffe64d",
   "metadata": {},
   "outputs": [],
   "source": []
  },
  {
   "cell_type": "code",
   "execution_count": null,
   "id": "191992ab",
   "metadata": {},
   "outputs": [],
   "source": []
  },
  {
   "cell_type": "code",
   "execution_count": null,
   "id": "a0fd9a98",
   "metadata": {},
   "outputs": [],
   "source": []
  },
  {
   "cell_type": "code",
   "execution_count": null,
   "id": "99996302",
   "metadata": {},
   "outputs": [],
   "source": []
  },
  {
   "cell_type": "code",
   "execution_count": null,
   "id": "2463655b",
   "metadata": {},
   "outputs": [],
   "source": []
  },
  {
   "cell_type": "code",
   "execution_count": null,
   "id": "4b509411",
   "metadata": {},
   "outputs": [],
   "source": []
  }
 ],
 "metadata": {
  "kernelspec": {
   "display_name": "Python 3 (ipykernel)",
   "language": "python",
   "name": "python3"
  },
  "language_info": {
   "codemirror_mode": {
    "name": "ipython",
    "version": 3
   },
   "file_extension": ".py",
   "mimetype": "text/x-python",
   "name": "python",
   "nbconvert_exporter": "python",
   "pygments_lexer": "ipython3",
   "version": "3.9.12"
  }
 },
 "nbformat": 4,
 "nbformat_minor": 5
}
