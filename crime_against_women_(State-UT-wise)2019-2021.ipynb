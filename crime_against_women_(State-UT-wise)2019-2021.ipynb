{
 "cells": [
  {
   "cell_type": "code",
   "execution_count": 1,
   "id": "0bb2e179",
   "metadata": {},
   "outputs": [],
   "source": [
    "import pandas as pd\n",
    "import numpy as np"
   ]
  },
  {
   "cell_type": "code",
   "execution_count": 2,
   "id": "18cecc44",
   "metadata": {},
   "outputs": [],
   "source": [
    "df1 = pd.read_csv(r\"E:\\INTERNSHIP\\Projects\\Criminal Activities in India\\crime_women_children\\crime_against_women_(State-UT-wise)_2019-2021.csv\")"
   ]
  },
  {
   "cell_type": "code",
   "execution_count": 3,
   "id": "3d219ced",
   "metadata": {},
   "outputs": [
    {
     "data": {
      "text/html": [
       "<div>\n",
       "<style scoped>\n",
       "    .dataframe tbody tr th:only-of-type {\n",
       "        vertical-align: middle;\n",
       "    }\n",
       "\n",
       "    .dataframe tbody tr th {\n",
       "        vertical-align: top;\n",
       "    }\n",
       "\n",
       "    .dataframe thead th {\n",
       "        text-align: right;\n",
       "    }\n",
       "</style>\n",
       "<table border=\"1\" class=\"dataframe\">\n",
       "  <thead>\n",
       "    <tr style=\"text-align: right;\">\n",
       "      <th></th>\n",
       "      <th>S.No</th>\n",
       "      <th>State/UT</th>\n",
       "      <th>Name</th>\n",
       "      <th>2019</th>\n",
       "      <th>2020</th>\n",
       "      <th>2021</th>\n",
       "      <th>midPopulation</th>\n",
       "      <th>RateofCrimeAgainstWomen</th>\n",
       "      <th>ChargesSheetingRate</th>\n",
       "    </tr>\n",
       "  </thead>\n",
       "  <tbody>\n",
       "    <tr>\n",
       "      <th>0</th>\n",
       "      <td>1</td>\n",
       "      <td>State</td>\n",
       "      <td>Andhra Pradesh</td>\n",
       "      <td>17746</td>\n",
       "      <td>17089</td>\n",
       "      <td>17752</td>\n",
       "      <td>264.2</td>\n",
       "      <td>67.2</td>\n",
       "      <td>93.5</td>\n",
       "    </tr>\n",
       "    <tr>\n",
       "      <th>1</th>\n",
       "      <td>2</td>\n",
       "      <td>State</td>\n",
       "      <td>Arunachal Pradesh</td>\n",
       "      <td>317</td>\n",
       "      <td>281</td>\n",
       "      <td>366</td>\n",
       "      <td>7.5</td>\n",
       "      <td>49.1</td>\n",
       "      <td>77.6</td>\n",
       "    </tr>\n",
       "    <tr>\n",
       "      <th>2</th>\n",
       "      <td>3</td>\n",
       "      <td>State</td>\n",
       "      <td>Assam</td>\n",
       "      <td>30025</td>\n",
       "      <td>26352</td>\n",
       "      <td>29046</td>\n",
       "      <td>172.6</td>\n",
       "      <td>168.3</td>\n",
       "      <td>52.9</td>\n",
       "    </tr>\n",
       "    <tr>\n",
       "      <th>3</th>\n",
       "      <td>4</td>\n",
       "      <td>State</td>\n",
       "      <td>Bihar</td>\n",
       "      <td>18587</td>\n",
       "      <td>15359</td>\n",
       "      <td>17950</td>\n",
       "      <td>593.7</td>\n",
       "      <td>30.2</td>\n",
       "      <td>69.4</td>\n",
       "    </tr>\n",
       "    <tr>\n",
       "      <th>4</th>\n",
       "      <td>5</td>\n",
       "      <td>State</td>\n",
       "      <td>Chhattisgarh</td>\n",
       "      <td>7689</td>\n",
       "      <td>7385</td>\n",
       "      <td>7344</td>\n",
       "      <td>147.6</td>\n",
       "      <td>49.8</td>\n",
       "      <td>88.5</td>\n",
       "    </tr>\n",
       "    <tr>\n",
       "      <th>5</th>\n",
       "      <td>6</td>\n",
       "      <td>State</td>\n",
       "      <td>Goa</td>\n",
       "      <td>329</td>\n",
       "      <td>219</td>\n",
       "      <td>224</td>\n",
       "      <td>7.7</td>\n",
       "      <td>28.9</td>\n",
       "      <td>77.4</td>\n",
       "    </tr>\n",
       "    <tr>\n",
       "      <th>6</th>\n",
       "      <td>7</td>\n",
       "      <td>State</td>\n",
       "      <td>Gujarat</td>\n",
       "      <td>8799</td>\n",
       "      <td>8028</td>\n",
       "      <td>7348</td>\n",
       "      <td>333.2</td>\n",
       "      <td>22.1</td>\n",
       "      <td>93.3</td>\n",
       "    </tr>\n",
       "    <tr>\n",
       "      <th>7</th>\n",
       "      <td>8</td>\n",
       "      <td>State</td>\n",
       "      <td>Haryana</td>\n",
       "      <td>14683</td>\n",
       "      <td>13000</td>\n",
       "      <td>16658</td>\n",
       "      <td>139.2</td>\n",
       "      <td>119.7</td>\n",
       "      <td>57.1</td>\n",
       "    </tr>\n",
       "    <tr>\n",
       "      <th>8</th>\n",
       "      <td>9</td>\n",
       "      <td>State</td>\n",
       "      <td>Himachal Pradesh</td>\n",
       "      <td>1636</td>\n",
       "      <td>1614</td>\n",
       "      <td>1599</td>\n",
       "      <td>36.5</td>\n",
       "      <td>43.8</td>\n",
       "      <td>76.5</td>\n",
       "    </tr>\n",
       "    <tr>\n",
       "      <th>9</th>\n",
       "      <td>10</td>\n",
       "      <td>State</td>\n",
       "      <td>Jharkhand</td>\n",
       "      <td>8760</td>\n",
       "      <td>7630</td>\n",
       "      <td>8110</td>\n",
       "      <td>188.5</td>\n",
       "      <td>43.0</td>\n",
       "      <td>79.7</td>\n",
       "    </tr>\n",
       "    <tr>\n",
       "      <th>10</th>\n",
       "      <td>11</td>\n",
       "      <td>State</td>\n",
       "      <td>Karnataka</td>\n",
       "      <td>13828</td>\n",
       "      <td>12680</td>\n",
       "      <td>14468</td>\n",
       "      <td>330.0</td>\n",
       "      <td>43.8</td>\n",
       "      <td>87.2</td>\n",
       "    </tr>\n",
       "    <tr>\n",
       "      <th>11</th>\n",
       "      <td>12</td>\n",
       "      <td>State</td>\n",
       "      <td>Kerala</td>\n",
       "      <td>11462</td>\n",
       "      <td>10139</td>\n",
       "      <td>13539</td>\n",
       "      <td>184.7</td>\n",
       "      <td>73.3</td>\n",
       "      <td>94.6</td>\n",
       "    </tr>\n",
       "    <tr>\n",
       "      <th>12</th>\n",
       "      <td>13</td>\n",
       "      <td>State</td>\n",
       "      <td>Madhya Pradesh</td>\n",
       "      <td>27560</td>\n",
       "      <td>25640</td>\n",
       "      <td>30673</td>\n",
       "      <td>410.8</td>\n",
       "      <td>74.7</td>\n",
       "      <td>83.7</td>\n",
       "    </tr>\n",
       "    <tr>\n",
       "      <th>13</th>\n",
       "      <td>14</td>\n",
       "      <td>State</td>\n",
       "      <td>Maharashtra</td>\n",
       "      <td>37144</td>\n",
       "      <td>31954</td>\n",
       "      <td>39526</td>\n",
       "      <td>598.9</td>\n",
       "      <td>66.0</td>\n",
       "      <td>82.4</td>\n",
       "    </tr>\n",
       "    <tr>\n",
       "      <th>14</th>\n",
       "      <td>15</td>\n",
       "      <td>State</td>\n",
       "      <td>Manipur</td>\n",
       "      <td>266</td>\n",
       "      <td>247</td>\n",
       "      <td>302</td>\n",
       "      <td>15.8</td>\n",
       "      <td>19.1</td>\n",
       "      <td>48.4</td>\n",
       "    </tr>\n",
       "    <tr>\n",
       "      <th>15</th>\n",
       "      <td>16</td>\n",
       "      <td>State</td>\n",
       "      <td>Meghalaya</td>\n",
       "      <td>558</td>\n",
       "      <td>568</td>\n",
       "      <td>685</td>\n",
       "      <td>16.4</td>\n",
       "      <td>41.7</td>\n",
       "      <td>76.1</td>\n",
       "    </tr>\n",
       "    <tr>\n",
       "      <th>16</th>\n",
       "      <td>17</td>\n",
       "      <td>State</td>\n",
       "      <td>Mizoram</td>\n",
       "      <td>170</td>\n",
       "      <td>172</td>\n",
       "      <td>176</td>\n",
       "      <td>6.0</td>\n",
       "      <td>29.1</td>\n",
       "      <td>94.9</td>\n",
       "    </tr>\n",
       "    <tr>\n",
       "      <th>17</th>\n",
       "      <td>18</td>\n",
       "      <td>State</td>\n",
       "      <td>Nagaland</td>\n",
       "      <td>43</td>\n",
       "      <td>39</td>\n",
       "      <td>54</td>\n",
       "      <td>10.6</td>\n",
       "      <td>5.1</td>\n",
       "      <td>80.4</td>\n",
       "    </tr>\n",
       "    <tr>\n",
       "      <th>18</th>\n",
       "      <td>19</td>\n",
       "      <td>State</td>\n",
       "      <td>Odisha</td>\n",
       "      <td>23183</td>\n",
       "      <td>25489</td>\n",
       "      <td>31352</td>\n",
       "      <td>227.4</td>\n",
       "      <td>137.8</td>\n",
       "      <td>80.1</td>\n",
       "    </tr>\n",
       "    <tr>\n",
       "      <th>19</th>\n",
       "      <td>20</td>\n",
       "      <td>State</td>\n",
       "      <td>Punjab</td>\n",
       "      <td>5886</td>\n",
       "      <td>4838</td>\n",
       "      <td>5662</td>\n",
       "      <td>144.3</td>\n",
       "      <td>39.2</td>\n",
       "      <td>75.3</td>\n",
       "    </tr>\n",
       "    <tr>\n",
       "      <th>20</th>\n",
       "      <td>21</td>\n",
       "      <td>State</td>\n",
       "      <td>Rajasthan</td>\n",
       "      <td>41550</td>\n",
       "      <td>34535</td>\n",
       "      <td>40738</td>\n",
       "      <td>386.7</td>\n",
       "      <td>105.4</td>\n",
       "      <td>54.5</td>\n",
       "    </tr>\n",
       "    <tr>\n",
       "      <th>21</th>\n",
       "      <td>22</td>\n",
       "      <td>State</td>\n",
       "      <td>Sikkim</td>\n",
       "      <td>125</td>\n",
       "      <td>140</td>\n",
       "      <td>130</td>\n",
       "      <td>3.2</td>\n",
       "      <td>40.6</td>\n",
       "      <td>98.3</td>\n",
       "    </tr>\n",
       "    <tr>\n",
       "      <th>22</th>\n",
       "      <td>23</td>\n",
       "      <td>State</td>\n",
       "      <td>Tamil Nadu</td>\n",
       "      <td>5934</td>\n",
       "      <td>6630</td>\n",
       "      <td>8501</td>\n",
       "      <td>382.8</td>\n",
       "      <td>22.2</td>\n",
       "      <td>87.5</td>\n",
       "    </tr>\n",
       "    <tr>\n",
       "      <th>23</th>\n",
       "      <td>24</td>\n",
       "      <td>State</td>\n",
       "      <td>Telangana</td>\n",
       "      <td>18394</td>\n",
       "      <td>17791</td>\n",
       "      <td>20865</td>\n",
       "      <td>187.7</td>\n",
       "      <td>111.2</td>\n",
       "      <td>87.8</td>\n",
       "    </tr>\n",
       "    <tr>\n",
       "      <th>24</th>\n",
       "      <td>25</td>\n",
       "      <td>State</td>\n",
       "      <td>Tripura</td>\n",
       "      <td>1070</td>\n",
       "      <td>874</td>\n",
       "      <td>807</td>\n",
       "      <td>20.1</td>\n",
       "      <td>40.2</td>\n",
       "      <td>84.7</td>\n",
       "    </tr>\n",
       "    <tr>\n",
       "      <th>25</th>\n",
       "      <td>26</td>\n",
       "      <td>State</td>\n",
       "      <td>Uttar Pradesh</td>\n",
       "      <td>59853</td>\n",
       "      <td>49385</td>\n",
       "      <td>56083</td>\n",
       "      <td>1109.6</td>\n",
       "      <td>50.5</td>\n",
       "      <td>76.5</td>\n",
       "    </tr>\n",
       "    <tr>\n",
       "      <th>26</th>\n",
       "      <td>27</td>\n",
       "      <td>State</td>\n",
       "      <td>Uttarakhand</td>\n",
       "      <td>2541</td>\n",
       "      <td>2846</td>\n",
       "      <td>3431</td>\n",
       "      <td>55.8</td>\n",
       "      <td>61.5</td>\n",
       "      <td>81.5</td>\n",
       "    </tr>\n",
       "    <tr>\n",
       "      <th>27</th>\n",
       "      <td>28</td>\n",
       "      <td>State</td>\n",
       "      <td>West Bengal</td>\n",
       "      <td>29859</td>\n",
       "      <td>36439</td>\n",
       "      <td>35884</td>\n",
       "      <td>481.2</td>\n",
       "      <td>74.6</td>\n",
       "      <td>93.7</td>\n",
       "    </tr>\n",
       "    <tr>\n",
       "      <th>28</th>\n",
       "      <td>29</td>\n",
       "      <td>UT</td>\n",
       "      <td>A&amp;N Islands</td>\n",
       "      <td>135</td>\n",
       "      <td>143</td>\n",
       "      <td>169</td>\n",
       "      <td>1.9</td>\n",
       "      <td>89.4</td>\n",
       "      <td>97.1</td>\n",
       "    </tr>\n",
       "    <tr>\n",
       "      <th>29</th>\n",
       "      <td>30</td>\n",
       "      <td>UT</td>\n",
       "      <td>Chandigarh</td>\n",
       "      <td>515</td>\n",
       "      <td>301</td>\n",
       "      <td>343</td>\n",
       "      <td>5.6</td>\n",
       "      <td>61.7</td>\n",
       "      <td>51.0</td>\n",
       "    </tr>\n",
       "    <tr>\n",
       "      <th>30</th>\n",
       "      <td>31</td>\n",
       "      <td>UT</td>\n",
       "      <td>D&amp;N Haveli and Daman &amp; Diu+</td>\n",
       "      <td>82</td>\n",
       "      <td>61</td>\n",
       "      <td>99</td>\n",
       "      <td>3.9</td>\n",
       "      <td>25.3</td>\n",
       "      <td>74.0</td>\n",
       "    </tr>\n",
       "    <tr>\n",
       "      <th>31</th>\n",
       "      <td>32</td>\n",
       "      <td>UT</td>\n",
       "      <td>Delhi</td>\n",
       "      <td>13395</td>\n",
       "      <td>10093</td>\n",
       "      <td>14277</td>\n",
       "      <td>96.7</td>\n",
       "      <td>147.6</td>\n",
       "      <td>71.2</td>\n",
       "    </tr>\n",
       "    <tr>\n",
       "      <th>32</th>\n",
       "      <td>33</td>\n",
       "      <td>UT</td>\n",
       "      <td>Jammu &amp; Kashmir</td>\n",
       "      <td>3069</td>\n",
       "      <td>3405</td>\n",
       "      <td>3937</td>\n",
       "      <td>64.0</td>\n",
       "      <td>61.6</td>\n",
       "      <td>72.5</td>\n",
       "    </tr>\n",
       "    <tr>\n",
       "      <th>33</th>\n",
       "      <td>34</td>\n",
       "      <td>UT</td>\n",
       "      <td>Ladakh</td>\n",
       "      <td>-</td>\n",
       "      <td>9</td>\n",
       "      <td>18</td>\n",
       "      <td>1.3</td>\n",
       "      <td>13.8</td>\n",
       "      <td>85.7</td>\n",
       "    </tr>\n",
       "    <tr>\n",
       "      <th>34</th>\n",
       "      <td>35</td>\n",
       "      <td>UT</td>\n",
       "      <td>Lakshadweep</td>\n",
       "      <td>38</td>\n",
       "      <td>15</td>\n",
       "      <td>9</td>\n",
       "      <td>0.3</td>\n",
       "      <td>27.3</td>\n",
       "      <td>80.0</td>\n",
       "    </tr>\n",
       "    <tr>\n",
       "      <th>35</th>\n",
       "      <td>36</td>\n",
       "      <td>UT</td>\n",
       "      <td>Puducherry</td>\n",
       "      <td>95</td>\n",
       "      <td>113</td>\n",
       "      <td>153</td>\n",
       "      <td>8.3</td>\n",
       "      <td>18.5</td>\n",
       "      <td>97.6</td>\n",
       "    </tr>\n",
       "  </tbody>\n",
       "</table>\n",
       "</div>"
      ],
      "text/plain": [
       "    S.No State/UT                         Name   2019   2020   2021  \\\n",
       "0      1    State               Andhra Pradesh  17746  17089  17752   \n",
       "1      2    State            Arunachal Pradesh    317    281    366   \n",
       "2      3    State                        Assam  30025  26352  29046   \n",
       "3      4    State                        Bihar  18587  15359  17950   \n",
       "4      5    State                 Chhattisgarh   7689   7385   7344   \n",
       "5      6    State                          Goa    329    219    224   \n",
       "6      7    State                      Gujarat   8799   8028   7348   \n",
       "7      8    State                      Haryana  14683  13000  16658   \n",
       "8      9    State             Himachal Pradesh   1636   1614   1599   \n",
       "9     10    State                    Jharkhand   8760   7630   8110   \n",
       "10    11    State                    Karnataka  13828  12680  14468   \n",
       "11    12    State                       Kerala  11462  10139  13539   \n",
       "12    13    State               Madhya Pradesh  27560  25640  30673   \n",
       "13    14    State                  Maharashtra  37144  31954  39526   \n",
       "14    15    State                      Manipur    266    247    302   \n",
       "15    16    State                    Meghalaya    558    568    685   \n",
       "16    17    State                      Mizoram    170    172    176   \n",
       "17    18    State                     Nagaland     43     39     54   \n",
       "18    19    State                       Odisha  23183  25489  31352   \n",
       "19    20    State                       Punjab   5886   4838   5662   \n",
       "20    21    State                    Rajasthan  41550  34535  40738   \n",
       "21    22    State                       Sikkim    125    140    130   \n",
       "22    23    State                   Tamil Nadu   5934   6630   8501   \n",
       "23    24    State                    Telangana  18394  17791  20865   \n",
       "24    25    State                      Tripura   1070    874    807   \n",
       "25    26    State                Uttar Pradesh  59853  49385  56083   \n",
       "26    27    State                  Uttarakhand   2541   2846   3431   \n",
       "27    28    State                  West Bengal  29859  36439  35884   \n",
       "28    29       UT                  A&N Islands    135    143    169   \n",
       "29    30       UT                   Chandigarh    515    301    343   \n",
       "30    31       UT  D&N Haveli and Daman & Diu+     82     61     99   \n",
       "31    32       UT                        Delhi  13395  10093  14277   \n",
       "32    33       UT              Jammu & Kashmir   3069   3405   3937   \n",
       "33    34       UT                       Ladakh      -      9     18   \n",
       "34    35       UT                  Lakshadweep     38     15      9   \n",
       "35    36       UT                   Puducherry     95    113    153   \n",
       "\n",
       "    midPopulation  RateofCrimeAgainstWomen  ChargesSheetingRate  \n",
       "0           264.2                     67.2                 93.5  \n",
       "1             7.5                     49.1                 77.6  \n",
       "2           172.6                    168.3                 52.9  \n",
       "3           593.7                     30.2                 69.4  \n",
       "4           147.6                     49.8                 88.5  \n",
       "5             7.7                     28.9                 77.4  \n",
       "6           333.2                     22.1                 93.3  \n",
       "7           139.2                    119.7                 57.1  \n",
       "8            36.5                     43.8                 76.5  \n",
       "9           188.5                     43.0                 79.7  \n",
       "10          330.0                     43.8                 87.2  \n",
       "11          184.7                     73.3                 94.6  \n",
       "12          410.8                     74.7                 83.7  \n",
       "13          598.9                     66.0                 82.4  \n",
       "14           15.8                     19.1                 48.4  \n",
       "15           16.4                     41.7                 76.1  \n",
       "16            6.0                     29.1                 94.9  \n",
       "17           10.6                      5.1                 80.4  \n",
       "18          227.4                    137.8                 80.1  \n",
       "19          144.3                     39.2                 75.3  \n",
       "20          386.7                    105.4                 54.5  \n",
       "21            3.2                     40.6                 98.3  \n",
       "22          382.8                     22.2                 87.5  \n",
       "23          187.7                    111.2                 87.8  \n",
       "24           20.1                     40.2                 84.7  \n",
       "25         1109.6                     50.5                 76.5  \n",
       "26           55.8                     61.5                 81.5  \n",
       "27          481.2                     74.6                 93.7  \n",
       "28            1.9                     89.4                 97.1  \n",
       "29            5.6                     61.7                 51.0  \n",
       "30            3.9                     25.3                 74.0  \n",
       "31           96.7                    147.6                 71.2  \n",
       "32           64.0                     61.6                 72.5  \n",
       "33            1.3                     13.8                 85.7  \n",
       "34            0.3                     27.3                 80.0  \n",
       "35            8.3                     18.5                 97.6  "
      ]
     },
     "execution_count": 3,
     "metadata": {},
     "output_type": "execute_result"
    }
   ],
   "source": [
    "df1"
   ]
  },
  {
   "cell_type": "code",
   "execution_count": 4,
   "id": "03c4953e",
   "metadata": {},
   "outputs": [
    {
     "data": {
      "text/html": [
       "<div>\n",
       "<style scoped>\n",
       "    .dataframe tbody tr th:only-of-type {\n",
       "        vertical-align: middle;\n",
       "    }\n",
       "\n",
       "    .dataframe tbody tr th {\n",
       "        vertical-align: top;\n",
       "    }\n",
       "\n",
       "    .dataframe thead th {\n",
       "        text-align: right;\n",
       "    }\n",
       "</style>\n",
       "<table border=\"1\" class=\"dataframe\">\n",
       "  <thead>\n",
       "    <tr style=\"text-align: right;\">\n",
       "      <th></th>\n",
       "      <th>S.No</th>\n",
       "      <th>State/UT</th>\n",
       "      <th>Name</th>\n",
       "      <th>2019</th>\n",
       "      <th>2020</th>\n",
       "      <th>2021</th>\n",
       "      <th>midPopulation</th>\n",
       "      <th>RateofCrimeAgainstWomen</th>\n",
       "      <th>ChargesSheetingRate</th>\n",
       "    </tr>\n",
       "  </thead>\n",
       "  <tbody>\n",
       "    <tr>\n",
       "      <th>0</th>\n",
       "      <td>1</td>\n",
       "      <td>State</td>\n",
       "      <td>Andhra Pradesh</td>\n",
       "      <td>17746</td>\n",
       "      <td>17089</td>\n",
       "      <td>17752</td>\n",
       "      <td>264.2</td>\n",
       "      <td>67.2</td>\n",
       "      <td>93.5</td>\n",
       "    </tr>\n",
       "    <tr>\n",
       "      <th>1</th>\n",
       "      <td>2</td>\n",
       "      <td>State</td>\n",
       "      <td>Arunachal Pradesh</td>\n",
       "      <td>317</td>\n",
       "      <td>281</td>\n",
       "      <td>366</td>\n",
       "      <td>7.5</td>\n",
       "      <td>49.1</td>\n",
       "      <td>77.6</td>\n",
       "    </tr>\n",
       "    <tr>\n",
       "      <th>2</th>\n",
       "      <td>3</td>\n",
       "      <td>State</td>\n",
       "      <td>Assam</td>\n",
       "      <td>30025</td>\n",
       "      <td>26352</td>\n",
       "      <td>29046</td>\n",
       "      <td>172.6</td>\n",
       "      <td>168.3</td>\n",
       "      <td>52.9</td>\n",
       "    </tr>\n",
       "    <tr>\n",
       "      <th>3</th>\n",
       "      <td>4</td>\n",
       "      <td>State</td>\n",
       "      <td>Bihar</td>\n",
       "      <td>18587</td>\n",
       "      <td>15359</td>\n",
       "      <td>17950</td>\n",
       "      <td>593.7</td>\n",
       "      <td>30.2</td>\n",
       "      <td>69.4</td>\n",
       "    </tr>\n",
       "    <tr>\n",
       "      <th>4</th>\n",
       "      <td>5</td>\n",
       "      <td>State</td>\n",
       "      <td>Chhattisgarh</td>\n",
       "      <td>7689</td>\n",
       "      <td>7385</td>\n",
       "      <td>7344</td>\n",
       "      <td>147.6</td>\n",
       "      <td>49.8</td>\n",
       "      <td>88.5</td>\n",
       "    </tr>\n",
       "  </tbody>\n",
       "</table>\n",
       "</div>"
      ],
      "text/plain": [
       "   S.No State/UT               Name   2019   2020   2021  midPopulation  \\\n",
       "0     1    State     Andhra Pradesh  17746  17089  17752          264.2   \n",
       "1     2    State  Arunachal Pradesh    317    281    366            7.5   \n",
       "2     3    State              Assam  30025  26352  29046          172.6   \n",
       "3     4    State              Bihar  18587  15359  17950          593.7   \n",
       "4     5    State       Chhattisgarh   7689   7385   7344          147.6   \n",
       "\n",
       "   RateofCrimeAgainstWomen  ChargesSheetingRate  \n",
       "0                     67.2                 93.5  \n",
       "1                     49.1                 77.6  \n",
       "2                    168.3                 52.9  \n",
       "3                     30.2                 69.4  \n",
       "4                     49.8                 88.5  "
      ]
     },
     "execution_count": 4,
     "metadata": {},
     "output_type": "execute_result"
    }
   ],
   "source": [
    "# Checking top 5 Rows\n",
    "df1.head()"
   ]
  },
  {
   "cell_type": "code",
   "execution_count": 5,
   "id": "6fccf65e",
   "metadata": {},
   "outputs": [
    {
     "data": {
      "text/html": [
       "<div>\n",
       "<style scoped>\n",
       "    .dataframe tbody tr th:only-of-type {\n",
       "        vertical-align: middle;\n",
       "    }\n",
       "\n",
       "    .dataframe tbody tr th {\n",
       "        vertical-align: top;\n",
       "    }\n",
       "\n",
       "    .dataframe thead th {\n",
       "        text-align: right;\n",
       "    }\n",
       "</style>\n",
       "<table border=\"1\" class=\"dataframe\">\n",
       "  <thead>\n",
       "    <tr style=\"text-align: right;\">\n",
       "      <th></th>\n",
       "      <th>S.No</th>\n",
       "      <th>State/UT</th>\n",
       "      <th>Name</th>\n",
       "      <th>2019</th>\n",
       "      <th>2020</th>\n",
       "      <th>2021</th>\n",
       "      <th>midPopulation</th>\n",
       "      <th>RateofCrimeAgainstWomen</th>\n",
       "      <th>ChargesSheetingRate</th>\n",
       "    </tr>\n",
       "  </thead>\n",
       "  <tbody>\n",
       "    <tr>\n",
       "      <th>31</th>\n",
       "      <td>32</td>\n",
       "      <td>UT</td>\n",
       "      <td>Delhi</td>\n",
       "      <td>13395</td>\n",
       "      <td>10093</td>\n",
       "      <td>14277</td>\n",
       "      <td>96.7</td>\n",
       "      <td>147.6</td>\n",
       "      <td>71.2</td>\n",
       "    </tr>\n",
       "    <tr>\n",
       "      <th>32</th>\n",
       "      <td>33</td>\n",
       "      <td>UT</td>\n",
       "      <td>Jammu &amp; Kashmir</td>\n",
       "      <td>3069</td>\n",
       "      <td>3405</td>\n",
       "      <td>3937</td>\n",
       "      <td>64.0</td>\n",
       "      <td>61.6</td>\n",
       "      <td>72.5</td>\n",
       "    </tr>\n",
       "    <tr>\n",
       "      <th>33</th>\n",
       "      <td>34</td>\n",
       "      <td>UT</td>\n",
       "      <td>Ladakh</td>\n",
       "      <td>-</td>\n",
       "      <td>9</td>\n",
       "      <td>18</td>\n",
       "      <td>1.3</td>\n",
       "      <td>13.8</td>\n",
       "      <td>85.7</td>\n",
       "    </tr>\n",
       "    <tr>\n",
       "      <th>34</th>\n",
       "      <td>35</td>\n",
       "      <td>UT</td>\n",
       "      <td>Lakshadweep</td>\n",
       "      <td>38</td>\n",
       "      <td>15</td>\n",
       "      <td>9</td>\n",
       "      <td>0.3</td>\n",
       "      <td>27.3</td>\n",
       "      <td>80.0</td>\n",
       "    </tr>\n",
       "    <tr>\n",
       "      <th>35</th>\n",
       "      <td>36</td>\n",
       "      <td>UT</td>\n",
       "      <td>Puducherry</td>\n",
       "      <td>95</td>\n",
       "      <td>113</td>\n",
       "      <td>153</td>\n",
       "      <td>8.3</td>\n",
       "      <td>18.5</td>\n",
       "      <td>97.6</td>\n",
       "    </tr>\n",
       "  </tbody>\n",
       "</table>\n",
       "</div>"
      ],
      "text/plain": [
       "    S.No State/UT             Name   2019   2020   2021  midPopulation  \\\n",
       "31    32       UT            Delhi  13395  10093  14277           96.7   \n",
       "32    33       UT  Jammu & Kashmir   3069   3405   3937           64.0   \n",
       "33    34       UT           Ladakh      -      9     18            1.3   \n",
       "34    35       UT      Lakshadweep     38     15      9            0.3   \n",
       "35    36       UT       Puducherry     95    113    153            8.3   \n",
       "\n",
       "    RateofCrimeAgainstWomen  ChargesSheetingRate  \n",
       "31                    147.6                 71.2  \n",
       "32                     61.6                 72.5  \n",
       "33                     13.8                 85.7  \n",
       "34                     27.3                 80.0  \n",
       "35                     18.5                 97.6  "
      ]
     },
     "execution_count": 5,
     "metadata": {},
     "output_type": "execute_result"
    }
   ],
   "source": [
    "# Checking bottom 5 Rows\n",
    "df1.tail()"
   ]
  },
  {
   "cell_type": "code",
   "execution_count": 6,
   "id": "4112de61",
   "metadata": {},
   "outputs": [
    {
     "data": {
      "text/plain": [
       "(36, 9)"
      ]
     },
     "execution_count": 6,
     "metadata": {},
     "output_type": "execute_result"
    }
   ],
   "source": [
    "# Checking the no.of Rows and Columns in data set\n",
    "df1.shape"
   ]
  },
  {
   "cell_type": "code",
   "execution_count": 7,
   "id": "a1bd97d9",
   "metadata": {},
   "outputs": [
    {
     "data": {
      "text/plain": [
       "S.No                       0\n",
       "State/UT                   0\n",
       "Name                       0\n",
       "2019                       0\n",
       "2020                       0\n",
       "2021                       0\n",
       "midPopulation              0\n",
       "RateofCrimeAgainstWomen    0\n",
       "ChargesSheetingRate        0\n",
       "dtype: int64"
      ]
     },
     "execution_count": 7,
     "metadata": {},
     "output_type": "execute_result"
    }
   ],
   "source": [
    "# Checking the null values in the data set\n",
    "df1.isnull().sum()"
   ]
  },
  {
   "cell_type": "markdown",
   "id": "a525c713",
   "metadata": {},
   "source": [
    "####  From above we can conclude that no null values in data set"
   ]
  },
  {
   "cell_type": "code",
   "execution_count": 8,
   "id": "1ae23b11",
   "metadata": {},
   "outputs": [
    {
     "name": "stdout",
     "output_type": "stream",
     "text": [
      "<class 'pandas.core.frame.DataFrame'>\n",
      "RangeIndex: 36 entries, 0 to 35\n",
      "Data columns (total 9 columns):\n",
      " #   Column                   Non-Null Count  Dtype  \n",
      "---  ------                   --------------  -----  \n",
      " 0   S.No                     36 non-null     int64  \n",
      " 1   State/UT                 36 non-null     object \n",
      " 2   Name                     36 non-null     object \n",
      " 3   2019                     36 non-null     object \n",
      " 4   2020                     36 non-null     int64  \n",
      " 5   2021                     36 non-null     int64  \n",
      " 6   midPopulation            36 non-null     float64\n",
      " 7   RateofCrimeAgainstWomen  36 non-null     float64\n",
      " 8   ChargesSheetingRate      36 non-null     float64\n",
      "dtypes: float64(3), int64(3), object(3)\n",
      "memory usage: 2.7+ KB\n"
     ]
    }
   ],
   "source": [
    "# df1.info() displays the data type of each column in the DataFrame. It helps you understand whether a column contains integers, floats, strings, dates, or other data types.\n",
    "df1.info()"
   ]
  },
  {
   "cell_type": "markdown",
   "id": "15e40703",
   "metadata": {},
   "source": [
    "#### From above it is clearly evident that 2019 column is object data type, but 2019 column contains numerical data  need to convert 2019 column to interger data type "
   ]
  },
  {
   "cell_type": "code",
   "execution_count": 9,
   "id": "71f359cd",
   "metadata": {},
   "outputs": [
    {
     "data": {
      "text/plain": [
       "dtype('O')"
      ]
     },
     "execution_count": 9,
     "metadata": {},
     "output_type": "execute_result"
    }
   ],
   "source": [
    "# To check the data type of particular column\n",
    "df1[\"2019\"].dtype"
   ]
  },
  {
   "cell_type": "code",
   "execution_count": 10,
   "id": "567253b7",
   "metadata": {},
   "outputs": [
    {
     "ename": "ValueError",
     "evalue": "invalid literal for int() with base 10: '-'",
     "output_type": "error",
     "traceback": [
      "\u001b[1;31m---------------------------------------------------------------------------\u001b[0m",
      "\u001b[1;31mValueError\u001b[0m                                Traceback (most recent call last)",
      "Input \u001b[1;32mIn [10]\u001b[0m, in \u001b[0;36m<cell line: 2>\u001b[1;34m()\u001b[0m\n\u001b[0;32m      1\u001b[0m \u001b[38;5;66;03m# To manipulated or change data type of particular column (astype) is used\u001b[39;00m\n\u001b[1;32m----> 2\u001b[0m df1[\u001b[38;5;124m\"\u001b[39m\u001b[38;5;124m2019\u001b[39m\u001b[38;5;124m\"\u001b[39m] \u001b[38;5;241m=\u001b[39m \u001b[43mdf1\u001b[49m\u001b[43m[\u001b[49m\u001b[38;5;124;43m\"\u001b[39;49m\u001b[38;5;124;43m2019\u001b[39;49m\u001b[38;5;124;43m\"\u001b[39;49m\u001b[43m]\u001b[49m\u001b[38;5;241;43m.\u001b[39;49m\u001b[43mastype\u001b[49m\u001b[43m(\u001b[49m\u001b[38;5;124;43m\"\u001b[39;49m\u001b[38;5;124;43mint\u001b[39;49m\u001b[38;5;124;43m\"\u001b[39;49m\u001b[43m)\u001b[49m\n",
      "File \u001b[1;32mC:\\ProgramData\\Anaconda3\\lib\\site-packages\\pandas\\core\\generic.py:5912\u001b[0m, in \u001b[0;36mNDFrame.astype\u001b[1;34m(self, dtype, copy, errors)\u001b[0m\n\u001b[0;32m   5905\u001b[0m     results \u001b[38;5;241m=\u001b[39m [\n\u001b[0;32m   5906\u001b[0m         \u001b[38;5;28mself\u001b[39m\u001b[38;5;241m.\u001b[39miloc[:, i]\u001b[38;5;241m.\u001b[39mastype(dtype, copy\u001b[38;5;241m=\u001b[39mcopy)\n\u001b[0;32m   5907\u001b[0m         \u001b[38;5;28;01mfor\u001b[39;00m i \u001b[38;5;129;01min\u001b[39;00m \u001b[38;5;28mrange\u001b[39m(\u001b[38;5;28mlen\u001b[39m(\u001b[38;5;28mself\u001b[39m\u001b[38;5;241m.\u001b[39mcolumns))\n\u001b[0;32m   5908\u001b[0m     ]\n\u001b[0;32m   5910\u001b[0m \u001b[38;5;28;01melse\u001b[39;00m:\n\u001b[0;32m   5911\u001b[0m     \u001b[38;5;66;03m# else, only a single dtype is given\u001b[39;00m\n\u001b[1;32m-> 5912\u001b[0m     new_data \u001b[38;5;241m=\u001b[39m \u001b[38;5;28;43mself\u001b[39;49m\u001b[38;5;241;43m.\u001b[39;49m\u001b[43m_mgr\u001b[49m\u001b[38;5;241;43m.\u001b[39;49m\u001b[43mastype\u001b[49m\u001b[43m(\u001b[49m\u001b[43mdtype\u001b[49m\u001b[38;5;241;43m=\u001b[39;49m\u001b[43mdtype\u001b[49m\u001b[43m,\u001b[49m\u001b[43m \u001b[49m\u001b[43mcopy\u001b[49m\u001b[38;5;241;43m=\u001b[39;49m\u001b[43mcopy\u001b[49m\u001b[43m,\u001b[49m\u001b[43m \u001b[49m\u001b[43merrors\u001b[49m\u001b[38;5;241;43m=\u001b[39;49m\u001b[43merrors\u001b[49m\u001b[43m)\u001b[49m\n\u001b[0;32m   5913\u001b[0m     \u001b[38;5;28;01mreturn\u001b[39;00m \u001b[38;5;28mself\u001b[39m\u001b[38;5;241m.\u001b[39m_constructor(new_data)\u001b[38;5;241m.\u001b[39m__finalize__(\u001b[38;5;28mself\u001b[39m, method\u001b[38;5;241m=\u001b[39m\u001b[38;5;124m\"\u001b[39m\u001b[38;5;124mastype\u001b[39m\u001b[38;5;124m\"\u001b[39m)\n\u001b[0;32m   5915\u001b[0m \u001b[38;5;66;03m# GH 33113: handle empty frame or series\u001b[39;00m\n",
      "File \u001b[1;32mC:\\ProgramData\\Anaconda3\\lib\\site-packages\\pandas\\core\\internals\\managers.py:419\u001b[0m, in \u001b[0;36mBaseBlockManager.astype\u001b[1;34m(self, dtype, copy, errors)\u001b[0m\n\u001b[0;32m    418\u001b[0m \u001b[38;5;28;01mdef\u001b[39;00m \u001b[38;5;21mastype\u001b[39m(\u001b[38;5;28mself\u001b[39m: T, dtype, copy: \u001b[38;5;28mbool\u001b[39m \u001b[38;5;241m=\u001b[39m \u001b[38;5;28;01mFalse\u001b[39;00m, errors: \u001b[38;5;28mstr\u001b[39m \u001b[38;5;241m=\u001b[39m \u001b[38;5;124m\"\u001b[39m\u001b[38;5;124mraise\u001b[39m\u001b[38;5;124m\"\u001b[39m) \u001b[38;5;241m-\u001b[39m\u001b[38;5;241m>\u001b[39m T:\n\u001b[1;32m--> 419\u001b[0m     \u001b[38;5;28;01mreturn\u001b[39;00m \u001b[38;5;28;43mself\u001b[39;49m\u001b[38;5;241;43m.\u001b[39;49m\u001b[43mapply\u001b[49m\u001b[43m(\u001b[49m\u001b[38;5;124;43m\"\u001b[39;49m\u001b[38;5;124;43mastype\u001b[39;49m\u001b[38;5;124;43m\"\u001b[39;49m\u001b[43m,\u001b[49m\u001b[43m \u001b[49m\u001b[43mdtype\u001b[49m\u001b[38;5;241;43m=\u001b[39;49m\u001b[43mdtype\u001b[49m\u001b[43m,\u001b[49m\u001b[43m \u001b[49m\u001b[43mcopy\u001b[49m\u001b[38;5;241;43m=\u001b[39;49m\u001b[43mcopy\u001b[49m\u001b[43m,\u001b[49m\u001b[43m \u001b[49m\u001b[43merrors\u001b[49m\u001b[38;5;241;43m=\u001b[39;49m\u001b[43merrors\u001b[49m\u001b[43m)\u001b[49m\n",
      "File \u001b[1;32mC:\\ProgramData\\Anaconda3\\lib\\site-packages\\pandas\\core\\internals\\managers.py:304\u001b[0m, in \u001b[0;36mBaseBlockManager.apply\u001b[1;34m(self, f, align_keys, ignore_failures, **kwargs)\u001b[0m\n\u001b[0;32m    302\u001b[0m         applied \u001b[38;5;241m=\u001b[39m b\u001b[38;5;241m.\u001b[39mapply(f, \u001b[38;5;241m*\u001b[39m\u001b[38;5;241m*\u001b[39mkwargs)\n\u001b[0;32m    303\u001b[0m     \u001b[38;5;28;01melse\u001b[39;00m:\n\u001b[1;32m--> 304\u001b[0m         applied \u001b[38;5;241m=\u001b[39m \u001b[38;5;28mgetattr\u001b[39m(b, f)(\u001b[38;5;241m*\u001b[39m\u001b[38;5;241m*\u001b[39mkwargs)\n\u001b[0;32m    305\u001b[0m \u001b[38;5;28;01mexcept\u001b[39;00m (\u001b[38;5;167;01mTypeError\u001b[39;00m, \u001b[38;5;167;01mNotImplementedError\u001b[39;00m):\n\u001b[0;32m    306\u001b[0m     \u001b[38;5;28;01mif\u001b[39;00m \u001b[38;5;129;01mnot\u001b[39;00m ignore_failures:\n",
      "File \u001b[1;32mC:\\ProgramData\\Anaconda3\\lib\\site-packages\\pandas\\core\\internals\\blocks.py:580\u001b[0m, in \u001b[0;36mBlock.astype\u001b[1;34m(self, dtype, copy, errors)\u001b[0m\n\u001b[0;32m    562\u001b[0m \u001b[38;5;124;03m\"\"\"\u001b[39;00m\n\u001b[0;32m    563\u001b[0m \u001b[38;5;124;03mCoerce to the new dtype.\u001b[39;00m\n\u001b[0;32m    564\u001b[0m \n\u001b[1;32m   (...)\u001b[0m\n\u001b[0;32m    576\u001b[0m \u001b[38;5;124;03mBlock\u001b[39;00m\n\u001b[0;32m    577\u001b[0m \u001b[38;5;124;03m\"\"\"\u001b[39;00m\n\u001b[0;32m    578\u001b[0m values \u001b[38;5;241m=\u001b[39m \u001b[38;5;28mself\u001b[39m\u001b[38;5;241m.\u001b[39mvalues\n\u001b[1;32m--> 580\u001b[0m new_values \u001b[38;5;241m=\u001b[39m \u001b[43mastype_array_safe\u001b[49m\u001b[43m(\u001b[49m\u001b[43mvalues\u001b[49m\u001b[43m,\u001b[49m\u001b[43m \u001b[49m\u001b[43mdtype\u001b[49m\u001b[43m,\u001b[49m\u001b[43m \u001b[49m\u001b[43mcopy\u001b[49m\u001b[38;5;241;43m=\u001b[39;49m\u001b[43mcopy\u001b[49m\u001b[43m,\u001b[49m\u001b[43m \u001b[49m\u001b[43merrors\u001b[49m\u001b[38;5;241;43m=\u001b[39;49m\u001b[43merrors\u001b[49m\u001b[43m)\u001b[49m\n\u001b[0;32m    582\u001b[0m new_values \u001b[38;5;241m=\u001b[39m maybe_coerce_values(new_values)\n\u001b[0;32m    583\u001b[0m newb \u001b[38;5;241m=\u001b[39m \u001b[38;5;28mself\u001b[39m\u001b[38;5;241m.\u001b[39mmake_block(new_values)\n",
      "File \u001b[1;32mC:\\ProgramData\\Anaconda3\\lib\\site-packages\\pandas\\core\\dtypes\\cast.py:1292\u001b[0m, in \u001b[0;36mastype_array_safe\u001b[1;34m(values, dtype, copy, errors)\u001b[0m\n\u001b[0;32m   1289\u001b[0m     dtype \u001b[38;5;241m=\u001b[39m dtype\u001b[38;5;241m.\u001b[39mnumpy_dtype\n\u001b[0;32m   1291\u001b[0m \u001b[38;5;28;01mtry\u001b[39;00m:\n\u001b[1;32m-> 1292\u001b[0m     new_values \u001b[38;5;241m=\u001b[39m \u001b[43mastype_array\u001b[49m\u001b[43m(\u001b[49m\u001b[43mvalues\u001b[49m\u001b[43m,\u001b[49m\u001b[43m \u001b[49m\u001b[43mdtype\u001b[49m\u001b[43m,\u001b[49m\u001b[43m \u001b[49m\u001b[43mcopy\u001b[49m\u001b[38;5;241;43m=\u001b[39;49m\u001b[43mcopy\u001b[49m\u001b[43m)\u001b[49m\n\u001b[0;32m   1293\u001b[0m \u001b[38;5;28;01mexcept\u001b[39;00m (\u001b[38;5;167;01mValueError\u001b[39;00m, \u001b[38;5;167;01mTypeError\u001b[39;00m):\n\u001b[0;32m   1294\u001b[0m     \u001b[38;5;66;03m# e.g. astype_nansafe can fail on object-dtype of strings\u001b[39;00m\n\u001b[0;32m   1295\u001b[0m     \u001b[38;5;66;03m#  trying to convert to float\u001b[39;00m\n\u001b[0;32m   1296\u001b[0m     \u001b[38;5;28;01mif\u001b[39;00m errors \u001b[38;5;241m==\u001b[39m \u001b[38;5;124m\"\u001b[39m\u001b[38;5;124mignore\u001b[39m\u001b[38;5;124m\"\u001b[39m:\n",
      "File \u001b[1;32mC:\\ProgramData\\Anaconda3\\lib\\site-packages\\pandas\\core\\dtypes\\cast.py:1237\u001b[0m, in \u001b[0;36mastype_array\u001b[1;34m(values, dtype, copy)\u001b[0m\n\u001b[0;32m   1234\u001b[0m     values \u001b[38;5;241m=\u001b[39m values\u001b[38;5;241m.\u001b[39mastype(dtype, copy\u001b[38;5;241m=\u001b[39mcopy)\n\u001b[0;32m   1236\u001b[0m \u001b[38;5;28;01melse\u001b[39;00m:\n\u001b[1;32m-> 1237\u001b[0m     values \u001b[38;5;241m=\u001b[39m \u001b[43mastype_nansafe\u001b[49m\u001b[43m(\u001b[49m\u001b[43mvalues\u001b[49m\u001b[43m,\u001b[49m\u001b[43m \u001b[49m\u001b[43mdtype\u001b[49m\u001b[43m,\u001b[49m\u001b[43m \u001b[49m\u001b[43mcopy\u001b[49m\u001b[38;5;241;43m=\u001b[39;49m\u001b[43mcopy\u001b[49m\u001b[43m)\u001b[49m\n\u001b[0;32m   1239\u001b[0m \u001b[38;5;66;03m# in pandas we don't store numpy str dtypes, so convert to object\u001b[39;00m\n\u001b[0;32m   1240\u001b[0m \u001b[38;5;28;01mif\u001b[39;00m \u001b[38;5;28misinstance\u001b[39m(dtype, np\u001b[38;5;241m.\u001b[39mdtype) \u001b[38;5;129;01mand\u001b[39;00m \u001b[38;5;28missubclass\u001b[39m(values\u001b[38;5;241m.\u001b[39mdtype\u001b[38;5;241m.\u001b[39mtype, \u001b[38;5;28mstr\u001b[39m):\n",
      "File \u001b[1;32mC:\\ProgramData\\Anaconda3\\lib\\site-packages\\pandas\\core\\dtypes\\cast.py:1154\u001b[0m, in \u001b[0;36mastype_nansafe\u001b[1;34m(arr, dtype, copy, skipna)\u001b[0m\n\u001b[0;32m   1150\u001b[0m \u001b[38;5;28;01melif\u001b[39;00m is_object_dtype(arr\u001b[38;5;241m.\u001b[39mdtype):\n\u001b[0;32m   1151\u001b[0m \n\u001b[0;32m   1152\u001b[0m     \u001b[38;5;66;03m# work around NumPy brokenness, #1987\u001b[39;00m\n\u001b[0;32m   1153\u001b[0m     \u001b[38;5;28;01mif\u001b[39;00m np\u001b[38;5;241m.\u001b[39missubdtype(dtype\u001b[38;5;241m.\u001b[39mtype, np\u001b[38;5;241m.\u001b[39minteger):\n\u001b[1;32m-> 1154\u001b[0m         \u001b[38;5;28;01mreturn\u001b[39;00m \u001b[43mlib\u001b[49m\u001b[38;5;241;43m.\u001b[39;49m\u001b[43mastype_intsafe\u001b[49m\u001b[43m(\u001b[49m\u001b[43marr\u001b[49m\u001b[43m,\u001b[49m\u001b[43m \u001b[49m\u001b[43mdtype\u001b[49m\u001b[43m)\u001b[49m\n\u001b[0;32m   1156\u001b[0m     \u001b[38;5;66;03m# if we have a datetime/timedelta array of objects\u001b[39;00m\n\u001b[0;32m   1157\u001b[0m     \u001b[38;5;66;03m# then coerce to a proper dtype and recall astype_nansafe\u001b[39;00m\n\u001b[0;32m   1159\u001b[0m     \u001b[38;5;28;01melif\u001b[39;00m is_datetime64_dtype(dtype):\n",
      "File \u001b[1;32mC:\\ProgramData\\Anaconda3\\lib\\site-packages\\pandas\\_libs\\lib.pyx:668\u001b[0m, in \u001b[0;36mpandas._libs.lib.astype_intsafe\u001b[1;34m()\u001b[0m\n",
      "\u001b[1;31mValueError\u001b[0m: invalid literal for int() with base 10: '-'"
     ]
    }
   ],
   "source": [
    "# To manipulated or change data type of particular column (astype) is used\n",
    "df1[\"2019\"] = df1[\"2019\"].astype(\"int\")"
   ]
  },
  {
   "cell_type": "markdown",
   "id": "234ac744",
   "metadata": {},
   "source": [
    "#### ValueError: invalid literal for int() with base 10: '-', indicates that there is a non-integer value in your '2019' column that cannot be converted to an integer. The hyphen '-' in the data is causing the error because it's not a valid integer representation."
   ]
  },
  {
   "cell_type": "code",
   "execution_count": 11,
   "id": "945f6e59",
   "metadata": {},
   "outputs": [
    {
     "data": {
      "text/plain": [
       "Index(['S.No', 'State/UT', 'Name', '2019', '2020', '2021', 'midPopulation',\n",
       "       'RateofCrimeAgainstWomen', 'ChargesSheetingRate'],\n",
       "      dtype='object')"
      ]
     },
     "execution_count": 11,
     "metadata": {},
     "output_type": "execute_result"
    }
   ],
   "source": [
    "# Checking column names\n",
    "df1.columns"
   ]
  },
  {
   "cell_type": "code",
   "execution_count": 12,
   "id": "b5896d05",
   "metadata": {},
   "outputs": [],
   "source": [
    "# Changing column name\n",
    "df1.rename(columns={\"Name\":\"State_Name\"},inplace = True)"
   ]
  },
  {
   "cell_type": "code",
   "execution_count": 13,
   "id": "7c3ba6c4",
   "metadata": {},
   "outputs": [
    {
     "data": {
      "text/plain": [
       "Index(['S.No', 'State/UT', 'State_Name', '2019', '2020', '2021',\n",
       "       'midPopulation', 'RateofCrimeAgainstWomen', 'ChargesSheetingRate'],\n",
       "      dtype='object')"
      ]
     },
     "execution_count": 13,
     "metadata": {},
     "output_type": "execute_result"
    }
   ],
   "source": [
    "df1.columns"
   ]
  },
  {
   "cell_type": "markdown",
   "id": "79935162",
   "metadata": {},
   "source": [
    "#### From above step we have changed the column name [Name --> State_Name]"
   ]
  },
  {
   "cell_type": "code",
   "execution_count": 14,
   "id": "0979edcd",
   "metadata": {},
   "outputs": [
    {
     "data": {
      "text/plain": [
       "array(['State', 'UT'], dtype=object)"
      ]
     },
     "execution_count": 14,
     "metadata": {},
     "output_type": "execute_result"
    }
   ],
   "source": [
    "df1[\"State/UT\"].unique()"
   ]
  },
  {
   "cell_type": "code",
   "execution_count": 15,
   "id": "89653b94",
   "metadata": {},
   "outputs": [
    {
     "data": {
      "text/plain": [
       "array(['Andhra Pradesh', 'Arunachal Pradesh', 'Assam', 'Bihar',\n",
       "       'Chhattisgarh', 'Goa', 'Gujarat', 'Haryana', 'Himachal Pradesh',\n",
       "       'Jharkhand', 'Karnataka', 'Kerala', 'Madhya Pradesh',\n",
       "       'Maharashtra', 'Manipur', 'Meghalaya', 'Mizoram', 'Nagaland',\n",
       "       'Odisha', 'Punjab', 'Rajasthan', 'Sikkim', 'Tamil Nadu',\n",
       "       'Telangana', 'Tripura', 'Uttar Pradesh', 'Uttarakhand',\n",
       "       'West Bengal', 'A&N Islands', 'Chandigarh',\n",
       "       'D&N Haveli and Daman & Diu+', 'Delhi', 'Jammu & Kashmir',\n",
       "       'Ladakh', 'Lakshadweep', 'Puducherry'], dtype=object)"
      ]
     },
     "execution_count": 15,
     "metadata": {},
     "output_type": "execute_result"
    }
   ],
   "source": [
    "df1[\"State_Name\"].unique()"
   ]
  },
  {
   "cell_type": "markdown",
   "id": "84dd1c24",
   "metadata": {},
   "source": [
    "#### From above stetp it is clearly evident that some states like D&N Haveli and Daman & Diu+ have special characters at end we need to reomve."
   ]
  },
  {
   "cell_type": "code",
   "execution_count": 16,
   "id": "9648e01d",
   "metadata": {},
   "outputs": [],
   "source": [
    "df1.loc[30,\"State_Name\"] = \"D&N Haveli and Daman & Diu\""
   ]
  },
  {
   "cell_type": "code",
   "execution_count": 17,
   "id": "99e33ffa",
   "metadata": {},
   "outputs": [
    {
     "data": {
      "text/plain": [
       "array(['Andhra Pradesh', 'Arunachal Pradesh', 'Assam', 'Bihar',\n",
       "       'Chhattisgarh', 'Goa', 'Gujarat', 'Haryana', 'Himachal Pradesh',\n",
       "       'Jharkhand', 'Karnataka', 'Kerala', 'Madhya Pradesh',\n",
       "       'Maharashtra', 'Manipur', 'Meghalaya', 'Mizoram', 'Nagaland',\n",
       "       'Odisha', 'Punjab', 'Rajasthan', 'Sikkim', 'Tamil Nadu',\n",
       "       'Telangana', 'Tripura', 'Uttar Pradesh', 'Uttarakhand',\n",
       "       'West Bengal', 'A&N Islands', 'Chandigarh',\n",
       "       'D&N Haveli and Daman & Diu', 'Delhi', 'Jammu & Kashmir', 'Ladakh',\n",
       "       'Lakshadweep', 'Puducherry'], dtype=object)"
      ]
     },
     "execution_count": 17,
     "metadata": {},
     "output_type": "execute_result"
    }
   ],
   "source": [
    "df1[\"State_Name\"].unique()"
   ]
  },
  {
   "cell_type": "code",
   "execution_count": 18,
   "id": "e012447d",
   "metadata": {},
   "outputs": [
    {
     "data": {
      "text/plain": [
       "array(['17746', '317', '30025', '18587', '7689', '329', '8799', '14683',\n",
       "       '1636', '8760', '13828', '11462', '27560', '37144', '266', '558',\n",
       "       '170', '43', '23183', '5886', '41550', '125', '5934', '18394',\n",
       "       '1070', '59853', '2541', '29859', '135', '515', '82', '13395',\n",
       "       '3069', '-', '38', '95'], dtype=object)"
      ]
     },
     "execution_count": 18,
     "metadata": {},
     "output_type": "execute_result"
    }
   ],
   "source": [
    "df1[\"2019\"].unique()"
   ]
  },
  {
   "cell_type": "markdown",
   "id": "cd9e8e02",
   "metadata": {},
   "source": [
    "#### From above step it is clearly evident that there is (-) in data set."
   ]
  },
  {
   "cell_type": "code",
   "execution_count": 19,
   "id": "a2e8f3f6",
   "metadata": {},
   "outputs": [],
   "source": [
    "# Replacing ( _ ) with nan in 2019 column\n",
    "df1[\"2019\"] = df1[\"2019\"].replace('-', np.nan)"
   ]
  },
  {
   "cell_type": "code",
   "execution_count": 20,
   "id": "e698ad9b",
   "metadata": {},
   "outputs": [
    {
     "data": {
      "text/plain": [
       "array(['17746', '317', '30025', '18587', '7689', '329', '8799', '14683',\n",
       "       '1636', '8760', '13828', '11462', '27560', '37144', '266', '558',\n",
       "       '170', '43', '23183', '5886', '41550', '125', '5934', '18394',\n",
       "       '1070', '59853', '2541', '29859', '135', '515', '82', '13395',\n",
       "       '3069', nan, '38', '95'], dtype=object)"
      ]
     },
     "execution_count": 20,
     "metadata": {},
     "output_type": "execute_result"
    }
   ],
   "source": [
    "df1[\"2019\"].unique()"
   ]
  },
  {
   "cell_type": "code",
   "execution_count": 21,
   "id": "84509d8f",
   "metadata": {},
   "outputs": [
    {
     "data": {
      "text/plain": [
       "S.No                       0\n",
       "State/UT                   0\n",
       "State_Name                 0\n",
       "2019                       1\n",
       "2020                       0\n",
       "2021                       0\n",
       "midPopulation              0\n",
       "RateofCrimeAgainstWomen    0\n",
       "ChargesSheetingRate        0\n",
       "dtype: int64"
      ]
     },
     "execution_count": 21,
     "metadata": {},
     "output_type": "execute_result"
    }
   ],
   "source": [
    "# Now checking null values in 2019 column\n",
    "df1.isnull().sum()"
   ]
  },
  {
   "cell_type": "markdown",
   "id": "7665ee3d",
   "metadata": {},
   "source": [
    "#### From above it is evident that 2019 column have 1 null value"
   ]
  },
  {
   "cell_type": "code",
   "execution_count": 22,
   "id": "4e905bab",
   "metadata": {},
   "outputs": [
    {
     "name": "stdout",
     "output_type": "stream",
     "text": [
      "<class 'pandas.core.frame.DataFrame'>\n",
      "RangeIndex: 36 entries, 0 to 35\n",
      "Data columns (total 9 columns):\n",
      " #   Column                   Non-Null Count  Dtype  \n",
      "---  ------                   --------------  -----  \n",
      " 0   S.No                     36 non-null     int64  \n",
      " 1   State/UT                 36 non-null     object \n",
      " 2   State_Name               36 non-null     object \n",
      " 3   2019                     35 non-null     object \n",
      " 4   2020                     36 non-null     int64  \n",
      " 5   2021                     36 non-null     int64  \n",
      " 6   midPopulation            36 non-null     float64\n",
      " 7   RateofCrimeAgainstWomen  36 non-null     float64\n",
      " 8   ChargesSheetingRate      36 non-null     float64\n",
      "dtypes: float64(3), int64(3), object(3)\n",
      "memory usage: 2.7+ KB\n"
     ]
    }
   ],
   "source": [
    "df1.info()"
   ]
  },
  {
   "cell_type": "code",
   "execution_count": 23,
   "id": "94ed8fba",
   "metadata": {},
   "outputs": [
    {
     "data": {
      "text/plain": [
       "dtype('O')"
      ]
     },
     "execution_count": 23,
     "metadata": {},
     "output_type": "execute_result"
    }
   ],
   "source": [
    "# To check the data type of particular column\n",
    "df1[\"2019\"].dtype"
   ]
  },
  {
   "cell_type": "code",
   "execution_count": 24,
   "id": "b5510496",
   "metadata": {},
   "outputs": [
    {
     "ename": "ValueError",
     "evalue": "cannot convert float NaN to integer",
     "output_type": "error",
     "traceback": [
      "\u001b[1;31m---------------------------------------------------------------------------\u001b[0m",
      "\u001b[1;31mValueError\u001b[0m                                Traceback (most recent call last)",
      "Input \u001b[1;32mIn [24]\u001b[0m, in \u001b[0;36m<cell line: 2>\u001b[1;34m()\u001b[0m\n\u001b[0;32m      1\u001b[0m \u001b[38;5;66;03m# To manipulated or change data type of particular column (astype) is used\u001b[39;00m\n\u001b[1;32m----> 2\u001b[0m df1[\u001b[38;5;124m\"\u001b[39m\u001b[38;5;124m2019\u001b[39m\u001b[38;5;124m\"\u001b[39m] \u001b[38;5;241m=\u001b[39m \u001b[43mdf1\u001b[49m\u001b[43m[\u001b[49m\u001b[38;5;124;43m\"\u001b[39;49m\u001b[38;5;124;43m2019\u001b[39;49m\u001b[38;5;124;43m\"\u001b[39;49m\u001b[43m]\u001b[49m\u001b[38;5;241;43m.\u001b[39;49m\u001b[43mastype\u001b[49m\u001b[43m(\u001b[49m\u001b[38;5;124;43m\"\u001b[39;49m\u001b[38;5;124;43mint\u001b[39;49m\u001b[38;5;124;43m\"\u001b[39;49m\u001b[43m)\u001b[49m\n",
      "File \u001b[1;32mC:\\ProgramData\\Anaconda3\\lib\\site-packages\\pandas\\core\\generic.py:5912\u001b[0m, in \u001b[0;36mNDFrame.astype\u001b[1;34m(self, dtype, copy, errors)\u001b[0m\n\u001b[0;32m   5905\u001b[0m     results \u001b[38;5;241m=\u001b[39m [\n\u001b[0;32m   5906\u001b[0m         \u001b[38;5;28mself\u001b[39m\u001b[38;5;241m.\u001b[39miloc[:, i]\u001b[38;5;241m.\u001b[39mastype(dtype, copy\u001b[38;5;241m=\u001b[39mcopy)\n\u001b[0;32m   5907\u001b[0m         \u001b[38;5;28;01mfor\u001b[39;00m i \u001b[38;5;129;01min\u001b[39;00m \u001b[38;5;28mrange\u001b[39m(\u001b[38;5;28mlen\u001b[39m(\u001b[38;5;28mself\u001b[39m\u001b[38;5;241m.\u001b[39mcolumns))\n\u001b[0;32m   5908\u001b[0m     ]\n\u001b[0;32m   5910\u001b[0m \u001b[38;5;28;01melse\u001b[39;00m:\n\u001b[0;32m   5911\u001b[0m     \u001b[38;5;66;03m# else, only a single dtype is given\u001b[39;00m\n\u001b[1;32m-> 5912\u001b[0m     new_data \u001b[38;5;241m=\u001b[39m \u001b[38;5;28;43mself\u001b[39;49m\u001b[38;5;241;43m.\u001b[39;49m\u001b[43m_mgr\u001b[49m\u001b[38;5;241;43m.\u001b[39;49m\u001b[43mastype\u001b[49m\u001b[43m(\u001b[49m\u001b[43mdtype\u001b[49m\u001b[38;5;241;43m=\u001b[39;49m\u001b[43mdtype\u001b[49m\u001b[43m,\u001b[49m\u001b[43m \u001b[49m\u001b[43mcopy\u001b[49m\u001b[38;5;241;43m=\u001b[39;49m\u001b[43mcopy\u001b[49m\u001b[43m,\u001b[49m\u001b[43m \u001b[49m\u001b[43merrors\u001b[49m\u001b[38;5;241;43m=\u001b[39;49m\u001b[43merrors\u001b[49m\u001b[43m)\u001b[49m\n\u001b[0;32m   5913\u001b[0m     \u001b[38;5;28;01mreturn\u001b[39;00m \u001b[38;5;28mself\u001b[39m\u001b[38;5;241m.\u001b[39m_constructor(new_data)\u001b[38;5;241m.\u001b[39m__finalize__(\u001b[38;5;28mself\u001b[39m, method\u001b[38;5;241m=\u001b[39m\u001b[38;5;124m\"\u001b[39m\u001b[38;5;124mastype\u001b[39m\u001b[38;5;124m\"\u001b[39m)\n\u001b[0;32m   5915\u001b[0m \u001b[38;5;66;03m# GH 33113: handle empty frame or series\u001b[39;00m\n",
      "File \u001b[1;32mC:\\ProgramData\\Anaconda3\\lib\\site-packages\\pandas\\core\\internals\\managers.py:419\u001b[0m, in \u001b[0;36mBaseBlockManager.astype\u001b[1;34m(self, dtype, copy, errors)\u001b[0m\n\u001b[0;32m    418\u001b[0m \u001b[38;5;28;01mdef\u001b[39;00m \u001b[38;5;21mastype\u001b[39m(\u001b[38;5;28mself\u001b[39m: T, dtype, copy: \u001b[38;5;28mbool\u001b[39m \u001b[38;5;241m=\u001b[39m \u001b[38;5;28;01mFalse\u001b[39;00m, errors: \u001b[38;5;28mstr\u001b[39m \u001b[38;5;241m=\u001b[39m \u001b[38;5;124m\"\u001b[39m\u001b[38;5;124mraise\u001b[39m\u001b[38;5;124m\"\u001b[39m) \u001b[38;5;241m-\u001b[39m\u001b[38;5;241m>\u001b[39m T:\n\u001b[1;32m--> 419\u001b[0m     \u001b[38;5;28;01mreturn\u001b[39;00m \u001b[38;5;28;43mself\u001b[39;49m\u001b[38;5;241;43m.\u001b[39;49m\u001b[43mapply\u001b[49m\u001b[43m(\u001b[49m\u001b[38;5;124;43m\"\u001b[39;49m\u001b[38;5;124;43mastype\u001b[39;49m\u001b[38;5;124;43m\"\u001b[39;49m\u001b[43m,\u001b[49m\u001b[43m \u001b[49m\u001b[43mdtype\u001b[49m\u001b[38;5;241;43m=\u001b[39;49m\u001b[43mdtype\u001b[49m\u001b[43m,\u001b[49m\u001b[43m \u001b[49m\u001b[43mcopy\u001b[49m\u001b[38;5;241;43m=\u001b[39;49m\u001b[43mcopy\u001b[49m\u001b[43m,\u001b[49m\u001b[43m \u001b[49m\u001b[43merrors\u001b[49m\u001b[38;5;241;43m=\u001b[39;49m\u001b[43merrors\u001b[49m\u001b[43m)\u001b[49m\n",
      "File \u001b[1;32mC:\\ProgramData\\Anaconda3\\lib\\site-packages\\pandas\\core\\internals\\managers.py:304\u001b[0m, in \u001b[0;36mBaseBlockManager.apply\u001b[1;34m(self, f, align_keys, ignore_failures, **kwargs)\u001b[0m\n\u001b[0;32m    302\u001b[0m         applied \u001b[38;5;241m=\u001b[39m b\u001b[38;5;241m.\u001b[39mapply(f, \u001b[38;5;241m*\u001b[39m\u001b[38;5;241m*\u001b[39mkwargs)\n\u001b[0;32m    303\u001b[0m     \u001b[38;5;28;01melse\u001b[39;00m:\n\u001b[1;32m--> 304\u001b[0m         applied \u001b[38;5;241m=\u001b[39m \u001b[38;5;28mgetattr\u001b[39m(b, f)(\u001b[38;5;241m*\u001b[39m\u001b[38;5;241m*\u001b[39mkwargs)\n\u001b[0;32m    305\u001b[0m \u001b[38;5;28;01mexcept\u001b[39;00m (\u001b[38;5;167;01mTypeError\u001b[39;00m, \u001b[38;5;167;01mNotImplementedError\u001b[39;00m):\n\u001b[0;32m    306\u001b[0m     \u001b[38;5;28;01mif\u001b[39;00m \u001b[38;5;129;01mnot\u001b[39;00m ignore_failures:\n",
      "File \u001b[1;32mC:\\ProgramData\\Anaconda3\\lib\\site-packages\\pandas\\core\\internals\\blocks.py:580\u001b[0m, in \u001b[0;36mBlock.astype\u001b[1;34m(self, dtype, copy, errors)\u001b[0m\n\u001b[0;32m    562\u001b[0m \u001b[38;5;124;03m\"\"\"\u001b[39;00m\n\u001b[0;32m    563\u001b[0m \u001b[38;5;124;03mCoerce to the new dtype.\u001b[39;00m\n\u001b[0;32m    564\u001b[0m \n\u001b[1;32m   (...)\u001b[0m\n\u001b[0;32m    576\u001b[0m \u001b[38;5;124;03mBlock\u001b[39;00m\n\u001b[0;32m    577\u001b[0m \u001b[38;5;124;03m\"\"\"\u001b[39;00m\n\u001b[0;32m    578\u001b[0m values \u001b[38;5;241m=\u001b[39m \u001b[38;5;28mself\u001b[39m\u001b[38;5;241m.\u001b[39mvalues\n\u001b[1;32m--> 580\u001b[0m new_values \u001b[38;5;241m=\u001b[39m \u001b[43mastype_array_safe\u001b[49m\u001b[43m(\u001b[49m\u001b[43mvalues\u001b[49m\u001b[43m,\u001b[49m\u001b[43m \u001b[49m\u001b[43mdtype\u001b[49m\u001b[43m,\u001b[49m\u001b[43m \u001b[49m\u001b[43mcopy\u001b[49m\u001b[38;5;241;43m=\u001b[39;49m\u001b[43mcopy\u001b[49m\u001b[43m,\u001b[49m\u001b[43m \u001b[49m\u001b[43merrors\u001b[49m\u001b[38;5;241;43m=\u001b[39;49m\u001b[43merrors\u001b[49m\u001b[43m)\u001b[49m\n\u001b[0;32m    582\u001b[0m new_values \u001b[38;5;241m=\u001b[39m maybe_coerce_values(new_values)\n\u001b[0;32m    583\u001b[0m newb \u001b[38;5;241m=\u001b[39m \u001b[38;5;28mself\u001b[39m\u001b[38;5;241m.\u001b[39mmake_block(new_values)\n",
      "File \u001b[1;32mC:\\ProgramData\\Anaconda3\\lib\\site-packages\\pandas\\core\\dtypes\\cast.py:1292\u001b[0m, in \u001b[0;36mastype_array_safe\u001b[1;34m(values, dtype, copy, errors)\u001b[0m\n\u001b[0;32m   1289\u001b[0m     dtype \u001b[38;5;241m=\u001b[39m dtype\u001b[38;5;241m.\u001b[39mnumpy_dtype\n\u001b[0;32m   1291\u001b[0m \u001b[38;5;28;01mtry\u001b[39;00m:\n\u001b[1;32m-> 1292\u001b[0m     new_values \u001b[38;5;241m=\u001b[39m \u001b[43mastype_array\u001b[49m\u001b[43m(\u001b[49m\u001b[43mvalues\u001b[49m\u001b[43m,\u001b[49m\u001b[43m \u001b[49m\u001b[43mdtype\u001b[49m\u001b[43m,\u001b[49m\u001b[43m \u001b[49m\u001b[43mcopy\u001b[49m\u001b[38;5;241;43m=\u001b[39;49m\u001b[43mcopy\u001b[49m\u001b[43m)\u001b[49m\n\u001b[0;32m   1293\u001b[0m \u001b[38;5;28;01mexcept\u001b[39;00m (\u001b[38;5;167;01mValueError\u001b[39;00m, \u001b[38;5;167;01mTypeError\u001b[39;00m):\n\u001b[0;32m   1294\u001b[0m     \u001b[38;5;66;03m# e.g. astype_nansafe can fail on object-dtype of strings\u001b[39;00m\n\u001b[0;32m   1295\u001b[0m     \u001b[38;5;66;03m#  trying to convert to float\u001b[39;00m\n\u001b[0;32m   1296\u001b[0m     \u001b[38;5;28;01mif\u001b[39;00m errors \u001b[38;5;241m==\u001b[39m \u001b[38;5;124m\"\u001b[39m\u001b[38;5;124mignore\u001b[39m\u001b[38;5;124m\"\u001b[39m:\n",
      "File \u001b[1;32mC:\\ProgramData\\Anaconda3\\lib\\site-packages\\pandas\\core\\dtypes\\cast.py:1237\u001b[0m, in \u001b[0;36mastype_array\u001b[1;34m(values, dtype, copy)\u001b[0m\n\u001b[0;32m   1234\u001b[0m     values \u001b[38;5;241m=\u001b[39m values\u001b[38;5;241m.\u001b[39mastype(dtype, copy\u001b[38;5;241m=\u001b[39mcopy)\n\u001b[0;32m   1236\u001b[0m \u001b[38;5;28;01melse\u001b[39;00m:\n\u001b[1;32m-> 1237\u001b[0m     values \u001b[38;5;241m=\u001b[39m \u001b[43mastype_nansafe\u001b[49m\u001b[43m(\u001b[49m\u001b[43mvalues\u001b[49m\u001b[43m,\u001b[49m\u001b[43m \u001b[49m\u001b[43mdtype\u001b[49m\u001b[43m,\u001b[49m\u001b[43m \u001b[49m\u001b[43mcopy\u001b[49m\u001b[38;5;241;43m=\u001b[39;49m\u001b[43mcopy\u001b[49m\u001b[43m)\u001b[49m\n\u001b[0;32m   1239\u001b[0m \u001b[38;5;66;03m# in pandas we don't store numpy str dtypes, so convert to object\u001b[39;00m\n\u001b[0;32m   1240\u001b[0m \u001b[38;5;28;01mif\u001b[39;00m \u001b[38;5;28misinstance\u001b[39m(dtype, np\u001b[38;5;241m.\u001b[39mdtype) \u001b[38;5;129;01mand\u001b[39;00m \u001b[38;5;28missubclass\u001b[39m(values\u001b[38;5;241m.\u001b[39mdtype\u001b[38;5;241m.\u001b[39mtype, \u001b[38;5;28mstr\u001b[39m):\n",
      "File \u001b[1;32mC:\\ProgramData\\Anaconda3\\lib\\site-packages\\pandas\\core\\dtypes\\cast.py:1154\u001b[0m, in \u001b[0;36mastype_nansafe\u001b[1;34m(arr, dtype, copy, skipna)\u001b[0m\n\u001b[0;32m   1150\u001b[0m \u001b[38;5;28;01melif\u001b[39;00m is_object_dtype(arr\u001b[38;5;241m.\u001b[39mdtype):\n\u001b[0;32m   1151\u001b[0m \n\u001b[0;32m   1152\u001b[0m     \u001b[38;5;66;03m# work around NumPy brokenness, #1987\u001b[39;00m\n\u001b[0;32m   1153\u001b[0m     \u001b[38;5;28;01mif\u001b[39;00m np\u001b[38;5;241m.\u001b[39missubdtype(dtype\u001b[38;5;241m.\u001b[39mtype, np\u001b[38;5;241m.\u001b[39minteger):\n\u001b[1;32m-> 1154\u001b[0m         \u001b[38;5;28;01mreturn\u001b[39;00m \u001b[43mlib\u001b[49m\u001b[38;5;241;43m.\u001b[39;49m\u001b[43mastype_intsafe\u001b[49m\u001b[43m(\u001b[49m\u001b[43marr\u001b[49m\u001b[43m,\u001b[49m\u001b[43m \u001b[49m\u001b[43mdtype\u001b[49m\u001b[43m)\u001b[49m\n\u001b[0;32m   1156\u001b[0m     \u001b[38;5;66;03m# if we have a datetime/timedelta array of objects\u001b[39;00m\n\u001b[0;32m   1157\u001b[0m     \u001b[38;5;66;03m# then coerce to a proper dtype and recall astype_nansafe\u001b[39;00m\n\u001b[0;32m   1159\u001b[0m     \u001b[38;5;28;01melif\u001b[39;00m is_datetime64_dtype(dtype):\n",
      "File \u001b[1;32mC:\\ProgramData\\Anaconda3\\lib\\site-packages\\pandas\\_libs\\lib.pyx:668\u001b[0m, in \u001b[0;36mpandas._libs.lib.astype_intsafe\u001b[1;34m()\u001b[0m\n",
      "\u001b[1;31mValueError\u001b[0m: cannot convert float NaN to integer"
     ]
    }
   ],
   "source": [
    "# To manipulated or change data type of particular column (astype) is used\n",
    "df1[\"2019\"] = df1[\"2019\"].astype(\"int\")"
   ]
  },
  {
   "cell_type": "markdown",
   "id": "e3f384e6",
   "metadata": {},
   "source": [
    "#### The error you're encountering, ValueError: cannot convert float NaN to integer, occurs because you're attempting to convert a column containing NaN (Not a Number) values to an integer data type. Since NaN is not a valid integer value, you cannot directly cast a column with NaN values to an integer."
   ]
  },
  {
   "cell_type": "code",
   "execution_count": 25,
   "id": "2f94f16b",
   "metadata": {},
   "outputs": [],
   "source": [
    "# Replacing nan value with 0 in 2019 column\n",
    "df1[\"2019\"] = df1[\"2019\"].fillna(0)"
   ]
  },
  {
   "cell_type": "code",
   "execution_count": 26,
   "id": "47a9ef42",
   "metadata": {},
   "outputs": [
    {
     "data": {
      "text/plain": [
       "S.No                       0\n",
       "State/UT                   0\n",
       "State_Name                 0\n",
       "2019                       0\n",
       "2020                       0\n",
       "2021                       0\n",
       "midPopulation              0\n",
       "RateofCrimeAgainstWomen    0\n",
       "ChargesSheetingRate        0\n",
       "dtype: int64"
      ]
     },
     "execution_count": 26,
     "metadata": {},
     "output_type": "execute_result"
    }
   ],
   "source": [
    "df1.isnull().sum()"
   ]
  },
  {
   "cell_type": "markdown",
   "id": "45886ac2",
   "metadata": {},
   "source": [
    "#### Successfully removed null values from 2019 column"
   ]
  },
  {
   "cell_type": "code",
   "execution_count": 27,
   "id": "8d19058a",
   "metadata": {},
   "outputs": [
    {
     "data": {
      "text/plain": [
       "dtype('O')"
      ]
     },
     "execution_count": 27,
     "metadata": {},
     "output_type": "execute_result"
    }
   ],
   "source": [
    "df1[\"2019\"].dtype"
   ]
  },
  {
   "cell_type": "code",
   "execution_count": 28,
   "id": "9e355278",
   "metadata": {},
   "outputs": [],
   "source": [
    "df1[\"2019\"] = df1[\"2019\"].astype(\"int\")"
   ]
  },
  {
   "cell_type": "code",
   "execution_count": 29,
   "id": "30c909e2",
   "metadata": {},
   "outputs": [
    {
     "name": "stdout",
     "output_type": "stream",
     "text": [
      "<class 'pandas.core.frame.DataFrame'>\n",
      "RangeIndex: 36 entries, 0 to 35\n",
      "Data columns (total 9 columns):\n",
      " #   Column                   Non-Null Count  Dtype  \n",
      "---  ------                   --------------  -----  \n",
      " 0   S.No                     36 non-null     int64  \n",
      " 1   State/UT                 36 non-null     object \n",
      " 2   State_Name               36 non-null     object \n",
      " 3   2019                     36 non-null     int32  \n",
      " 4   2020                     36 non-null     int64  \n",
      " 5   2021                     36 non-null     int64  \n",
      " 6   midPopulation            36 non-null     float64\n",
      " 7   RateofCrimeAgainstWomen  36 non-null     float64\n",
      " 8   ChargesSheetingRate      36 non-null     float64\n",
      "dtypes: float64(3), int32(1), int64(3), object(2)\n",
      "memory usage: 2.5+ KB\n"
     ]
    }
   ],
   "source": [
    "df1.info()"
   ]
  },
  {
   "cell_type": "markdown",
   "id": "511702af",
   "metadata": {},
   "source": [
    "#### Successfully changed 2019 column data type from object to integer"
   ]
  },
  {
   "cell_type": "code",
   "execution_count": 30,
   "id": "a12fac27",
   "metadata": {},
   "outputs": [
    {
     "data": {
      "text/plain": [
       "array([17089,   281, 26352, 15359,  7385,   219,  8028, 13000,  1614,\n",
       "        7630, 12680, 10139, 25640, 31954,   247,   568,   172,    39,\n",
       "       25489,  4838, 34535,   140,  6630, 17791,   874, 49385,  2846,\n",
       "       36439,   143,   301,    61, 10093,  3405,     9,    15,   113],\n",
       "      dtype=int64)"
      ]
     },
     "execution_count": 30,
     "metadata": {},
     "output_type": "execute_result"
    }
   ],
   "source": [
    "df1[\"2020\"].unique()"
   ]
  },
  {
   "cell_type": "code",
   "execution_count": 31,
   "id": "2d9ed155",
   "metadata": {},
   "outputs": [
    {
     "data": {
      "text/plain": [
       "array([17752,   366, 29046, 17950,  7344,   224,  7348, 16658,  1599,\n",
       "        8110, 14468, 13539, 30673, 39526,   302,   685,   176,    54,\n",
       "       31352,  5662, 40738,   130,  8501, 20865,   807, 56083,  3431,\n",
       "       35884,   169,   343,    99, 14277,  3937,    18,     9,   153],\n",
       "      dtype=int64)"
      ]
     },
     "execution_count": 31,
     "metadata": {},
     "output_type": "execute_result"
    }
   ],
   "source": [
    "df1[\"2021\"].unique()"
   ]
  },
  {
   "cell_type": "code",
   "execution_count": 32,
   "id": "5b9f024c",
   "metadata": {},
   "outputs": [
    {
     "data": {
      "text/plain": [
       "array([2.6420e+02, 7.5000e+00, 1.7260e+02, 5.9370e+02, 1.4760e+02,\n",
       "       7.7000e+00, 3.3320e+02, 1.3920e+02, 3.6500e+01, 1.8850e+02,\n",
       "       3.3000e+02, 1.8470e+02, 4.1080e+02, 5.9890e+02, 1.5800e+01,\n",
       "       1.6400e+01, 6.0000e+00, 1.0600e+01, 2.2740e+02, 1.4430e+02,\n",
       "       3.8670e+02, 3.2000e+00, 3.8280e+02, 1.8770e+02, 2.0100e+01,\n",
       "       1.1096e+03, 5.5800e+01, 4.8120e+02, 1.9000e+00, 5.6000e+00,\n",
       "       3.9000e+00, 9.6700e+01, 6.4000e+01, 1.3000e+00, 3.0000e-01,\n",
       "       8.3000e+00])"
      ]
     },
     "execution_count": 32,
     "metadata": {},
     "output_type": "execute_result"
    }
   ],
   "source": [
    "df1[\"midPopulation\"].unique()"
   ]
  },
  {
   "cell_type": "code",
   "execution_count": 34,
   "id": "fac1069f",
   "metadata": {},
   "outputs": [
    {
     "data": {
      "text/plain": [
       "array([ 67.2,  49.1, 168.3,  30.2,  49.8,  28.9,  22.1, 119.7,  43.8,\n",
       "        43. ,  73.3,  74.7,  66. ,  19.1,  41.7,  29.1,   5.1, 137.8,\n",
       "        39.2, 105.4,  40.6,  22.2, 111.2,  40.2,  50.5,  61.5,  74.6,\n",
       "        89.4,  61.7,  25.3, 147.6,  61.6,  13.8,  27.3,  18.5])"
      ]
     },
     "execution_count": 34,
     "metadata": {},
     "output_type": "execute_result"
    }
   ],
   "source": [
    "df1[\"RateofCrimeAgainstWomen\"].unique()"
   ]
  },
  {
   "cell_type": "code",
   "execution_count": 35,
   "id": "e7ef557b",
   "metadata": {},
   "outputs": [
    {
     "data": {
      "text/plain": [
       "array([93.5, 77.6, 52.9, 69.4, 88.5, 77.4, 93.3, 57.1, 76.5, 79.7, 87.2,\n",
       "       94.6, 83.7, 82.4, 48.4, 76.1, 94.9, 80.4, 80.1, 75.3, 54.5, 98.3,\n",
       "       87.5, 87.8, 84.7, 81.5, 93.7, 97.1, 51. , 74. , 71.2, 72.5, 85.7,\n",
       "       80. , 97.6])"
      ]
     },
     "execution_count": 35,
     "metadata": {},
     "output_type": "execute_result"
    }
   ],
   "source": [
    "df1[\"ChargesSheetingRate\"].unique()"
   ]
  },
  {
   "cell_type": "code",
   "execution_count": 36,
   "id": "0f19fdd8",
   "metadata": {},
   "outputs": [
    {
     "data": {
      "text/html": [
       "<div>\n",
       "<style scoped>\n",
       "    .dataframe tbody tr th:only-of-type {\n",
       "        vertical-align: middle;\n",
       "    }\n",
       "\n",
       "    .dataframe tbody tr th {\n",
       "        vertical-align: top;\n",
       "    }\n",
       "\n",
       "    .dataframe thead th {\n",
       "        text-align: right;\n",
       "    }\n",
       "</style>\n",
       "<table border=\"1\" class=\"dataframe\">\n",
       "  <thead>\n",
       "    <tr style=\"text-align: right;\">\n",
       "      <th></th>\n",
       "      <th>S.No</th>\n",
       "      <th>State/UT</th>\n",
       "      <th>State_Name</th>\n",
       "      <th>2019</th>\n",
       "      <th>2020</th>\n",
       "      <th>2021</th>\n",
       "      <th>midPopulation</th>\n",
       "      <th>RateofCrimeAgainstWomen</th>\n",
       "      <th>ChargesSheetingRate</th>\n",
       "    </tr>\n",
       "  </thead>\n",
       "  <tbody>\n",
       "    <tr>\n",
       "      <th>0</th>\n",
       "      <td>1</td>\n",
       "      <td>State</td>\n",
       "      <td>Andhra Pradesh</td>\n",
       "      <td>17746</td>\n",
       "      <td>17089</td>\n",
       "      <td>17752</td>\n",
       "      <td>264.2</td>\n",
       "      <td>67.2</td>\n",
       "      <td>93.5</td>\n",
       "    </tr>\n",
       "    <tr>\n",
       "      <th>1</th>\n",
       "      <td>2</td>\n",
       "      <td>State</td>\n",
       "      <td>Arunachal Pradesh</td>\n",
       "      <td>317</td>\n",
       "      <td>281</td>\n",
       "      <td>366</td>\n",
       "      <td>7.5</td>\n",
       "      <td>49.1</td>\n",
       "      <td>77.6</td>\n",
       "    </tr>\n",
       "    <tr>\n",
       "      <th>2</th>\n",
       "      <td>3</td>\n",
       "      <td>State</td>\n",
       "      <td>Assam</td>\n",
       "      <td>30025</td>\n",
       "      <td>26352</td>\n",
       "      <td>29046</td>\n",
       "      <td>172.6</td>\n",
       "      <td>168.3</td>\n",
       "      <td>52.9</td>\n",
       "    </tr>\n",
       "    <tr>\n",
       "      <th>3</th>\n",
       "      <td>4</td>\n",
       "      <td>State</td>\n",
       "      <td>Bihar</td>\n",
       "      <td>18587</td>\n",
       "      <td>15359</td>\n",
       "      <td>17950</td>\n",
       "      <td>593.7</td>\n",
       "      <td>30.2</td>\n",
       "      <td>69.4</td>\n",
       "    </tr>\n",
       "    <tr>\n",
       "      <th>4</th>\n",
       "      <td>5</td>\n",
       "      <td>State</td>\n",
       "      <td>Chhattisgarh</td>\n",
       "      <td>7689</td>\n",
       "      <td>7385</td>\n",
       "      <td>7344</td>\n",
       "      <td>147.6</td>\n",
       "      <td>49.8</td>\n",
       "      <td>88.5</td>\n",
       "    </tr>\n",
       "  </tbody>\n",
       "</table>\n",
       "</div>"
      ],
      "text/plain": [
       "   S.No State/UT         State_Name   2019   2020   2021  midPopulation  \\\n",
       "0     1    State     Andhra Pradesh  17746  17089  17752          264.2   \n",
       "1     2    State  Arunachal Pradesh    317    281    366            7.5   \n",
       "2     3    State              Assam  30025  26352  29046          172.6   \n",
       "3     4    State              Bihar  18587  15359  17950          593.7   \n",
       "4     5    State       Chhattisgarh   7689   7385   7344          147.6   \n",
       "\n",
       "   RateofCrimeAgainstWomen  ChargesSheetingRate  \n",
       "0                     67.2                 93.5  \n",
       "1                     49.1                 77.6  \n",
       "2                    168.3                 52.9  \n",
       "3                     30.2                 69.4  \n",
       "4                     49.8                 88.5  "
      ]
     },
     "execution_count": 36,
     "metadata": {},
     "output_type": "execute_result"
    }
   ],
   "source": [
    "df1.head()"
   ]
  },
  {
   "cell_type": "code",
   "execution_count": 37,
   "id": "aed5c856",
   "metadata": {},
   "outputs": [],
   "source": [
    "df1[\"Total Cases (2019 - 2021)\"] = df1[\"2019\"] + df1[\"2020\"] + df1[\"2021\"]"
   ]
  },
  {
   "cell_type": "markdown",
   "id": "8deea2af",
   "metadata": {},
   "source": [
    "#### From above we have created a new column (Total Cases (2019 - 2021)) by adding 2019 2020 2021 columns."
   ]
  },
  {
   "cell_type": "code",
   "execution_count": 38,
   "id": "53c2205c",
   "metadata": {},
   "outputs": [
    {
     "data": {
      "text/html": [
       "<div>\n",
       "<style scoped>\n",
       "    .dataframe tbody tr th:only-of-type {\n",
       "        vertical-align: middle;\n",
       "    }\n",
       "\n",
       "    .dataframe tbody tr th {\n",
       "        vertical-align: top;\n",
       "    }\n",
       "\n",
       "    .dataframe thead th {\n",
       "        text-align: right;\n",
       "    }\n",
       "</style>\n",
       "<table border=\"1\" class=\"dataframe\">\n",
       "  <thead>\n",
       "    <tr style=\"text-align: right;\">\n",
       "      <th></th>\n",
       "      <th>S.No</th>\n",
       "      <th>State/UT</th>\n",
       "      <th>State_Name</th>\n",
       "      <th>2019</th>\n",
       "      <th>2020</th>\n",
       "      <th>2021</th>\n",
       "      <th>midPopulation</th>\n",
       "      <th>RateofCrimeAgainstWomen</th>\n",
       "      <th>ChargesSheetingRate</th>\n",
       "      <th>Total Cases (2019 - 2021)</th>\n",
       "    </tr>\n",
       "  </thead>\n",
       "  <tbody>\n",
       "    <tr>\n",
       "      <th>0</th>\n",
       "      <td>1</td>\n",
       "      <td>State</td>\n",
       "      <td>Andhra Pradesh</td>\n",
       "      <td>17746</td>\n",
       "      <td>17089</td>\n",
       "      <td>17752</td>\n",
       "      <td>264.2</td>\n",
       "      <td>67.2</td>\n",
       "      <td>93.5</td>\n",
       "      <td>52587</td>\n",
       "    </tr>\n",
       "    <tr>\n",
       "      <th>1</th>\n",
       "      <td>2</td>\n",
       "      <td>State</td>\n",
       "      <td>Arunachal Pradesh</td>\n",
       "      <td>317</td>\n",
       "      <td>281</td>\n",
       "      <td>366</td>\n",
       "      <td>7.5</td>\n",
       "      <td>49.1</td>\n",
       "      <td>77.6</td>\n",
       "      <td>964</td>\n",
       "    </tr>\n",
       "    <tr>\n",
       "      <th>2</th>\n",
       "      <td>3</td>\n",
       "      <td>State</td>\n",
       "      <td>Assam</td>\n",
       "      <td>30025</td>\n",
       "      <td>26352</td>\n",
       "      <td>29046</td>\n",
       "      <td>172.6</td>\n",
       "      <td>168.3</td>\n",
       "      <td>52.9</td>\n",
       "      <td>85423</td>\n",
       "    </tr>\n",
       "    <tr>\n",
       "      <th>3</th>\n",
       "      <td>4</td>\n",
       "      <td>State</td>\n",
       "      <td>Bihar</td>\n",
       "      <td>18587</td>\n",
       "      <td>15359</td>\n",
       "      <td>17950</td>\n",
       "      <td>593.7</td>\n",
       "      <td>30.2</td>\n",
       "      <td>69.4</td>\n",
       "      <td>51896</td>\n",
       "    </tr>\n",
       "    <tr>\n",
       "      <th>4</th>\n",
       "      <td>5</td>\n",
       "      <td>State</td>\n",
       "      <td>Chhattisgarh</td>\n",
       "      <td>7689</td>\n",
       "      <td>7385</td>\n",
       "      <td>7344</td>\n",
       "      <td>147.6</td>\n",
       "      <td>49.8</td>\n",
       "      <td>88.5</td>\n",
       "      <td>22418</td>\n",
       "    </tr>\n",
       "  </tbody>\n",
       "</table>\n",
       "</div>"
      ],
      "text/plain": [
       "   S.No State/UT         State_Name   2019   2020   2021  midPopulation  \\\n",
       "0     1    State     Andhra Pradesh  17746  17089  17752          264.2   \n",
       "1     2    State  Arunachal Pradesh    317    281    366            7.5   \n",
       "2     3    State              Assam  30025  26352  29046          172.6   \n",
       "3     4    State              Bihar  18587  15359  17950          593.7   \n",
       "4     5    State       Chhattisgarh   7689   7385   7344          147.6   \n",
       "\n",
       "   RateofCrimeAgainstWomen  ChargesSheetingRate  Total Cases (2019 - 2021)  \n",
       "0                     67.2                 93.5                      52587  \n",
       "1                     49.1                 77.6                        964  \n",
       "2                    168.3                 52.9                      85423  \n",
       "3                     30.2                 69.4                      51896  \n",
       "4                     49.8                 88.5                      22418  "
      ]
     },
     "execution_count": 38,
     "metadata": {},
     "output_type": "execute_result"
    }
   ],
   "source": [
    "df1.head()"
   ]
  },
  {
   "cell_type": "code",
   "execution_count": 39,
   "id": "844fa088",
   "metadata": {},
   "outputs": [],
   "source": [
    "column_order = [\"S.No\",\"State/UT\",\"State_Name\",\"2019\",\"2020\",\"2021\",\"Total Cases (2019 - 2021)\",\"midPopulation\",\"RateofCrimeAgainstWomen\",\"ChargesSheetingRate\"]"
   ]
  },
  {
   "cell_type": "code",
   "execution_count": 40,
   "id": "8584aa72",
   "metadata": {},
   "outputs": [],
   "source": [
    "df1 = df1[column_order]"
   ]
  },
  {
   "cell_type": "code",
   "execution_count": 42,
   "id": "a6b19982",
   "metadata": {},
   "outputs": [
    {
     "data": {
      "text/html": [
       "<div>\n",
       "<style scoped>\n",
       "    .dataframe tbody tr th:only-of-type {\n",
       "        vertical-align: middle;\n",
       "    }\n",
       "\n",
       "    .dataframe tbody tr th {\n",
       "        vertical-align: top;\n",
       "    }\n",
       "\n",
       "    .dataframe thead th {\n",
       "        text-align: right;\n",
       "    }\n",
       "</style>\n",
       "<table border=\"1\" class=\"dataframe\">\n",
       "  <thead>\n",
       "    <tr style=\"text-align: right;\">\n",
       "      <th></th>\n",
       "      <th>S.No</th>\n",
       "      <th>State/UT</th>\n",
       "      <th>State_Name</th>\n",
       "      <th>2019</th>\n",
       "      <th>2020</th>\n",
       "      <th>2021</th>\n",
       "      <th>Total Cases (2019 - 2021)</th>\n",
       "      <th>midPopulation</th>\n",
       "      <th>RateofCrimeAgainstWomen</th>\n",
       "      <th>ChargesSheetingRate</th>\n",
       "    </tr>\n",
       "  </thead>\n",
       "  <tbody>\n",
       "    <tr>\n",
       "      <th>0</th>\n",
       "      <td>1</td>\n",
       "      <td>State</td>\n",
       "      <td>Andhra Pradesh</td>\n",
       "      <td>17746</td>\n",
       "      <td>17089</td>\n",
       "      <td>17752</td>\n",
       "      <td>52587</td>\n",
       "      <td>264.2</td>\n",
       "      <td>67.2</td>\n",
       "      <td>93.5</td>\n",
       "    </tr>\n",
       "    <tr>\n",
       "      <th>1</th>\n",
       "      <td>2</td>\n",
       "      <td>State</td>\n",
       "      <td>Arunachal Pradesh</td>\n",
       "      <td>317</td>\n",
       "      <td>281</td>\n",
       "      <td>366</td>\n",
       "      <td>964</td>\n",
       "      <td>7.5</td>\n",
       "      <td>49.1</td>\n",
       "      <td>77.6</td>\n",
       "    </tr>\n",
       "    <tr>\n",
       "      <th>2</th>\n",
       "      <td>3</td>\n",
       "      <td>State</td>\n",
       "      <td>Assam</td>\n",
       "      <td>30025</td>\n",
       "      <td>26352</td>\n",
       "      <td>29046</td>\n",
       "      <td>85423</td>\n",
       "      <td>172.6</td>\n",
       "      <td>168.3</td>\n",
       "      <td>52.9</td>\n",
       "    </tr>\n",
       "    <tr>\n",
       "      <th>3</th>\n",
       "      <td>4</td>\n",
       "      <td>State</td>\n",
       "      <td>Bihar</td>\n",
       "      <td>18587</td>\n",
       "      <td>15359</td>\n",
       "      <td>17950</td>\n",
       "      <td>51896</td>\n",
       "      <td>593.7</td>\n",
       "      <td>30.2</td>\n",
       "      <td>69.4</td>\n",
       "    </tr>\n",
       "    <tr>\n",
       "      <th>4</th>\n",
       "      <td>5</td>\n",
       "      <td>State</td>\n",
       "      <td>Chhattisgarh</td>\n",
       "      <td>7689</td>\n",
       "      <td>7385</td>\n",
       "      <td>7344</td>\n",
       "      <td>22418</td>\n",
       "      <td>147.6</td>\n",
       "      <td>49.8</td>\n",
       "      <td>88.5</td>\n",
       "    </tr>\n",
       "  </tbody>\n",
       "</table>\n",
       "</div>"
      ],
      "text/plain": [
       "   S.No State/UT         State_Name   2019   2020   2021  \\\n",
       "0     1    State     Andhra Pradesh  17746  17089  17752   \n",
       "1     2    State  Arunachal Pradesh    317    281    366   \n",
       "2     3    State              Assam  30025  26352  29046   \n",
       "3     4    State              Bihar  18587  15359  17950   \n",
       "4     5    State       Chhattisgarh   7689   7385   7344   \n",
       "\n",
       "   Total Cases (2019 - 2021)  midPopulation  RateofCrimeAgainstWomen  \\\n",
       "0                      52587          264.2                     67.2   \n",
       "1                        964            7.5                     49.1   \n",
       "2                      85423          172.6                    168.3   \n",
       "3                      51896          593.7                     30.2   \n",
       "4                      22418          147.6                     49.8   \n",
       "\n",
       "   ChargesSheetingRate  \n",
       "0                 93.5  \n",
       "1                 77.6  \n",
       "2                 52.9  \n",
       "3                 69.4  \n",
       "4                 88.5  "
      ]
     },
     "execution_count": 42,
     "metadata": {},
     "output_type": "execute_result"
    }
   ],
   "source": [
    "df1.head()"
   ]
  },
  {
   "cell_type": "markdown",
   "id": "596e72a2",
   "metadata": {},
   "source": [
    "#### From above step we rearranged columns."
   ]
  },
  {
   "cell_type": "code",
   "execution_count": 43,
   "id": "6d722cef",
   "metadata": {},
   "outputs": [
    {
     "data": {
      "text/plain": [
       "(36, 10)"
      ]
     },
     "execution_count": 43,
     "metadata": {},
     "output_type": "execute_result"
    }
   ],
   "source": [
    "df1.shape"
   ]
  },
  {
   "cell_type": "code",
   "execution_count": 44,
   "id": "bdd3ea7c",
   "metadata": {},
   "outputs": [],
   "source": [
    "# To drop duplicates from data set\n",
    "df1.drop_duplicates(inplace = True)"
   ]
  },
  {
   "cell_type": "code",
   "execution_count": 45,
   "id": "9552941f",
   "metadata": {},
   "outputs": [
    {
     "data": {
      "text/plain": [
       "(36, 10)"
      ]
     },
     "execution_count": 45,
     "metadata": {},
     "output_type": "execute_result"
    }
   ],
   "source": [
    "df1.shape"
   ]
  },
  {
   "cell_type": "markdown",
   "id": "13dc1741",
   "metadata": {},
   "source": [
    "#### From above steps it is clearly evident that no duplicate values in data set."
   ]
  },
  {
   "cell_type": "code",
   "execution_count": 46,
   "id": "ef8c1e59",
   "metadata": {},
   "outputs": [
    {
     "data": {
      "text/html": [
       "<div>\n",
       "<style scoped>\n",
       "    .dataframe tbody tr th:only-of-type {\n",
       "        vertical-align: middle;\n",
       "    }\n",
       "\n",
       "    .dataframe tbody tr th {\n",
       "        vertical-align: top;\n",
       "    }\n",
       "\n",
       "    .dataframe thead th {\n",
       "        text-align: right;\n",
       "    }\n",
       "</style>\n",
       "<table border=\"1\" class=\"dataframe\">\n",
       "  <thead>\n",
       "    <tr style=\"text-align: right;\">\n",
       "      <th></th>\n",
       "      <th>S.No</th>\n",
       "      <th>2019</th>\n",
       "      <th>2020</th>\n",
       "      <th>2021</th>\n",
       "      <th>Total Cases (2019 - 2021)</th>\n",
       "      <th>midPopulation</th>\n",
       "      <th>RateofCrimeAgainstWomen</th>\n",
       "      <th>ChargesSheetingRate</th>\n",
       "    </tr>\n",
       "  </thead>\n",
       "  <tbody>\n",
       "    <tr>\n",
       "      <th>count</th>\n",
       "      <td>36.000000</td>\n",
       "      <td>36.000000</td>\n",
       "      <td>36.000000</td>\n",
       "      <td>36.000000</td>\n",
       "      <td>36.000000</td>\n",
       "      <td>36.00000</td>\n",
       "      <td>36.000000</td>\n",
       "      <td>36.000000</td>\n",
       "    </tr>\n",
       "    <tr>\n",
       "      <th>mean</th>\n",
       "      <td>18.500000</td>\n",
       "      <td>11259.055556</td>\n",
       "      <td>10319.527778</td>\n",
       "      <td>11896.611111</td>\n",
       "      <td>33475.194444</td>\n",
       "      <td>184.57500</td>\n",
       "      <td>58.425000</td>\n",
       "      <td>79.516667</td>\n",
       "    </tr>\n",
       "    <tr>\n",
       "      <th>std</th>\n",
       "      <td>10.535654</td>\n",
       "      <td>14377.616661</td>\n",
       "      <td>12867.918034</td>\n",
       "      <td>14719.628305</td>\n",
       "      <td>41835.466483</td>\n",
       "      <td>237.22254</td>\n",
       "      <td>39.400518</td>\n",
       "      <td>13.451893</td>\n",
       "    </tr>\n",
       "    <tr>\n",
       "      <th>min</th>\n",
       "      <td>1.000000</td>\n",
       "      <td>0.000000</td>\n",
       "      <td>9.000000</td>\n",
       "      <td>9.000000</td>\n",
       "      <td>27.000000</td>\n",
       "      <td>0.30000</td>\n",
       "      <td>5.100000</td>\n",
       "      <td>48.400000</td>\n",
       "    </tr>\n",
       "    <tr>\n",
       "      <th>25%</th>\n",
       "      <td>9.750000</td>\n",
       "      <td>304.250000</td>\n",
       "      <td>240.000000</td>\n",
       "      <td>282.500000</td>\n",
       "      <td>804.250000</td>\n",
       "      <td>8.15000</td>\n",
       "      <td>29.050000</td>\n",
       "      <td>74.975000</td>\n",
       "    </tr>\n",
       "    <tr>\n",
       "      <th>50%</th>\n",
       "      <td>18.500000</td>\n",
       "      <td>5910.000000</td>\n",
       "      <td>5734.000000</td>\n",
       "      <td>6503.000000</td>\n",
       "      <td>18725.500000</td>\n",
       "      <td>117.95000</td>\n",
       "      <td>46.450000</td>\n",
       "      <td>80.250000</td>\n",
       "    </tr>\n",
       "    <tr>\n",
       "      <th>75%</th>\n",
       "      <td>27.250000</td>\n",
       "      <td>17908.000000</td>\n",
       "      <td>15791.500000</td>\n",
       "      <td>17801.500000</td>\n",
       "      <td>52068.750000</td>\n",
       "      <td>280.65000</td>\n",
       "      <td>73.625000</td>\n",
       "      <td>87.975000</td>\n",
       "    </tr>\n",
       "    <tr>\n",
       "      <th>max</th>\n",
       "      <td>36.000000</td>\n",
       "      <td>59853.000000</td>\n",
       "      <td>49385.000000</td>\n",
       "      <td>56083.000000</td>\n",
       "      <td>165321.000000</td>\n",
       "      <td>1109.60000</td>\n",
       "      <td>168.300000</td>\n",
       "      <td>98.300000</td>\n",
       "    </tr>\n",
       "  </tbody>\n",
       "</table>\n",
       "</div>"
      ],
      "text/plain": [
       "            S.No          2019          2020          2021  \\\n",
       "count  36.000000     36.000000     36.000000     36.000000   \n",
       "mean   18.500000  11259.055556  10319.527778  11896.611111   \n",
       "std    10.535654  14377.616661  12867.918034  14719.628305   \n",
       "min     1.000000      0.000000      9.000000      9.000000   \n",
       "25%     9.750000    304.250000    240.000000    282.500000   \n",
       "50%    18.500000   5910.000000   5734.000000   6503.000000   \n",
       "75%    27.250000  17908.000000  15791.500000  17801.500000   \n",
       "max    36.000000  59853.000000  49385.000000  56083.000000   \n",
       "\n",
       "       Total Cases (2019 - 2021)  midPopulation  RateofCrimeAgainstWomen  \\\n",
       "count                  36.000000       36.00000                36.000000   \n",
       "mean                33475.194444      184.57500                58.425000   \n",
       "std                 41835.466483      237.22254                39.400518   \n",
       "min                    27.000000        0.30000                 5.100000   \n",
       "25%                   804.250000        8.15000                29.050000   \n",
       "50%                 18725.500000      117.95000                46.450000   \n",
       "75%                 52068.750000      280.65000                73.625000   \n",
       "max                165321.000000     1109.60000               168.300000   \n",
       "\n",
       "       ChargesSheetingRate  \n",
       "count            36.000000  \n",
       "mean             79.516667  \n",
       "std              13.451893  \n",
       "min              48.400000  \n",
       "25%              74.975000  \n",
       "50%              80.250000  \n",
       "75%              87.975000  \n",
       "max              98.300000  "
      ]
     },
     "execution_count": 46,
     "metadata": {},
     "output_type": "execute_result"
    }
   ],
   "source": [
    "# Finding outliers\n",
    "df1.describe()"
   ]
  },
  {
   "cell_type": "code",
   "execution_count": 47,
   "id": "60588fe6",
   "metadata": {},
   "outputs": [],
   "source": [
    "Q1 = df1.quantile(0.25)\n",
    "Q3 = df1.quantile(0.75)"
   ]
  },
  {
   "cell_type": "code",
   "execution_count": 48,
   "id": "1e94c510",
   "metadata": {},
   "outputs": [],
   "source": [
    "IQR = Q3 - Q1"
   ]
  },
  {
   "cell_type": "code",
   "execution_count": 49,
   "id": "8cca1226",
   "metadata": {},
   "outputs": [
    {
     "name": "stderr",
     "output_type": "stream",
     "text": [
      "C:\\Users\\91953\\AppData\\Local\\Temp\\ipykernel_14980\\3113731443.py:1: FutureWarning: Automatic reindexing on DataFrame vs Series comparisons is deprecated and will raise ValueError in a future version. Do `left, right = left.align(right, axis=1, copy=False)` before e.g. `left == right`\n",
      "  ((df1 <(Q1 - 1.5*IQR)) | (df1 >(Q3 + 1.5*IQR))).sum()\n"
     ]
    },
    {
     "data": {
      "text/plain": [
       "2019                         1\n",
       "2020                         1\n",
       "2021                         1\n",
       "ChargesSheetingRate          4\n",
       "RateofCrimeAgainstWomen      2\n",
       "S.No                         0\n",
       "State/UT                     0\n",
       "State_Name                   0\n",
       "Total Cases (2019 - 2021)    1\n",
       "midPopulation                1\n",
       "dtype: int64"
      ]
     },
     "execution_count": 49,
     "metadata": {},
     "output_type": "execute_result"
    }
   ],
   "source": [
    "((df1 <(Q1 - 1.5*IQR)) | (df1 >(Q3 + 1.5*IQR))).sum()"
   ]
  },
  {
   "cell_type": "markdown",
   "id": "47f9d7c6",
   "metadata": {},
   "source": [
    "#### From above it is evident that outliers are present in data set."
   ]
  },
  {
   "cell_type": "code",
   "execution_count": 50,
   "id": "515fabb8",
   "metadata": {},
   "outputs": [],
   "source": [
    "# Replacing outliers with mean value of 2019 column.\n",
    "Q1 = df1[\"2019\"].quantile(0.25)\n",
    "Q3 = df1[\"2019\"].quantile(0.75)"
   ]
  },
  {
   "cell_type": "code",
   "execution_count": 51,
   "id": "a92c2927",
   "metadata": {},
   "outputs": [],
   "source": [
    "IQR = Q3 - Q1"
   ]
  },
  {
   "cell_type": "code",
   "execution_count": 52,
   "id": "6ec35c7f",
   "metadata": {},
   "outputs": [
    {
     "data": {
      "text/plain": [
       "17603.75"
      ]
     },
     "execution_count": 52,
     "metadata": {},
     "output_type": "execute_result"
    }
   ],
   "source": [
    "IQR"
   ]
  },
  {
   "cell_type": "code",
   "execution_count": 53,
   "id": "5d7dadfc",
   "metadata": {},
   "outputs": [
    {
     "name": "stdout",
     "output_type": "stream",
     "text": [
      "-26101.375\n",
      "44313.625\n"
     ]
    }
   ],
   "source": [
    "Lower = Q1 - 1.5*IQR\n",
    "print(Lower)\n",
    "Upper = Q3 + 1.5*IQR\n",
    "print(Upper)"
   ]
  },
  {
   "cell_type": "code",
   "execution_count": 54,
   "id": "21af15c4",
   "metadata": {},
   "outputs": [
    {
     "data": {
      "text/plain": [
       "2019    1\n",
       "dtype: int64"
      ]
     },
     "execution_count": 54,
     "metadata": {},
     "output_type": "execute_result"
    }
   ],
   "source": [
    "((df1[[\"2019\"]]<Lower) | (df1[[\"2019\"]]>Upper)).sum()"
   ]
  },
  {
   "cell_type": "code",
   "execution_count": 55,
   "id": "ca4bc261",
   "metadata": {},
   "outputs": [],
   "source": [
    "Row_count = ((df1[[\"2019\"]]<Lower) | (df1[[\"2019\"]]>Upper))"
   ]
  },
  {
   "cell_type": "code",
   "execution_count": 56,
   "id": "95c882b2",
   "metadata": {},
   "outputs": [],
   "source": [
    "Row_count_index = Row_count[Row_count[\"2019\"]].index"
   ]
  },
  {
   "cell_type": "code",
   "execution_count": 57,
   "id": "b34e9ea4",
   "metadata": {},
   "outputs": [
    {
     "data": {
      "text/plain": [
       "Int64Index([25], dtype='int64')"
      ]
     },
     "execution_count": 57,
     "metadata": {},
     "output_type": "execute_result"
    }
   ],
   "source": [
    "Row_count_index"
   ]
  },
  {
   "cell_type": "code",
   "execution_count": 58,
   "id": "7a326030",
   "metadata": {},
   "outputs": [],
   "source": [
    "df1.loc[Row_count_index,\"2019\"] = df1[\"2019\"].mean()"
   ]
  },
  {
   "cell_type": "code",
   "execution_count": 59,
   "id": "1385e867",
   "metadata": {},
   "outputs": [
    {
     "data": {
      "text/plain": [
       "2019    0\n",
       "dtype: int64"
      ]
     },
     "execution_count": 59,
     "metadata": {},
     "output_type": "execute_result"
    }
   ],
   "source": [
    "((df1[[\"2019\"]]<Lower) | (df1[[\"2019\"]]>Upper)).sum()"
   ]
  },
  {
   "cell_type": "code",
   "execution_count": 63,
   "id": "d4bee752",
   "metadata": {},
   "outputs": [],
   "source": [
    "# Replacing outliers with mean value of 2020 column.\n",
    "Q1 = df1[\"2020\"].quantile(0.25)\n",
    "Q3 = df1[\"2020\"].quantile(0.75)"
   ]
  },
  {
   "cell_type": "code",
   "execution_count": 64,
   "id": "38c4562a",
   "metadata": {},
   "outputs": [],
   "source": [
    "IQR = Q3 - Q1"
   ]
  },
  {
   "cell_type": "code",
   "execution_count": 65,
   "id": "9b39def0",
   "metadata": {},
   "outputs": [
    {
     "data": {
      "text/plain": [
       "15551.5"
      ]
     },
     "execution_count": 65,
     "metadata": {},
     "output_type": "execute_result"
    }
   ],
   "source": [
    "IQR"
   ]
  },
  {
   "cell_type": "code",
   "execution_count": 66,
   "id": "452dcd20",
   "metadata": {},
   "outputs": [
    {
     "name": "stdout",
     "output_type": "stream",
     "text": [
      "-23087.25\n",
      "39118.75\n"
     ]
    }
   ],
   "source": [
    "Lower = Q1 - 1.5*IQR\n",
    "print(Lower)\n",
    "Upper = Q3 + 1.5*IQR\n",
    "print(Upper)"
   ]
  },
  {
   "cell_type": "code",
   "execution_count": 67,
   "id": "22eed9fc",
   "metadata": {},
   "outputs": [
    {
     "data": {
      "text/plain": [
       "2020    1\n",
       "dtype: int64"
      ]
     },
     "execution_count": 67,
     "metadata": {},
     "output_type": "execute_result"
    }
   ],
   "source": [
    "((df1[[\"2020\"]]<Lower) | (df1[[\"2020\"]]>Upper)).sum()"
   ]
  },
  {
   "cell_type": "code",
   "execution_count": 68,
   "id": "6bb89e2c",
   "metadata": {},
   "outputs": [],
   "source": [
    "Row_count = ((df1[[\"2020\"]]<Lower) | (df1[[\"2020\"]]>Upper))"
   ]
  },
  {
   "cell_type": "code",
   "execution_count": 69,
   "id": "67c3aba2",
   "metadata": {},
   "outputs": [],
   "source": [
    "Row_count_index = Row_count[Row_count[\"2020\"]].index"
   ]
  },
  {
   "cell_type": "code",
   "execution_count": 70,
   "id": "f135fe0b",
   "metadata": {},
   "outputs": [
    {
     "data": {
      "text/plain": [
       "Int64Index([25], dtype='int64')"
      ]
     },
     "execution_count": 70,
     "metadata": {},
     "output_type": "execute_result"
    }
   ],
   "source": [
    "Row_count_index"
   ]
  },
  {
   "cell_type": "code",
   "execution_count": 71,
   "id": "e4c767a0",
   "metadata": {},
   "outputs": [],
   "source": [
    "df1.loc[Row_count_index,\"2020\"] = df1[\"2020\"].mean()"
   ]
  },
  {
   "cell_type": "code",
   "execution_count": 72,
   "id": "1b683e4b",
   "metadata": {},
   "outputs": [
    {
     "data": {
      "text/plain": [
       "2020    0\n",
       "dtype: int64"
      ]
     },
     "execution_count": 72,
     "metadata": {},
     "output_type": "execute_result"
    }
   ],
   "source": [
    "((df1[[\"2020\"]]<Lower) | (df1[[\"2020\"]]>Upper)).sum()"
   ]
  },
  {
   "cell_type": "code",
   "execution_count": 73,
   "id": "be875672",
   "metadata": {},
   "outputs": [],
   "source": [
    "# Replacing outliers with mean value of 2021 column.\n",
    "Q1 = df1[\"2021\"].quantile(0.25)\n",
    "Q3 = df1[\"2021\"].quantile(0.75)"
   ]
  },
  {
   "cell_type": "code",
   "execution_count": 74,
   "id": "13408e0a",
   "metadata": {},
   "outputs": [],
   "source": [
    "IQR = Q3 - Q1"
   ]
  },
  {
   "cell_type": "code",
   "execution_count": 75,
   "id": "e3abdc52",
   "metadata": {},
   "outputs": [
    {
     "data": {
      "text/plain": [
       "17519.0"
      ]
     },
     "execution_count": 75,
     "metadata": {},
     "output_type": "execute_result"
    }
   ],
   "source": [
    "IQR"
   ]
  },
  {
   "cell_type": "code",
   "execution_count": 76,
   "id": "07846733",
   "metadata": {},
   "outputs": [
    {
     "name": "stdout",
     "output_type": "stream",
     "text": [
      "-25996.0\n",
      "44080.0\n"
     ]
    }
   ],
   "source": [
    "Lower = Q1 - 1.5*IQR\n",
    "print(Lower)\n",
    "Upper = Q3 + 1.5*IQR\n",
    "print(Upper)"
   ]
  },
  {
   "cell_type": "code",
   "execution_count": 77,
   "id": "4bdedb0f",
   "metadata": {},
   "outputs": [
    {
     "data": {
      "text/plain": [
       "2021    1\n",
       "dtype: int64"
      ]
     },
     "execution_count": 77,
     "metadata": {},
     "output_type": "execute_result"
    }
   ],
   "source": [
    "((df1[[\"2021\"]]<Lower) | (df1[[\"2021\"]]>Upper)).sum()"
   ]
  },
  {
   "cell_type": "code",
   "execution_count": 78,
   "id": "3c96814d",
   "metadata": {},
   "outputs": [],
   "source": [
    "Row_count = ((df1[[\"2021\"]]<Lower) | (df1[[\"2021\"]]>Upper))"
   ]
  },
  {
   "cell_type": "code",
   "execution_count": 79,
   "id": "2d018ee3",
   "metadata": {},
   "outputs": [],
   "source": [
    "Row_count_index = Row_count[Row_count[\"2021\"]].index"
   ]
  },
  {
   "cell_type": "code",
   "execution_count": 80,
   "id": "e2204211",
   "metadata": {},
   "outputs": [
    {
     "data": {
      "text/plain": [
       "Int64Index([25], dtype='int64')"
      ]
     },
     "execution_count": 80,
     "metadata": {},
     "output_type": "execute_result"
    }
   ],
   "source": [
    "Row_count_index"
   ]
  },
  {
   "cell_type": "code",
   "execution_count": 81,
   "id": "f3bfd5ce",
   "metadata": {},
   "outputs": [],
   "source": [
    "df1.loc[Row_count_index,\"2021\"] = df1[\"2021\"].mean()"
   ]
  },
  {
   "cell_type": "code",
   "execution_count": 82,
   "id": "be5e4989",
   "metadata": {},
   "outputs": [
    {
     "data": {
      "text/plain": [
       "2021    0\n",
       "dtype: int64"
      ]
     },
     "execution_count": 82,
     "metadata": {},
     "output_type": "execute_result"
    }
   ],
   "source": [
    "((df1[[\"2021\"]]<Lower) | (df1[[\"2021\"]]>Upper)).sum()"
   ]
  },
  {
   "cell_type": "code",
   "execution_count": 83,
   "id": "d4d537f6",
   "metadata": {},
   "outputs": [],
   "source": [
    "# Replacing outliers with mean value of ChargesSheetingRate column.\n",
    "Q1 = df1[\"ChargesSheetingRate\"].quantile(0.25)\n",
    "Q3 = df1[\"ChargesSheetingRate\"].quantile(0.75)"
   ]
  },
  {
   "cell_type": "code",
   "execution_count": 84,
   "id": "542db8d8",
   "metadata": {},
   "outputs": [],
   "source": [
    "IQR = Q3 - Q1"
   ]
  },
  {
   "cell_type": "code",
   "execution_count": 85,
   "id": "e40155ea",
   "metadata": {},
   "outputs": [
    {
     "data": {
      "text/plain": [
       "13.0"
      ]
     },
     "execution_count": 85,
     "metadata": {},
     "output_type": "execute_result"
    }
   ],
   "source": [
    "IQR"
   ]
  },
  {
   "cell_type": "code",
   "execution_count": 86,
   "id": "61770ffb",
   "metadata": {},
   "outputs": [
    {
     "name": "stdout",
     "output_type": "stream",
     "text": [
      "55.474999999999994\n",
      "107.475\n"
     ]
    }
   ],
   "source": [
    "Lower = Q1 - 1.5*IQR\n",
    "print(Lower)\n",
    "Upper = Q3 + 1.5*IQR\n",
    "print(Upper)"
   ]
  },
  {
   "cell_type": "code",
   "execution_count": 87,
   "id": "251a8118",
   "metadata": {},
   "outputs": [
    {
     "data": {
      "text/plain": [
       "ChargesSheetingRate    4\n",
       "dtype: int64"
      ]
     },
     "execution_count": 87,
     "metadata": {},
     "output_type": "execute_result"
    }
   ],
   "source": [
    "((df1[[\"ChargesSheetingRate\"]]<Lower) | (df1[[\"ChargesSheetingRate\"]]>Upper)).sum()"
   ]
  },
  {
   "cell_type": "code",
   "execution_count": 88,
   "id": "a63db776",
   "metadata": {},
   "outputs": [],
   "source": [
    "Row_count = ((df1[[\"ChargesSheetingRate\"]]<Lower) | (df1[[\"ChargesSheetingRate\"]]>Upper))"
   ]
  },
  {
   "cell_type": "code",
   "execution_count": 89,
   "id": "8149e41a",
   "metadata": {},
   "outputs": [],
   "source": [
    "Row_count_index = Row_count[Row_count[\"ChargesSheetingRate\"]].index"
   ]
  },
  {
   "cell_type": "code",
   "execution_count": 90,
   "id": "14d1e05b",
   "metadata": {},
   "outputs": [
    {
     "data": {
      "text/plain": [
       "Int64Index([2, 14, 20, 29], dtype='int64')"
      ]
     },
     "execution_count": 90,
     "metadata": {},
     "output_type": "execute_result"
    }
   ],
   "source": [
    "Row_count_index"
   ]
  },
  {
   "cell_type": "code",
   "execution_count": 91,
   "id": "ffc3b93b",
   "metadata": {},
   "outputs": [],
   "source": [
    "df1.loc[Row_count_index,\"ChargesSheetingRate\"] = df1[\"ChargesSheetingRate\"].mean()"
   ]
  },
  {
   "cell_type": "code",
   "execution_count": 92,
   "id": "b19899dd",
   "metadata": {},
   "outputs": [
    {
     "data": {
      "text/plain": [
       "ChargesSheetingRate    0\n",
       "dtype: int64"
      ]
     },
     "execution_count": 92,
     "metadata": {},
     "output_type": "execute_result"
    }
   ],
   "source": [
    "((df1[[\"ChargesSheetingRate\"]]<Lower) | (df1[[\"ChargesSheetingRate\"]]>Upper)).sum()"
   ]
  },
  {
   "cell_type": "code",
   "execution_count": 93,
   "id": "4e568376",
   "metadata": {},
   "outputs": [],
   "source": [
    "# Replacing outliers with mean value of RateofCrimeAgainstWomen column.\n",
    "Q1 = df1[\"RateofCrimeAgainstWomen\"].quantile(0.25)\n",
    "Q3 = df1[\"RateofCrimeAgainstWomen\"].quantile(0.75)"
   ]
  },
  {
   "cell_type": "code",
   "execution_count": 94,
   "id": "c62bb1d8",
   "metadata": {},
   "outputs": [],
   "source": [
    "IQR = Q3 - Q1"
   ]
  },
  {
   "cell_type": "code",
   "execution_count": 95,
   "id": "4416430c",
   "metadata": {},
   "outputs": [
    {
     "data": {
      "text/plain": [
       "44.575"
      ]
     },
     "execution_count": 95,
     "metadata": {},
     "output_type": "execute_result"
    }
   ],
   "source": [
    "IQR"
   ]
  },
  {
   "cell_type": "code",
   "execution_count": 96,
   "id": "adef997d",
   "metadata": {},
   "outputs": [
    {
     "name": "stdout",
     "output_type": "stream",
     "text": [
      "-37.812500000000014\n",
      "140.4875\n"
     ]
    }
   ],
   "source": [
    "Lower = Q1 - 1.5*IQR\n",
    "print(Lower)\n",
    "Upper = Q3 + 1.5*IQR\n",
    "print(Upper)"
   ]
  },
  {
   "cell_type": "code",
   "execution_count": 98,
   "id": "0915efe5",
   "metadata": {},
   "outputs": [
    {
     "data": {
      "text/plain": [
       "RateofCrimeAgainstWomen    2\n",
       "dtype: int64"
      ]
     },
     "execution_count": 98,
     "metadata": {},
     "output_type": "execute_result"
    }
   ],
   "source": [
    "((df1[[\"RateofCrimeAgainstWomen\"]]<Lower) | (df1[[\"RateofCrimeAgainstWomen\"]]>Upper)).sum()"
   ]
  },
  {
   "cell_type": "code",
   "execution_count": 99,
   "id": "069c6011",
   "metadata": {},
   "outputs": [],
   "source": [
    "Row_count = ((df1[[\"RateofCrimeAgainstWomen\"]]<Lower) | (df1[[\"RateofCrimeAgainstWomen\"]]>Upper))"
   ]
  },
  {
   "cell_type": "code",
   "execution_count": 101,
   "id": "1cc1ee08",
   "metadata": {},
   "outputs": [],
   "source": [
    "Row_count_index = Row_count[Row_count[\"RateofCrimeAgainstWomen\"]].index"
   ]
  },
  {
   "cell_type": "code",
   "execution_count": 102,
   "id": "b548b82a",
   "metadata": {},
   "outputs": [
    {
     "data": {
      "text/plain": [
       "Int64Index([2, 31], dtype='int64')"
      ]
     },
     "execution_count": 102,
     "metadata": {},
     "output_type": "execute_result"
    }
   ],
   "source": [
    "Row_count_index"
   ]
  },
  {
   "cell_type": "code",
   "execution_count": 103,
   "id": "ce46bf30",
   "metadata": {},
   "outputs": [],
   "source": [
    "df1.loc[Row_count_index,\"RateofCrimeAgainstWomen\"] = df1[\"RateofCrimeAgainstWomen\"].mean()"
   ]
  },
  {
   "cell_type": "code",
   "execution_count": 104,
   "id": "1af18315",
   "metadata": {},
   "outputs": [
    {
     "data": {
      "text/plain": [
       "RateofCrimeAgainstWomen    0\n",
       "dtype: int64"
      ]
     },
     "execution_count": 104,
     "metadata": {},
     "output_type": "execute_result"
    }
   ],
   "source": [
    "((df1[[\"RateofCrimeAgainstWomen\"]]<Lower) | (df1[[\"RateofCrimeAgainstWomen\"]]>Upper)).sum()"
   ]
  },
  {
   "cell_type": "code",
   "execution_count": 105,
   "id": "ab6621aa",
   "metadata": {},
   "outputs": [],
   "source": [
    "# Replacing outliers with mean value of Total Cases (2019 - 2021) column.\n",
    "Q1 = df1[\"Total Cases (2019 - 2021)\"].quantile(0.25)\n",
    "Q3 = df1[\"Total Cases (2019 - 2021)\"].quantile(0.75)"
   ]
  },
  {
   "cell_type": "code",
   "execution_count": 106,
   "id": "c44d171d",
   "metadata": {},
   "outputs": [],
   "source": [
    "IQR = Q3 - Q1"
   ]
  },
  {
   "cell_type": "code",
   "execution_count": 107,
   "id": "bfe35f9b",
   "metadata": {},
   "outputs": [
    {
     "data": {
      "text/plain": [
       "51264.5"
      ]
     },
     "execution_count": 107,
     "metadata": {},
     "output_type": "execute_result"
    }
   ],
   "source": [
    "IQR"
   ]
  },
  {
   "cell_type": "code",
   "execution_count": 108,
   "id": "1c59934d",
   "metadata": {},
   "outputs": [
    {
     "name": "stdout",
     "output_type": "stream",
     "text": [
      "-76092.5\n",
      "128965.5\n"
     ]
    }
   ],
   "source": [
    "Lower = Q1 - 1.5*IQR\n",
    "print(Lower)\n",
    "Upper = Q3 + 1.5*IQR\n",
    "print(Upper)"
   ]
  },
  {
   "cell_type": "code",
   "execution_count": 109,
   "id": "71f4eb65",
   "metadata": {},
   "outputs": [
    {
     "data": {
      "text/plain": [
       "Total Cases (2019 - 2021)    1\n",
       "dtype: int64"
      ]
     },
     "execution_count": 109,
     "metadata": {},
     "output_type": "execute_result"
    }
   ],
   "source": [
    "((df1[[\"Total Cases (2019 - 2021)\"]]<Lower) | (df1[[\"Total Cases (2019 - 2021)\"]]>Upper)).sum()"
   ]
  },
  {
   "cell_type": "code",
   "execution_count": 110,
   "id": "baddac0d",
   "metadata": {},
   "outputs": [],
   "source": [
    "Row_count = ((df1[[\"Total Cases (2019 - 2021)\"]]<Lower) | (df1[[\"Total Cases (2019 - 2021)\"]]>Upper))"
   ]
  },
  {
   "cell_type": "code",
   "execution_count": 111,
   "id": "95be26c5",
   "metadata": {},
   "outputs": [],
   "source": [
    "Row_count_index = Row_count[Row_count[\"Total Cases (2019 - 2021)\"]].index"
   ]
  },
  {
   "cell_type": "code",
   "execution_count": 112,
   "id": "562d89cd",
   "metadata": {},
   "outputs": [
    {
     "data": {
      "text/plain": [
       "Int64Index([25], dtype='int64')"
      ]
     },
     "execution_count": 112,
     "metadata": {},
     "output_type": "execute_result"
    }
   ],
   "source": [
    "Row_count_index"
   ]
  },
  {
   "cell_type": "code",
   "execution_count": 113,
   "id": "b8956195",
   "metadata": {},
   "outputs": [],
   "source": [
    "df1.loc[Row_count_index,\"Total Cases (2019 - 2021)\"] = df1[\"Total Cases (2019 - 2021)\"].mean()"
   ]
  },
  {
   "cell_type": "code",
   "execution_count": 114,
   "id": "c4b8b50b",
   "metadata": {},
   "outputs": [
    {
     "data": {
      "text/plain": [
       "Total Cases (2019 - 2021)    0\n",
       "dtype: int64"
      ]
     },
     "execution_count": 114,
     "metadata": {},
     "output_type": "execute_result"
    }
   ],
   "source": [
    "((df1[[\"Total Cases (2019 - 2021)\"]]<Lower) | (df1[[\"Total Cases (2019 - 2021)\"]]>Upper)).sum()"
   ]
  },
  {
   "cell_type": "code",
   "execution_count": 115,
   "id": "4eb0dc31",
   "metadata": {},
   "outputs": [],
   "source": [
    "# Replacing outliers with mean value of midPopulation column.\n",
    "Q1 = df1[\"midPopulation\"].quantile(0.25)\n",
    "Q3 = df1[\"midPopulation\"].quantile(0.75)"
   ]
  },
  {
   "cell_type": "code",
   "execution_count": 116,
   "id": "f05c5734",
   "metadata": {},
   "outputs": [],
   "source": [
    "IQR = Q3 - Q1"
   ]
  },
  {
   "cell_type": "code",
   "execution_count": 117,
   "id": "d433550b",
   "metadata": {},
   "outputs": [
    {
     "data": {
      "text/plain": [
       "272.5"
      ]
     },
     "execution_count": 117,
     "metadata": {},
     "output_type": "execute_result"
    }
   ],
   "source": [
    "IQR"
   ]
  },
  {
   "cell_type": "code",
   "execution_count": 118,
   "id": "18f3db89",
   "metadata": {},
   "outputs": [
    {
     "name": "stdout",
     "output_type": "stream",
     "text": [
      "-400.6\n",
      "689.4\n"
     ]
    }
   ],
   "source": [
    "Lower = Q1 - 1.5*IQR\n",
    "print(Lower)\n",
    "Upper = Q3 + 1.5*IQR\n",
    "print(Upper)"
   ]
  },
  {
   "cell_type": "code",
   "execution_count": 119,
   "id": "7736599c",
   "metadata": {},
   "outputs": [
    {
     "data": {
      "text/plain": [
       "midPopulation    1\n",
       "dtype: int64"
      ]
     },
     "execution_count": 119,
     "metadata": {},
     "output_type": "execute_result"
    }
   ],
   "source": [
    "((df1[[\"midPopulation\"]]<Lower) | (df1[[\"midPopulation\"]]>Upper)).sum()"
   ]
  },
  {
   "cell_type": "code",
   "execution_count": 120,
   "id": "3eb5bbb7",
   "metadata": {},
   "outputs": [],
   "source": [
    "Row_count = ((df1[[\"midPopulation\"]]<Lower) | (df1[[\"midPopulation\"]]>Upper))"
   ]
  },
  {
   "cell_type": "code",
   "execution_count": 121,
   "id": "3a1dfd07",
   "metadata": {},
   "outputs": [],
   "source": [
    "Row_count_index = Row_count[Row_count[\"midPopulation\"]].index"
   ]
  },
  {
   "cell_type": "code",
   "execution_count": 122,
   "id": "8760c262",
   "metadata": {},
   "outputs": [
    {
     "data": {
      "text/plain": [
       "Int64Index([25], dtype='int64')"
      ]
     },
     "execution_count": 122,
     "metadata": {},
     "output_type": "execute_result"
    }
   ],
   "source": [
    "Row_count_index"
   ]
  },
  {
   "cell_type": "code",
   "execution_count": 123,
   "id": "39650570",
   "metadata": {},
   "outputs": [],
   "source": [
    "df1.loc[Row_count_index,\"midPopulation\"] = df1[\"midPopulation\"].mean()"
   ]
  },
  {
   "cell_type": "code",
   "execution_count": 124,
   "id": "9b5303df",
   "metadata": {},
   "outputs": [
    {
     "data": {
      "text/plain": [
       "midPopulation    0\n",
       "dtype: int64"
      ]
     },
     "execution_count": 124,
     "metadata": {},
     "output_type": "execute_result"
    }
   ],
   "source": [
    "((df1[[\"midPopulation\"]]<Lower) | (df1[[\"midPopulation\"]]>Upper)).sum()"
   ]
  },
  {
   "cell_type": "code",
   "execution_count": 125,
   "id": "4e755cd2",
   "metadata": {},
   "outputs": [],
   "source": [
    "Q1 = df1.quantile(0.25)\n",
    "Q3 = df1.quantile(0.75)"
   ]
  },
  {
   "cell_type": "code",
   "execution_count": 126,
   "id": "34111a5e",
   "metadata": {},
   "outputs": [],
   "source": [
    "IQR = Q3 - Q1"
   ]
  },
  {
   "cell_type": "code",
   "execution_count": 127,
   "id": "dbaf8b9f",
   "metadata": {},
   "outputs": [
    {
     "name": "stderr",
     "output_type": "stream",
     "text": [
      "C:\\Users\\91953\\AppData\\Local\\Temp\\ipykernel_14980\\3113731443.py:1: FutureWarning: Automatic reindexing on DataFrame vs Series comparisons is deprecated and will raise ValueError in a future version. Do `left, right = left.align(right, axis=1, copy=False)` before e.g. `left == right`\n",
      "  ((df1 <(Q1 - 1.5*IQR)) | (df1 >(Q3 + 1.5*IQR))).sum()\n"
     ]
    },
    {
     "data": {
      "text/plain": [
       "2019                         1\n",
       "2020                         2\n",
       "2021                         0\n",
       "ChargesSheetingRate          1\n",
       "RateofCrimeAgainstWomen      1\n",
       "S.No                         0\n",
       "State/UT                     0\n",
       "State_Name                   0\n",
       "Total Cases (2019 - 2021)    1\n",
       "midPopulation                2\n",
       "dtype: int64"
      ]
     },
     "execution_count": 127,
     "metadata": {},
     "output_type": "execute_result"
    }
   ],
   "source": [
    "((df1 <(Q1 - 1.5*IQR)) | (df1 >(Q3 + 1.5*IQR))).sum()"
   ]
  },
  {
   "cell_type": "code",
   "execution_count": 128,
   "id": "5b621d84",
   "metadata": {},
   "outputs": [],
   "source": [
    "# Replacing outliers with mean value of 2019 column.\n",
    "Q1 = df1[\"2019\"].quantile(0.25)\n",
    "Q3 = df1[\"2019\"].quantile(0.75)"
   ]
  },
  {
   "cell_type": "code",
   "execution_count": 129,
   "id": "87e119b2",
   "metadata": {},
   "outputs": [],
   "source": [
    "IQR = Q3 - Q1"
   ]
  },
  {
   "cell_type": "code",
   "execution_count": 130,
   "id": "868dda00",
   "metadata": {},
   "outputs": [
    {
     "data": {
      "text/plain": [
       "15144.5"
      ]
     },
     "execution_count": 130,
     "metadata": {},
     "output_type": "execute_result"
    }
   ],
   "source": [
    "IQR"
   ]
  },
  {
   "cell_type": "code",
   "execution_count": 131,
   "id": "fcc0b672",
   "metadata": {},
   "outputs": [
    {
     "name": "stdout",
     "output_type": "stream",
     "text": [
      "-22412.5\n",
      "38165.5\n"
     ]
    }
   ],
   "source": [
    "Lower = Q1 - 1.5*IQR\n",
    "print(Lower)\n",
    "Upper = Q3 + 1.5*IQR\n",
    "print(Upper)"
   ]
  },
  {
   "cell_type": "code",
   "execution_count": 132,
   "id": "5830a720",
   "metadata": {},
   "outputs": [
    {
     "data": {
      "text/plain": [
       "2019    1\n",
       "dtype: int64"
      ]
     },
     "execution_count": 132,
     "metadata": {},
     "output_type": "execute_result"
    }
   ],
   "source": [
    "((df1[[\"2019\"]]<Lower) | (df1[[\"2019\"]]>Upper)).sum()"
   ]
  },
  {
   "cell_type": "code",
   "execution_count": 133,
   "id": "f1b04267",
   "metadata": {},
   "outputs": [],
   "source": [
    "Row_count = ((df1[[\"2019\"]]<Lower) | (df1[[\"2019\"]]>Upper))"
   ]
  },
  {
   "cell_type": "code",
   "execution_count": 134,
   "id": "a2d555ae",
   "metadata": {},
   "outputs": [],
   "source": [
    "Row_count_index = Row_count[Row_count[\"2019\"]].index"
   ]
  },
  {
   "cell_type": "code",
   "execution_count": 135,
   "id": "fea2ba36",
   "metadata": {},
   "outputs": [
    {
     "data": {
      "text/plain": [
       "Int64Index([20], dtype='int64')"
      ]
     },
     "execution_count": 135,
     "metadata": {},
     "output_type": "execute_result"
    }
   ],
   "source": [
    "Row_count_index"
   ]
  },
  {
   "cell_type": "code",
   "execution_count": 136,
   "id": "3d54ad0f",
   "metadata": {},
   "outputs": [],
   "source": [
    "df1.loc[Row_count_index,\"2019\"] = df1[\"2019\"].mean()"
   ]
  },
  {
   "cell_type": "code",
   "execution_count": 137,
   "id": "24c3278a",
   "metadata": {},
   "outputs": [
    {
     "data": {
      "text/plain": [
       "2019    0\n",
       "dtype: int64"
      ]
     },
     "execution_count": 137,
     "metadata": {},
     "output_type": "execute_result"
    }
   ],
   "source": [
    "((df1[[\"2019\"]]<Lower) | (df1[[\"2019\"]]>Upper)).sum()"
   ]
  },
  {
   "cell_type": "code",
   "execution_count": 138,
   "id": "23a412f7",
   "metadata": {},
   "outputs": [],
   "source": [
    "Q1 = df1.quantile(0.25)\n",
    "Q3 = df1.quantile(0.75)"
   ]
  },
  {
   "cell_type": "code",
   "execution_count": 139,
   "id": "11632f8d",
   "metadata": {},
   "outputs": [],
   "source": [
    "IQR = Q3 - Q1"
   ]
  },
  {
   "cell_type": "code",
   "execution_count": 140,
   "id": "6b3983bd",
   "metadata": {},
   "outputs": [
    {
     "name": "stderr",
     "output_type": "stream",
     "text": [
      "C:\\Users\\91953\\AppData\\Local\\Temp\\ipykernel_14980\\3113731443.py:1: FutureWarning: Automatic reindexing on DataFrame vs Series comparisons is deprecated and will raise ValueError in a future version. Do `left, right = left.align(right, axis=1, copy=False)` before e.g. `left == right`\n",
      "  ((df1 <(Q1 - 1.5*IQR)) | (df1 >(Q3 + 1.5*IQR))).sum()\n"
     ]
    },
    {
     "data": {
      "text/plain": [
       "2019                         1\n",
       "2020                         2\n",
       "2021                         0\n",
       "ChargesSheetingRate          1\n",
       "RateofCrimeAgainstWomen      1\n",
       "S.No                         0\n",
       "State/UT                     0\n",
       "State_Name                   0\n",
       "Total Cases (2019 - 2021)    1\n",
       "midPopulation                2\n",
       "dtype: int64"
      ]
     },
     "execution_count": 140,
     "metadata": {},
     "output_type": "execute_result"
    }
   ],
   "source": [
    "((df1 <(Q1 - 1.5*IQR)) | (df1 >(Q3 + 1.5*IQR))).sum()"
   ]
  },
  {
   "cell_type": "code",
   "execution_count": 141,
   "id": "dfc44022",
   "metadata": {},
   "outputs": [],
   "source": [
    "# Replacing outliers with mean value of 2019 column.\n",
    "Q1 = df1[\"2019\"].quantile(0.25)\n",
    "Q3 = df1[\"2019\"].quantile(0.75)"
   ]
  },
  {
   "cell_type": "code",
   "execution_count": 142,
   "id": "71dc3cf5",
   "metadata": {},
   "outputs": [],
   "source": [
    "IQR = Q3 - Q1"
   ]
  },
  {
   "cell_type": "code",
   "execution_count": 143,
   "id": "98b8268f",
   "metadata": {},
   "outputs": [
    {
     "data": {
      "text/plain": [
       "13737.5"
      ]
     },
     "execution_count": 143,
     "metadata": {},
     "output_type": "execute_result"
    }
   ],
   "source": [
    "IQR"
   ]
  },
  {
   "cell_type": "code",
   "execution_count": 144,
   "id": "b0d5df89",
   "metadata": {},
   "outputs": [
    {
     "name": "stdout",
     "output_type": "stream",
     "text": [
      "-20302.0\n",
      "34648.0\n"
     ]
    }
   ],
   "source": [
    "Lower = Q1 - 1.5*IQR\n",
    "print(Lower)\n",
    "Upper = Q3 + 1.5*IQR\n",
    "print(Upper)"
   ]
  },
  {
   "cell_type": "code",
   "execution_count": 145,
   "id": "da26cbd3",
   "metadata": {},
   "outputs": [
    {
     "data": {
      "text/plain": [
       "2019    1\n",
       "dtype: int64"
      ]
     },
     "execution_count": 145,
     "metadata": {},
     "output_type": "execute_result"
    }
   ],
   "source": [
    "((df1[[\"2019\"]]<Lower) | (df1[[\"2019\"]]>Upper)).sum()"
   ]
  },
  {
   "cell_type": "code",
   "execution_count": 146,
   "id": "0ba420cf",
   "metadata": {},
   "outputs": [],
   "source": [
    "Row_count = ((df1[[\"2019\"]]<Lower) | (df1[[\"2019\"]]>Upper))"
   ]
  },
  {
   "cell_type": "code",
   "execution_count": 147,
   "id": "41c191f9",
   "metadata": {},
   "outputs": [],
   "source": [
    "Row_count_index = Row_count[Row_count[\"2019\"]].index"
   ]
  },
  {
   "cell_type": "code",
   "execution_count": 148,
   "id": "c98053df",
   "metadata": {},
   "outputs": [
    {
     "data": {
      "text/plain": [
       "Int64Index([13], dtype='int64')"
      ]
     },
     "execution_count": 148,
     "metadata": {},
     "output_type": "execute_result"
    }
   ],
   "source": [
    "Row_count_index"
   ]
  },
  {
   "cell_type": "code",
   "execution_count": 149,
   "id": "6c1be01c",
   "metadata": {},
   "outputs": [],
   "source": [
    "df1.loc[Row_count_index,\"2019\"] = df1[\"2019\"].mean()"
   ]
  },
  {
   "cell_type": "code",
   "execution_count": 150,
   "id": "3451a118",
   "metadata": {},
   "outputs": [
    {
     "data": {
      "text/plain": [
       "2019    0\n",
       "dtype: int64"
      ]
     },
     "execution_count": 150,
     "metadata": {},
     "output_type": "execute_result"
    }
   ],
   "source": [
    "((df1[[\"2019\"]]<Lower) | (df1[[\"2019\"]]>Upper)).sum()"
   ]
  },
  {
   "cell_type": "code",
   "execution_count": 151,
   "id": "20394b24",
   "metadata": {},
   "outputs": [],
   "source": [
    "Q1 = df1.quantile(0.25)\n",
    "Q3 = df1.quantile(0.75)"
   ]
  },
  {
   "cell_type": "code",
   "execution_count": 152,
   "id": "8e413527",
   "metadata": {},
   "outputs": [],
   "source": [
    "IQR = Q3 - Q1"
   ]
  },
  {
   "cell_type": "code",
   "execution_count": 153,
   "id": "a0504cf2",
   "metadata": {},
   "outputs": [
    {
     "name": "stderr",
     "output_type": "stream",
     "text": [
      "C:\\Users\\91953\\AppData\\Local\\Temp\\ipykernel_14980\\3113731443.py:1: FutureWarning: Automatic reindexing on DataFrame vs Series comparisons is deprecated and will raise ValueError in a future version. Do `left, right = left.align(right, axis=1, copy=False)` before e.g. `left == right`\n",
      "  ((df1 <(Q1 - 1.5*IQR)) | (df1 >(Q3 + 1.5*IQR))).sum()\n"
     ]
    },
    {
     "data": {
      "text/plain": [
       "2019                         0\n",
       "2020                         2\n",
       "2021                         0\n",
       "ChargesSheetingRate          1\n",
       "RateofCrimeAgainstWomen      1\n",
       "S.No                         0\n",
       "State/UT                     0\n",
       "State_Name                   0\n",
       "Total Cases (2019 - 2021)    1\n",
       "midPopulation                2\n",
       "dtype: int64"
      ]
     },
     "execution_count": 153,
     "metadata": {},
     "output_type": "execute_result"
    }
   ],
   "source": [
    "((df1 <(Q1 - 1.5*IQR)) | (df1 >(Q3 + 1.5*IQR))).sum()"
   ]
  },
  {
   "cell_type": "code",
   "execution_count": 154,
   "id": "7d3b6c8e",
   "metadata": {},
   "outputs": [],
   "source": [
    "# Replacing outliers with mean value of 2020 column.\n",
    "Q1 = df1[\"2020\"].quantile(0.25)\n",
    "Q3 = df1[\"2020\"].quantile(0.75)"
   ]
  },
  {
   "cell_type": "code",
   "execution_count": 155,
   "id": "32c9dcb4",
   "metadata": {},
   "outputs": [],
   "source": [
    "IQR = Q3 - Q1"
   ]
  },
  {
   "cell_type": "code",
   "execution_count": 156,
   "id": "99cabce0",
   "metadata": {},
   "outputs": [
    {
     "data": {
      "text/plain": [
       "13349.75"
      ]
     },
     "execution_count": 156,
     "metadata": {},
     "output_type": "execute_result"
    }
   ],
   "source": [
    "IQR"
   ]
  },
  {
   "cell_type": "code",
   "execution_count": 157,
   "id": "c9cba54e",
   "metadata": {},
   "outputs": [
    {
     "name": "stdout",
     "output_type": "stream",
     "text": [
      "-19784.625\n",
      "33614.375\n"
     ]
    }
   ],
   "source": [
    "Lower = Q1 - 1.5*IQR\n",
    "print(Lower)\n",
    "Upper = Q3 + 1.5*IQR\n",
    "print(Upper)"
   ]
  },
  {
   "cell_type": "code",
   "execution_count": 158,
   "id": "706ba958",
   "metadata": {},
   "outputs": [
    {
     "data": {
      "text/plain": [
       "2020    2\n",
       "dtype: int64"
      ]
     },
     "execution_count": 158,
     "metadata": {},
     "output_type": "execute_result"
    }
   ],
   "source": [
    "((df1[[\"2020\"]]<Lower) | (df1[[\"2020\"]]>Upper)).sum()"
   ]
  },
  {
   "cell_type": "code",
   "execution_count": 159,
   "id": "d62ee360",
   "metadata": {},
   "outputs": [],
   "source": [
    "Row_count = ((df1[[\"2020\"]]<Lower) | (df1[[\"2020\"]]>Upper))"
   ]
  },
  {
   "cell_type": "code",
   "execution_count": 160,
   "id": "6a449db0",
   "metadata": {},
   "outputs": [],
   "source": [
    "Row_count_index = Row_count[Row_count[\"2020\"]].index"
   ]
  },
  {
   "cell_type": "code",
   "execution_count": 161,
   "id": "b2d7972a",
   "metadata": {},
   "outputs": [
    {
     "data": {
      "text/plain": [
       "Int64Index([20, 27], dtype='int64')"
      ]
     },
     "execution_count": 161,
     "metadata": {},
     "output_type": "execute_result"
    }
   ],
   "source": [
    "Row_count_index"
   ]
  },
  {
   "cell_type": "code",
   "execution_count": 162,
   "id": "2c63fa25",
   "metadata": {},
   "outputs": [],
   "source": [
    "df1.loc[Row_count_index,\"2020\"] = df1[\"2020\"].mean()"
   ]
  },
  {
   "cell_type": "code",
   "execution_count": 163,
   "id": "cf39e623",
   "metadata": {},
   "outputs": [
    {
     "data": {
      "text/plain": [
       "2020    0\n",
       "dtype: int64"
      ]
     },
     "execution_count": 163,
     "metadata": {},
     "output_type": "execute_result"
    }
   ],
   "source": [
    "((df1[[\"2020\"]]<Lower) | (df1[[\"2020\"]]>Upper)).sum()"
   ]
  },
  {
   "cell_type": "code",
   "execution_count": 164,
   "id": "9e927bd1",
   "metadata": {},
   "outputs": [],
   "source": [
    "Q1 = df1.quantile(0.25)\n",
    "Q3 = df1.quantile(0.75)"
   ]
  },
  {
   "cell_type": "code",
   "execution_count": 165,
   "id": "183404dd",
   "metadata": {},
   "outputs": [],
   "source": [
    "IQR = Q3 - Q1"
   ]
  },
  {
   "cell_type": "code",
   "execution_count": 166,
   "id": "5da741d8",
   "metadata": {},
   "outputs": [
    {
     "name": "stderr",
     "output_type": "stream",
     "text": [
      "C:\\Users\\91953\\AppData\\Local\\Temp\\ipykernel_14980\\3113731443.py:1: FutureWarning: Automatic reindexing on DataFrame vs Series comparisons is deprecated and will raise ValueError in a future version. Do `left, right = left.align(right, axis=1, copy=False)` before e.g. `left == right`\n",
      "  ((df1 <(Q1 - 1.5*IQR)) | (df1 >(Q3 + 1.5*IQR))).sum()\n"
     ]
    },
    {
     "data": {
      "text/plain": [
       "2019                         0\n",
       "2020                         1\n",
       "2021                         0\n",
       "ChargesSheetingRate          1\n",
       "RateofCrimeAgainstWomen      1\n",
       "S.No                         0\n",
       "State/UT                     0\n",
       "State_Name                   0\n",
       "Total Cases (2019 - 2021)    1\n",
       "midPopulation                2\n",
       "dtype: int64"
      ]
     },
     "execution_count": 166,
     "metadata": {},
     "output_type": "execute_result"
    }
   ],
   "source": [
    "((df1 <(Q1 - 1.5*IQR)) | (df1 >(Q3 + 1.5*IQR))).sum()"
   ]
  },
  {
   "cell_type": "code",
   "execution_count": 167,
   "id": "d6d3647c",
   "metadata": {},
   "outputs": [],
   "source": [
    "# Replacing outliers with mean value of 2020 column.\n",
    "Q1 = df1[\"2020\"].quantile(0.25)\n",
    "Q3 = df1[\"2020\"].quantile(0.75)"
   ]
  },
  {
   "cell_type": "code",
   "execution_count": 168,
   "id": "6213ab83",
   "metadata": {},
   "outputs": [],
   "source": [
    "IQR = Q3 - Q1"
   ]
  },
  {
   "cell_type": "code",
   "execution_count": 169,
   "id": "7e391892",
   "metadata": {},
   "outputs": [
    {
     "data": {
      "text/plain": [
       "10669.645833333332"
      ]
     },
     "execution_count": 169,
     "metadata": {},
     "output_type": "execute_result"
    }
   ],
   "source": [
    "IQR"
   ]
  },
  {
   "cell_type": "code",
   "execution_count": 170,
   "id": "63f790cf",
   "metadata": {},
   "outputs": [
    {
     "name": "stdout",
     "output_type": "stream",
     "text": [
      "-15764.468749999998\n",
      "26914.11458333333\n"
     ]
    }
   ],
   "source": [
    "Lower = Q1 - 1.5*IQR\n",
    "print(Lower)\n",
    "Upper = Q3 + 1.5*IQR\n",
    "print(Upper)"
   ]
  },
  {
   "cell_type": "code",
   "execution_count": 171,
   "id": "b7ede2c4",
   "metadata": {},
   "outputs": [
    {
     "data": {
      "text/plain": [
       "2020    1\n",
       "dtype: int64"
      ]
     },
     "execution_count": 171,
     "metadata": {},
     "output_type": "execute_result"
    }
   ],
   "source": [
    "((df1[[\"2020\"]]<Lower) | (df1[[\"2020\"]]>Upper)).sum()"
   ]
  },
  {
   "cell_type": "code",
   "execution_count": 172,
   "id": "bf69fdcc",
   "metadata": {},
   "outputs": [],
   "source": [
    "Row_count = ((df1[[\"2020\"]]<Lower) | (df1[[\"2020\"]]>Upper))"
   ]
  },
  {
   "cell_type": "code",
   "execution_count": 173,
   "id": "17b97e3a",
   "metadata": {},
   "outputs": [],
   "source": [
    "Row_count_index = Row_count[Row_count[\"2020\"]].index"
   ]
  },
  {
   "cell_type": "code",
   "execution_count": 174,
   "id": "55d39c91",
   "metadata": {},
   "outputs": [
    {
     "data": {
      "text/plain": [
       "Int64Index([13], dtype='int64')"
      ]
     },
     "execution_count": 174,
     "metadata": {},
     "output_type": "execute_result"
    }
   ],
   "source": [
    "Row_count_index"
   ]
  },
  {
   "cell_type": "code",
   "execution_count": 175,
   "id": "eb666b01",
   "metadata": {},
   "outputs": [],
   "source": [
    "df1.loc[Row_count_index,\"2020\"] = df1[\"2020\"].mean()"
   ]
  },
  {
   "cell_type": "code",
   "execution_count": 176,
   "id": "3c82a416",
   "metadata": {},
   "outputs": [
    {
     "data": {
      "text/plain": [
       "2020    0\n",
       "dtype: int64"
      ]
     },
     "execution_count": 176,
     "metadata": {},
     "output_type": "execute_result"
    }
   ],
   "source": [
    "((df1[[\"2020\"]]<Lower) | (df1[[\"2020\"]]>Upper)).sum()"
   ]
  },
  {
   "cell_type": "code",
   "execution_count": 177,
   "id": "90247c72",
   "metadata": {},
   "outputs": [],
   "source": [
    "Q1 = df1.quantile(0.25)\n",
    "Q3 = df1.quantile(0.75)"
   ]
  },
  {
   "cell_type": "code",
   "execution_count": 178,
   "id": "5136c982",
   "metadata": {},
   "outputs": [],
   "source": [
    "IQR = Q3 - Q1"
   ]
  },
  {
   "cell_type": "code",
   "execution_count": 179,
   "id": "3c684758",
   "metadata": {},
   "outputs": [
    {
     "name": "stderr",
     "output_type": "stream",
     "text": [
      "C:\\Users\\91953\\AppData\\Local\\Temp\\ipykernel_14980\\3113731443.py:1: FutureWarning: Automatic reindexing on DataFrame vs Series comparisons is deprecated and will raise ValueError in a future version. Do `left, right = left.align(right, axis=1, copy=False)` before e.g. `left == right`\n",
      "  ((df1 <(Q1 - 1.5*IQR)) | (df1 >(Q3 + 1.5*IQR))).sum()\n"
     ]
    },
    {
     "data": {
      "text/plain": [
       "2019                         0\n",
       "2020                         3\n",
       "2021                         0\n",
       "ChargesSheetingRate          1\n",
       "RateofCrimeAgainstWomen      1\n",
       "S.No                         0\n",
       "State/UT                     0\n",
       "State_Name                   0\n",
       "Total Cases (2019 - 2021)    1\n",
       "midPopulation                2\n",
       "dtype: int64"
      ]
     },
     "execution_count": 179,
     "metadata": {},
     "output_type": "execute_result"
    }
   ],
   "source": [
    "((df1 <(Q1 - 1.5*IQR)) | (df1 >(Q3 + 1.5*IQR))).sum()"
   ]
  },
  {
   "cell_type": "code",
   "execution_count": 180,
   "id": "15128cd9",
   "metadata": {},
   "outputs": [],
   "source": [
    "# Replacing outliers with mean value of 2020 column.\n",
    "Q1 = df1[\"2020\"].quantile(0.25)\n",
    "Q3 = df1[\"2020\"].quantile(0.75)"
   ]
  },
  {
   "cell_type": "code",
   "execution_count": 181,
   "id": "8f7cd438",
   "metadata": {},
   "outputs": [],
   "source": [
    "IQR = Q3 - Q1"
   ]
  },
  {
   "cell_type": "code",
   "execution_count": 182,
   "id": "82cebf04",
   "metadata": {},
   "outputs": [
    {
     "data": {
      "text/plain": [
       "9944.131944444445"
      ]
     },
     "execution_count": 182,
     "metadata": {},
     "output_type": "execute_result"
    }
   ],
   "source": [
    "IQR"
   ]
  },
  {
   "cell_type": "code",
   "execution_count": 183,
   "id": "0a318e8f",
   "metadata": {},
   "outputs": [
    {
     "name": "stdout",
     "output_type": "stream",
     "text": [
      "-14676.197916666668\n",
      "25100.329861111113\n"
     ]
    }
   ],
   "source": [
    "Lower = Q1 - 1.5*IQR\n",
    "print(Lower)\n",
    "Upper = Q3 + 1.5*IQR\n",
    "print(Upper)"
   ]
  },
  {
   "cell_type": "code",
   "execution_count": 184,
   "id": "d6b5f88c",
   "metadata": {},
   "outputs": [
    {
     "data": {
      "text/plain": [
       "2020    3\n",
       "dtype: int64"
      ]
     },
     "execution_count": 184,
     "metadata": {},
     "output_type": "execute_result"
    }
   ],
   "source": [
    "((df1[[\"2020\"]]<Lower) | (df1[[\"2020\"]]>Upper)).sum()"
   ]
  },
  {
   "cell_type": "code",
   "execution_count": 185,
   "id": "3902ef28",
   "metadata": {},
   "outputs": [],
   "source": [
    "Row_count = ((df1[[\"2020\"]]<Lower) | (df1[[\"2020\"]]>Upper))"
   ]
  },
  {
   "cell_type": "code",
   "execution_count": 186,
   "id": "8a05ea1e",
   "metadata": {},
   "outputs": [],
   "source": [
    "Row_count_index = Row_count[Row_count[\"2020\"]].index"
   ]
  },
  {
   "cell_type": "code",
   "execution_count": 187,
   "id": "694214bb",
   "metadata": {},
   "outputs": [
    {
     "data": {
      "text/plain": [
       "Int64Index([2, 12, 18], dtype='int64')"
      ]
     },
     "execution_count": 187,
     "metadata": {},
     "output_type": "execute_result"
    }
   ],
   "source": [
    "Row_count_index"
   ]
  },
  {
   "cell_type": "code",
   "execution_count": 188,
   "id": "cae0dc1e",
   "metadata": {},
   "outputs": [],
   "source": [
    "df1.loc[Row_count_index,\"2020\"] = df1[\"2020\"].mean()"
   ]
  },
  {
   "cell_type": "code",
   "execution_count": 189,
   "id": "b74dc82b",
   "metadata": {},
   "outputs": [
    {
     "data": {
      "text/plain": [
       "2020    0\n",
       "dtype: int64"
      ]
     },
     "execution_count": 189,
     "metadata": {},
     "output_type": "execute_result"
    }
   ],
   "source": [
    "((df1[[\"2020\"]]<Lower) | (df1[[\"2020\"]]>Upper)).sum()"
   ]
  },
  {
   "cell_type": "code",
   "execution_count": 190,
   "id": "18438d08",
   "metadata": {},
   "outputs": [],
   "source": [
    "Q1 = df1.quantile(0.25)\n",
    "Q3 = df1.quantile(0.75)"
   ]
  },
  {
   "cell_type": "code",
   "execution_count": 191,
   "id": "e455c853",
   "metadata": {},
   "outputs": [],
   "source": [
    "IQR = Q3 - Q1"
   ]
  },
  {
   "cell_type": "code",
   "execution_count": 192,
   "id": "3235eafa",
   "metadata": {},
   "outputs": [
    {
     "name": "stderr",
     "output_type": "stream",
     "text": [
      "C:\\Users\\91953\\AppData\\Local\\Temp\\ipykernel_14980\\3113731443.py:1: FutureWarning: Automatic reindexing on DataFrame vs Series comparisons is deprecated and will raise ValueError in a future version. Do `left, right = left.align(right, axis=1, copy=False)` before e.g. `left == right`\n",
      "  ((df1 <(Q1 - 1.5*IQR)) | (df1 >(Q3 + 1.5*IQR))).sum()\n"
     ]
    },
    {
     "data": {
      "text/plain": [
       "2019                         0\n",
       "2020                         0\n",
       "2021                         0\n",
       "ChargesSheetingRate          1\n",
       "RateofCrimeAgainstWomen      1\n",
       "S.No                         0\n",
       "State/UT                     0\n",
       "State_Name                   0\n",
       "Total Cases (2019 - 2021)    1\n",
       "midPopulation                2\n",
       "dtype: int64"
      ]
     },
     "execution_count": 192,
     "metadata": {},
     "output_type": "execute_result"
    }
   ],
   "source": [
    "((df1 <(Q1 - 1.5*IQR)) | (df1 >(Q3 + 1.5*IQR))).sum()"
   ]
  },
  {
   "cell_type": "code",
   "execution_count": 194,
   "id": "adc4fc84",
   "metadata": {},
   "outputs": [],
   "source": [
    "# Replacing outliers with mean value of ChargesSheetingRate column.\n",
    "Q1 = df1[\"ChargesSheetingRate\"].quantile(0.25)\n",
    "Q3 = df1[\"ChargesSheetingRate\"].quantile(0.75)"
   ]
  },
  {
   "cell_type": "code",
   "execution_count": 195,
   "id": "c5562791",
   "metadata": {},
   "outputs": [],
   "source": [
    "IQR = Q3 - Q1"
   ]
  },
  {
   "cell_type": "code",
   "execution_count": 196,
   "id": "4ba3ee05",
   "metadata": {},
   "outputs": [
    {
     "data": {
      "text/plain": [
       "10.799999999999983"
      ]
     },
     "execution_count": 196,
     "metadata": {},
     "output_type": "execute_result"
    }
   ],
   "source": [
    "IQR"
   ]
  },
  {
   "cell_type": "code",
   "execution_count": 197,
   "id": "9d2824b6",
   "metadata": {},
   "outputs": [
    {
     "name": "stdout",
     "output_type": "stream",
     "text": [
      "60.97500000000004\n",
      "104.17499999999997\n"
     ]
    }
   ],
   "source": [
    "Lower = Q1 - 1.5*IQR\n",
    "print(Lower)\n",
    "Upper = Q3 + 1.5*IQR\n",
    "print(Upper)"
   ]
  },
  {
   "cell_type": "code",
   "execution_count": 198,
   "id": "38a9b323",
   "metadata": {},
   "outputs": [
    {
     "data": {
      "text/plain": [
       "ChargesSheetingRate    1\n",
       "dtype: int64"
      ]
     },
     "execution_count": 198,
     "metadata": {},
     "output_type": "execute_result"
    }
   ],
   "source": [
    "((df1[[\"ChargesSheetingRate\"]]<Lower) | (df1[[\"ChargesSheetingRate\"]]>Upper)).sum()"
   ]
  },
  {
   "cell_type": "code",
   "execution_count": 199,
   "id": "589ece48",
   "metadata": {},
   "outputs": [],
   "source": [
    "Row_count = ((df1[[\"ChargesSheetingRate\"]]<Lower) | (df1[[\"ChargesSheetingRate\"]]>Upper))"
   ]
  },
  {
   "cell_type": "code",
   "execution_count": 200,
   "id": "76c5f8cd",
   "metadata": {},
   "outputs": [],
   "source": [
    "Row_count_index = Row_count[Row_count[\"ChargesSheetingRate\"]].index"
   ]
  },
  {
   "cell_type": "code",
   "execution_count": 201,
   "id": "598ff96d",
   "metadata": {},
   "outputs": [
    {
     "data": {
      "text/plain": [
       "Int64Index([7], dtype='int64')"
      ]
     },
     "execution_count": 201,
     "metadata": {},
     "output_type": "execute_result"
    }
   ],
   "source": [
    "Row_count_index"
   ]
  },
  {
   "cell_type": "code",
   "execution_count": 202,
   "id": "56de1b7f",
   "metadata": {},
   "outputs": [],
   "source": [
    "df1.loc[Row_count_index,\"ChargesSheetingRate\"] = df1[\"ChargesSheetingRate\"].mean()"
   ]
  },
  {
   "cell_type": "code",
   "execution_count": 203,
   "id": "16458112",
   "metadata": {},
   "outputs": [
    {
     "data": {
      "text/plain": [
       "ChargesSheetingRate    0\n",
       "dtype: int64"
      ]
     },
     "execution_count": 203,
     "metadata": {},
     "output_type": "execute_result"
    }
   ],
   "source": [
    "((df1[[\"ChargesSheetingRate\"]]<Lower) | (df1[[\"ChargesSheetingRate\"]]>Upper)).sum()"
   ]
  },
  {
   "cell_type": "code",
   "execution_count": 204,
   "id": "5a027daa",
   "metadata": {},
   "outputs": [],
   "source": [
    "Q1 = df1.quantile(0.25)\n",
    "Q3 = df1.quantile(0.75)"
   ]
  },
  {
   "cell_type": "code",
   "execution_count": 205,
   "id": "e7cbc0b5",
   "metadata": {},
   "outputs": [],
   "source": [
    "IQR = Q3 - Q1"
   ]
  },
  {
   "cell_type": "code",
   "execution_count": 206,
   "id": "c2aa15b5",
   "metadata": {},
   "outputs": [
    {
     "name": "stderr",
     "output_type": "stream",
     "text": [
      "C:\\Users\\91953\\AppData\\Local\\Temp\\ipykernel_14980\\3113731443.py:1: FutureWarning: Automatic reindexing on DataFrame vs Series comparisons is deprecated and will raise ValueError in a future version. Do `left, right = left.align(right, axis=1, copy=False)` before e.g. `left == right`\n",
      "  ((df1 <(Q1 - 1.5*IQR)) | (df1 >(Q3 + 1.5*IQR))).sum()\n"
     ]
    },
    {
     "data": {
      "text/plain": [
       "2019                         0\n",
       "2020                         0\n",
       "2021                         0\n",
       "ChargesSheetingRate          0\n",
       "RateofCrimeAgainstWomen      1\n",
       "S.No                         0\n",
       "State/UT                     0\n",
       "State_Name                   0\n",
       "Total Cases (2019 - 2021)    1\n",
       "midPopulation                2\n",
       "dtype: int64"
      ]
     },
     "execution_count": 206,
     "metadata": {},
     "output_type": "execute_result"
    }
   ],
   "source": [
    "((df1 <(Q1 - 1.5*IQR)) | (df1 >(Q3 + 1.5*IQR))).sum()"
   ]
  },
  {
   "cell_type": "code",
   "execution_count": 207,
   "id": "1b3582be",
   "metadata": {},
   "outputs": [],
   "source": [
    "# Replacing outliers with mean value of RateofCrimeAgainstWomen column.\n",
    "Q1 = df1[\"RateofCrimeAgainstWomen\"].quantile(0.25)\n",
    "Q3 = df1[\"RateofCrimeAgainstWomen\"].quantile(0.75)"
   ]
  },
  {
   "cell_type": "code",
   "execution_count": 208,
   "id": "b3a5fa63",
   "metadata": {},
   "outputs": [],
   "source": [
    "IQR = Q3 - Q1"
   ]
  },
  {
   "cell_type": "code",
   "execution_count": 209,
   "id": "94efd504",
   "metadata": {},
   "outputs": [
    {
     "data": {
      "text/plain": [
       "37.25"
      ]
     },
     "execution_count": 209,
     "metadata": {},
     "output_type": "execute_result"
    }
   ],
   "source": [
    "IQR"
   ]
  },
  {
   "cell_type": "code",
   "execution_count": 210,
   "id": "d8590bed",
   "metadata": {},
   "outputs": [
    {
     "name": "stdout",
     "output_type": "stream",
     "text": [
      "-26.825\n",
      "122.175\n"
     ]
    }
   ],
   "source": [
    "Lower = Q1 - 1.5*IQR\n",
    "print(Lower)\n",
    "Upper = Q3 + 1.5*IQR\n",
    "print(Upper)"
   ]
  },
  {
   "cell_type": "code",
   "execution_count": 211,
   "id": "a0f60744",
   "metadata": {},
   "outputs": [
    {
     "data": {
      "text/plain": [
       "RateofCrimeAgainstWomen    1\n",
       "dtype: int64"
      ]
     },
     "execution_count": 211,
     "metadata": {},
     "output_type": "execute_result"
    }
   ],
   "source": [
    "((df1[[\"RateofCrimeAgainstWomen\"]]<Lower) | (df1[[\"RateofCrimeAgainstWomen\"]]>Upper)).sum()"
   ]
  },
  {
   "cell_type": "code",
   "execution_count": 212,
   "id": "ba0455ce",
   "metadata": {},
   "outputs": [],
   "source": [
    "Row_count = ((df1[[\"RateofCrimeAgainstWomen\"]]<Lower) | (df1[[\"RateofCrimeAgainstWomen\"]]>Upper))"
   ]
  },
  {
   "cell_type": "code",
   "execution_count": 213,
   "id": "66331f66",
   "metadata": {},
   "outputs": [],
   "source": [
    "Row_count_index = Row_count[Row_count[\"RateofCrimeAgainstWomen\"]].index"
   ]
  },
  {
   "cell_type": "code",
   "execution_count": 214,
   "id": "4e322e71",
   "metadata": {},
   "outputs": [
    {
     "data": {
      "text/plain": [
       "Int64Index([18], dtype='int64')"
      ]
     },
     "execution_count": 214,
     "metadata": {},
     "output_type": "execute_result"
    }
   ],
   "source": [
    "Row_count_index"
   ]
  },
  {
   "cell_type": "code",
   "execution_count": 215,
   "id": "48f459b2",
   "metadata": {},
   "outputs": [],
   "source": [
    "df1.loc[Row_count_index,\"RateofCrimeAgainstWomen\"] = df1[\"RateofCrimeAgainstWomen\"].mean()"
   ]
  },
  {
   "cell_type": "code",
   "execution_count": 216,
   "id": "954886c4",
   "metadata": {},
   "outputs": [
    {
     "data": {
      "text/plain": [
       "RateofCrimeAgainstWomen    0\n",
       "dtype: int64"
      ]
     },
     "execution_count": 216,
     "metadata": {},
     "output_type": "execute_result"
    }
   ],
   "source": [
    "((df1[[\"RateofCrimeAgainstWomen\"]]<Lower) | (df1[[\"RateofCrimeAgainstWomen\"]]>Upper)).sum()"
   ]
  },
  {
   "cell_type": "code",
   "execution_count": 217,
   "id": "f8aace42",
   "metadata": {},
   "outputs": [],
   "source": [
    "Q1 = df1.quantile(0.25)\n",
    "Q3 = df1.quantile(0.75)"
   ]
  },
  {
   "cell_type": "code",
   "execution_count": 218,
   "id": "3eec7d64",
   "metadata": {},
   "outputs": [],
   "source": [
    "IQR = Q3 - Q1"
   ]
  },
  {
   "cell_type": "code",
   "execution_count": 219,
   "id": "cff37ad8",
   "metadata": {},
   "outputs": [
    {
     "name": "stderr",
     "output_type": "stream",
     "text": [
      "C:\\Users\\91953\\AppData\\Local\\Temp\\ipykernel_14980\\3113731443.py:1: FutureWarning: Automatic reindexing on DataFrame vs Series comparisons is deprecated and will raise ValueError in a future version. Do `left, right = left.align(right, axis=1, copy=False)` before e.g. `left == right`\n",
      "  ((df1 <(Q1 - 1.5*IQR)) | (df1 >(Q3 + 1.5*IQR))).sum()\n"
     ]
    },
    {
     "data": {
      "text/plain": [
       "2019                         0\n",
       "2020                         0\n",
       "2021                         0\n",
       "ChargesSheetingRate          0\n",
       "RateofCrimeAgainstWomen      1\n",
       "S.No                         0\n",
       "State/UT                     0\n",
       "State_Name                   0\n",
       "Total Cases (2019 - 2021)    1\n",
       "midPopulation                2\n",
       "dtype: int64"
      ]
     },
     "execution_count": 219,
     "metadata": {},
     "output_type": "execute_result"
    }
   ],
   "source": [
    "((df1 <(Q1 - 1.5*IQR)) | (df1 >(Q3 + 1.5*IQR))).sum()"
   ]
  },
  {
   "cell_type": "code",
   "execution_count": 220,
   "id": "9ad1b9ef",
   "metadata": {},
   "outputs": [],
   "source": [
    "# Replacing outliers with mean value of RateofCrimeAgainstWomen column.\n",
    "Q1 = df1[\"RateofCrimeAgainstWomen\"].quantile(0.25)\n",
    "Q3 = df1[\"RateofCrimeAgainstWomen\"].quantile(0.75)"
   ]
  },
  {
   "cell_type": "code",
   "execution_count": 221,
   "id": "c8617e2a",
   "metadata": {},
   "outputs": [],
   "source": [
    "IQR = Q3 - Q1"
   ]
  },
  {
   "cell_type": "code",
   "execution_count": 222,
   "id": "0aad14bf",
   "metadata": {},
   "outputs": [
    {
     "data": {
      "text/plain": [
       "33.72500000000001"
      ]
     },
     "execution_count": 222,
     "metadata": {},
     "output_type": "execute_result"
    }
   ],
   "source": [
    "IQR"
   ]
  },
  {
   "cell_type": "code",
   "execution_count": 223,
   "id": "6faa0066",
   "metadata": {},
   "outputs": [
    {
     "name": "stdout",
     "output_type": "stream",
     "text": [
      "-21.537500000000012\n",
      "113.36250000000001\n"
     ]
    }
   ],
   "source": [
    "Lower = Q1 - 1.5*IQR\n",
    "print(Lower)\n",
    "Upper = Q3 + 1.5*IQR\n",
    "print(Upper)"
   ]
  },
  {
   "cell_type": "code",
   "execution_count": 224,
   "id": "69781304",
   "metadata": {},
   "outputs": [
    {
     "data": {
      "text/plain": [
       "RateofCrimeAgainstWomen    1\n",
       "dtype: int64"
      ]
     },
     "execution_count": 224,
     "metadata": {},
     "output_type": "execute_result"
    }
   ],
   "source": [
    "((df1[[\"RateofCrimeAgainstWomen\"]]<Lower) | (df1[[\"RateofCrimeAgainstWomen\"]]>Upper)).sum()"
   ]
  },
  {
   "cell_type": "code",
   "execution_count": 225,
   "id": "9d7478ba",
   "metadata": {},
   "outputs": [],
   "source": [
    "Row_count = ((df1[[\"RateofCrimeAgainstWomen\"]]<Lower) | (df1[[\"RateofCrimeAgainstWomen\"]]>Upper))"
   ]
  },
  {
   "cell_type": "code",
   "execution_count": 226,
   "id": "c730148a",
   "metadata": {},
   "outputs": [],
   "source": [
    "Row_count_index = Row_count[Row_count[\"RateofCrimeAgainstWomen\"]].index"
   ]
  },
  {
   "cell_type": "code",
   "execution_count": 227,
   "id": "a44db90e",
   "metadata": {},
   "outputs": [
    {
     "data": {
      "text/plain": [
       "Int64Index([7], dtype='int64')"
      ]
     },
     "execution_count": 227,
     "metadata": {},
     "output_type": "execute_result"
    }
   ],
   "source": [
    "Row_count_index"
   ]
  },
  {
   "cell_type": "code",
   "execution_count": 228,
   "id": "44c9c0e8",
   "metadata": {},
   "outputs": [],
   "source": [
    "df1.loc[Row_count_index,\"RateofCrimeAgainstWomen\"] = df1[\"RateofCrimeAgainstWomen\"].mean()"
   ]
  },
  {
   "cell_type": "code",
   "execution_count": 229,
   "id": "93d791a8",
   "metadata": {},
   "outputs": [
    {
     "data": {
      "text/plain": [
       "RateofCrimeAgainstWomen    0\n",
       "dtype: int64"
      ]
     },
     "execution_count": 229,
     "metadata": {},
     "output_type": "execute_result"
    }
   ],
   "source": [
    "((df1[[\"RateofCrimeAgainstWomen\"]]<Lower) | (df1[[\"RateofCrimeAgainstWomen\"]]>Upper)).sum()"
   ]
  },
  {
   "cell_type": "code",
   "execution_count": 230,
   "id": "411bb0dd",
   "metadata": {},
   "outputs": [],
   "source": [
    "Q1 = df1.quantile(0.25)\n",
    "Q3 = df1.quantile(0.75)"
   ]
  },
  {
   "cell_type": "code",
   "execution_count": 231,
   "id": "643b1a6e",
   "metadata": {},
   "outputs": [],
   "source": [
    "IQR = Q3 - Q1"
   ]
  },
  {
   "cell_type": "code",
   "execution_count": 232,
   "id": "4006b37d",
   "metadata": {},
   "outputs": [
    {
     "name": "stderr",
     "output_type": "stream",
     "text": [
      "C:\\Users\\91953\\AppData\\Local\\Temp\\ipykernel_14980\\3113731443.py:1: FutureWarning: Automatic reindexing on DataFrame vs Series comparisons is deprecated and will raise ValueError in a future version. Do `left, right = left.align(right, axis=1, copy=False)` before e.g. `left == right`\n",
      "  ((df1 <(Q1 - 1.5*IQR)) | (df1 >(Q3 + 1.5*IQR))).sum()\n"
     ]
    },
    {
     "data": {
      "text/plain": [
       "2019                         0\n",
       "2020                         0\n",
       "2021                         0\n",
       "ChargesSheetingRate          0\n",
       "RateofCrimeAgainstWomen      1\n",
       "S.No                         0\n",
       "State/UT                     0\n",
       "State_Name                   0\n",
       "Total Cases (2019 - 2021)    1\n",
       "midPopulation                2\n",
       "dtype: int64"
      ]
     },
     "execution_count": 232,
     "metadata": {},
     "output_type": "execute_result"
    }
   ],
   "source": [
    "((df1 <(Q1 - 1.5*IQR)) | (df1 >(Q3 + 1.5*IQR))).sum()"
   ]
  },
  {
   "cell_type": "code",
   "execution_count": 233,
   "id": "fc988405",
   "metadata": {},
   "outputs": [],
   "source": [
    "# Replacing outliers with mean value of RateofCrimeAgainstWomen column.\n",
    "Q1 = df1[\"RateofCrimeAgainstWomen\"].quantile(0.25)\n",
    "Q3 = df1[\"RateofCrimeAgainstWomen\"].quantile(0.75)"
   ]
  },
  {
   "cell_type": "code",
   "execution_count": 234,
   "id": "671efe9d",
   "metadata": {},
   "outputs": [],
   "source": [
    "IQR = Q3 - Q1"
   ]
  },
  {
   "cell_type": "code",
   "execution_count": 235,
   "id": "77815752",
   "metadata": {},
   "outputs": [
    {
     "data": {
      "text/plain": [
       "32.575"
      ]
     },
     "execution_count": 235,
     "metadata": {},
     "output_type": "execute_result"
    }
   ],
   "source": [
    "IQR"
   ]
  },
  {
   "cell_type": "code",
   "execution_count": 236,
   "id": "671beb16",
   "metadata": {},
   "outputs": [
    {
     "name": "stdout",
     "output_type": "stream",
     "text": [
      "-19.812500000000004\n",
      "110.48750000000001\n"
     ]
    }
   ],
   "source": [
    "Lower = Q1 - 1.5*IQR\n",
    "print(Lower)\n",
    "Upper = Q3 + 1.5*IQR\n",
    "print(Upper)"
   ]
  },
  {
   "cell_type": "code",
   "execution_count": 237,
   "id": "96b9ccb6",
   "metadata": {},
   "outputs": [
    {
     "data": {
      "text/plain": [
       "RateofCrimeAgainstWomen    1\n",
       "dtype: int64"
      ]
     },
     "execution_count": 237,
     "metadata": {},
     "output_type": "execute_result"
    }
   ],
   "source": [
    "((df1[[\"RateofCrimeAgainstWomen\"]]<Lower) | (df1[[\"RateofCrimeAgainstWomen\"]]>Upper)).sum()"
   ]
  },
  {
   "cell_type": "code",
   "execution_count": 238,
   "id": "fcc0acd6",
   "metadata": {},
   "outputs": [],
   "source": [
    "Row_count = ((df1[[\"RateofCrimeAgainstWomen\"]]<Lower) | (df1[[\"RateofCrimeAgainstWomen\"]]>Upper))"
   ]
  },
  {
   "cell_type": "code",
   "execution_count": 239,
   "id": "5de6e69f",
   "metadata": {},
   "outputs": [],
   "source": [
    "Row_count_index = Row_count[Row_count[\"RateofCrimeAgainstWomen\"]].index"
   ]
  },
  {
   "cell_type": "code",
   "execution_count": 240,
   "id": "ec1ac3f6",
   "metadata": {},
   "outputs": [
    {
     "data": {
      "text/plain": [
       "Int64Index([23], dtype='int64')"
      ]
     },
     "execution_count": 240,
     "metadata": {},
     "output_type": "execute_result"
    }
   ],
   "source": [
    "Row_count_index"
   ]
  },
  {
   "cell_type": "code",
   "execution_count": 241,
   "id": "52e87791",
   "metadata": {},
   "outputs": [],
   "source": [
    "df1.loc[Row_count_index,\"RateofCrimeAgainstWomen\"] = df1[\"RateofCrimeAgainstWomen\"].mean()"
   ]
  },
  {
   "cell_type": "code",
   "execution_count": 242,
   "id": "cb771678",
   "metadata": {},
   "outputs": [
    {
     "data": {
      "text/plain": [
       "RateofCrimeAgainstWomen    0\n",
       "dtype: int64"
      ]
     },
     "execution_count": 242,
     "metadata": {},
     "output_type": "execute_result"
    }
   ],
   "source": [
    "((df1[[\"RateofCrimeAgainstWomen\"]]<Lower) | (df1[[\"RateofCrimeAgainstWomen\"]]>Upper)).sum()"
   ]
  },
  {
   "cell_type": "code",
   "execution_count": 243,
   "id": "e62eb0f3",
   "metadata": {},
   "outputs": [],
   "source": [
    "Q1 = df1.quantile(0.25)\n",
    "Q3 = df1.quantile(0.75)"
   ]
  },
  {
   "cell_type": "code",
   "execution_count": 244,
   "id": "53a5b618",
   "metadata": {},
   "outputs": [],
   "source": [
    "IQR = Q3 - Q1"
   ]
  },
  {
   "cell_type": "code",
   "execution_count": 245,
   "id": "0f081bd2",
   "metadata": {},
   "outputs": [
    {
     "name": "stderr",
     "output_type": "stream",
     "text": [
      "C:\\Users\\91953\\AppData\\Local\\Temp\\ipykernel_14980\\3113731443.py:1: FutureWarning: Automatic reindexing on DataFrame vs Series comparisons is deprecated and will raise ValueError in a future version. Do `left, right = left.align(right, axis=1, copy=False)` before e.g. `left == right`\n",
      "  ((df1 <(Q1 - 1.5*IQR)) | (df1 >(Q3 + 1.5*IQR))).sum()\n"
     ]
    },
    {
     "data": {
      "text/plain": [
       "2019                         0\n",
       "2020                         0\n",
       "2021                         0\n",
       "ChargesSheetingRate          0\n",
       "RateofCrimeAgainstWomen      0\n",
       "S.No                         0\n",
       "State/UT                     0\n",
       "State_Name                   0\n",
       "Total Cases (2019 - 2021)    1\n",
       "midPopulation                2\n",
       "dtype: int64"
      ]
     },
     "execution_count": 245,
     "metadata": {},
     "output_type": "execute_result"
    }
   ],
   "source": [
    "((df1 <(Q1 - 1.5*IQR)) | (df1 >(Q3 + 1.5*IQR))).sum()"
   ]
  },
  {
   "cell_type": "code",
   "execution_count": 246,
   "id": "a0c09b6c",
   "metadata": {},
   "outputs": [],
   "source": [
    "# Replacing outliers with mean value of Total Cases (2019 - 2021) column.\n",
    "Q1 = df1[\"Total Cases (2019 - 2021)\"].quantile(0.25)\n",
    "Q3 = df1[\"Total Cases (2019 - 2021)\"].quantile(0.75)"
   ]
  },
  {
   "cell_type": "code",
   "execution_count": 247,
   "id": "2a76e87c",
   "metadata": {},
   "outputs": [],
   "source": [
    "IQR = Q3 - Q1"
   ]
  },
  {
   "cell_type": "code",
   "execution_count": 248,
   "id": "4333fd18",
   "metadata": {},
   "outputs": [
    {
     "data": {
      "text/plain": [
       "45425.5"
      ]
     },
     "execution_count": 248,
     "metadata": {},
     "output_type": "execute_result"
    }
   ],
   "source": [
    "IQR"
   ]
  },
  {
   "cell_type": "code",
   "execution_count": 249,
   "id": "4ecf8683",
   "metadata": {},
   "outputs": [
    {
     "name": "stdout",
     "output_type": "stream",
     "text": [
      "-67334.0\n",
      "114368.0\n"
     ]
    }
   ],
   "source": [
    "Lower = Q1 - 1.5*IQR\n",
    "print(Lower)\n",
    "Upper = Q3 + 1.5*IQR\n",
    "print(Upper)"
   ]
  },
  {
   "cell_type": "code",
   "execution_count": 250,
   "id": "b30798ad",
   "metadata": {},
   "outputs": [
    {
     "data": {
      "text/plain": [
       "Total Cases (2019 - 2021)    1\n",
       "dtype: int64"
      ]
     },
     "execution_count": 250,
     "metadata": {},
     "output_type": "execute_result"
    }
   ],
   "source": [
    "((df1[[\"Total Cases (2019 - 2021)\"]]<Lower) | (df1[[\"Total Cases (2019 - 2021)\"]]>Upper)).sum()"
   ]
  },
  {
   "cell_type": "code",
   "execution_count": 251,
   "id": "445c5bec",
   "metadata": {},
   "outputs": [],
   "source": [
    "Row_count = ((df1[[\"Total Cases (2019 - 2021)\"]]<Lower) | (df1[[\"Total Cases (2019 - 2021)\"]]>Upper))"
   ]
  },
  {
   "cell_type": "code",
   "execution_count": 252,
   "id": "7ddae5bb",
   "metadata": {},
   "outputs": [],
   "source": [
    "Row_count_index = Row_count[Row_count[\"Total Cases (2019 - 2021)\"]].index"
   ]
  },
  {
   "cell_type": "code",
   "execution_count": 253,
   "id": "aca14b47",
   "metadata": {},
   "outputs": [
    {
     "data": {
      "text/plain": [
       "Int64Index([20], dtype='int64')"
      ]
     },
     "execution_count": 253,
     "metadata": {},
     "output_type": "execute_result"
    }
   ],
   "source": [
    "Row_count_index"
   ]
  },
  {
   "cell_type": "code",
   "execution_count": 254,
   "id": "f9ffa81e",
   "metadata": {},
   "outputs": [],
   "source": [
    "df1.loc[Row_count_index,\"Total Cases (2019 - 2021)\"] = df1[\"Total Cases (2019 - 2021)\"].mean()"
   ]
  },
  {
   "cell_type": "code",
   "execution_count": 255,
   "id": "b82e3df3",
   "metadata": {},
   "outputs": [
    {
     "data": {
      "text/plain": [
       "Total Cases (2019 - 2021)    0\n",
       "dtype: int64"
      ]
     },
     "execution_count": 255,
     "metadata": {},
     "output_type": "execute_result"
    }
   ],
   "source": [
    "((df1[[\"Total Cases (2019 - 2021)\"]]<Lower) | (df1[[\"Total Cases (2019 - 2021)\"]]>Upper)).sum()"
   ]
  },
  {
   "cell_type": "code",
   "execution_count": 256,
   "id": "a106bfc3",
   "metadata": {},
   "outputs": [],
   "source": [
    "Q1 = df1.quantile(0.25)\n",
    "Q3 = df1.quantile(0.75)"
   ]
  },
  {
   "cell_type": "code",
   "execution_count": 257,
   "id": "ecf7ef86",
   "metadata": {},
   "outputs": [],
   "source": [
    "IQR = Q3 - Q1"
   ]
  },
  {
   "cell_type": "code",
   "execution_count": 258,
   "id": "14fab9a8",
   "metadata": {},
   "outputs": [
    {
     "name": "stderr",
     "output_type": "stream",
     "text": [
      "C:\\Users\\91953\\AppData\\Local\\Temp\\ipykernel_14980\\3113731443.py:1: FutureWarning: Automatic reindexing on DataFrame vs Series comparisons is deprecated and will raise ValueError in a future version. Do `left, right = left.align(right, axis=1, copy=False)` before e.g. `left == right`\n",
      "  ((df1 <(Q1 - 1.5*IQR)) | (df1 >(Q3 + 1.5*IQR))).sum()\n"
     ]
    },
    {
     "data": {
      "text/plain": [
       "2019                         0\n",
       "2020                         0\n",
       "2021                         0\n",
       "ChargesSheetingRate          0\n",
       "RateofCrimeAgainstWomen      0\n",
       "S.No                         0\n",
       "State/UT                     0\n",
       "State_Name                   0\n",
       "Total Cases (2019 - 2021)    1\n",
       "midPopulation                2\n",
       "dtype: int64"
      ]
     },
     "execution_count": 258,
     "metadata": {},
     "output_type": "execute_result"
    }
   ],
   "source": [
    "((df1 <(Q1 - 1.5*IQR)) | (df1 >(Q3 + 1.5*IQR))).sum()"
   ]
  },
  {
   "cell_type": "code",
   "execution_count": 259,
   "id": "774503b6",
   "metadata": {},
   "outputs": [],
   "source": [
    "# Replacing outliers with mean value of Total Cases (2019 - 2021) column.\n",
    "Q1 = df1[\"Total Cases (2019 - 2021)\"].quantile(0.25)\n",
    "Q3 = df1[\"Total Cases (2019 - 2021)\"].quantile(0.75)"
   ]
  },
  {
   "cell_type": "code",
   "execution_count": 260,
   "id": "c79ec84b",
   "metadata": {},
   "outputs": [],
   "source": [
    "IQR = Q3 - Q1"
   ]
  },
  {
   "cell_type": "code",
   "execution_count": 261,
   "id": "a94f69c8",
   "metadata": {},
   "outputs": [
    {
     "data": {
      "text/plain": [
       "41013.0"
      ]
     },
     "execution_count": 261,
     "metadata": {},
     "output_type": "execute_result"
    }
   ],
   "source": [
    "IQR"
   ]
  },
  {
   "cell_type": "code",
   "execution_count": 262,
   "id": "d084bfbc",
   "metadata": {},
   "outputs": [
    {
     "name": "stdout",
     "output_type": "stream",
     "text": [
      "-60715.25\n",
      "103336.75\n"
     ]
    }
   ],
   "source": [
    "Lower = Q1 - 1.5*IQR\n",
    "print(Lower)\n",
    "Upper = Q3 + 1.5*IQR\n",
    "print(Upper)"
   ]
  },
  {
   "cell_type": "code",
   "execution_count": 263,
   "id": "bf70658b",
   "metadata": {},
   "outputs": [
    {
     "data": {
      "text/plain": [
       "Total Cases (2019 - 2021)    1\n",
       "dtype: int64"
      ]
     },
     "execution_count": 263,
     "metadata": {},
     "output_type": "execute_result"
    }
   ],
   "source": [
    "((df1[[\"Total Cases (2019 - 2021)\"]]<Lower) | (df1[[\"Total Cases (2019 - 2021)\"]]>Upper)).sum()"
   ]
  },
  {
   "cell_type": "code",
   "execution_count": 264,
   "id": "4bd434a6",
   "metadata": {},
   "outputs": [],
   "source": [
    "Row_count = ((df1[[\"Total Cases (2019 - 2021)\"]]<Lower) | (df1[[\"Total Cases (2019 - 2021)\"]]>Upper))"
   ]
  },
  {
   "cell_type": "code",
   "execution_count": 265,
   "id": "454072df",
   "metadata": {},
   "outputs": [],
   "source": [
    "Row_count_index = Row_count[Row_count[\"Total Cases (2019 - 2021)\"]].index"
   ]
  },
  {
   "cell_type": "code",
   "execution_count": 266,
   "id": "02ee93b6",
   "metadata": {},
   "outputs": [
    {
     "data": {
      "text/plain": [
       "Int64Index([13], dtype='int64')"
      ]
     },
     "execution_count": 266,
     "metadata": {},
     "output_type": "execute_result"
    }
   ],
   "source": [
    "Row_count_index"
   ]
  },
  {
   "cell_type": "code",
   "execution_count": 267,
   "id": "9547dcc0",
   "metadata": {},
   "outputs": [],
   "source": [
    "df1.loc[Row_count_index,\"Total Cases (2019 - 2021)\"] = df1[\"Total Cases (2019 - 2021)\"].mean()"
   ]
  },
  {
   "cell_type": "code",
   "execution_count": 268,
   "id": "e8bdec42",
   "metadata": {},
   "outputs": [
    {
     "data": {
      "text/plain": [
       "Total Cases (2019 - 2021)    0\n",
       "dtype: int64"
      ]
     },
     "execution_count": 268,
     "metadata": {},
     "output_type": "execute_result"
    }
   ],
   "source": [
    "((df1[[\"Total Cases (2019 - 2021)\"]]<Lower) | (df1[[\"Total Cases (2019 - 2021)\"]]>Upper)).sum()"
   ]
  },
  {
   "cell_type": "code",
   "execution_count": 269,
   "id": "d4bfab0d",
   "metadata": {},
   "outputs": [],
   "source": [
    "Q1 = df1.quantile(0.25)\n",
    "Q3 = df1.quantile(0.75)"
   ]
  },
  {
   "cell_type": "code",
   "execution_count": 270,
   "id": "4fe170c9",
   "metadata": {},
   "outputs": [],
   "source": [
    "IQR = Q3 - Q1"
   ]
  },
  {
   "cell_type": "code",
   "execution_count": 271,
   "id": "ec55d7cc",
   "metadata": {},
   "outputs": [
    {
     "name": "stderr",
     "output_type": "stream",
     "text": [
      "C:\\Users\\91953\\AppData\\Local\\Temp\\ipykernel_14980\\3113731443.py:1: FutureWarning: Automatic reindexing on DataFrame vs Series comparisons is deprecated and will raise ValueError in a future version. Do `left, right = left.align(right, axis=1, copy=False)` before e.g. `left == right`\n",
      "  ((df1 <(Q1 - 1.5*IQR)) | (df1 >(Q3 + 1.5*IQR))).sum()\n"
     ]
    },
    {
     "data": {
      "text/plain": [
       "2019                         0\n",
       "2020                         0\n",
       "2021                         0\n",
       "ChargesSheetingRate          0\n",
       "RateofCrimeAgainstWomen      0\n",
       "S.No                         0\n",
       "State/UT                     0\n",
       "State_Name                   0\n",
       "Total Cases (2019 - 2021)    1\n",
       "midPopulation                2\n",
       "dtype: int64"
      ]
     },
     "execution_count": 271,
     "metadata": {},
     "output_type": "execute_result"
    }
   ],
   "source": [
    "((df1 <(Q1 - 1.5*IQR)) | (df1 >(Q3 + 1.5*IQR))).sum()"
   ]
  },
  {
   "cell_type": "code",
   "execution_count": 272,
   "id": "62edc9f2",
   "metadata": {},
   "outputs": [],
   "source": [
    "# Replacing outliers with mean value of Total Cases (2019 - 2021) column.\n",
    "Q1 = df1[\"Total Cases (2019 - 2021)\"].quantile(0.25)\n",
    "Q3 = df1[\"Total Cases (2019 - 2021)\"].quantile(0.75)"
   ]
  },
  {
   "cell_type": "code",
   "execution_count": 273,
   "id": "f20348b1",
   "metadata": {},
   "outputs": [],
   "source": [
    "IQR = Q3 - Q1"
   ]
  },
  {
   "cell_type": "code",
   "execution_count": 274,
   "id": "6b4efd94",
   "metadata": {},
   "outputs": [
    {
     "data": {
      "text/plain": [
       "37763.5"
      ]
     },
     "execution_count": 274,
     "metadata": {},
     "output_type": "execute_result"
    }
   ],
   "source": [
    "IQR"
   ]
  },
  {
   "cell_type": "code",
   "execution_count": 275,
   "id": "1033b8c1",
   "metadata": {},
   "outputs": [
    {
     "name": "stdout",
     "output_type": "stream",
     "text": [
      "-55841.0\n",
      "95213.0\n"
     ]
    }
   ],
   "source": [
    "Lower = Q1 - 1.5*IQR\n",
    "print(Lower)\n",
    "Upper = Q3 + 1.5*IQR\n",
    "print(Upper)"
   ]
  },
  {
   "cell_type": "code",
   "execution_count": 276,
   "id": "2cf9856f",
   "metadata": {},
   "outputs": [
    {
     "data": {
      "text/plain": [
       "Total Cases (2019 - 2021)    1\n",
       "dtype: int64"
      ]
     },
     "execution_count": 276,
     "metadata": {},
     "output_type": "execute_result"
    }
   ],
   "source": [
    "((df1[[\"Total Cases (2019 - 2021)\"]]<Lower) | (df1[[\"Total Cases (2019 - 2021)\"]]>Upper)).sum()"
   ]
  },
  {
   "cell_type": "code",
   "execution_count": 277,
   "id": "87082844",
   "metadata": {},
   "outputs": [],
   "source": [
    "Row_count = ((df1[[\"Total Cases (2019 - 2021)\"]]<Lower) | (df1[[\"Total Cases (2019 - 2021)\"]]>Upper))"
   ]
  },
  {
   "cell_type": "code",
   "execution_count": 278,
   "id": "03af5825",
   "metadata": {},
   "outputs": [],
   "source": [
    "Row_count_index = Row_count[Row_count[\"Total Cases (2019 - 2021)\"]].index"
   ]
  },
  {
   "cell_type": "code",
   "execution_count": 279,
   "id": "c5031238",
   "metadata": {},
   "outputs": [
    {
     "data": {
      "text/plain": [
       "Int64Index([27], dtype='int64')"
      ]
     },
     "execution_count": 279,
     "metadata": {},
     "output_type": "execute_result"
    }
   ],
   "source": [
    "Row_count_index"
   ]
  },
  {
   "cell_type": "code",
   "execution_count": 280,
   "id": "908de84e",
   "metadata": {},
   "outputs": [],
   "source": [
    "df1.loc[Row_count_index,\"Total Cases (2019 - 2021)\"] = df1[\"Total Cases (2019 - 2021)\"].mean()"
   ]
  },
  {
   "cell_type": "code",
   "execution_count": 281,
   "id": "ad2814da",
   "metadata": {},
   "outputs": [
    {
     "data": {
      "text/plain": [
       "Total Cases (2019 - 2021)    0\n",
       "dtype: int64"
      ]
     },
     "execution_count": 281,
     "metadata": {},
     "output_type": "execute_result"
    }
   ],
   "source": [
    "((df1[[\"Total Cases (2019 - 2021)\"]]<Lower) | (df1[[\"Total Cases (2019 - 2021)\"]]>Upper)).sum()"
   ]
  },
  {
   "cell_type": "code",
   "execution_count": 282,
   "id": "ee614ae3",
   "metadata": {},
   "outputs": [],
   "source": [
    "Q1 = df1.quantile(0.25)\n",
    "Q3 = df1.quantile(0.75)"
   ]
  },
  {
   "cell_type": "code",
   "execution_count": 283,
   "id": "60567f67",
   "metadata": {},
   "outputs": [],
   "source": [
    "IQR = Q3 - Q1"
   ]
  },
  {
   "cell_type": "code",
   "execution_count": 284,
   "id": "4a334d84",
   "metadata": {},
   "outputs": [
    {
     "name": "stderr",
     "output_type": "stream",
     "text": [
      "C:\\Users\\91953\\AppData\\Local\\Temp\\ipykernel_14980\\3113731443.py:1: FutureWarning: Automatic reindexing on DataFrame vs Series comparisons is deprecated and will raise ValueError in a future version. Do `left, right = left.align(right, axis=1, copy=False)` before e.g. `left == right`\n",
      "  ((df1 <(Q1 - 1.5*IQR)) | (df1 >(Q3 + 1.5*IQR))).sum()\n"
     ]
    },
    {
     "data": {
      "text/plain": [
       "2019                         0\n",
       "2020                         0\n",
       "2021                         0\n",
       "ChargesSheetingRate          0\n",
       "RateofCrimeAgainstWomen      0\n",
       "S.No                         0\n",
       "State/UT                     0\n",
       "State_Name                   0\n",
       "Total Cases (2019 - 2021)    0\n",
       "midPopulation                2\n",
       "dtype: int64"
      ]
     },
     "execution_count": 284,
     "metadata": {},
     "output_type": "execute_result"
    }
   ],
   "source": [
    "((df1 <(Q1 - 1.5*IQR)) | (df1 >(Q3 + 1.5*IQR))).sum()"
   ]
  },
  {
   "cell_type": "code",
   "execution_count": 285,
   "id": "6bc351ee",
   "metadata": {},
   "outputs": [],
   "source": [
    "# Replacing outliers with mean value of midPopulation column.\n",
    "Q1 = df1[\"midPopulation\"].quantile(0.25)\n",
    "Q3 = df1[\"midPopulation\"].quantile(0.75)"
   ]
  },
  {
   "cell_type": "code",
   "execution_count": 286,
   "id": "56b42310",
   "metadata": {},
   "outputs": [],
   "source": [
    "IQR = Q3 - Q1"
   ]
  },
  {
   "cell_type": "code",
   "execution_count": 287,
   "id": "641094c9",
   "metadata": {},
   "outputs": [
    {
     "data": {
      "text/plain": [
       "228.45"
      ]
     },
     "execution_count": 287,
     "metadata": {},
     "output_type": "execute_result"
    }
   ],
   "source": [
    "IQR"
   ]
  },
  {
   "cell_type": "code",
   "execution_count": 288,
   "id": "10449921",
   "metadata": {},
   "outputs": [
    {
     "name": "stdout",
     "output_type": "stream",
     "text": [
      "-334.525\n",
      "579.275\n"
     ]
    }
   ],
   "source": [
    "Lower = Q1 - 1.5*IQR\n",
    "print(Lower)\n",
    "Upper = Q3 + 1.5*IQR\n",
    "print(Upper)"
   ]
  },
  {
   "cell_type": "code",
   "execution_count": 289,
   "id": "341166c5",
   "metadata": {},
   "outputs": [
    {
     "data": {
      "text/plain": [
       "midPopulation    2\n",
       "dtype: int64"
      ]
     },
     "execution_count": 289,
     "metadata": {},
     "output_type": "execute_result"
    }
   ],
   "source": [
    "((df1[[\"midPopulation\"]]<Lower) | (df1[[\"midPopulation\"]]>Upper)).sum()"
   ]
  },
  {
   "cell_type": "code",
   "execution_count": 290,
   "id": "4480fbb8",
   "metadata": {},
   "outputs": [],
   "source": [
    "Row_count = ((df1[[\"midPopulation\"]]<Lower) | (df1[[\"midPopulation\"]]>Upper))"
   ]
  },
  {
   "cell_type": "code",
   "execution_count": 291,
   "id": "4e233e31",
   "metadata": {},
   "outputs": [],
   "source": [
    "Row_count_index = Row_count[Row_count[\"midPopulation\"]].index"
   ]
  },
  {
   "cell_type": "code",
   "execution_count": 292,
   "id": "33a86cb8",
   "metadata": {},
   "outputs": [
    {
     "data": {
      "text/plain": [
       "Int64Index([3, 13], dtype='int64')"
      ]
     },
     "execution_count": 292,
     "metadata": {},
     "output_type": "execute_result"
    }
   ],
   "source": [
    "Row_count_index"
   ]
  },
  {
   "cell_type": "code",
   "execution_count": 293,
   "id": "9d77533d",
   "metadata": {},
   "outputs": [],
   "source": [
    "df1.loc[Row_count_index,\"midPopulation\"] = df1[\"midPopulation\"].mean()"
   ]
  },
  {
   "cell_type": "code",
   "execution_count": 294,
   "id": "fc05357a",
   "metadata": {},
   "outputs": [
    {
     "data": {
      "text/plain": [
       "midPopulation    0\n",
       "dtype: int64"
      ]
     },
     "execution_count": 294,
     "metadata": {},
     "output_type": "execute_result"
    }
   ],
   "source": [
    "((df1[[\"midPopulation\"]]<Lower) | (df1[[\"midPopulation\"]]>Upper)).sum()"
   ]
  },
  {
   "cell_type": "code",
   "execution_count": 295,
   "id": "071f1117",
   "metadata": {},
   "outputs": [],
   "source": [
    "Q1 = df1.quantile(0.25)\n",
    "Q3 = df1.quantile(0.75)"
   ]
  },
  {
   "cell_type": "code",
   "execution_count": 296,
   "id": "2bc50f11",
   "metadata": {},
   "outputs": [],
   "source": [
    "IQR = Q3 - Q1"
   ]
  },
  {
   "cell_type": "code",
   "execution_count": 297,
   "id": "f7e91c1a",
   "metadata": {},
   "outputs": [
    {
     "name": "stderr",
     "output_type": "stream",
     "text": [
      "C:\\Users\\91953\\AppData\\Local\\Temp\\ipykernel_14980\\3113731443.py:1: FutureWarning: Automatic reindexing on DataFrame vs Series comparisons is deprecated and will raise ValueError in a future version. Do `left, right = left.align(right, axis=1, copy=False)` before e.g. `left == right`\n",
      "  ((df1 <(Q1 - 1.5*IQR)) | (df1 >(Q3 + 1.5*IQR))).sum()\n"
     ]
    },
    {
     "data": {
      "text/plain": [
       "2019                         0\n",
       "2020                         0\n",
       "2021                         0\n",
       "ChargesSheetingRate          0\n",
       "RateofCrimeAgainstWomen      0\n",
       "S.No                         0\n",
       "State/UT                     0\n",
       "State_Name                   0\n",
       "Total Cases (2019 - 2021)    0\n",
       "midPopulation                1\n",
       "dtype: int64"
      ]
     },
     "execution_count": 297,
     "metadata": {},
     "output_type": "execute_result"
    }
   ],
   "source": [
    "((df1 <(Q1 - 1.5*IQR)) | (df1 >(Q3 + 1.5*IQR))).sum()"
   ]
  },
  {
   "cell_type": "code",
   "execution_count": 298,
   "id": "7e83fce7",
   "metadata": {},
   "outputs": [],
   "source": [
    "# Replacing outliers with mean value of midPopulation column.\n",
    "Q1 = df1[\"midPopulation\"].quantile(0.25)\n",
    "Q3 = df1[\"midPopulation\"].quantile(0.75)"
   ]
  },
  {
   "cell_type": "code",
   "execution_count": 299,
   "id": "052df358",
   "metadata": {},
   "outputs": [],
   "source": [
    "IQR = Q3 - Q1"
   ]
  },
  {
   "cell_type": "code",
   "execution_count": 300,
   "id": "3ba0cd13",
   "metadata": {},
   "outputs": [
    {
     "data": {
      "text/plain": [
       "179.74999999999997"
      ]
     },
     "execution_count": 300,
     "metadata": {},
     "output_type": "execute_result"
    }
   ],
   "source": [
    "IQR"
   ]
  },
  {
   "cell_type": "code",
   "execution_count": 301,
   "id": "6745840f",
   "metadata": {},
   "outputs": [
    {
     "name": "stdout",
     "output_type": "stream",
     "text": [
      "-261.47499999999997\n",
      "457.5249999999999\n"
     ]
    }
   ],
   "source": [
    "Lower = Q1 - 1.5*IQR\n",
    "print(Lower)\n",
    "Upper = Q3 + 1.5*IQR\n",
    "print(Upper)"
   ]
  },
  {
   "cell_type": "code",
   "execution_count": 302,
   "id": "715d4ef9",
   "metadata": {},
   "outputs": [
    {
     "data": {
      "text/plain": [
       "midPopulation    1\n",
       "dtype: int64"
      ]
     },
     "execution_count": 302,
     "metadata": {},
     "output_type": "execute_result"
    }
   ],
   "source": [
    "((df1[[\"midPopulation\"]]<Lower) | (df1[[\"midPopulation\"]]>Upper)).sum()"
   ]
  },
  {
   "cell_type": "code",
   "execution_count": 303,
   "id": "72bb86e4",
   "metadata": {},
   "outputs": [],
   "source": [
    "Row_count = ((df1[[\"midPopulation\"]]<Lower) | (df1[[\"midPopulation\"]]>Upper))"
   ]
  },
  {
   "cell_type": "code",
   "execution_count": 304,
   "id": "84358ead",
   "metadata": {},
   "outputs": [],
   "source": [
    "Row_count_index = Row_count[Row_count[\"midPopulation\"]].index"
   ]
  },
  {
   "cell_type": "code",
   "execution_count": 305,
   "id": "e02d9f8b",
   "metadata": {},
   "outputs": [
    {
     "data": {
      "text/plain": [
       "Int64Index([27], dtype='int64')"
      ]
     },
     "execution_count": 305,
     "metadata": {},
     "output_type": "execute_result"
    }
   ],
   "source": [
    "Row_count_index"
   ]
  },
  {
   "cell_type": "code",
   "execution_count": 306,
   "id": "f761241d",
   "metadata": {},
   "outputs": [],
   "source": [
    "df1.loc[Row_count_index,\"midPopulation\"] = df1[\"midPopulation\"].mean()"
   ]
  },
  {
   "cell_type": "code",
   "execution_count": 307,
   "id": "4cf44579",
   "metadata": {},
   "outputs": [
    {
     "data": {
      "text/plain": [
       "midPopulation    0\n",
       "dtype: int64"
      ]
     },
     "execution_count": 307,
     "metadata": {},
     "output_type": "execute_result"
    }
   ],
   "source": [
    "((df1[[\"midPopulation\"]]<Lower) | (df1[[\"midPopulation\"]]>Upper)).sum()"
   ]
  },
  {
   "cell_type": "code",
   "execution_count": 308,
   "id": "97012ec0",
   "metadata": {},
   "outputs": [],
   "source": [
    "Q1 = df1.quantile(0.25)\n",
    "Q3 = df1.quantile(0.75)"
   ]
  },
  {
   "cell_type": "code",
   "execution_count": 309,
   "id": "499f8381",
   "metadata": {},
   "outputs": [],
   "source": [
    "IQR = Q3 - Q1"
   ]
  },
  {
   "cell_type": "code",
   "execution_count": 310,
   "id": "9c395ef7",
   "metadata": {},
   "outputs": [
    {
     "name": "stderr",
     "output_type": "stream",
     "text": [
      "C:\\Users\\91953\\AppData\\Local\\Temp\\ipykernel_14980\\3113731443.py:1: FutureWarning: Automatic reindexing on DataFrame vs Series comparisons is deprecated and will raise ValueError in a future version. Do `left, right = left.align(right, axis=1, copy=False)` before e.g. `left == right`\n",
      "  ((df1 <(Q1 - 1.5*IQR)) | (df1 >(Q3 + 1.5*IQR))).sum()\n"
     ]
    },
    {
     "data": {
      "text/plain": [
       "2019                         0\n",
       "2020                         0\n",
       "2021                         0\n",
       "ChargesSheetingRate          0\n",
       "RateofCrimeAgainstWomen      0\n",
       "S.No                         0\n",
       "State/UT                     0\n",
       "State_Name                   0\n",
       "Total Cases (2019 - 2021)    0\n",
       "midPopulation                0\n",
       "dtype: int64"
      ]
     },
     "execution_count": 310,
     "metadata": {},
     "output_type": "execute_result"
    }
   ],
   "source": [
    "((df1 <(Q1 - 1.5*IQR)) | (df1 >(Q3 + 1.5*IQR))).sum()"
   ]
  },
  {
   "cell_type": "code",
   "execution_count": 311,
   "id": "9024950c",
   "metadata": {},
   "outputs": [
    {
     "name": "stdout",
     "output_type": "stream",
     "text": [
      "<class 'pandas.core.frame.DataFrame'>\n",
      "Int64Index: 36 entries, 0 to 35\n",
      "Data columns (total 10 columns):\n",
      " #   Column                     Non-Null Count  Dtype  \n",
      "---  ------                     --------------  -----  \n",
      " 0   S.No                       36 non-null     int64  \n",
      " 1   State/UT                   36 non-null     object \n",
      " 2   State_Name                 36 non-null     object \n",
      " 3   2019                       36 non-null     float64\n",
      " 4   2020                       36 non-null     float64\n",
      " 5   2021                       36 non-null     float64\n",
      " 6   Total Cases (2019 - 2021)  36 non-null     float64\n",
      " 7   midPopulation              36 non-null     float64\n",
      " 8   RateofCrimeAgainstWomen    36 non-null     float64\n",
      " 9   ChargesSheetingRate        36 non-null     float64\n",
      "dtypes: float64(7), int64(1), object(2)\n",
      "memory usage: 4.1+ KB\n"
     ]
    }
   ],
   "source": [
    "df1.info()"
   ]
  },
  {
   "cell_type": "code",
   "execution_count": 312,
   "id": "ef111001",
   "metadata": {},
   "outputs": [
    {
     "data": {
      "text/plain": [
       "dtype('float64')"
      ]
     },
     "execution_count": 312,
     "metadata": {},
     "output_type": "execute_result"
    }
   ],
   "source": [
    "df1[\"2019\"].dtype"
   ]
  },
  {
   "cell_type": "code",
   "execution_count": 313,
   "id": "e539a405",
   "metadata": {},
   "outputs": [],
   "source": [
    "df1[\"2019\"] = df1[\"2019\"].astype(\"int\")"
   ]
  },
  {
   "cell_type": "code",
   "execution_count": 314,
   "id": "fa8bde70",
   "metadata": {},
   "outputs": [
    {
     "data": {
      "text/plain": [
       "dtype('float64')"
      ]
     },
     "execution_count": 314,
     "metadata": {},
     "output_type": "execute_result"
    }
   ],
   "source": [
    "df1[\"2020\"].dtype"
   ]
  },
  {
   "cell_type": "code",
   "execution_count": 315,
   "id": "1c0a7cbe",
   "metadata": {},
   "outputs": [],
   "source": [
    "df1[\"2020\"] = df1[\"2020\"].astype(\"int\")"
   ]
  },
  {
   "cell_type": "code",
   "execution_count": 316,
   "id": "76dcf640",
   "metadata": {},
   "outputs": [
    {
     "data": {
      "text/plain": [
       "dtype('float64')"
      ]
     },
     "execution_count": 316,
     "metadata": {},
     "output_type": "execute_result"
    }
   ],
   "source": [
    "df1[\"2021\"].dtype"
   ]
  },
  {
   "cell_type": "code",
   "execution_count": 317,
   "id": "2e2627d8",
   "metadata": {},
   "outputs": [],
   "source": [
    "df1[\"2021\"] = df1[\"2021\"].astype(\"int\")"
   ]
  },
  {
   "cell_type": "code",
   "execution_count": 318,
   "id": "69bceaf1",
   "metadata": {},
   "outputs": [
    {
     "data": {
      "text/plain": [
       "dtype('float64')"
      ]
     },
     "execution_count": 318,
     "metadata": {},
     "output_type": "execute_result"
    }
   ],
   "source": [
    "df1[\"Total Cases (2019 - 2021)\"].dtype"
   ]
  },
  {
   "cell_type": "code",
   "execution_count": 319,
   "id": "d5220c85",
   "metadata": {},
   "outputs": [],
   "source": [
    "df1[\"Total Cases (2019 - 2021)\"] = df1[\"Total Cases (2019 - 2021)\"].astype(\"int\")"
   ]
  },
  {
   "cell_type": "code",
   "execution_count": 320,
   "id": "84b4c6a3",
   "metadata": {},
   "outputs": [
    {
     "name": "stdout",
     "output_type": "stream",
     "text": [
      "<class 'pandas.core.frame.DataFrame'>\n",
      "Int64Index: 36 entries, 0 to 35\n",
      "Data columns (total 10 columns):\n",
      " #   Column                     Non-Null Count  Dtype  \n",
      "---  ------                     --------------  -----  \n",
      " 0   S.No                       36 non-null     int64  \n",
      " 1   State/UT                   36 non-null     object \n",
      " 2   State_Name                 36 non-null     object \n",
      " 3   2019                       36 non-null     int32  \n",
      " 4   2020                       36 non-null     int32  \n",
      " 5   2021                       36 non-null     int32  \n",
      " 6   Total Cases (2019 - 2021)  36 non-null     int32  \n",
      " 7   midPopulation              36 non-null     float64\n",
      " 8   RateofCrimeAgainstWomen    36 non-null     float64\n",
      " 9   ChargesSheetingRate        36 non-null     float64\n",
      "dtypes: float64(3), int32(4), int64(1), object(2)\n",
      "memory usage: 3.6+ KB\n"
     ]
    }
   ],
   "source": [
    "df1.info()"
   ]
  },
  {
   "cell_type": "code",
   "execution_count": 322,
   "id": "74eff1cb",
   "metadata": {},
   "outputs": [
    {
     "data": {
      "text/html": [
       "<div>\n",
       "<style scoped>\n",
       "    .dataframe tbody tr th:only-of-type {\n",
       "        vertical-align: middle;\n",
       "    }\n",
       "\n",
       "    .dataframe tbody tr th {\n",
       "        vertical-align: top;\n",
       "    }\n",
       "\n",
       "    .dataframe thead th {\n",
       "        text-align: right;\n",
       "    }\n",
       "</style>\n",
       "<table border=\"1\" class=\"dataframe\">\n",
       "  <thead>\n",
       "    <tr style=\"text-align: right;\">\n",
       "      <th></th>\n",
       "      <th>S.No</th>\n",
       "      <th>State/UT</th>\n",
       "      <th>State_Name</th>\n",
       "      <th>2019</th>\n",
       "      <th>2020</th>\n",
       "      <th>2021</th>\n",
       "      <th>Total Cases (2019 - 2021)</th>\n",
       "      <th>midPopulation</th>\n",
       "      <th>RateofCrimeAgainstWomen</th>\n",
       "      <th>ChargesSheetingRate</th>\n",
       "    </tr>\n",
       "  </thead>\n",
       "  <tbody>\n",
       "    <tr>\n",
       "      <th>0</th>\n",
       "      <td>1</td>\n",
       "      <td>State</td>\n",
       "      <td>Andhra Pradesh</td>\n",
       "      <td>17746</td>\n",
       "      <td>17089</td>\n",
       "      <td>17752</td>\n",
       "      <td>52587</td>\n",
       "      <td>264.200000</td>\n",
       "      <td>67.200</td>\n",
       "      <td>93.500000</td>\n",
       "    </tr>\n",
       "    <tr>\n",
       "      <th>1</th>\n",
       "      <td>2</td>\n",
       "      <td>State</td>\n",
       "      <td>Arunachal Pradesh</td>\n",
       "      <td>317</td>\n",
       "      <td>281</td>\n",
       "      <td>366</td>\n",
       "      <td>964</td>\n",
       "      <td>7.500000</td>\n",
       "      <td>49.100</td>\n",
       "      <td>77.600000</td>\n",
       "    </tr>\n",
       "    <tr>\n",
       "      <th>2</th>\n",
       "      <td>3</td>\n",
       "      <td>State</td>\n",
       "      <td>Assam</td>\n",
       "      <td>30025</td>\n",
       "      <td>7104</td>\n",
       "      <td>29046</td>\n",
       "      <td>85423</td>\n",
       "      <td>172.600000</td>\n",
       "      <td>58.425</td>\n",
       "      <td>79.516667</td>\n",
       "    </tr>\n",
       "    <tr>\n",
       "      <th>3</th>\n",
       "      <td>4</td>\n",
       "      <td>State</td>\n",
       "      <td>Bihar</td>\n",
       "      <td>18587</td>\n",
       "      <td>15359</td>\n",
       "      <td>17950</td>\n",
       "      <td>51896</td>\n",
       "      <td>158.879861</td>\n",
       "      <td>30.200</td>\n",
       "      <td>69.400000</td>\n",
       "    </tr>\n",
       "    <tr>\n",
       "      <th>4</th>\n",
       "      <td>5</td>\n",
       "      <td>State</td>\n",
       "      <td>Chhattisgarh</td>\n",
       "      <td>7689</td>\n",
       "      <td>7385</td>\n",
       "      <td>7344</td>\n",
       "      <td>22418</td>\n",
       "      <td>147.600000</td>\n",
       "      <td>49.800</td>\n",
       "      <td>88.500000</td>\n",
       "    </tr>\n",
       "  </tbody>\n",
       "</table>\n",
       "</div>"
      ],
      "text/plain": [
       "   S.No State/UT         State_Name   2019   2020   2021  \\\n",
       "0     1    State     Andhra Pradesh  17746  17089  17752   \n",
       "1     2    State  Arunachal Pradesh    317    281    366   \n",
       "2     3    State              Assam  30025   7104  29046   \n",
       "3     4    State              Bihar  18587  15359  17950   \n",
       "4     5    State       Chhattisgarh   7689   7385   7344   \n",
       "\n",
       "   Total Cases (2019 - 2021)  midPopulation  RateofCrimeAgainstWomen  \\\n",
       "0                      52587     264.200000                   67.200   \n",
       "1                        964       7.500000                   49.100   \n",
       "2                      85423     172.600000                   58.425   \n",
       "3                      51896     158.879861                   30.200   \n",
       "4                      22418     147.600000                   49.800   \n",
       "\n",
       "   ChargesSheetingRate  \n",
       "0            93.500000  \n",
       "1            77.600000  \n",
       "2            79.516667  \n",
       "3            69.400000  \n",
       "4            88.500000  "
      ]
     },
     "execution_count": 322,
     "metadata": {},
     "output_type": "execute_result"
    }
   ],
   "source": [
    "df1.head()"
   ]
  },
  {
   "cell_type": "code",
   "execution_count": 323,
   "id": "c1533624",
   "metadata": {},
   "outputs": [],
   "source": [
    "df1.to_csv(r\"E:\\INTERNSHIP\\Projects\\Criminal Activities in India cleaned data\\crime_against_women_(State-UT-wise)_2019-2021.csv\",index = False)"
   ]
  },
  {
   "cell_type": "code",
   "execution_count": null,
   "id": "ccfdff4a",
   "metadata": {},
   "outputs": [],
   "source": []
  },
  {
   "cell_type": "code",
   "execution_count": null,
   "id": "dc8f11df",
   "metadata": {},
   "outputs": [],
   "source": []
  },
  {
   "cell_type": "code",
   "execution_count": null,
   "id": "bf163988",
   "metadata": {},
   "outputs": [],
   "source": []
  },
  {
   "cell_type": "code",
   "execution_count": null,
   "id": "0fa77dbd",
   "metadata": {},
   "outputs": [],
   "source": []
  },
  {
   "cell_type": "code",
   "execution_count": null,
   "id": "b9d53ebc",
   "metadata": {},
   "outputs": [],
   "source": []
  },
  {
   "cell_type": "code",
   "execution_count": null,
   "id": "aab6a392",
   "metadata": {},
   "outputs": [],
   "source": []
  },
  {
   "cell_type": "code",
   "execution_count": null,
   "id": "143d4b07",
   "metadata": {},
   "outputs": [],
   "source": []
  }
 ],
 "metadata": {
  "kernelspec": {
   "display_name": "Python 3 (ipykernel)",
   "language": "python",
   "name": "python3"
  },
  "language_info": {
   "codemirror_mode": {
    "name": "ipython",
    "version": 3
   },
   "file_extension": ".py",
   "mimetype": "text/x-python",
   "name": "python",
   "nbconvert_exporter": "python",
   "pygments_lexer": "ipython3",
   "version": "3.9.12"
  }
 },
 "nbformat": 4,
 "nbformat_minor": 5
}
